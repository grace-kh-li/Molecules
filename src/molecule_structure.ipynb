{
 "cells": [
  {
   "cell_type": "code",
   "id": "initial_id",
   "metadata": {
    "collapsed": true,
    "ExecuteTime": {
     "end_time": "2025-07-24T16:43:39.090682Z",
     "start_time": "2025-07-24T16:43:39.050227Z"
    }
   },
   "source": [
    "from SeparableBasis_Molecules import *\n",
    "from HundsCaseB import *\n",
    "from HundsCaseA import *\n",
    "from AngularMomentum import *"
   ],
   "outputs": [],
   "execution_count": 1
  },
  {
   "metadata": {},
   "cell_type": "code",
   "source": [
    "phi_e = ElectronicState(\"X\")\n",
    "e_basis = OrthogonalBasis([phi_e])\n",
    "phi_v = VibrationalState([0])\n",
    "v_basis = OrthogonalBasis([phi_v])\n",
    "rot_basis = STM_RotationalBasis([0,1],[0,0])\n",
    "es_basis = ElectronicSpinBasis(S_range=[1/2,1/2],ms_range=[-10,10])\n",
    "ns_basis = NuclearSpinBasis(I_range=[1,1], mI_range=[-10,10])\n",
    "SeparableBasis_with_NS(e_basis, v_basis, rot_basis, es_basis,ns_basis)"
   ],
   "id": "1678796e6607c74d",
   "outputs": [],
   "execution_count": null
  },
  {
   "metadata": {},
   "cell_type": "code",
   "source": "basisB = HundsCaseB_Basis(N_range=[0,1],k_range=[0,0],S_range=[1/2,1/2],J_range=[1/2, 3/2], m_range=[-3,3])",
   "id": "e469fc075c3a6fc7",
   "outputs": [],
   "execution_count": null
  },
  {
   "metadata": {},
   "cell_type": "code",
   "source": "basisB.states_sorted",
   "id": "10225f6edfa21d5e",
   "outputs": [],
   "execution_count": null
  },
  {
   "metadata": {},
   "cell_type": "code",
   "source": "basisB.get_J_states(3/2)",
   "id": "b40916ce9266165b",
   "outputs": [],
   "execution_count": null
  },
  {
   "metadata": {},
   "cell_type": "code",
   "source": "basisA = HundsCaseA_Basis(S_range=[1/2,1/2],Sigma_range=[-1/2,1/2],J_range=[1/2, 5/2],Omega_range=[-3/2,3/2],m_range=[0,1])",
   "id": "85f383f3587cd221",
   "outputs": [],
   "execution_count": null
  },
  {
   "metadata": {},
   "cell_type": "code",
   "source": "basisA.get_Omega_states(3/2)",
   "id": "ce817ba988981b2b",
   "outputs": [],
   "execution_count": null
  },
  {
   "metadata": {},
   "cell_type": "code",
   "source": [
    "b1 = ElectronicSpinBasis([0,1], [-10,10])\n",
    "b2 = NuclearSpinBasis([1,1],[-10,10])"
   ],
   "id": "d1a92323d51568dd",
   "outputs": [],
   "execution_count": null
  },
  {
   "metadata": {
    "ExecuteTime": {
     "end_time": "2025-07-24T16:43:41.121472Z",
     "start_time": "2025-07-24T16:43:41.110514Z"
    }
   },
   "cell_type": "code",
   "source": [
    "b = HundsCaseB_Basis_with_NS(N_range=[0,1],k_range=[0,0],S_range=[1/2,1/2],J_range=[1/2, 3/2], I_range=[1,1], F_range = [0,3],m_range=[-3,3])\n",
    "b"
   ],
   "id": "6bd446d2b2c93a81",
   "outputs": [
    {
     "data": {
      "text/plain": [
       "Hund's case B Basis with nuclear spin = \n",
       "{|N=0, k=0, S=0.5, I=1, J=0.5, F=0.5, mF=-0.5>, \n",
       " |N=0, k=0, S=0.5, I=1, J=0.5, F=0.5, mF=0.5>, \n",
       " |N=0, k=0, S=0.5, I=1, J=0.5, F=1.5, mF=-1.5>, \n",
       " |N=0, k=0, S=0.5, I=1, J=0.5, F=1.5, mF=-0.5>, \n",
       " |N=0, k=0, S=0.5, I=1, J=0.5, F=1.5, mF=0.5>, \n",
       " |N=0, k=0, S=0.5, I=1, J=0.5, F=1.5, mF=1.5>, \n",
       " |N=1, k=0, S=0.5, I=1, J=0.5, F=0.5, mF=-0.5>, \n",
       " |N=1, k=0, S=0.5, I=1, J=0.5, F=0.5, mF=0.5>, \n",
       " |N=1, k=0, S=0.5, I=1, J=0.5, F=1.5, mF=-1.5>, \n",
       " |N=1, k=0, S=0.5, I=1, J=0.5, F=1.5, mF=-0.5>, \n",
       " |N=1, k=0, S=0.5, I=1, J=0.5, F=1.5, mF=0.5>, \n",
       " |N=1, k=0, S=0.5, I=1, J=0.5, F=1.5, mF=1.5>, \n",
       " |N=1, k=0, S=0.5, I=1, J=1.5, F=0.5, mF=-0.5>, \n",
       " |N=1, k=0, S=0.5, I=1, J=1.5, F=0.5, mF=0.5>, \n",
       " |N=1, k=0, S=0.5, I=1, J=1.5, F=1.5, mF=-1.5>, \n",
       " |N=1, k=0, S=0.5, I=1, J=1.5, F=1.5, mF=-0.5>, \n",
       " |N=1, k=0, S=0.5, I=1, J=1.5, F=1.5, mF=0.5>, \n",
       " |N=1, k=0, S=0.5, I=1, J=1.5, F=1.5, mF=1.5>, \n",
       " |N=1, k=0, S=0.5, I=1, J=1.5, F=2.5, mF=-2.5>, \n",
       " |N=1, k=0, S=0.5, I=1, J=1.5, F=2.5, mF=-1.5>, \n",
       " |N=1, k=0, S=0.5, I=1, J=1.5, F=2.5, mF=-0.5>, \n",
       " |N=1, k=0, S=0.5, I=1, J=1.5, F=2.5, mF=0.5>, \n",
       " |N=1, k=0, S=0.5, I=1, J=1.5, F=2.5, mF=1.5>, \n",
       " |N=1, k=0, S=0.5, I=1, J=1.5, F=2.5, mF=2.5> }"
      ]
     },
     "execution_count": 2,
     "metadata": {},
     "output_type": "execute_result"
    }
   ],
   "execution_count": 2
  },
  {
   "metadata": {
    "ExecuteTime": {
     "end_time": "2025-07-24T16:43:59.067014Z",
     "start_time": "2025-07-24T16:43:59.062663Z"
    }
   },
   "cell_type": "code",
   "source": "b[0].other_quantum_numbers",
   "id": "d155088933654d35",
   "outputs": [
    {
     "data": {
      "text/plain": [
       "{'N': 0, 'k': 0, 'S': 0.5, 'I': 1, 'J': 0.5}"
      ]
     },
     "execution_count": 6,
     "metadata": {},
     "output_type": "execute_result"
    }
   ],
   "execution_count": 6
  },
  {
   "metadata": {
    "ExecuteTime": {
     "end_time": "2025-07-24T16:41:31.110460Z",
     "start_time": "2025-07-24T16:41:31.101521Z"
    }
   },
   "cell_type": "code",
   "source": [
    "b1 = HundsCaseA_Basis_with_NS(S_range=[1/2,1/2],Sigma_range=[-1/2,1/2],J_range=[1/2, 5/2],Omega_range=[-3/2,3/2], I_range=[1,1], F_range = [0,3],m_range=[0,1])\n",
    "b1"
   ],
   "id": "549cd4a490d2f238",
   "outputs": [
    {
     "data": {
      "text/plain": [
       "Hund's case A Basis with nuclear spin = \n",
       "{|S=0.5, Σ=-0.5, Ω=-0.5, I=1, J=0.5, F=0.5, mF=0.5>, \n",
       " |S=0.5, Σ=-0.5, Ω=-0.5, I=1, J=0.5, F=1.5, mF=0.5>, \n",
       " |S=0.5, Σ=-0.5, Ω=-0.5, I=1, J=1.5, F=0.5, mF=0.5>, \n",
       " |S=0.5, Σ=-0.5, Ω=-0.5, I=1, J=1.5, F=1.5, mF=0.5>, \n",
       " |S=0.5, Σ=-0.5, Ω=-0.5, I=1, J=1.5, F=2.5, mF=0.5>, \n",
       " |S=0.5, Σ=-0.5, Ω=-0.5, I=1, J=2.5, F=1.5, mF=0.5>, \n",
       " |S=0.5, Σ=-0.5, Ω=-0.5, I=1, J=2.5, F=2.5, mF=0.5>, \n",
       " |S=0.5, Σ=-0.5, Ω=0.5, I=1, J=0.5, F=0.5, mF=0.5>, \n",
       " |S=0.5, Σ=-0.5, Ω=0.5, I=1, J=0.5, F=1.5, mF=0.5>, \n",
       " |S=0.5, Σ=-0.5, Ω=0.5, I=1, J=1.5, F=0.5, mF=0.5>, \n",
       " |S=0.5, Σ=-0.5, Ω=0.5, I=1, J=1.5, F=1.5, mF=0.5>, \n",
       " |S=0.5, Σ=-0.5, Ω=0.5, I=1, J=1.5, F=2.5, mF=0.5>, \n",
       " |S=0.5, Σ=-0.5, Ω=0.5, I=1, J=2.5, F=1.5, mF=0.5>, \n",
       " |S=0.5, Σ=-0.5, Ω=0.5, I=1, J=2.5, F=2.5, mF=0.5>, \n",
       " |S=0.5, Σ=-0.5, Ω=-1.5, I=1, J=1.5, F=0.5, mF=0.5>, \n",
       " |S=0.5, Σ=-0.5, Ω=-1.5, I=1, J=1.5, F=1.5, mF=0.5>, \n",
       " |S=0.5, Σ=-0.5, Ω=-1.5, I=1, J=1.5, F=2.5, mF=0.5>, \n",
       " |S=0.5, Σ=-0.5, Ω=-1.5, I=1, J=2.5, F=1.5, mF=0.5>, \n",
       " |S=0.5, Σ=-0.5, Ω=-1.5, I=1, J=2.5, F=2.5, mF=0.5>, \n",
       " |S=0.5, Σ=-0.5, Ω=1.5, I=1, J=1.5, F=0.5, mF=0.5>, \n",
       " |S=0.5, Σ=-0.5, Ω=1.5, I=1, J=1.5, F=1.5, mF=0.5>, \n",
       " |S=0.5, Σ=-0.5, Ω=1.5, I=1, J=1.5, F=2.5, mF=0.5>, \n",
       " |S=0.5, Σ=-0.5, Ω=1.5, I=1, J=2.5, F=1.5, mF=0.5>, \n",
       " |S=0.5, Σ=-0.5, Ω=1.5, I=1, J=2.5, F=2.5, mF=0.5>, \n",
       " |S=0.5, Σ=0.5, Ω=-0.5, I=1, J=0.5, F=0.5, mF=0.5>, \n",
       " |S=0.5, Σ=0.5, Ω=-0.5, I=1, J=0.5, F=1.5, mF=0.5>, \n",
       " |S=0.5, Σ=0.5, Ω=-0.5, I=1, J=1.5, F=0.5, mF=0.5>, \n",
       " |S=0.5, Σ=0.5, Ω=-0.5, I=1, J=1.5, F=1.5, mF=0.5>, \n",
       " |S=0.5, Σ=0.5, Ω=-0.5, I=1, J=1.5, F=2.5, mF=0.5>, \n",
       " |S=0.5, Σ=0.5, Ω=-0.5, I=1, J=2.5, F=1.5, mF=0.5>, \n",
       " |S=0.5, Σ=0.5, Ω=-0.5, I=1, J=2.5, F=2.5, mF=0.5>, \n",
       " |S=0.5, Σ=0.5, Ω=0.5, I=1, J=0.5, F=0.5, mF=0.5>, \n",
       " |S=0.5, Σ=0.5, Ω=0.5, I=1, J=0.5, F=1.5, mF=0.5>, \n",
       " |S=0.5, Σ=0.5, Ω=0.5, I=1, J=1.5, F=0.5, mF=0.5>, \n",
       " |S=0.5, Σ=0.5, Ω=0.5, I=1, J=1.5, F=1.5, mF=0.5>, \n",
       " |S=0.5, Σ=0.5, Ω=0.5, I=1, J=1.5, F=2.5, mF=0.5>, \n",
       " |S=0.5, Σ=0.5, Ω=0.5, I=1, J=2.5, F=1.5, mF=0.5>, \n",
       " |S=0.5, Σ=0.5, Ω=0.5, I=1, J=2.5, F=2.5, mF=0.5>, \n",
       " |S=0.5, Σ=0.5, Ω=-1.5, I=1, J=1.5, F=0.5, mF=0.5>, \n",
       " |S=0.5, Σ=0.5, Ω=-1.5, I=1, J=1.5, F=1.5, mF=0.5>, \n",
       " |S=0.5, Σ=0.5, Ω=-1.5, I=1, J=1.5, F=2.5, mF=0.5>, \n",
       " |S=0.5, Σ=0.5, Ω=-1.5, I=1, J=2.5, F=1.5, mF=0.5>, \n",
       " |S=0.5, Σ=0.5, Ω=-1.5, I=1, J=2.5, F=2.5, mF=0.5>, \n",
       " |S=0.5, Σ=0.5, Ω=1.5, I=1, J=1.5, F=0.5, mF=0.5>, \n",
       " |S=0.5, Σ=0.5, Ω=1.5, I=1, J=1.5, F=1.5, mF=0.5>, \n",
       " |S=0.5, Σ=0.5, Ω=1.5, I=1, J=1.5, F=2.5, mF=0.5>, \n",
       " |S=0.5, Σ=0.5, Ω=1.5, I=1, J=2.5, F=1.5, mF=0.5>, \n",
       " |S=0.5, Σ=0.5, Ω=1.5, I=1, J=2.5, F=2.5, mF=0.5> }"
      ]
     },
     "execution_count": 7,
     "metadata": {},
     "output_type": "execute_result"
    }
   ],
   "execution_count": 7
  },
  {
   "metadata": {
    "ExecuteTime": {
     "end_time": "2025-07-24T16:41:40.462446Z",
     "start_time": "2025-07-24T16:41:40.459087Z"
    }
   },
   "cell_type": "code",
   "source": "b1[0].I",
   "id": "f1b63fa3c652deae",
   "outputs": [
    {
     "data": {
      "text/plain": [
       "1"
      ]
     },
     "execution_count": 8,
     "metadata": {},
     "output_type": "execute_result"
    }
   ],
   "execution_count": 8
  },
  {
   "metadata": {
    "ExecuteTime": {
     "end_time": "2025-07-24T16:25:05.458636Z",
     "start_time": "2025-07-24T16:25:05.455294Z"
    }
   },
   "cell_type": "code",
   "source": [
    "a = {\"F\":1}\n",
    "b = {\"F\":1}\n",
    "a ==b"
   ],
   "id": "76f74c3766b30294",
   "outputs": [
    {
     "data": {
      "text/plain": [
       "True"
      ]
     },
     "execution_count": 9,
     "metadata": {},
     "output_type": "execute_result"
    }
   ],
   "execution_count": 9
  },
  {
   "metadata": {},
   "cell_type": "code",
   "outputs": [],
   "execution_count": null,
   "source": "",
   "id": "eed1d52f0b592ab6"
  }
 ],
 "metadata": {
  "kernelspec": {
   "display_name": "Python 3",
   "language": "python",
   "name": "python3"
  },
  "language_info": {
   "codemirror_mode": {
    "name": "ipython",
    "version": 2
   },
   "file_extension": ".py",
   "mimetype": "text/x-python",
   "name": "python",
   "nbconvert_exporter": "python",
   "pygments_lexer": "ipython2",
   "version": "2.7.6"
  }
 },
 "nbformat": 4,
 "nbformat_minor": 5
}
