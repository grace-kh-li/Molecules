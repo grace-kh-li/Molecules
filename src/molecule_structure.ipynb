{
 "cells": [
  {
   "cell_type": "code",
   "id": "initial_id",
   "metadata": {
    "collapsed": true,
    "ExecuteTime": {
     "end_time": "2025-07-23T16:09:32.291884Z",
     "start_time": "2025-07-23T16:09:32.245038Z"
    }
   },
   "source": [
    "from SeparableBasis_Molecules import *\n",
    "from HundsCaseB import *"
   ],
   "outputs": [],
   "execution_count": 1
  },
  {
   "metadata": {
    "ExecuteTime": {
     "end_time": "2025-07-23T16:09:32.351264Z",
     "start_time": "2025-07-23T16:09:32.346560Z"
    }
   },
   "cell_type": "code",
   "source": [
    "phi_e = ElectronicState(\"X\")\n",
    "e_basis = OrthogonalBasis([phi_e])\n",
    "phi_v = VibrationalState([0])\n",
    "v_basis = OrthogonalBasis([phi_v])\n",
    "rot_basis = STM_RotationalBasis([0,1],[0,0])\n",
    "es_basis = ElectronicSpinBasis(S_range=[1/2,1/2],ms_range=[-10,10])\n",
    "ns_basis = NuclearSpinBasis(I_range=[1,1], mI_range=[-10,10])\n",
    "SeparableBasis_with_NS(e_basis, v_basis, rot_basis, es_basis,ns_basis)"
   ],
   "id": "1678796e6607c74d",
   "outputs": [
    {
     "data": {
      "text/plain": [
       "separable basis (with nuclear spin) = \n",
       "{|X, v=0, R=0, k=0, mR=0, S=0.5, ms=-0.5, I=1, mI=-1>, \n",
       " |X, v=0, R=0, k=0, mR=0, S=0.5, ms=-0.5, I=1, mI=0>, \n",
       " |X, v=0, R=0, k=0, mR=0, S=0.5, ms=-0.5, I=1, mI=1>, \n",
       " |X, v=0, R=0, k=0, mR=0, S=0.5, ms=0.5, I=1, mI=-1>, \n",
       " |X, v=0, R=0, k=0, mR=0, S=0.5, ms=0.5, I=1, mI=0>, \n",
       " |X, v=0, R=0, k=0, mR=0, S=0.5, ms=0.5, I=1, mI=1>, \n",
       " |X, v=0, R=1, k=-1, mR=0, S=0.5, ms=-0.5, I=1, mI=-1>, \n",
       " |X, v=0, R=1, k=-1, mR=0, S=0.5, ms=-0.5, I=1, mI=0>, \n",
       " |X, v=0, R=1, k=-1, mR=0, S=0.5, ms=-0.5, I=1, mI=1>, \n",
       " |X, v=0, R=1, k=-1, mR=0, S=0.5, ms=0.5, I=1, mI=-1>, \n",
       " |X, v=0, R=1, k=-1, mR=0, S=0.5, ms=0.5, I=1, mI=0>, \n",
       " |X, v=0, R=1, k=-1, mR=0, S=0.5, ms=0.5, I=1, mI=1>, \n",
       " |X, v=0, R=1, k=0, mR=0, S=0.5, ms=-0.5, I=1, mI=-1>, \n",
       " |X, v=0, R=1, k=0, mR=0, S=0.5, ms=-0.5, I=1, mI=0>, \n",
       " |X, v=0, R=1, k=0, mR=0, S=0.5, ms=-0.5, I=1, mI=1>, \n",
       " |X, v=0, R=1, k=0, mR=0, S=0.5, ms=0.5, I=1, mI=-1>, \n",
       " |X, v=0, R=1, k=0, mR=0, S=0.5, ms=0.5, I=1, mI=0>, \n",
       " |X, v=0, R=1, k=0, mR=0, S=0.5, ms=0.5, I=1, mI=1>, \n",
       " |X, v=0, R=1, k=1, mR=0, S=0.5, ms=-0.5, I=1, mI=-1>, \n",
       " |X, v=0, R=1, k=1, mR=0, S=0.5, ms=-0.5, I=1, mI=0>, \n",
       " |X, v=0, R=1, k=1, mR=0, S=0.5, ms=-0.5, I=1, mI=1>, \n",
       " |X, v=0, R=1, k=1, mR=0, S=0.5, ms=0.5, I=1, mI=-1>, \n",
       " |X, v=0, R=1, k=1, mR=0, S=0.5, ms=0.5, I=1, mI=0>, \n",
       " |X, v=0, R=1, k=1, mR=0, S=0.5, ms=0.5, I=1, mI=1> }"
      ]
     },
     "execution_count": 2,
     "metadata": {},
     "output_type": "execute_result"
    }
   ],
   "execution_count": 2
  },
  {
   "metadata": {
    "ExecuteTime": {
     "end_time": "2025-07-23T16:10:03.883866Z",
     "start_time": "2025-07-23T16:10:03.878801Z"
    }
   },
   "cell_type": "code",
   "source": "basisB = HundsCaseB_Basis_with_NS(I_range=[1/2,1/2],N_range=[1,1],k_range=[0,0],S_range=[1/2,1/2],J_range=[1/2, 5/2], F_range=[0,4],m_range=[-3,3])",
   "id": "e469fc075c3a6fc7",
   "outputs": [],
   "execution_count": 3
  },
  {
   "metadata": {
    "ExecuteTime": {
     "end_time": "2025-07-23T16:10:04.016365Z",
     "start_time": "2025-07-23T16:10:04.012166Z"
    }
   },
   "cell_type": "code",
   "source": "basisB.get_J_states(3/2)",
   "id": "b40916ce9266165b",
   "outputs": [
    {
     "data": {
      "text/plain": [
       "[|S=0.5, I=0.5, N=1, k=0, J=1.5, F=1.0, mF=-1.0>,\n",
       " |S=0.5, I=0.5, N=1, k=0, J=1.5, F=1.0, mF=0.0>,\n",
       " |S=0.5, I=0.5, N=1, k=0, J=1.5, F=1.0, mF=1.0>,\n",
       " |S=0.5, I=0.5, N=1, k=0, J=1.5, F=2.0, mF=-2.0>,\n",
       " |S=0.5, I=0.5, N=1, k=0, J=1.5, F=2.0, mF=-1.0>,\n",
       " |S=0.5, I=0.5, N=1, k=0, J=1.5, F=2.0, mF=0.0>,\n",
       " |S=0.5, I=0.5, N=1, k=0, J=1.5, F=2.0, mF=1.0>,\n",
       " |S=0.5, I=0.5, N=1, k=0, J=1.5, F=2.0, mF=2.0>]"
      ]
     },
     "execution_count": 4,
     "metadata": {},
     "output_type": "execute_result"
    }
   ],
   "execution_count": 4
  },
  {
   "metadata": {},
   "cell_type": "code",
   "outputs": [],
   "execution_count": null,
   "source": "",
   "id": "85f383f3587cd221"
  }
 ],
 "metadata": {
  "kernelspec": {
   "display_name": "Python 3",
   "language": "python",
   "name": "python3"
  },
  "language_info": {
   "codemirror_mode": {
    "name": "ipython",
    "version": 2
   },
   "file_extension": ".py",
   "mimetype": "text/x-python",
   "name": "python",
   "nbconvert_exporter": "python",
   "pygments_lexer": "ipython2",
   "version": "2.7.6"
  }
 },
 "nbformat": 4,
 "nbformat_minor": 5
}
