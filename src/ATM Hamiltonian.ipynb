{
 "cells": [
  {
   "cell_type": "code",
   "id": "initial_id",
   "metadata": {
    "collapsed": true,
    "ExecuteTime": {
     "end_time": "2025-07-06T20:23:23.764722Z",
     "start_time": "2025-07-06T20:23:23.557149Z"
    }
   },
   "source": [
    "from Group import *\n",
    "from Basis import *\n",
    "from Operator import *\n",
    "from RotationalStates import *\n",
    "import numpy as np\n",
    "import matplotlib.pyplot as plt"
   ],
   "outputs": [],
   "execution_count": 1
  },
  {
   "metadata": {
    "ExecuteTime": {
     "end_time": "2025-07-06T20:23:23.769994Z",
     "start_time": "2025-07-06T20:23:23.767956Z"
    }
   },
   "cell_type": "code",
   "source": [
    "basis = STM_RotationalBasis(R_range=(0,3), k_range=(-100,100), m_range=(0,0))\n",
    "J_p = STM_RaisingOperator(basis)\n",
    "J_m = STM_LoweringOperator(basis)\n",
    "R2 = STM_R2_Operator(basis)\n",
    "Ra = STM_Ra_Operator(basis)"
   ],
   "id": "5d60584e3750a683",
   "outputs": [],
   "execution_count": 2
  },
  {
   "metadata": {
    "ExecuteTime": {
     "end_time": "2025-07-06T20:40:34.721095Z",
     "start_time": "2025-07-06T20:40:34.716132Z"
    }
   },
   "cell_type": "code",
   "source": "H = Ra * Ra * 100 + R2 + (J_p * J_p + J_m * J_m) * 1",
   "id": "a15964aeb14758a4",
   "outputs": [],
   "execution_count": 16
  },
  {
   "metadata": {
    "ExecuteTime": {
     "end_time": "2025-07-06T20:40:35.493982Z",
     "start_time": "2025-07-06T20:40:35.490176Z"
    }
   },
   "cell_type": "code",
   "source": "Es, states = H.diagonalize()",
   "id": "6f3609cdcdfb22f4",
   "outputs": [],
   "execution_count": 17
  },
  {
   "metadata": {
    "ExecuteTime": {
     "end_time": "2025-07-06T20:40:35.649334Z",
     "start_time": "2025-07-06T20:40:35.605162Z"
    }
   },
   "cell_type": "code",
   "source": "plt.plot(np.real(Es), \"o\")",
   "id": "aebe8e6226cf358b",
   "outputs": [
    {
     "data": {
      "text/plain": [
       "[<matplotlib.lines.Line2D at 0x110df72d0>]"
      ]
     },
     "execution_count": 18,
     "metadata": {},
     "output_type": "execute_result"
    },
    {
     "data": {
      "text/plain": [
       "<Figure size 640x480 with 1 Axes>"
      ],
      "image/png": "[encoded data removed]"
     },
     "metadata": {},
     "output_type": "display_data"
    }
   ],
   "execution_count": 18
  },
  {
   "metadata": {
    "ExecuteTime": {
     "end_time": "2025-07-06T20:40:39.410539Z",
     "start_time": "2025-07-06T20:40:39.406760Z"
    }
   },
   "cell_type": "code",
   "source": [
    "for s in states:\n",
    "    print(s)"
   ],
   "id": "232b63a8965c76ef",
   "outputs": [
    {
     "name": "stdout",
     "output_type": "stream",
     "text": [
      "φ_0 = 1.00 |R=0, k=0, m=0> \n",
      "φ_1 = 1.00 |R=1, k=0, m=0> \n",
      "φ_2 = -0.01 |R=2, k=-2, m=0> + 1.00 |R=2, k=0, m=0> + -0.01 |R=2, k=2, m=0> \n",
      "φ_3 = -0.03 |R=3, k=-2, m=0> + 1.00 |R=3, k=0, m=0> + -0.03 |R=3, k=2, m=0> \n",
      "φ_4 = -0.01 |R=3, k=-3, m=0> + 0.71 |R=3, k=-1, m=0> + -0.71 |R=3, k=1, m=0> + 0.01 |R=3, k=3, m=0> \n",
      "φ_5 = 0.28 |R=1, k=-1, m=0> + -0.28 |R=1, k=1, m=0> + 0.65 |R=2, k=-1, m=0> + -0.65 |R=2, k=1, m=0> \n",
      "φ_6 = 0.70 |R=1, k=-1, m=0> + -0.70 |R=1, k=1, m=0> + -0.07 |R=2, k=-1, m=0> + 0.07 |R=2, k=1, m=0> \n",
      "φ_7 = 0.71 |R=1, k=-1, m=0> + 0.71 |R=1, k=1, m=0> \n",
      "φ_8 = 0.71 |R=2, k=-1, m=0> + 0.71 |R=2, k=1, m=0> \n",
      "φ_9 = -0.01 |R=3, k=-3, m=0> + 0.71 |R=3, k=-1, m=0> + 0.71 |R=3, k=1, m=0> + -0.01 |R=3, k=3, m=0> \n",
      "φ_10 = -0.71 |R=2, k=-2, m=0> + 0.71 |R=2, k=2, m=0> \n",
      "φ_11 = 0.71 |R=2, k=-2, m=0> + 0.02 |R=2, k=0, m=0> + 0.71 |R=2, k=2, m=0> \n",
      "φ_12 = 0.71 |R=3, k=-2, m=0> + -0.71 |R=3, k=2, m=0> \n",
      "φ_13 = 0.71 |R=3, k=-2, m=0> + 0.04 |R=3, k=0, m=0> + 0.71 |R=3, k=2, m=0> \n",
      "φ_14 = 0.71 |R=3, k=-3, m=0> + 0.01 |R=3, k=-1, m=0> + -0.01 |R=3, k=1, m=0> + -0.71 |R=3, k=3, m=0> \n",
      "φ_15 = 0.71 |R=3, k=-3, m=0> + 0.01 |R=3, k=-1, m=0> + 0.01 |R=3, k=1, m=0> + 0.71 |R=3, k=3, m=0> \n"
     ]
    }
   ],
   "execution_count": 19
  },
  {
   "metadata": {},
   "cell_type": "code",
   "source": "",
   "id": "14fce75f110637dd",
   "outputs": [],
   "execution_count": null
  }
 ],
 "metadata": {
  "kernelspec": {
   "display_name": "Python 3",
   "language": "python",
   "name": "python3"
  },
  "language_info": {
   "codemirror_mode": {
    "name": "ipython",
    "version": 2
   },
   "file_extension": ".py",
   "mimetype": "text/x-python",
   "name": "python",
   "nbconvert_exporter": "python",
   "pygments_lexer": "ipython2",
   "version": "2.7.6"
  }
 },
 "nbformat": 4,
 "nbformat_minor": 5
}
