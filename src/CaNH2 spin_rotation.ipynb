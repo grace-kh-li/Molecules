{
 "cells": [
  {
   "cell_type": "code",
   "id": "initial_id",
   "metadata": {
    "collapsed": true,
    "ExecuteTime": {
     "end_time": "2025-07-25T14:08:01.877800Z",
     "start_time": "2025-07-25T14:08:01.874321Z"
    }
   },
   "source": [
    "from molecular_Hamiltonians.Rotational_Hamiltonian import *\n",
    "from src.molecular_Hamiltonians.SpinRotation import *\n",
    "from RotationalStates import *\n",
    "from HundsCaseB import *\n",
    "from src.molecular_Hamiltonians.SpinRotation import *"
   ],
   "outputs": [],
   "execution_count": 3
  },
  {
   "metadata": {
    "ExecuteTime": {
     "end_time": "2025-07-25T14:08:03.105377Z",
     "start_time": "2025-07-25T14:08:03.101306Z"
    }
   },
   "cell_type": "code",
   "source": [
    "def wavenumber_to_Hz(k):\n",
    "    return k * 299792458 * 100\n",
    "def wavenumber_to_GHz(k):\n",
    "    return k * 299792458 * 100 / 1e9"
   ],
   "id": "bb9ab10b85b978d5",
   "outputs": [],
   "execution_count": 4
  },
  {
   "metadata": {},
   "cell_type": "markdown",
   "source": "## Pure rotational structure with Hund's case B",
   "id": "80ab3ebccc0f7bc5"
  },
  {
   "metadata": {
    "ExecuteTime": {
     "end_time": "2025-07-25T14:10:21.738564Z",
     "start_time": "2025-07-25T14:10:21.733818Z"
    }
   },
   "cell_type": "code",
   "source": [
    "basis = HundsCaseB_Basis(N_range=(0,2), S_range=(1/2,1/2),m_range=(1/2,1/2))\n",
    "# basis = STM_RotationalBasis(R_range=(1,1))\n",
    "A = wavenumber_to_GHz(13.05744)\n",
    "\n",
    "BC_avg2 = wavenumber_to_GHz(0.296652) # (B+C)/2\n",
    "BC_diff4 = wavenumber_to_GHz(1.8894e-3) # (B-C)/4\n",
    "H_rot = Rotational_Hamiltonian(basis,A, BC_avg2, BC_diff4)\n",
    "Z = MShiftOperator(basis) * 1e-6 + JShiftOperator(basis) * 1e-5 # liftng the m and J degeneracies so that eigensolver doesn't get confused\n",
    "H = H_rot + Z"
   ],
   "id": "54e3097ee8e66a13",
   "outputs": [],
   "execution_count": 11
  },
  {
   "metadata": {
    "ExecuteTime": {
     "end_time": "2025-07-25T14:10:23.040522Z",
     "start_time": "2025-07-25T14:10:23.035601Z"
    }
   },
   "cell_type": "code",
   "source": "basis",
   "id": "f174065ca1c1c9db",
   "outputs": [
    {
     "data": {
      "text/plain": [
       "Hund's case B Basis = \n",
       "{|N=0, k=0, S=0.5, J=0.5, m=0.5>, \n",
       " |N=1, k=-1, S=0.5, J=0.5, m=0.5>, \n",
       " |N=1, k=-1, S=0.5, J=1.5, m=0.5>, \n",
       " |N=1, k=0, S=0.5, J=0.5, m=0.5>, \n",
       " |N=1, k=0, S=0.5, J=1.5, m=0.5>, \n",
       " |N=1, k=1, S=0.5, J=0.5, m=0.5>, \n",
       " |N=1, k=1, S=0.5, J=1.5, m=0.5>, \n",
       " |N=2, k=-2, S=0.5, J=1.5, m=0.5>, \n",
       " |N=2, k=-2, S=0.5, J=2.5, m=0.5>, \n",
       " |N=2, k=-1, S=0.5, J=1.5, m=0.5>, \n",
       " |N=2, k=-1, S=0.5, J=2.5, m=0.5>, \n",
       " |N=2, k=0, S=0.5, J=1.5, m=0.5>, \n",
       " |N=2, k=0, S=0.5, J=2.5, m=0.5>, \n",
       " |N=2, k=1, S=0.5, J=1.5, m=0.5>, \n",
       " |N=2, k=1, S=0.5, J=2.5, m=0.5>, \n",
       " |N=2, k=2, S=0.5, J=1.5, m=0.5>, \n",
       " |N=2, k=2, S=0.5, J=2.5, m=0.5> }"
      ]
     },
     "execution_count": 12,
     "metadata": {},
     "output_type": "execute_result"
    }
   ],
   "execution_count": 12
  },
  {
   "metadata": {
    "ExecuteTime": {
     "end_time": "2025-07-25T14:10:23.472500Z",
     "start_time": "2025-07-25T14:10:23.468962Z"
    }
   },
   "cell_type": "code",
   "source": [
    "Es, states = H.diagonalize()\n",
    "for s in states:\n",
    "    s.sort()\n",
    "states"
   ],
   "id": "b7514d9c89b2ceec",
   "outputs": [
    {
     "data": {
      "text/plain": [
       "[φ_0 = 1.00 |N=0, k=0, S=0.5, J=0.5, m=0.5> ,\n",
       " φ_1 = 1.00 |N=1, k=0, S=0.5, J=0.5, m=0.5> ,\n",
       " φ_2 = 1.00 |N=1, k=0, S=0.5, J=1.5, m=0.5> ,\n",
       " φ_3 = 1.00 |N=2, k=0, S=0.5, J=1.5, m=0.5> + -1.8e-04 |N=2, k=-2, S=0.5, J=1.5, m=0.5> + -1.8e-04 |N=2, k=2, S=0.5, J=1.5, m=0.5> ,\n",
       " φ_4 = 1.00 |N=2, k=0, S=0.5, J=2.5, m=0.5> + -1.8e-04 |N=2, k=-2, S=0.5, J=2.5, m=0.5> + -1.8e-04 |N=2, k=2, S=0.5, J=2.5, m=0.5> ,\n",
       " φ_5 = 0.71 |N=1, k=-1, S=0.5, J=0.5, m=0.5> + -0.71 |N=1, k=1, S=0.5, J=0.5, m=0.5> ,\n",
       " φ_6 = 0.71 |N=1, k=1, S=0.5, J=1.5, m=0.5> + -0.71 |N=1, k=-1, S=0.5, J=1.5, m=0.5> ,\n",
       " φ_7 = 0.71 |N=1, k=1, S=0.5, J=0.5, m=0.5> + 0.71 |N=1, k=-1, S=0.5, J=0.5, m=0.5> ,\n",
       " φ_8 = 0.71 |N=1, k=-1, S=0.5, J=1.5, m=0.5> + 0.71 |N=1, k=1, S=0.5, J=1.5, m=0.5> ,\n",
       " φ_9 = 0.71 |N=2, k=1, S=0.5, J=1.5, m=0.5> + -0.71 |N=2, k=-1, S=0.5, J=1.5, m=0.5> ,\n",
       " φ_10 = 0.71 |N=2, k=-1, S=0.5, J=2.5, m=0.5> + -0.71 |N=2, k=1, S=0.5, J=2.5, m=0.5> ,\n",
       " φ_11 = 0.71 |N=2, k=-1, S=0.5, J=1.5, m=0.5> + 0.71 |N=2, k=1, S=0.5, J=1.5, m=0.5> ,\n",
       " φ_12 = 0.71 |N=2, k=1, S=0.5, J=2.5, m=0.5> + 0.71 |N=2, k=-1, S=0.5, J=2.5, m=0.5> ,\n",
       " φ_13 = 0.71 |N=2, k=2, S=0.5, J=1.5, m=0.5> + -0.71 |N=2, k=-2, S=0.5, J=1.5, m=0.5> ,\n",
       " φ_14 = 0.71 |N=2, k=2, S=0.5, J=2.5, m=0.5> + -0.71 |N=2, k=-2, S=0.5, J=2.5, m=0.5> ,\n",
       " φ_15 = 0.71 |N=2, k=2, S=0.5, J=1.5, m=0.5> + 0.71 |N=2, k=-2, S=0.5, J=1.5, m=0.5> + 2.6e-04 |N=2, k=0, S=0.5, J=1.5, m=0.5> ,\n",
       " φ_16 = 0.71 |N=2, k=-2, S=0.5, J=2.5, m=0.5> + 0.71 |N=2, k=2, S=0.5, J=2.5, m=0.5> + 2.6e-04 |N=2, k=0, S=0.5, J=2.5, m=0.5> ]"
      ]
     },
     "execution_count": 13,
     "metadata": {},
     "output_type": "execute_result"
    }
   ],
   "execution_count": 13
  },
  {
   "metadata": {
    "ExecuteTime": {
     "end_time": "2025-07-25T14:10:24.233339Z",
     "start_time": "2025-07-25T14:10:24.052528Z"
    }
   },
   "cell_type": "code",
   "source": [
    "e_aa = 0\n",
    "e_bb = wavenumber_to_GHz(8.515e-4)\n",
    "e_cc = e_bb\n",
    "epsilon_cartesian = np.array([[e_aa,0,0],[0,e_bb,0],[0,0,e_cc]])\n",
    "H_SR = SpinRotationHamiltonian(basis, epsilon_cartesian)"
   ],
   "id": "f03eeaa86d5e1ba6",
   "outputs": [],
   "execution_count": 14
  },
  {
   "metadata": {
    "ExecuteTime": {
     "end_time": "2025-07-25T14:10:25.249113Z",
     "start_time": "2025-07-25T14:10:25.246233Z"
    }
   },
   "cell_type": "code",
   "source": "H = H_rot + H_SR + Z",
   "id": "52247f1289e53f4",
   "outputs": [],
   "execution_count": 15
  },
  {
   "metadata": {
    "ExecuteTime": {
     "end_time": "2025-07-25T14:10:25.595939Z",
     "start_time": "2025-07-25T14:10:25.592363Z"
    }
   },
   "cell_type": "code",
   "source": [
    "Es, states = H.diagonalize()\n",
    "for s in states:\n",
    "    s.sort()\n",
    "states"
   ],
   "id": "b4cd293ad3caff68",
   "outputs": [
    {
     "data": {
      "text/plain": [
       "[φ_0 = 1.00 |N=0, k=0, S=0.5, J=0.5, m=0.5> ,\n",
       " φ_1 = 1.00 |N=1, k=0, S=0.5, J=0.5, m=0.5> ,\n",
       " φ_2 = 1.00 |N=1, k=0, S=0.5, J=1.5, m=0.5> + 5.0e-06 |N=2, k=2, S=0.5, J=1.5, m=0.5> + -5.0e-06 |N=2, k=-2, S=0.5, J=1.5, m=0.5> ,\n",
       " φ_3 = 1.00 |N=2, k=0, S=0.5, J=1.5, m=0.5> + -1.9e-04 |N=2, k=2, S=0.5, J=1.5, m=0.5> + -1.9e-04 |N=2, k=-2, S=0.5, J=1.5, m=0.5> ,\n",
       " φ_4 = 1.00 |N=2, k=0, S=0.5, J=2.5, m=0.5> + -1.8e-04 |N=2, k=-2, S=0.5, J=2.5, m=0.5> + -1.8e-04 |N=2, k=2, S=0.5, J=2.5, m=0.5> ,\n",
       " φ_5 = 0.71 |N=1, k=1, S=0.5, J=0.5, m=0.5> + -0.71 |N=1, k=-1, S=0.5, J=0.5, m=0.5> ,\n",
       " φ_6 = 0.71 |N=1, k=-1, S=0.5, J=1.5, m=0.5> + -0.71 |N=1, k=1, S=0.5, J=1.5, m=0.5> ,\n",
       " φ_7 = 0.71 |N=1, k=-1, S=0.5, J=0.5, m=0.5> + 0.71 |N=1, k=1, S=0.5, J=0.5, m=0.5> ,\n",
       " φ_8 = 0.71 |N=1, k=1, S=0.5, J=1.5, m=0.5> + 0.71 |N=1, k=-1, S=0.5, J=1.5, m=0.5> + -2.2e-04 |N=2, k=-1, S=0.5, J=1.5, m=0.5> + 2.2e-04 |N=2, k=1, S=0.5, J=1.5, m=0.5> ,\n",
       " φ_9 = 0.71 |N=2, k=-1, S=0.5, J=1.5, m=0.5> + -0.71 |N=2, k=1, S=0.5, J=1.5, m=0.5> + 2.2e-04 |N=1, k=1, S=0.5, J=1.5, m=0.5> + 2.2e-04 |N=1, k=-1, S=0.5, J=1.5, m=0.5> ,\n",
       " φ_10 = 0.71 |N=2, k=-1, S=0.5, J=2.5, m=0.5> + -0.71 |N=2, k=1, S=0.5, J=2.5, m=0.5> ,\n",
       " φ_11 = 0.71 |N=2, k=1, S=0.5, J=1.5, m=0.5> + 0.71 |N=2, k=-1, S=0.5, J=1.5, m=0.5> ,\n",
       " φ_12 = 0.71 |N=2, k=1, S=0.5, J=2.5, m=0.5> + 0.71 |N=2, k=-1, S=0.5, J=2.5, m=0.5> ,\n",
       " φ_13 = 0.71 |N=2, k=2, S=0.5, J=1.5, m=0.5> + -0.71 |N=2, k=-2, S=0.5, J=1.5, m=0.5> + -7.1e-06 |N=1, k=0, S=0.5, J=1.5, m=0.5> ,\n",
       " φ_14 = 0.71 |N=2, k=-2, S=0.5, J=1.5, m=0.5> + 0.71 |N=2, k=2, S=0.5, J=1.5, m=0.5> + 2.6e-04 |N=2, k=0, S=0.5, J=1.5, m=0.5> ,\n",
       " φ_15 = 0.71 |N=2, k=2, S=0.5, J=2.5, m=0.5> + -0.71 |N=2, k=-2, S=0.5, J=2.5, m=0.5> ,\n",
       " φ_16 = 0.71 |N=2, k=-2, S=0.5, J=2.5, m=0.5> + 0.71 |N=2, k=2, S=0.5, J=2.5, m=0.5> + 2.5e-04 |N=2, k=0, S=0.5, J=2.5, m=0.5> ]"
      ]
     },
     "execution_count": 16,
     "metadata": {},
     "output_type": "execute_result"
    }
   ],
   "execution_count": 16
  },
  {
   "metadata": {
    "ExecuteTime": {
     "end_time": "2025-07-25T14:10:57.711356Z",
     "start_time": "2025-07-25T14:10:57.708083Z"
    }
   },
   "cell_type": "code",
   "source": "Es[6] - Es[5]",
   "id": "62c02b4951dacc65",
   "outputs": [
    {
     "data": {
      "text/plain": [
       "np.float64(0.03830099169852019)"
      ]
     },
     "execution_count": 18,
     "metadata": {},
     "output_type": "execute_result"
    }
   ],
   "execution_count": 18
  },
  {
   "metadata": {
    "ExecuteTime": {
     "end_time": "2025-07-25T14:11:13.241692Z",
     "start_time": "2025-07-25T14:11:13.239262Z"
    }
   },
   "cell_type": "code",
   "source": "Es[8] - Es[7]",
   "id": "25623f7c570b1ae5",
   "outputs": [
    {
     "data": {
      "text/plain": [
       "np.float64(0.019152013074119623)"
      ]
     },
     "execution_count": 19,
     "metadata": {},
     "output_type": "execute_result"
    }
   ],
   "execution_count": 19
  },
  {
   "metadata": {
    "ExecuteTime": {
     "end_time": "2025-07-25T14:11:23.483029Z",
     "start_time": "2025-07-25T14:11:23.479909Z"
    }
   },
   "cell_type": "code",
   "source": "Es[7] - Es[5]",
   "id": "4eb3bcc282cbfe0e",
   "outputs": [
    {
     "data": {
      "text/plain": [
       "np.float64(0.23933481195831519)"
      ]
     },
     "execution_count": 20,
     "metadata": {},
     "output_type": "execute_result"
    }
   ],
   "execution_count": 20
  },
  {
   "metadata": {},
   "cell_type": "code",
   "outputs": [],
   "execution_count": null,
   "source": "",
   "id": "a60ad79661d940cc"
  }
 ],
 "metadata": {
  "kernelspec": {
   "display_name": "Python 3",
   "language": "python",
   "name": "python3"
  },
  "language_info": {
   "codemirror_mode": {
    "name": "ipython",
    "version": 2
   },
   "file_extension": ".py",
   "mimetype": "text/x-python",
   "name": "python",
   "nbconvert_exporter": "python",
   "pygments_lexer": "ipython2",
   "version": "2.7.6"
  }
 },
 "nbformat": 4,
 "nbformat_minor": 5
}
