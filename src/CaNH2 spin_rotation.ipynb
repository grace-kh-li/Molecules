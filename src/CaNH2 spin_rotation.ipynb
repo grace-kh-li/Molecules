{
 "cells": [
  {
   "cell_type": "code",
   "id": "initial_id",
   "metadata": {
    "collapsed": true,
    "ExecuteTime": {
     "end_time": "2025-08-05T13:23:51.248113Z",
     "start_time": "2025-08-05T13:23:50.931709Z"
    }
   },
   "source": [
    "from molecular_Hamiltonians.Rotational_Hamiltonian import *\n",
    "from src.molecular_Hamiltonians.SpinRotation import *\n",
    "from RotationalStates import *\n",
    "from HundsCaseB import *\n",
    "from src.molecular_Hamiltonians.SpinRotation import *"
   ],
   "outputs": [],
   "execution_count": 1
  },
  {
   "metadata": {
    "ExecuteTime": {
     "end_time": "2025-08-05T13:26:26.721638Z",
     "start_time": "2025-08-05T13:26:26.717610Z"
    }
   },
   "cell_type": "code",
   "source": [
    "c = 299792458\n",
    "def wavenumber_to_Hz(k):\n",
    "    return k * c * 100\n",
    "def wavenumber_to_GHz(k):\n",
    "    return k * c * 100 / 1e9\n",
    "def Hz_to_wavenumber(f):\n",
    "    return f / 100 / c"
   ],
   "id": "bb9ab10b85b978d5",
   "outputs": [],
   "execution_count": 15
  },
  {
   "metadata": {},
   "cell_type": "markdown",
   "source": "## Pure rotational structure with Hund's case B",
   "id": "80ab3ebccc0f7bc5"
  },
  {
   "metadata": {
    "ExecuteTime": {
     "end_time": "2025-08-06T14:34:24.977793Z",
     "start_time": "2025-08-06T14:34:24.963111Z"
    }
   },
   "cell_type": "code",
   "source": [
    "# basis = HundsCaseB_Basis(N_range=(0,2), S_range=(1/2,1/2),m_range=(1/2,1/2))\n",
    "basis = STM_RotationalBasis(R_range=(0,2), m_range=(0,0))\n",
    "A = 392127e-3\n",
    "B = 9009.0649e-3\n",
    "C = 8782.7559e-3\n",
    "BC_avg2 = (B+C)/2\n",
    "BC_diff4 = 0 #(B-C)/4\n",
    "H_rot = Rotational_Hamiltonian(basis,A, BC_avg2, BC_diff4)\n",
    "Z = MShiftOperator(basis) * 1e-6 + JShiftOperator(basis) * 1e-5 # liftng the m and J degeneracies so that eigensolver doesn't get confused\n",
    "H = H_rot + Z"
   ],
   "id": "54e3097ee8e66a13",
   "outputs": [],
   "execution_count": 79
  },
  {
   "metadata": {
    "ExecuteTime": {
     "end_time": "2025-08-06T14:34:26.403260Z",
     "start_time": "2025-08-06T14:34:26.390544Z"
    }
   },
   "cell_type": "code",
   "source": [
    "Es, states = H.diagonalize()\n",
    "for s in states:\n",
    "    s.sort()\n",
    "states"
   ],
   "id": "b7514d9c89b2ceec",
   "outputs": [
    {
     "data": {
      "text/plain": [
       "[φ_0 = 1.00 |R=0, k=0, mR=0> ,\n",
       " φ_1 = 1.00 |R=1, k=0, mR=0> ,\n",
       " φ_2 = 1.00 |R=2, k=0, mR=0> ,\n",
       " φ_3 = 1.00 |R=1, k=-1, mR=0> ,\n",
       " φ_4 = 1.00 |R=1, k=1, mR=0> ,\n",
       " φ_5 = 1.00 |R=2, k=-1, mR=0> ,\n",
       " φ_6 = 1.00 |R=2, k=1, mR=0> ,\n",
       " φ_7 = 1.00 |R=2, k=-2, mR=0> ,\n",
       " φ_8 = 1.00 |R=2, k=2, mR=0> ]"
      ]
     },
     "execution_count": 80,
     "metadata": {},
     "output_type": "execute_result"
    }
   ],
   "execution_count": 80
  },
  {
   "metadata": {
    "ExecuteTime": {
     "end_time": "2025-08-06T14:34:35.118945Z",
     "start_time": "2025-08-06T14:34:35.114374Z"
    }
   },
   "cell_type": "code",
   "source": "Es[5]-Es[3]",
   "id": "270c642dd7da9bbd",
   "outputs": [
    {
     "data": {
      "text/plain": [
       "np.float64(35.58364160000002)"
      ]
     },
     "execution_count": 81,
     "metadata": {},
     "output_type": "execute_result"
    }
   ],
   "execution_count": 81
  },
  {
   "metadata": {},
   "cell_type": "markdown",
   "source": "463226973.070669 - 463227284.786889",
   "id": "69810f1a45eee37"
  },
  {
   "metadata": {
    "ExecuteTime": {
     "end_time": "2025-08-06T14:38:03.220635Z",
     "start_time": "2025-08-06T14:38:03.213147Z"
    }
   },
   "cell_type": "code",
   "source": "463192758.349117 - 463228341.990717",
   "id": "7fab9d35ecc9fa83",
   "outputs": [
    {
     "data": {
      "text/plain": [
       "-35583.64160001278"
      ]
     },
     "execution_count": 82,
     "metadata": {},
     "output_type": "execute_result"
    }
   ],
   "execution_count": 82
  },
  {
   "metadata": {
    "ExecuteTime": {
     "end_time": "2025-08-05T13:40:21.981896Z",
     "start_time": "2025-08-05T13:40:21.977649Z"
    }
   },
   "cell_type": "code",
   "source": "wavenumber_to_GHz(8.515e-4)",
   "id": "c9cbcf736392109",
   "outputs": [
    {
     "data": {
      "text/plain": [
       "0.0255273277987"
      ]
     },
     "execution_count": 36,
     "metadata": {},
     "output_type": "execute_result"
    }
   ],
   "execution_count": 36
  },
  {
   "metadata": {
    "ExecuteTime": {
     "end_time": "2025-08-05T13:45:57.941866Z",
     "start_time": "2025-08-05T13:45:57.776592Z"
    }
   },
   "cell_type": "code",
   "source": [
    "e_aa = 45.7e-3\n",
    "e_bb = 32.063e-3\n",
    "e_cc = 41.110e-3\n",
    "epsilon_cartesian = np.array([[e_aa,0,0],[0,e_bb,0],[0,0,e_cc]])\n",
    "H_SR = SpinRotationHamiltonian(basis, epsilon_cartesian)\n",
    "H = H_rot + H_SR #+ Z\n",
    "Es, states = H.diagonalize()\n",
    "for s in states:\n",
    "    s.sort()"
   ],
   "id": "f03eeaa86d5e1ba6",
   "outputs": [],
   "execution_count": 41
  },
  {
   "metadata": {
    "ExecuteTime": {
     "end_time": "2025-08-05T13:45:58.214672Z",
     "start_time": "2025-08-05T13:45:58.212354Z"
    }
   },
   "cell_type": "code",
   "source": "Es[8] - Es[7]",
   "id": "62c02b4951dacc65",
   "outputs": [
    {
     "data": {
      "text/plain": [
       "np.float64(0.06510738728144361)"
      ]
     },
     "execution_count": 42,
     "metadata": {},
     "output_type": "execute_result"
    }
   ],
   "execution_count": 42
  },
  {
   "metadata": {
    "ExecuteTime": {
     "end_time": "2025-08-05T13:45:59.004713Z",
     "start_time": "2025-08-05T13:45:59.000724Z"
    }
   },
   "cell_type": "code",
   "source": "Es[6] - Es[5]",
   "id": "25623f7c570b1ae5",
   "outputs": [
    {
     "data": {
      "text/plain": [
       "np.float64(0.05487932304873766)"
      ]
     },
     "execution_count": 43,
     "metadata": {},
     "output_type": "execute_result"
    }
   ],
   "execution_count": 43
  },
  {
   "metadata": {
    "ExecuteTime": {
     "end_time": "2025-08-05T13:42:27.521781Z",
     "start_time": "2025-08-05T13:42:27.517948Z"
    }
   },
   "cell_type": "code",
   "source": "Es[7] - Es[5]",
   "id": "4eb3bcc282cbfe0e",
   "outputs": [
    {
     "data": {
      "text/plain": [
       "np.float64(0.21975264805888628)"
      ]
     },
     "execution_count": 40,
     "metadata": {},
     "output_type": "execute_result"
    }
   ],
   "execution_count": 40
  },
  {
   "metadata": {},
   "cell_type": "code",
   "outputs": [],
   "execution_count": null,
   "source": "",
   "id": "a60ad79661d940cc"
  }
 ],
 "metadata": {
  "kernelspec": {
   "display_name": "Python 3",
   "language": "python",
   "name": "python3"
  },
  "language_info": {
   "codemirror_mode": {
    "name": "ipython",
    "version": 2
   },
   "file_extension": ".py",
   "mimetype": "text/x-python",
   "name": "python",
   "nbconvert_exporter": "python",
   "pygments_lexer": "ipython2",
   "version": "2.7.6"
  }
 },
 "nbformat": 4,
 "nbformat_minor": 5
}
