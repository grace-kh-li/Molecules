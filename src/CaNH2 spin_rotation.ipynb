{
 "cells": [
  {
   "cell_type": "code",
   "id": "initial_id",
   "metadata": {
    "collapsed": true,
    "ExecuteTime": {
     "end_time": "2025-09-01T23:25:22.355366Z",
     "start_time": "2025-09-01T23:25:22.105475Z"
    }
   },
   "source": [
    "from molecular_Hamiltonians.Rotational_Hamiltonian import *\n",
    "from src.molecular_Hamiltonians.SpinRotation import *\n",
    "from RotationalStates import *\n",
    "from HundsCaseB import *\n",
    "from src.molecular_Hamiltonians.SpinRotation import *"
   ],
   "outputs": [],
   "execution_count": 1
  },
  {
   "metadata": {
    "ExecuteTime": {
     "end_time": "2025-09-01T23:25:22.360018Z",
     "start_time": "2025-09-01T23:25:22.357763Z"
    }
   },
   "cell_type": "code",
   "source": [
    "c = 299792458\n",
    "def wavenumber_to_Hz(k):\n",
    "    return k * c * 100\n",
    "def wavenumber_to_GHz(k):\n",
    "    return k * c * 100 / 1e9\n",
    "def Hz_to_wavenumber(f):\n",
    "    return f / 100 / c"
   ],
   "id": "bb9ab10b85b978d5",
   "outputs": [],
   "execution_count": 2
  },
  {
   "metadata": {},
   "cell_type": "markdown",
   "source": "## Pure rotational structure with Hund's case B",
   "id": "80ab3ebccc0f7bc5"
  },
  {
   "metadata": {
    "ExecuteTime": {
     "end_time": "2025-09-01T23:26:06.885335Z",
     "start_time": "2025-09-01T23:26:06.880017Z"
    }
   },
   "cell_type": "code",
   "source": [
    "basis = HundsCaseB_Basis(N_range=(0,2), S_range=(1/2,1/2),m_range=(1/2,1/2))\n",
    "# basis = STM_RotationalBasis(R_range=(0,2), m_range=(0,0))\n",
    "A = wavenumber_to_GHz(13.05744)\n",
    "BC_avg2 = wavenumber_to_GHz(0.296652) # (B+C)/2\n",
    "BC_diff4 = wavenumber_to_GHz(1.8894e-3) # (B-C)/4\n",
    "H_rot = Rotational_Hamiltonian(basis,A, BC_avg2, BC_diff4)\n",
    "Z = MShiftOperator(basis) * 1e-6 + JShiftOperator(basis) * 1e-5 # liftng the m and J degeneracies so that eigensolver doesn't get confused\n",
    "H = H_rot + Z"
   ],
   "id": "54e3097ee8e66a13",
   "outputs": [],
   "execution_count": 11
  },
  {
   "metadata": {
    "ExecuteTime": {
     "end_time": "2025-09-01T23:26:07.323171Z",
     "start_time": "2025-09-01T23:26:07.319274Z"
    }
   },
   "cell_type": "code",
   "source": [
    "Es, states = H.diagonalize()\n",
    "for s in states:\n",
    "    s.sort()"
   ],
   "id": "b7514d9c89b2ceec",
   "outputs": [],
   "execution_count": 12
  },
  {
   "metadata": {
    "ExecuteTime": {
     "end_time": "2025-09-01T23:26:07.932198Z",
     "start_time": "2025-09-01T23:26:07.754484Z"
    }
   },
   "cell_type": "code",
   "source": [
    "e_aa = 45.7e-3\n",
    "e_bb = 32.063e-3\n",
    "e_cc = 41.110e-3\n",
    "\n",
    "H_SR = SpinRotationHamiltonian(basis, e_aa, e_bb, e_cc)\n",
    "H = H_rot + H_SR #+ Z\n",
    "Es, states = H.diagonalize()\n",
    "for s in states:\n",
    "    s.sort()"
   ],
   "id": "f03eeaa86d5e1ba6",
   "outputs": [],
   "execution_count": 13
  },
  {
   "metadata": {
    "ExecuteTime": {
     "end_time": "2025-09-01T23:25:29.359702Z",
     "start_time": "2025-09-01T23:25:29.353519Z"
    }
   },
   "cell_type": "code",
   "source": "states",
   "id": "257e8f19d24892e0",
   "outputs": [
    {
     "data": {
      "text/plain": [
       "[φ_0 = 1.00 |N=0, k=0, S=0.5, J=0.5, m=0.5> ,\n",
       " φ_1 = 1.00 |N=1, k=0, S=0.5, J=0.5, m=0.5> ,\n",
       " φ_2 = 1.00 |N=1, k=0, S=0.5, J=1.5, m=0.5> + 1.8e-06 |N=2, k=2, S=0.5, J=1.5, m=0.5> + -1.8e-06 |N=2, k=-2, S=0.5, J=1.5, m=0.5> ,\n",
       " φ_3 = 1.00 |N=2, k=0, S=0.5, J=1.5, m=0.5> + -1.8e-04 |N=2, k=-2, S=0.5, J=1.5, m=0.5> + -1.8e-04 |N=2, k=2, S=0.5, J=1.5, m=0.5> ,\n",
       " φ_4 = 1.00 |N=2, k=0, S=0.5, J=2.5, m=0.5> + -1.8e-04 |N=2, k=-2, S=0.5, J=2.5, m=0.5> + -1.8e-04 |N=2, k=2, S=0.5, J=2.5, m=0.5> ,\n",
       " φ_5 = 0.71 |N=1, k=-1, S=0.5, J=0.5, m=0.5> + -0.71 |N=1, k=1, S=0.5, J=0.5, m=0.5> ,\n",
       " φ_6 = 0.71 |N=1, k=1, S=0.5, J=1.5, m=0.5> + -0.71 |N=1, k=-1, S=0.5, J=1.5, m=0.5> + 3.9e-05 |N=2, k=-1, S=0.5, J=1.5, m=0.5> + 3.9e-05 |N=2, k=1, S=0.5, J=1.5, m=0.5> ,\n",
       " φ_7 = 0.71 |N=1, k=-1, S=0.5, J=0.5, m=0.5> + 0.71 |N=1, k=1, S=0.5, J=0.5, m=0.5> ,\n",
       " φ_8 = 0.71 |N=1, k=-1, S=0.5, J=1.5, m=0.5> + 0.71 |N=1, k=1, S=0.5, J=1.5, m=0.5> + -1.2e-04 |N=2, k=-1, S=0.5, J=1.5, m=0.5> + 1.2e-04 |N=2, k=1, S=0.5, J=1.5, m=0.5> ,\n",
       " φ_9 = 0.71 |N=2, k=-1, S=0.5, J=1.5, m=0.5> + -0.71 |N=2, k=1, S=0.5, J=1.5, m=0.5> + 1.2e-04 |N=1, k=-1, S=0.5, J=1.5, m=0.5> + 1.2e-04 |N=1, k=1, S=0.5, J=1.5, m=0.5> ,\n",
       " φ_10 = 0.71 |N=2, k=-1, S=0.5, J=2.5, m=0.5> + -0.71 |N=2, k=1, S=0.5, J=2.5, m=0.5> ,\n",
       " φ_11 = 0.71 |N=2, k=1, S=0.5, J=1.5, m=0.5> + 0.71 |N=2, k=-1, S=0.5, J=1.5, m=0.5> + 3.9e-05 |N=1, k=-1, S=0.5, J=1.5, m=0.5> + -3.9e-05 |N=1, k=1, S=0.5, J=1.5, m=0.5> ,\n",
       " φ_12 = 0.71 |N=2, k=1, S=0.5, J=2.5, m=0.5> + 0.71 |N=2, k=-1, S=0.5, J=2.5, m=0.5> ,\n",
       " φ_13 = 0.71 |N=2, k=2, S=0.5, J=1.5, m=0.5> + -0.71 |N=2, k=-2, S=0.5, J=1.5, m=0.5> + -2.5e-06 |N=1, k=0, S=0.5, J=1.5, m=0.5> ,\n",
       " φ_14 = 0.71 |N=2, k=-2, S=0.5, J=1.5, m=0.5> + 0.71 |N=2, k=2, S=0.5, J=1.5, m=0.5> + 2.6e-04 |N=2, k=0, S=0.5, J=1.5, m=0.5> ,\n",
       " φ_15 = 0.71 |N=2, k=2, S=0.5, J=2.5, m=0.5> + -0.71 |N=2, k=-2, S=0.5, J=2.5, m=0.5> ,\n",
       " φ_16 = 0.71 |N=2, k=2, S=0.5, J=2.5, m=0.5> + 0.71 |N=2, k=-2, S=0.5, J=2.5, m=0.5> + 2.5e-04 |N=2, k=0, S=0.5, J=2.5, m=0.5> ]"
      ]
     },
     "execution_count": 7,
     "metadata": {},
     "output_type": "execute_result"
    }
   ],
   "execution_count": 7
  },
  {
   "metadata": {
    "ExecuteTime": {
     "end_time": "2025-09-01T23:25:30.921612Z",
     "start_time": "2025-09-01T23:25:30.916451Z"
    }
   },
   "cell_type": "code",
   "source": "Es[6]",
   "id": "418cb3c4fdcebeca",
   "outputs": [
    {
     "data": {
      "text/plain": [
       "np.float64(400.25402331990614)"
      ]
     },
     "execution_count": 8,
     "metadata": {},
     "output_type": "execute_result"
    }
   ],
   "execution_count": 8
  },
  {
   "metadata": {
    "ExecuteTime": {
     "end_time": "2025-09-01T23:25:32.238852Z",
     "start_time": "2025-09-01T23:25:32.234158Z"
    }
   },
   "cell_type": "code",
   "source": "Es[6] - Es[5]",
   "id": "25623f7c570b1ae5",
   "outputs": [
    {
     "data": {
      "text/plain": [
       "np.float64(0.06510739012128397)"
      ]
     },
     "execution_count": 9,
     "metadata": {},
     "output_type": "execute_result"
    }
   ],
   "execution_count": 9
  },
  {
   "metadata": {
    "ExecuteTime": {
     "end_time": "2025-09-01T23:25:34.535845Z",
     "start_time": "2025-09-01T23:25:34.531893Z"
    }
   },
   "cell_type": "code",
   "source": "463209868.515865 - 463209803.408475",
   "id": "4eb3bcc282cbfe0e",
   "outputs": [
    {
     "data": {
      "text/plain": [
       "65.10739004611969"
      ]
     },
     "execution_count": 10,
     "metadata": {},
     "output_type": "execute_result"
    }
   ],
   "execution_count": 10
  },
  {
   "metadata": {},
   "cell_type": "code",
   "outputs": [],
   "execution_count": null,
   "source": "",
   "id": "1ca517ee0e1a5be"
  },
  {
   "metadata": {
    "ExecuteTime": {
     "end_time": "2025-09-01T23:22:33.352374Z",
     "start_time": "2025-09-01T23:22:33.347239Z"
    }
   },
   "cell_type": "code",
   "source": [
    "import math\n",
    "def T_eps(k, q, eps_aa, eps_bb, eps_cc):\n",
    "    if k == 0:\n",
    "        return - (eps_aa + eps_bb + eps_cc) / math.sqrt(3.0) if q == 0 else 0.0\n",
    "    if k == 2:\n",
    "        if q == 0:\n",
    "            return (2 * eps_aa - eps_bb - eps_cc) / math.sqrt(6.0)\n",
    "        if abs(q) == 2:\n",
    "            return 0.5 * (eps_bb - eps_cc)\n",
    "        return 0.0\n",
    "    return 0.0\n",
    "for k in (0,1,2):\n",
    "    for q in range(-k, k+1):\n",
    "        print(T_eps(k,q,e_aa,e_bb, e_cc))\n"
   ],
   "id": "21dedd15cf4f7b65",
   "outputs": [
    {
     "name": "stdout",
     "output_type": "stream",
     "text": [
      "-0.0686313585493784\n",
      "0.0\n",
      "0.0\n",
      "0.0\n",
      "-0.0045235\n",
      "0.0\n",
      "0.007441141590284829\n",
      "0.0\n",
      "-0.0045235\n"
     ]
    }
   ],
   "execution_count": 25
  },
  {
   "metadata": {
    "ExecuteTime": {
     "end_time": "2025-09-01T23:22:34.807423Z",
     "start_time": "2025-09-01T23:22:34.803339Z"
    }
   },
   "cell_type": "code",
   "source": [
    "T = SphericalTensor(epsilon_cartesian)\n",
    "for k in (0,1,2):\n",
    "    for q in range(-k, k+1):\n",
    "        print(T[k][q])"
   ],
   "id": "95f8114c84ae507e",
   "outputs": [
    {
     "name": "stdout",
     "output_type": "stream",
     "text": [
      "(-0.0686313585493784+0j)\n",
      "0j\n",
      "0j\n",
      "-0j\n",
      "(-0.0045235+0j)\n",
      "0j\n",
      "(0.00744114159028483+0j)\n",
      "(-0+0j)\n",
      "(-0.0045235+0j)\n"
     ]
    }
   ],
   "execution_count": 26
  },
  {
   "metadata": {},
   "cell_type": "code",
   "outputs": [],
   "execution_count": null,
   "source": "",
   "id": "cc7807051532ddfd"
  },
  {
   "metadata": {
    "ExecuteTime": {
     "end_time": "2025-09-01T22:50:52.481794Z",
     "start_time": "2025-09-01T22:50:52.357174Z"
    }
   },
   "cell_type": "code",
   "source": [
    "H_SR = SpinRotationHamiltonian(basis, epsilon_cartesian)\n",
    "H_SR1 = SpinRotationHamiltonian_old(basis, epsilon_cartesian)"
   ],
   "id": "a60ad79661d940cc",
   "outputs": [],
   "execution_count": 11
  },
  {
   "metadata": {
    "ExecuteTime": {
     "end_time": "2025-09-01T22:50:53.121831Z",
     "start_time": "2025-09-01T22:50:53.115098Z"
    }
   },
   "cell_type": "code",
   "source": [
    "for b in basis:\n",
    "    for b1 in basis:\n",
    "        if np.absolute(H_SR1[b,b1]) > 1e-6:\n",
    "            print(b)\n",
    "            print(b1)\n",
    "            print(H_SR1[b,b1])\n",
    "            print()"
   ],
   "id": "4a0976e0062e68ed",
   "outputs": [
    {
     "name": "stdout",
     "output_type": "stream",
     "text": [
      "|N=1, k=-1, S=0.5, J=0.5, m=0.5>\n",
      "|N=1, k=-1, S=0.5, J=0.5, m=0.5>\n",
      "(-0.03999575+0j)\n",
      "\n",
      "|N=1, k=-1, S=0.5, J=0.5, m=0.5>\n",
      "|N=1, k=1, S=0.5, J=0.5, m=0.5>\n",
      "(-0.003409249999999999+0j)\n",
      "\n",
      "|N=1, k=-1, S=0.5, J=1.5, m=0.5>\n",
      "|N=1, k=-1, S=0.5, J=1.5, m=0.5>\n",
      "(0.019997875+0j)\n",
      "\n",
      "|N=1, k=-1, S=0.5, J=1.5, m=0.5>\n",
      "|N=1, k=1, S=0.5, J=1.5, m=0.5>\n",
      "(0.0017046249999999995+0j)\n",
      "\n",
      "|N=1, k=-1, S=0.5, J=1.5, m=0.5>\n",
      "|N=2, k=-1, S=0.5, J=1.5, m=0.5>\n",
      "(0.0009649688061668114+0j)\n",
      "\n",
      "|N=1, k=-1, S=0.5, J=1.5, m=0.5>\n",
      "|N=2, k=1, S=0.5, J=1.5, m=0.5>\n",
      "(-0.002952497107852096+0j)\n",
      "\n",
      "|N=1, k=0, S=0.5, J=0.5, m=0.5>\n",
      "|N=1, k=0, S=0.5, J=0.5, m=0.5>\n",
      "(-0.0388815+0j)\n",
      "\n",
      "|N=1, k=0, S=0.5, J=1.5, m=0.5>\n",
      "|N=1, k=0, S=0.5, J=1.5, m=0.5>\n",
      "(0.01944075+0j)\n",
      "\n",
      "|N=1, k=1, S=0.5, J=0.5, m=0.5>\n",
      "|N=1, k=-1, S=0.5, J=0.5, m=0.5>\n",
      "(-0.003409249999999999+0j)\n",
      "\n",
      "|N=1, k=1, S=0.5, J=0.5, m=0.5>\n",
      "|N=1, k=1, S=0.5, J=0.5, m=0.5>\n",
      "(-0.03999575+0j)\n",
      "\n",
      "|N=1, k=1, S=0.5, J=1.5, m=0.5>\n",
      "|N=1, k=-1, S=0.5, J=1.5, m=0.5>\n",
      "(0.0017046249999999995+0j)\n",
      "\n",
      "|N=1, k=1, S=0.5, J=1.5, m=0.5>\n",
      "|N=1, k=1, S=0.5, J=1.5, m=0.5>\n",
      "(0.019997875+0j)\n",
      "\n",
      "|N=1, k=1, S=0.5, J=1.5, m=0.5>\n",
      "|N=2, k=-1, S=0.5, J=1.5, m=0.5>\n",
      "(0.002952497107852096+0j)\n",
      "\n",
      "|N=1, k=1, S=0.5, J=1.5, m=0.5>\n",
      "|N=2, k=1, S=0.5, J=1.5, m=0.5>\n",
      "(-0.0009649688061668114+0j)\n",
      "\n",
      "|N=2, k=-2, S=0.5, J=1.5, m=0.5>\n",
      "|N=2, k=-2, S=0.5, J=1.5, m=0.5>\n",
      "(-0.06055075000000001+0j)\n",
      "\n",
      "|N=2, k=-2, S=0.5, J=1.5, m=0.5>\n",
      "|N=2, k=0, S=0.5, J=1.5, m=0.5>\n",
      "(-0.004175461452791773+0j)\n",
      "\n",
      "|N=2, k=-2, S=0.5, J=2.5, m=0.5>\n",
      "|N=2, k=-2, S=0.5, J=2.5, m=0.5>\n",
      "(0.04036716666666667+0j)\n",
      "\n",
      "|N=2, k=-2, S=0.5, J=2.5, m=0.5>\n",
      "|N=2, k=0, S=0.5, J=2.5, m=0.5>\n",
      "(0.002783640968527849+0j)\n",
      "\n",
      "|N=2, k=-1, S=0.5, J=1.5, m=0.5>\n",
      "|N=1, k=-1, S=0.5, J=1.5, m=0.5>\n",
      "(0.0009649688061668114+0j)\n",
      "\n",
      "|N=2, k=-1, S=0.5, J=1.5, m=0.5>\n",
      "|N=1, k=1, S=0.5, J=1.5, m=0.5>\n",
      "(0.002952497107852096+0j)\n",
      "\n",
      "|N=2, k=-1, S=0.5, J=1.5, m=0.5>\n",
      "|N=2, k=-1, S=0.5, J=1.5, m=0.5>\n",
      "(-0.058879375000000005+0j)\n",
      "\n",
      "|N=2, k=-1, S=0.5, J=1.5, m=0.5>\n",
      "|N=2, k=1, S=0.5, J=1.5, m=0.5>\n",
      "(-0.005113874999999999+0j)\n",
      "\n",
      "|N=2, k=-1, S=0.5, J=2.5, m=0.5>\n",
      "|N=2, k=-1, S=0.5, J=2.5, m=0.5>\n",
      "(0.03925291666666667+0j)\n",
      "\n",
      "|N=2, k=-1, S=0.5, J=2.5, m=0.5>\n",
      "|N=2, k=1, S=0.5, J=2.5, m=0.5>\n",
      "(0.0034092499999999995+0j)\n",
      "\n",
      "|N=2, k=0, S=0.5, J=1.5, m=0.5>\n",
      "|N=2, k=-2, S=0.5, J=1.5, m=0.5>\n",
      "(-0.004175461452791773+0j)\n",
      "\n",
      "|N=2, k=0, S=0.5, J=1.5, m=0.5>\n",
      "|N=2, k=0, S=0.5, J=1.5, m=0.5>\n",
      "(-0.05832225+0j)\n",
      "\n",
      "|N=2, k=0, S=0.5, J=1.5, m=0.5>\n",
      "|N=2, k=2, S=0.5, J=1.5, m=0.5>\n",
      "(-0.004175461452791773+0j)\n",
      "\n",
      "|N=2, k=0, S=0.5, J=2.5, m=0.5>\n",
      "|N=2, k=-2, S=0.5, J=2.5, m=0.5>\n",
      "(0.002783640968527849+0j)\n",
      "\n",
      "|N=2, k=0, S=0.5, J=2.5, m=0.5>\n",
      "|N=2, k=0, S=0.5, J=2.5, m=0.5>\n",
      "(0.038881500000000006+0j)\n",
      "\n",
      "|N=2, k=0, S=0.5, J=2.5, m=0.5>\n",
      "|N=2, k=2, S=0.5, J=2.5, m=0.5>\n",
      "(0.002783640968527849+0j)\n",
      "\n",
      "|N=2, k=1, S=0.5, J=1.5, m=0.5>\n",
      "|N=1, k=-1, S=0.5, J=1.5, m=0.5>\n",
      "(-0.002952497107852096+0j)\n",
      "\n",
      "|N=2, k=1, S=0.5, J=1.5, m=0.5>\n",
      "|N=1, k=1, S=0.5, J=1.5, m=0.5>\n",
      "(-0.0009649688061668114+0j)\n",
      "\n",
      "|N=2, k=1, S=0.5, J=1.5, m=0.5>\n",
      "|N=2, k=-1, S=0.5, J=1.5, m=0.5>\n",
      "(-0.005113874999999999+0j)\n",
      "\n",
      "|N=2, k=1, S=0.5, J=1.5, m=0.5>\n",
      "|N=2, k=1, S=0.5, J=1.5, m=0.5>\n",
      "(-0.058879375000000005+0j)\n",
      "\n",
      "|N=2, k=1, S=0.5, J=2.5, m=0.5>\n",
      "|N=2, k=-1, S=0.5, J=2.5, m=0.5>\n",
      "(0.0034092499999999995+0j)\n",
      "\n",
      "|N=2, k=1, S=0.5, J=2.5, m=0.5>\n",
      "|N=2, k=1, S=0.5, J=2.5, m=0.5>\n",
      "(0.03925291666666667+0j)\n",
      "\n",
      "|N=2, k=2, S=0.5, J=1.5, m=0.5>\n",
      "|N=2, k=0, S=0.5, J=1.5, m=0.5>\n",
      "(-0.004175461452791773+0j)\n",
      "\n",
      "|N=2, k=2, S=0.5, J=1.5, m=0.5>\n",
      "|N=2, k=2, S=0.5, J=1.5, m=0.5>\n",
      "(-0.06055075000000001+0j)\n",
      "\n",
      "|N=2, k=2, S=0.5, J=2.5, m=0.5>\n",
      "|N=2, k=0, S=0.5, J=2.5, m=0.5>\n",
      "(0.002783640968527849+0j)\n",
      "\n",
      "|N=2, k=2, S=0.5, J=2.5, m=0.5>\n",
      "|N=2, k=2, S=0.5, J=2.5, m=0.5>\n",
      "(0.04036716666666667+0j)\n",
      "\n"
     ]
    }
   ],
   "execution_count": 12
  },
  {
   "metadata": {},
   "cell_type": "code",
   "outputs": [],
   "execution_count": null,
   "source": "",
   "id": "dd261a40b2352f3c"
  }
 ],
 "metadata": {
  "kernelspec": {
   "display_name": "Python 3",
   "language": "python",
   "name": "python3"
  },
  "language_info": {
   "codemirror_mode": {
    "name": "ipython",
    "version": 2
   },
   "file_extension": ".py",
   "mimetype": "text/x-python",
   "name": "python",
   "nbconvert_exporter": "python",
   "pygments_lexer": "ipython2",
   "version": "2.7.6"
  }
 },
 "nbformat": 4,
 "nbformat_minor": 5
}
