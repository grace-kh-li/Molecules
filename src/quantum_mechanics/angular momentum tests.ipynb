{
 "cells": [
  {
   "cell_type": "code",
   "id": "initial_id",
   "metadata": {
    "collapsed": true,
    "ExecuteTime": {
     "end_time": "2025-11-01T17:56:07.767556Z",
     "start_time": "2025-11-01T17:56:07.522322Z"
    }
   },
   "source": "from src.quantum_mechanics.AngularMomentum import *",
   "outputs": [],
   "execution_count": 1
  },
  {
   "metadata": {
    "ExecuteTime": {
     "end_time": "2025-11-01T17:56:07.772530Z",
     "start_time": "2025-11-01T17:56:07.770917Z"
    }
   },
   "cell_type": "code",
   "source": "basis = ElectronicSpinBasis((1/2,1/2))",
   "id": "8ec5b9c5e1713e82",
   "outputs": [],
   "execution_count": 2
  },
  {
   "metadata": {
    "ExecuteTime": {
     "end_time": "2025-11-01T18:13:32.534970Z",
     "start_time": "2025-11-01T18:13:32.530471Z"
    }
   },
   "cell_type": "code",
   "source": [
    "from scipy.constants import physical_constants, h\n",
    "physical_constants[\"Bohr magneton\"][0] / h * 1e-9 / 1e4"
   ],
   "id": "c2513342ebafabdb",
   "outputs": [
    {
     "data": {
      "text/plain": [
       "0.0013996244917056908"
      ]
     },
     "execution_count": 31,
     "metadata": {},
     "output_type": "execute_result"
    }
   ],
   "execution_count": 31
  },
  {
   "metadata": {
    "ExecuteTime": {
     "end_time": "2025-11-01T17:59:09.342815Z",
     "start_time": "2025-11-01T17:59:09.340579Z"
    }
   },
   "cell_type": "code",
   "source": "Sm = AngularMomentumOperator(basis, -1)",
   "id": "55fef231c50bc51b",
   "outputs": [],
   "execution_count": 12
  },
  {
   "metadata": {
    "ExecuteTime": {
     "end_time": "2025-11-01T17:55:41.293868Z",
     "start_time": "2025-11-01T17:55:41.289162Z"
    }
   },
   "cell_type": "code",
   "source": [
    "for i1, s1 in enumerate(basis):\n",
    "    J1, m1 = s1.J_total, s1.m_total\n",
    "    for i2, s2 in enumerate(basis):\n",
    "        J2, m2 = s2.J_total, s2.m_total\n",
    "        print(J1, m1)\n",
    "        print(J2, m2)\n",
    "        if s1 == s2 and m1 == m2 + 1:\n",
    "            print(np.sqrt((J2 - m2) * (J2 + m2 + 1)))"
   ],
   "id": "3d7ea120c0217d1c",
   "outputs": [
    {
     "name": "stdout",
     "output_type": "stream",
     "text": [
      "0.5 -0.5\n",
      "0.5 -0.5\n",
      "0.5 -0.5\n",
      "0.5 0.5\n",
      "0.5 0.5\n",
      "0.5 -0.5\n",
      "0.5 0.5\n",
      "0.5 0.5\n"
     ]
    }
   ],
   "execution_count": 14
  },
  {
   "metadata": {},
   "cell_type": "code",
   "outputs": [],
   "execution_count": null,
   "source": "",
   "id": "95d38a872b50afe9"
  }
 ],
 "metadata": {
  "kernelspec": {
   "display_name": "Python 3",
   "language": "python",
   "name": "python3"
  },
  "language_info": {
   "codemirror_mode": {
    "name": "ipython",
    "version": 2
   },
   "file_extension": ".py",
   "mimetype": "text/x-python",
   "name": "python",
   "nbconvert_exporter": "python",
   "pygments_lexer": "ipython2",
   "version": "2.7.6"
  }
 },
 "nbformat": 4,
 "nbformat_minor": 5
}
