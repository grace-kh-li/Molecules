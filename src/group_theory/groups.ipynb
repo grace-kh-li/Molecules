{
 "cells": [
  {
   "metadata": {
    "ExecuteTime": {
     "end_time": "2025-07-22T01:26:43.364543Z",
     "start_time": "2025-07-22T01:26:43.320584Z"
    }
   },
   "cell_type": "code",
   "source": "from src.group_theory.Group import *",
   "id": "5e60f116f6e33f27",
   "outputs": [],
   "execution_count": 1
  },
  {
   "metadata": {
    "ExecuteTime": {
     "end_time": "2025-07-22T01:19:02.581874Z",
     "start_time": "2025-07-22T01:19:02.578562Z"
    }
   },
   "cell_type": "code",
   "source": [
    "C3v = C3vGroup()\n",
    "C3v_A1 = C3v_A1_representation(C3v)\n",
    "C3v_A2 = C3v_A2_representation(C3v)\n",
    "C3v_E = C3v_E_representation(C3v)"
   ],
   "id": "c04f41350d8b3156",
   "outputs": [
    {
     "name": "stdout",
     "output_type": "stream",
     "text": [
      "C3v= {e, C_3, (C_3)^2, σ_v, σ_v', σ_v''}\n",
      "C3v= {e, C_3, (C_3)^2, σ_v, σ_v', σ_v''}\n",
      "C3v= {e, C_3, (C_3)^2, σ_v, σ_v', σ_v''}\n",
      "C3v= {e, C_3, (C_3)^2, σ_v, σ_v', σ_v''}\n",
      "C3v= {e, C_3, (C_3)^2, σ_v, σ_v', σ_v''}\n",
      "C3v= {e, C_3, (C_3)^2, σ_v, σ_v', σ_v''}\n"
     ]
    }
   ],
   "execution_count": 2
  },
  {
   "metadata": {
    "ExecuteTime": {
     "end_time": "2025-07-22T01:19:02.744099Z",
     "start_time": "2025-07-22T01:19:02.737832Z"
    }
   },
   "cell_type": "code",
   "source": "C3v_A2.check_validity()",
   "id": "b442de854ac796e0",
   "outputs": [
    {
     "data": {
      "text/plain": [
       "True"
      ]
     },
     "execution_count": 3,
     "metadata": {},
     "output_type": "execute_result"
    }
   ],
   "execution_count": 3
  },
  {
   "metadata": {
    "ExecuteTime": {
     "end_time": "2025-07-22T01:28:15.139172Z",
     "start_time": "2025-07-22T01:28:15.134855Z"
    }
   },
   "cell_type": "code",
   "source": [
    "C2v = C2vGroup()\n",
    "C2v_A1 = C2v_A1_representation(C2v)\n",
    "C2v_A2 = C2v_A2_representation(C2v)\n",
    "C2v_B1 = C2v_B1_representation(C2v)\n",
    "C2v_B2 = C2v_B2_representation(C2v)"
   ],
   "id": "54094ddc29f2587d",
   "outputs": [
    {
     "name": "stdout",
     "output_type": "stream",
     "text": [
      "C2v= {e, C_2, σ_v(xz), σ_v(yz)}\n",
      "C2v= {e, C_2, σ_v(xz), σ_v(yz)}\n",
      "C2v= {e, C_2, σ_v(xz), σ_v(yz)}\n",
      "C2v= {e, C_2, σ_v(xz), σ_v(yz)}\n",
      "C2v= {e, C_2, σ_v(xz), σ_v(yz)}\n",
      "C2v= {e, C_2, σ_v(xz), σ_v(yz)}\n",
      "C2v= {e, C_2, σ_v(xz), σ_v(yz)}\n",
      "C2v= {e, C_2, σ_v(xz), σ_v(yz)}\n"
     ]
    }
   ],
   "execution_count": 5
  },
  {
   "metadata": {
    "ExecuteTime": {
     "end_time": "2025-07-22T01:28:16.195978Z",
     "start_time": "2025-07-22T01:28:16.191346Z"
    }
   },
   "cell_type": "code",
   "source": "C2v_B2",
   "id": "69925a4370bc7f4e",
   "outputs": [
    {
     "data": {
      "text/plain": [
       "C2v_B2 representation\n",
       "e: [[1]]\n",
       "C_2: [[-1]]\n",
       "σ_v(xz): [[-1]]\n",
       "σ_v(yz): [[1]]"
      ]
     },
     "execution_count": 6,
     "metadata": {},
     "output_type": "execute_result"
    }
   ],
   "execution_count": 6
  },
  {
   "metadata": {
    "ExecuteTime": {
     "end_time": "2025-07-22T01:26:45.833261Z",
     "start_time": "2025-07-22T01:26:45.828473Z"
    }
   },
   "cell_type": "code",
   "source": [
    "Cinfv = CinfvGroup()\n",
    "Cinfv2 = Cinfv_Lambda_representation(2,Cinfv)\n",
    "Cinfv1 = Cinfv_Lambda_representation(1,Cinfv)"
   ],
   "id": "11dc31ed35ff285a",
   "outputs": [
    {
     "name": "stdout",
     "output_type": "stream",
     "text": [
      "Cinfv\n",
      "Cinfv\n"
     ]
    }
   ],
   "execution_count": 2
  },
  {
   "metadata": {
    "ExecuteTime": {
     "end_time": "2025-07-22T01:26:46.396979Z",
     "start_time": "2025-07-22T01:26:46.389622Z"
    }
   },
   "cell_type": "code",
   "source": "Cinfv1 + Cinfv2",
   "id": "2b900d7d4c7060df",
   "outputs": [
    {
     "name": "stdout",
     "output_type": "stream",
     "text": [
      "Cinfv\n"
     ]
    },
    {
     "data": {
      "text/plain": [
       "Cinfv_Λ=1_representation x Cinfv_Λ=2_representation\n",
       "e: [[1 0 0 0]\n",
       " [0 1 0 0]\n",
       " [0 0 1 0]\n",
       " [0 0 0 1]]\n",
       "s: [[0 1 0 0]\n",
       " [1 0 0 0]\n",
       " [0 0 0 1]\n",
       " [0 0 1 0]]\n",
       "Lz: [[-1  0  0  0]\n",
       " [ 0  1  0  0]\n",
       " [ 0  0 -2  0]\n",
       " [ 0  0  0  2]]"
      ]
     },
     "execution_count": 3,
     "metadata": {},
     "output_type": "execute_result"
    }
   ],
   "execution_count": 3
  },
  {
   "metadata": {
    "ExecuteTime": {
     "end_time": "2025-07-22T01:15:44.496222Z",
     "start_time": "2025-07-22T01:15:44.490817Z"
    }
   },
   "cell_type": "code",
   "source": "Cinfv.Lie_algebra[0]",
   "id": "a2ed7409e337f159",
   "outputs": [
    {
     "data": {
      "text/plain": [
       "Lz: \n",
       "[[ 0 -1]\n",
       " [ 1  0]]"
      ]
     },
     "execution_count": 7,
     "metadata": {},
     "output_type": "execute_result"
    }
   ],
   "execution_count": 7
  },
  {
   "metadata": {
    "ExecuteTime": {
     "end_time": "2025-07-22T01:28:17.602008Z",
     "start_time": "2025-07-22T01:28:17.596927Z"
    }
   },
   "cell_type": "code",
   "source": "C2v_B2 + C2v_B2",
   "id": "31caaee3cf8f62a4",
   "outputs": [
    {
     "name": "stdout",
     "output_type": "stream",
     "text": [
      "C2v= {e, C_2, σ_v(xz), σ_v(yz)}\n"
     ]
    },
    {
     "data": {
      "text/plain": [
       "C2v_B2 representation + C2v_B2 representation\n",
       "e: [[1 0]\n",
       " [0 1]]\n",
       "C_2: [[-1  0]\n",
       " [ 0 -1]]\n",
       "σ_v(xz): [[-1  0]\n",
       " [ 0 -1]]\n",
       "σ_v(yz): [[1 0]\n",
       " [0 1]]"
      ]
     },
     "execution_count": 7,
     "metadata": {},
     "output_type": "execute_result"
    }
   ],
   "execution_count": 7
  },
  {
   "metadata": {
    "ExecuteTime": {
     "end_time": "2025-07-22T01:28:18.669099Z",
     "start_time": "2025-07-22T01:28:18.662463Z"
    }
   },
   "cell_type": "code",
   "source": "C2v_B2 * C2v_B2",
   "id": "f202a4bcddc36fce",
   "outputs": [
    {
     "name": "stdout",
     "output_type": "stream",
     "text": [
      "C2v= {e, C_2, σ_v(xz), σ_v(yz)}\n"
     ]
    },
    {
     "data": {
      "text/plain": [
       "C2v_A1 representation\n",
       "e: [[1]]\n",
       "C_2: [[1]]\n",
       "σ_v(xz): [[1]]\n",
       "σ_v(yz): [[1]]"
      ]
     },
     "execution_count": 8,
     "metadata": {},
     "output_type": "execute_result"
    }
   ],
   "execution_count": 8
  },
  {
   "metadata": {},
   "cell_type": "code",
   "outputs": [],
   "execution_count": null,
   "source": "",
   "id": "119d51e44657f0bc"
  }
 ],
 "metadata": {
  "kernelspec": {
   "display_name": "Python 3",
   "language": "python",
   "name": "python3"
  },
  "language_info": {
   "codemirror_mode": {
    "name": "ipython",
    "version": 2
   },
   "file_extension": ".py",
   "mimetype": "text/x-python",
   "name": "python",
   "nbconvert_exporter": "python",
   "pygments_lexer": "ipython2",
   "version": "2.7.6"
  }
 },
 "nbformat": 4,
 "nbformat_minor": 5
}
