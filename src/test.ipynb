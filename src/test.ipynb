{
 "cells": [
  {
   "cell_type": "code",
   "id": "initial_id",
   "metadata": {
    "collapsed": true,
    "ExecuteTime": {
     "end_time": "2025-07-02T01:16:03.307083Z",
     "start_time": "2025-07-02T01:16:03.269435Z"
    }
   },
   "source": [
    "from Group import *\n",
    "\n",
    "rep = C2v_A1_representation()\n",
    "rep.check_validity()"
   ],
   "outputs": [
    {
     "data": {
      "text/plain": [
       "True"
      ]
     },
     "execution_count": 1,
     "metadata": {},
     "output_type": "execute_result"
    }
   ],
   "execution_count": 1
  },
  {
   "metadata": {
    "ExecuteTime": {
     "end_time": "2025-07-01T23:53:05.329753Z",
     "start_time": "2025-07-01T23:53:05.327473Z"
    }
   },
   "cell_type": "code",
   "source": "print(g)",
   "id": "bc7f3ad5f16b05a6",
   "outputs": [
    {
     "name": "stdout",
     "output_type": "stream",
     "text": [
      "C3v= {e, C_3, (C_3)^2, σ_v, σ_v', σ_v''}\n"
     ]
    }
   ],
   "execution_count": 2
  },
  {
   "metadata": {
    "ExecuteTime": {
     "end_time": "2025-07-01T23:57:40.254174Z",
     "start_time": "2025-07-01T23:57:40.249884Z"
    }
   },
   "cell_type": "code",
   "source": [
    "v = g.elements[4]\n",
    "v1 = g.elements[5]\n",
    "print(v1 * v)"
   ],
   "id": "75fcde91d9a852c1",
   "outputs": [
    {
     "name": "stdout",
     "output_type": "stream",
     "text": [
      "C_3\n"
     ]
    }
   ],
   "execution_count": 6
  },
  {
   "metadata": {},
   "cell_type": "code",
   "outputs": [],
   "execution_count": null,
   "source": "",
   "id": "8a75d77b24fd974c"
  }
 ],
 "metadata": {
  "kernelspec": {
   "display_name": "Python 3",
   "language": "python",
   "name": "python3"
  },
  "language_info": {
   "codemirror_mode": {
    "name": "ipython",
    "version": 2
   },
   "file_extension": ".py",
   "mimetype": "text/x-python",
   "name": "python",
   "nbconvert_exporter": "python",
   "pygments_lexer": "ipython2",
   "version": "2.7.6"
  }
 },
 "nbformat": 4,
 "nbformat_minor": 5
}
