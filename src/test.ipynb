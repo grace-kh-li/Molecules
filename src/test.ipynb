{
 "cells": [
  {
   "cell_type": "code",
   "id": "initial_id",
   "metadata": {
    "collapsed": true,
    "ExecuteTime": {
     "end_time": "2025-07-06T16:32:36.559115Z",
     "start_time": "2025-07-06T16:32:36.556177Z"
    }
   },
   "source": [
    "\n",
    "from Group import *\n",
    "\n",
    "rep = Cs_A_double_prime_representation()\n",
    "rep.check_validity()"
   ],
   "outputs": [
    {
     "data": {
      "text/plain": [
       "True"
      ]
     },
     "execution_count": 9,
     "metadata": {},
     "output_type": "execute_result"
    }
   ],
   "execution_count": 9
  },
  {
   "metadata": {
    "ExecuteTime": {
     "end_time": "2025-07-06T16:32:42.824194Z",
     "start_time": "2025-07-06T16:32:42.820414Z"
    }
   },
   "cell_type": "code",
   "source": "print(rep)",
   "id": "8c63c7e4da4b4e09",
   "outputs": [
    {
     "name": "stdout",
     "output_type": "stream",
     "text": [
      "e: [[1]]\n",
      "s: [[-1]]\n",
      "\n"
     ]
    }
   ],
   "execution_count": 10
  },
  {
   "metadata": {
    "ExecuteTime": {
     "end_time": "2025-07-06T16:23:57.447576Z",
     "start_time": "2025-07-06T16:23:57.442933Z"
    }
   },
   "cell_type": "code",
   "source": [
    "c3 = rep.get_matrix(1)\n",
    "c32 = rep.get_matrix(2)\n",
    "v = rep.get_matrix(3)\n",
    "v1 = rep.get_matrix(4)\n",
    "v2 = rep.get_matrix(5)\n",
    "print(v@c3)"
   ],
   "id": "bc7f3ad5f16b05a6",
   "outputs": [
    {
     "name": "stdout",
     "output_type": "stream",
     "text": [
      "[[-0.5       -0.8660254]\n",
      " [-0.8660254  0.5      ]]\n"
     ]
    }
   ],
   "execution_count": 4
  },
  {
   "metadata": {
    "ExecuteTime": {
     "end_time": "2025-07-06T16:27:45.736800Z",
     "start_time": "2025-07-06T16:27:45.732180Z"
    }
   },
   "cell_type": "code",
   "source": [
    "g = C3vGroupAbstract()\n",
    "print(g)\n",
    "c3 = g.get_element(1)\n",
    "v = g.get_element(3)\n",
    "v1 = g.get_element(4)\n",
    "v2 = g.get_element(5)\n",
    "print(c3*v)"
   ],
   "id": "75fcde91d9a852c1",
   "outputs": [
    {
     "name": "stdout",
     "output_type": "stream",
     "text": [
      "C3v= {e, C_3, (C_3)^2, σ_v, σ_v', σ_v''}\n",
      "σ_v''\n"
     ]
    }
   ],
   "execution_count": 11
  },
  {
   "metadata": {},
   "cell_type": "code",
   "source": "np.sum(np.absolute(a))",
   "id": "8a75d77b24fd974c",
   "outputs": [],
   "execution_count": null
  },
  {
   "metadata": {},
   "cell_type": "code",
   "source": "",
   "id": "d554d89f09cedb82",
   "outputs": [],
   "execution_count": null
  }
 ],
 "metadata": {
  "kernelspec": {
   "display_name": "Python 3",
   "language": "python",
   "name": "python3"
  },
  "language_info": {
   "codemirror_mode": {
    "name": "ipython",
    "version": 2
   },
   "file_extension": ".py",
   "mimetype": "text/x-python",
   "name": "python",
   "nbconvert_exporter": "python",
   "pygments_lexer": "ipython2",
   "version": "2.7.6"
  }
 },
 "nbformat": 4,
 "nbformat_minor": 5
}
