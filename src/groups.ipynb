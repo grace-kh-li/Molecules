{
 "cells": [
  {
   "metadata": {},
   "cell_type": "markdown",
   "source": "",
   "id": "4b789bdbb8e1818"
  },
  {
   "metadata": {
    "ExecuteTime": {
     "end_time": "2025-07-11T16:20:26.519030Z",
     "start_time": "2025-07-11T16:20:26.479459Z"
    }
   },
   "cell_type": "code",
   "source": "from Group import *",
   "id": "5e60f116f6e33f27",
   "outputs": [],
   "execution_count": 1
  },
  {
   "metadata": {
    "ExecuteTime": {
     "end_time": "2025-07-11T16:20:26.588047Z",
     "start_time": "2025-07-11T16:20:26.585438Z"
    }
   },
   "cell_type": "code",
   "source": [
    "C3v = C3vGroup()\n",
    "C3v_A1 = C3v_A1_representation(C3v)\n",
    "C3v_A2 = C3v_A2_representation(C3v)\n",
    "C3v_E = C3v_E_representation(C3v)"
   ],
   "id": "c04f41350d8b3156",
   "outputs": [],
   "execution_count": 2
  },
  {
   "metadata": {
    "ExecuteTime": {
     "end_time": "2025-07-11T16:20:26.733223Z",
     "start_time": "2025-07-11T16:20:26.726971Z"
    }
   },
   "cell_type": "code",
   "source": "C3v_A2.check_validity()",
   "id": "b442de854ac796e0",
   "outputs": [
    {
     "data": {
      "text/plain": [
       "True"
      ]
     },
     "execution_count": 3,
     "metadata": {},
     "output_type": "execute_result"
    }
   ],
   "execution_count": 3
  },
  {
   "metadata": {
    "ExecuteTime": {
     "end_time": "2025-07-11T16:20:26.922481Z",
     "start_time": "2025-07-11T16:20:26.918986Z"
    }
   },
   "cell_type": "code",
   "source": [
    "C2v = C2vGroup()\n",
    "C2v_A1 = C2v_A1_representation(C2v)\n",
    "C2v_A2 = C2v_A2_representation(C2v)\n",
    "C2v_B1 = C2v_B1_representation(C2v)\n",
    "C2v_B2 = C2v_B2_representation(C2v)"
   ],
   "id": "54094ddc29f2587d",
   "outputs": [],
   "execution_count": 4
  },
  {
   "metadata": {
    "ExecuteTime": {
     "end_time": "2025-07-11T16:21:01.828731Z",
     "start_time": "2025-07-11T16:21:01.824202Z"
    }
   },
   "cell_type": "code",
   "source": "C2v_B2",
   "id": "69925a4370bc7f4e",
   "outputs": [
    {
     "data": {
      "text/plain": [
       "C2v_B2 representation\n",
       "e: [[1]]\n",
       "C_2: [[-1]]\n",
       "σ_v(xz): [[-1]]\n",
       "σ_v(yz): [[1]]"
      ]
     },
     "execution_count": 8,
     "metadata": {},
     "output_type": "execute_result"
    }
   ],
   "execution_count": 8
  },
  {
   "metadata": {
    "ExecuteTime": {
     "end_time": "2025-07-11T16:20:35.506364Z",
     "start_time": "2025-07-11T16:20:35.500347Z"
    }
   },
   "cell_type": "code",
   "source": [
    "Cinfv = CinfvGroup()\n",
    "Cinfv_Lambda_representation(2,Cinfv)"
   ],
   "id": "11dc31ed35ff285a",
   "outputs": [
    {
     "data": {
      "text/plain": [
       "Cinfv_Λ=2_representation\n",
       "e: [[1 0]\n",
       " [0 1]]\n",
       "s: [[0 1]\n",
       " [1 0]]\n",
       "Lz: [[-2  0]\n",
       " [ 0  2]]"
      ]
     },
     "execution_count": 7,
     "metadata": {},
     "output_type": "execute_result"
    }
   ],
   "execution_count": 7
  },
  {
   "metadata": {
    "ExecuteTime": {
     "end_time": "2025-07-11T16:20:11.916092Z",
     "start_time": "2025-07-11T16:20:11.911510Z"
    }
   },
   "cell_type": "code",
   "source": "Cinfv.Lie_algebra[0]",
   "id": "a2ed7409e337f159",
   "outputs": [
    {
     "data": {
      "text/plain": [
       "Lz: \n",
       "[[ 0 -1]\n",
       " [ 1  0]]"
      ]
     },
     "execution_count": 7,
     "metadata": {},
     "output_type": "execute_result"
    }
   ],
   "execution_count": 7
  },
  {
   "metadata": {},
   "cell_type": "code",
   "outputs": [],
   "execution_count": null,
   "source": "",
   "id": "31caaee3cf8f62a4"
  }
 ],
 "metadata": {
  "kernelspec": {
   "display_name": "Python 3",
   "language": "python",
   "name": "python3"
  },
  "language_info": {
   "codemirror_mode": {
    "name": "ipython",
    "version": 2
   },
   "file_extension": ".py",
   "mimetype": "text/x-python",
   "name": "python",
   "nbconvert_exporter": "python",
   "pygments_lexer": "ipython2",
   "version": "2.7.6"
  }
 },
 "nbformat": 4,
 "nbformat_minor": 5
}
