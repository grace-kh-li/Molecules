{
 "cells": [
  {
   "metadata": {},
   "cell_type": "markdown",
   "source": "",
   "id": "4b789bdbb8e1818"
  },
  {
   "metadata": {
    "ExecuteTime": {
     "end_time": "2025-07-10T14:13:56.256860Z",
     "start_time": "2025-07-10T14:13:56.214293Z"
    }
   },
   "cell_type": "code",
   "source": "from Group import *",
   "id": "5e60f116f6e33f27",
   "outputs": [],
   "execution_count": 1
  },
  {
   "metadata": {
    "ExecuteTime": {
     "end_time": "2025-07-10T14:13:56.365296Z",
     "start_time": "2025-07-10T14:13:56.362632Z"
    }
   },
   "cell_type": "code",
   "source": [
    "C3v = C3vGroupAbstract()\n",
    "A1 = C3v_A1_representation(C3v)\n",
    "A2 = C3v_A2_representation(C3v)\n",
    "E = C3v_E_representation(C3v)"
   ],
   "id": "c04f41350d8b3156",
   "outputs": [],
   "execution_count": 2
  },
  {
   "metadata": {
    "ExecuteTime": {
     "end_time": "2025-07-10T14:14:12.228198Z",
     "start_time": "2025-07-10T14:14:12.223358Z"
    }
   },
   "cell_type": "code",
   "source": "E.check_validity()",
   "id": "b442de854ac796e0",
   "outputs": [
    {
     "data": {
      "text/plain": [
       "True"
      ]
     },
     "execution_count": 7,
     "metadata": {},
     "output_type": "execute_result"
    }
   ],
   "execution_count": 7
  },
  {
   "metadata": {},
   "cell_type": "code",
   "outputs": [],
   "execution_count": null,
   "source": "",
   "id": "54094ddc29f2587d"
  }
 ],
 "metadata": {
  "kernelspec": {
   "display_name": "Python 3",
   "language": "python",
   "name": "python3"
  },
  "language_info": {
   "codemirror_mode": {
    "name": "ipython",
    "version": 2
   },
   "file_extension": ".py",
   "mimetype": "text/x-python",
   "name": "python",
   "nbconvert_exporter": "python",
   "pygments_lexer": "ipython2",
   "version": "2.7.6"
  }
 },
 "nbformat": 4,
 "nbformat_minor": 5
}
