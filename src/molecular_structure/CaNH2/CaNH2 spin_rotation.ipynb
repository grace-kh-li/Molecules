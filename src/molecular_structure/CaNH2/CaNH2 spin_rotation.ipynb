{
 "cells": [
  {
   "metadata": {
    "ExecuteTime": {
     "end_time": "2025-09-17T17:55:34.900243Z",
     "start_time": "2025-09-17T17:55:34.586684Z"
    }
   },
   "cell_type": "code",
   "source": [
    "from src.molecular_structure.molecular_Hamiltonians.Rotational_Hamiltonian import *\n",
    "from src.molecular_structure.RotationalStates import *\n",
    "from src.molecular_structure.HundsCaseB import *\n",
    "from src.molecular_structure.molecular_Hamiltonians.SpinRotation import *"
   ],
   "id": "956e08c35a9fc289",
   "outputs": [],
   "execution_count": 1
  },
  {
   "metadata": {
    "ExecuteTime": {
     "end_time": "2025-09-17T17:55:34.905834Z",
     "start_time": "2025-09-17T17:55:34.903795Z"
    }
   },
   "cell_type": "code",
   "source": [
    "c = 299792458\n",
    "def wavenumber_to_Hz(k):\n",
    "    return k * c * 100\n",
    "def wavenumber_to_GHz(k):\n",
    "    return k * c * 100 / 1e9\n",
    "def Hz_to_wavenumber(f):\n",
    "    return f / 100 / c"
   ],
   "id": "5652f13e2b86994c",
   "outputs": [],
   "execution_count": 2
  },
  {
   "metadata": {},
   "cell_type": "markdown",
   "source": "## Pure rotational structure with Hund's case B",
   "id": "80ab3ebccc0f7bc5"
  },
  {
   "metadata": {
    "ExecuteTime": {
     "end_time": "2025-09-17T17:55:35.577085Z",
     "start_time": "2025-09-17T17:55:35.574152Z"
    }
   },
   "cell_type": "code",
   "source": [
    "basis = HundsCaseB_Basis(N_range=(0,2), S_range=(1/2,1/2),m_range=(1/2,1/2))\n",
    "\n",
    "A = wavenumber_to_GHz(13.05744)\n",
    "BC_avg2 = wavenumber_to_GHz(0.296652) # (B+C)/2\n",
    "BC_diff4 = wavenumber_to_GHz(1.8894e-3) # (B-C)/4\n",
    "H_rot = Rotational_Hamiltonian(basis,A, BC_avg2, BC_diff4)\n",
    "Z = MShiftOperator(basis) * 1e-6 + JShiftOperator(basis) * 1e-5 # liftng the m and J degeneracies so that eigensolver doesn't get confused\n",
    "H = H_rot + Z\n"
   ],
   "id": "54cd70173ec0778e",
   "outputs": [],
   "execution_count": 3
  },
  {
   "metadata": {
    "ExecuteTime": {
     "end_time": "2025-09-17T17:55:41.733647Z",
     "start_time": "2025-09-17T17:55:41.729901Z"
    }
   },
   "cell_type": "code",
   "source": "J_m = STM_LoweringOperator(basis)",
   "id": "56b218ec4ca9eb28",
   "outputs": [],
   "execution_count": 5
  },
  {
   "metadata": {
    "ExecuteTime": {
     "end_time": "2025-09-17T17:55:42.213597Z",
     "start_time": "2025-09-17T17:55:42.204780Z"
    }
   },
   "cell_type": "code",
   "source": [
    "Es, states = H.diagonalize()\n",
    "for s in states:\n",
    "    s.sort()\n",
    "Es"
   ],
   "id": "d08b53cce926e085",
   "outputs": [
    {
     "data": {
      "text/plain": [
       "array([5.50000000e-06, 1.77868120e+01, 1.77868220e+01, 5.33603342e+01,\n",
       "       5.33603442e+01, 4.00232326e+02, 4.00232336e+02, 4.00458898e+02,\n",
       "       4.00458908e+02, 4.35579378e+02, 4.35579388e+02, 4.36259092e+02,\n",
       "       4.36259102e+02, 1.58359564e+03, 1.58359565e+03, 1.58359574e+03,\n",
       "       1.58359575e+03])"
      ]
     },
     "execution_count": 6,
     "metadata": {},
     "output_type": "execute_result"
    }
   ],
   "execution_count": 6
  },
  {
   "metadata": {
    "ExecuteTime": {
     "end_time": "2025-09-17T17:55:43.258291Z",
     "start_time": "2025-09-17T17:55:43.024709Z"
    }
   },
   "cell_type": "code",
   "source": [
    "e_aa = 45.7e-3\n",
    "e_bb = 32.063e-3\n",
    "e_cc = 41.110e-3\n",
    "\n",
    "H_SR = SpinRotationHamiltonian(basis, e_aa, e_bb, e_cc)\n",
    "H = H_rot + H_SR #+ Z\n",
    "X_Es, X_states = H.diagonalize()\n",
    "for s in X_states:\n",
    "    s.sort()"
   ],
   "id": "77d84ff6c886d55",
   "outputs": [],
   "execution_count": 7
  },
  {
   "metadata": {
    "ExecuteTime": {
     "end_time": "2025-09-17T17:55:43.896455Z",
     "start_time": "2025-09-17T17:55:43.891416Z"
    }
   },
   "cell_type": "code",
   "source": "X_states",
   "id": "e9e4cf2c8b2ae63d",
   "outputs": [
    {
     "data": {
      "text/plain": [
       "[φ_0 = 1.00 |N=0, k=0, S=0.5, J=0.5, m=0.5> ,\n",
       " φ_1 = 1.00 |N=1, k=0, S=0.5, J=0.5, m=0.5> ,\n",
       " φ_2 = 1.00 |N=1, k=0, S=0.5, J=1.5, m=0.5> + 1.8e-06 |N=2, k=2, S=0.5, J=1.5, m=0.5> + -1.8e-06 |N=2, k=-2, S=0.5, J=1.5, m=0.5> ,\n",
       " φ_3 = 1.00 |N=2, k=0, S=0.5, J=1.5, m=0.5> + -1.8e-04 |N=2, k=-2, S=0.5, J=1.5, m=0.5> + -1.8e-04 |N=2, k=2, S=0.5, J=1.5, m=0.5> ,\n",
       " φ_4 = 1.00 |N=2, k=0, S=0.5, J=2.5, m=0.5> + -1.8e-04 |N=2, k=-2, S=0.5, J=2.5, m=0.5> + -1.8e-04 |N=2, k=2, S=0.5, J=2.5, m=0.5> ,\n",
       " φ_5 = 0.71 |N=1, k=-1, S=0.5, J=0.5, m=0.5> + -0.71 |N=1, k=1, S=0.5, J=0.5, m=0.5> ,\n",
       " φ_6 = 0.71 |N=1, k=1, S=0.5, J=1.5, m=0.5> + -0.71 |N=1, k=-1, S=0.5, J=1.5, m=0.5> + 3.9e-05 |N=2, k=-1, S=0.5, J=1.5, m=0.5> + 3.9e-05 |N=2, k=1, S=0.5, J=1.5, m=0.5> ,\n",
       " φ_7 = 0.71 |N=1, k=-1, S=0.5, J=0.5, m=0.5> + 0.71 |N=1, k=1, S=0.5, J=0.5, m=0.5> ,\n",
       " φ_8 = 0.71 |N=1, k=-1, S=0.5, J=1.5, m=0.5> + 0.71 |N=1, k=1, S=0.5, J=1.5, m=0.5> + -1.2e-04 |N=2, k=-1, S=0.5, J=1.5, m=0.5> + 1.2e-04 |N=2, k=1, S=0.5, J=1.5, m=0.5> ,\n",
       " φ_9 = 0.71 |N=2, k=-1, S=0.5, J=1.5, m=0.5> + -0.71 |N=2, k=1, S=0.5, J=1.5, m=0.5> + 1.2e-04 |N=1, k=-1, S=0.5, J=1.5, m=0.5> + 1.2e-04 |N=1, k=1, S=0.5, J=1.5, m=0.5> ,\n",
       " φ_10 = 0.71 |N=2, k=-1, S=0.5, J=2.5, m=0.5> + -0.71 |N=2, k=1, S=0.5, J=2.5, m=0.5> ,\n",
       " φ_11 = 0.71 |N=2, k=1, S=0.5, J=1.5, m=0.5> + 0.71 |N=2, k=-1, S=0.5, J=1.5, m=0.5> + 3.9e-05 |N=1, k=-1, S=0.5, J=1.5, m=0.5> + -3.9e-05 |N=1, k=1, S=0.5, J=1.5, m=0.5> ,\n",
       " φ_12 = 0.71 |N=2, k=1, S=0.5, J=2.5, m=0.5> + 0.71 |N=2, k=-1, S=0.5, J=2.5, m=0.5> ,\n",
       " φ_13 = 0.71 |N=2, k=2, S=0.5, J=1.5, m=0.5> + -0.71 |N=2, k=-2, S=0.5, J=1.5, m=0.5> + -2.5e-06 |N=1, k=0, S=0.5, J=1.5, m=0.5> ,\n",
       " φ_14 = 0.71 |N=2, k=-2, S=0.5, J=1.5, m=0.5> + 0.71 |N=2, k=2, S=0.5, J=1.5, m=0.5> + 2.6e-04 |N=2, k=0, S=0.5, J=1.5, m=0.5> ,\n",
       " φ_15 = 0.71 |N=2, k=2, S=0.5, J=2.5, m=0.5> + -0.71 |N=2, k=-2, S=0.5, J=2.5, m=0.5> ,\n",
       " φ_16 = 0.71 |N=2, k=2, S=0.5, J=2.5, m=0.5> + 0.71 |N=2, k=-2, S=0.5, J=2.5, m=0.5> + 2.5e-04 |N=2, k=0, S=0.5, J=2.5, m=0.5> ]"
      ]
     },
     "execution_count": 8,
     "metadata": {},
     "output_type": "execute_result"
    }
   ],
   "execution_count": 8
  },
  {
   "metadata": {
    "ExecuteTime": {
     "end_time": "2025-09-17T17:55:44.600690Z",
     "start_time": "2025-09-17T17:55:44.596598Z"
    }
   },
   "cell_type": "code",
   "source": "X_Es[12]-X_Es[11]",
   "id": "3a9b00ffe8e69864",
   "outputs": [
    {
     "data": {
      "text/plain": [
       "np.float64(0.08960905678821973)"
      ]
     },
     "execution_count": 9,
     "metadata": {},
     "output_type": "execute_result"
    }
   ],
   "execution_count": 9
  },
  {
   "metadata": {
    "ExecuteTime": {
     "end_time": "2025-09-17T17:55:45.642680Z",
     "start_time": "2025-09-17T17:55:45.639795Z"
    }
   },
   "cell_type": "code",
   "source": "X_Es[6] - X_Es[5]",
   "id": "38e84aa9465e9a7d",
   "outputs": [
    {
     "data": {
      "text/plain": [
       "np.float64(0.06510739012128397)"
      ]
     },
     "execution_count": 10,
     "metadata": {},
     "output_type": "execute_result"
    }
   ],
   "execution_count": 10
  },
  {
   "metadata": {
    "ExecuteTime": {
     "end_time": "2025-09-02T23:44:17.132916Z",
     "start_time": "2025-09-02T23:44:17.129176Z"
    }
   },
   "cell_type": "code",
   "source": "463209868.515865 - 463209803.408475",
   "id": "ecd321286d118bf4",
   "outputs": [
    {
     "data": {
      "text/plain": [
       "65.10739004611969"
      ]
     },
     "execution_count": 49,
     "metadata": {},
     "output_type": "execute_result"
    }
   ],
   "execution_count": 49
  },
  {
   "metadata": {
    "ExecuteTime": {
     "end_time": "2025-09-02T23:44:20.878207Z",
     "start_time": "2025-09-02T23:44:20.874191Z"
    }
   },
   "cell_type": "code",
   "source": "X_Es",
   "id": "8264e6e51ae0d8e",
   "outputs": [
    {
     "data": {
      "text/plain": [
       "array([   0.        ,   17.78680645,   53.36031871,  400.23232093,\n",
       "        400.45889208,  435.57936268,  436.25907613, 1583.59561957,\n",
       "       1583.59572021])"
      ]
     },
     "execution_count": 50,
     "metadata": {},
     "output_type": "execute_result"
    }
   ],
   "execution_count": 50
  },
  {
   "metadata": {
    "ExecuteTime": {
     "end_time": "2025-09-03T00:01:21.612392Z",
     "start_time": "2025-09-03T00:01:21.399586Z"
    }
   },
   "cell_type": "code",
   "source": [
    "basis = HundsCaseB_Basis(N_range=(0,2), S_range=(1/2,1/2),m_range=(1/2,1/2))\n",
    "# basis = STM_RotationalBasis(R_range=(0,2), m_range=(0,0))\n",
    "A = wavenumber_to_GHz(14.3664)\n",
    "BC_avg2 = wavenumber_to_GHz(0.301693) # (B+C)/2\n",
    "BC_diff4 = wavenumber_to_GHz(4.68e-3) # (B-C)/4\n",
    "H_rot = Rotational_Hamiltonian(basis,A, BC_avg2, BC_diff4)\n",
    "Z = MShiftOperator(basis) * 1e-6 + JShiftOperator(basis) * 1e-5 # liftng the m and J degeneracies so that eigensolver doesn't get confused\n",
    "H = H_rot + Z\n",
    "e_aa = wavenumber_to_GHz(-7.5472)\n",
    "e_bb = wavenumber_to_GHz(0.00351)\n",
    "e_cc = wavenumber_to_GHz(0.03815)\n",
    "\n",
    "H_SR = SpinRotationHamiltonian(basis, e_aa, e_bb, e_cc)\n",
    "H = H_rot + H_SR #+ Z\n",
    "B_Es, B_states = H.diagonalize()\n",
    "for s in B_states:\n",
    "    s.sort()"
   ],
   "id": "bfc1b7d7c5e58a94",
   "outputs": [],
   "execution_count": 24
  },
  {
   "metadata": {
    "ExecuteTime": {
     "end_time": "2025-09-02T23:34:57.417945Z",
     "start_time": "2025-09-02T23:34:57.415972Z"
    }
   },
   "cell_type": "code",
   "source": [
    "for s in B_states:\n",
    "    print(s)"
   ],
   "id": "38231db3d844235",
   "outputs": [
    {
     "name": "stdout",
     "output_type": "stream",
     "text": [
      "φ_0 = 1.00 |N=0, k=0, S=0.5, J=0.5, m=0.5> \n",
      "φ_1 = 1.00 |N=1, k=0, S=0.5, J=0.5, m=0.5> \n",
      "φ_2 = 1.00 |N=1, k=0, S=0.5, J=1.5, m=0.5> + 1.6e-04 |N=2, k=2, S=0.5, J=1.5, m=0.5> + -1.6e-04 |N=2, k=-2, S=0.5, J=1.5, m=0.5> \n",
      "φ_3 = 1.00 |N=2, k=0, S=0.5, J=1.5, m=0.5> + -5.3e-04 |N=2, k=2, S=0.5, J=1.5, m=0.5> + -5.3e-04 |N=2, k=-2, S=0.5, J=1.5, m=0.5> \n",
      "φ_4 = 1.00 |N=2, k=0, S=0.5, J=2.5, m=0.5> + -3.1e-04 |N=2, k=2, S=0.5, J=2.5, m=0.5> + -3.1e-04 |N=2, k=-2, S=0.5, J=2.5, m=0.5> \n",
      "φ_5 = 0.63 |N=1, k=-1, S=0.5, J=1.5, m=0.5> + -0.63 |N=1, k=1, S=0.5, J=1.5, m=0.5> + 0.31 |N=2, k=-1, S=0.5, J=1.5, m=0.5> + 0.31 |N=2, k=1, S=0.5, J=1.5, m=0.5> \n",
      "φ_6 = 0.63 |N=1, k=1, S=0.5, J=1.5, m=0.5> + 0.63 |N=1, k=-1, S=0.5, J=1.5, m=0.5> + -0.32 |N=2, k=1, S=0.5, J=1.5, m=0.5> + 0.32 |N=2, k=-1, S=0.5, J=1.5, m=0.5> \n",
      "φ_7 = 0.71 |N=2, k=-1, S=0.5, J=2.5, m=0.5> + -0.71 |N=2, k=1, S=0.5, J=2.5, m=0.5> \n",
      "φ_8 = 0.71 |N=2, k=1, S=0.5, J=2.5, m=0.5> + 0.71 |N=2, k=-1, S=0.5, J=2.5, m=0.5> \n",
      "φ_9 = 0.71 |N=1, k=-1, S=0.5, J=0.5, m=0.5> + -0.71 |N=1, k=1, S=0.5, J=0.5, m=0.5> \n",
      "φ_10 = 0.71 |N=1, k=-1, S=0.5, J=0.5, m=0.5> + 0.71 |N=1, k=1, S=0.5, J=0.5, m=0.5> \n",
      "φ_11 = 0.63 |N=2, k=1, S=0.5, J=1.5, m=0.5> + -0.63 |N=2, k=-1, S=0.5, J=1.5, m=0.5> + 0.32 |N=1, k=1, S=0.5, J=1.5, m=0.5> + 0.32 |N=1, k=-1, S=0.5, J=1.5, m=0.5> \n",
      "φ_12 = 0.63 |N=2, k=-1, S=0.5, J=1.5, m=0.5> + 0.63 |N=2, k=1, S=0.5, J=1.5, m=0.5> + -0.31 |N=1, k=-1, S=0.5, J=1.5, m=0.5> + 0.31 |N=1, k=1, S=0.5, J=1.5, m=0.5> \n",
      "φ_13 = 0.71 |N=2, k=2, S=0.5, J=2.5, m=0.5> + -0.71 |N=2, k=-2, S=0.5, J=2.5, m=0.5> \n",
      "φ_14 = 0.71 |N=2, k=2, S=0.5, J=2.5, m=0.5> + 0.71 |N=2, k=-2, S=0.5, J=2.5, m=0.5> + 4.4e-04 |N=2, k=0, S=0.5, J=2.5, m=0.5> \n",
      "φ_15 = 0.71 |N=2, k=2, S=0.5, J=1.5, m=0.5> + -0.71 |N=2, k=-2, S=0.5, J=1.5, m=0.5> + -2.3e-04 |N=1, k=0, S=0.5, J=1.5, m=0.5> \n",
      "φ_16 = 0.71 |N=2, k=-2, S=0.5, J=1.5, m=0.5> + 0.71 |N=2, k=2, S=0.5, J=1.5, m=0.5> + 7.4e-04 |N=2, k=0, S=0.5, J=1.5, m=0.5> \n"
     ]
    }
   ],
   "execution_count": 24
  },
  {
   "metadata": {
    "ExecuteTime": {
     "end_time": "2025-09-03T19:47:26.059891Z",
     "start_time": "2025-09-03T19:47:26.055350Z"
    }
   },
   "cell_type": "code",
   "source": [
    "E_B = (wavenumber_to_Hz(15885.28188) - 110e6)/1e9 # X to B spacing\n",
    "B_000 = B_Es[0]\n",
    "X_110 = X_Es[8]\n",
    "print(\"X to B cycling transition= {:.6f} THz\".format((B_000 + E_B - X_110)*1e-3))"
   ],
   "id": "a94250300cb1dba7",
   "outputs": [
    {
     "name": "stdout",
     "output_type": "stream",
     "text": [
      "X to B cycling transition= 475.828182 THz\n"
     ]
    }
   ],
   "execution_count": 53
  },
  {
   "metadata": {
    "ExecuteTime": {
     "end_time": "2025-09-03T19:47:30.236403Z",
     "start_time": "2025-09-03T19:47:30.233023Z"
    }
   },
   "cell_type": "code",
   "source": [
    "B_101 = B_Es[1]\n",
    "X_111 = X_Es[6]\n",
    "print(\"X(111)-B(101)= {:.6f} THz\".format((B_101 + E_B - X_111)*1e-3))"
   ],
   "id": "5c205340ed6b23af",
   "outputs": [
    {
     "name": "stdout",
     "output_type": "stream",
     "text": [
      "X(111)-B(101)= 475.845871 THz\n"
     ]
    }
   ],
   "execution_count": 54
  },
  {
   "metadata": {
    "ExecuteTime": {
     "end_time": "2025-09-03T20:11:45.875586Z",
     "start_time": "2025-09-03T20:11:45.871651Z"
    }
   },
   "cell_type": "code",
   "source": "(B_101 + E_B - X_111)*1e-3 - (B_000 + E_B - X_110)*1e-3 + 457.472375",
   "id": "36387ba0445454f6",
   "outputs": [
    {
     "data": {
      "text/plain": [
       "np.float64(457.4900638980291)"
      ]
     },
     "execution_count": 57,
     "metadata": {},
     "output_type": "execute_result"
    }
   ],
   "execution_count": 57
  },
  {
   "metadata": {
    "ExecuteTime": {
     "end_time": "2025-09-03T00:08:43.388567Z",
     "start_time": "2025-09-03T00:08:43.384564Z"
    }
   },
   "cell_type": "code",
   "source": "wavenumber_to_GHz(0.001)",
   "id": "cd006aee8a1180fe",
   "outputs": [
    {
     "data": {
      "text/plain": [
       "0.0299792458"
      ]
     },
     "execution_count": 32,
     "metadata": {},
     "output_type": "execute_result"
    }
   ],
   "execution_count": 32
  },
  {
   "metadata": {},
   "cell_type": "code",
   "outputs": [],
   "execution_count": null,
   "source": "",
   "id": "3419d7cf9f06b080"
  }
 ],
 "metadata": {
  "kernelspec": {
   "display_name": "Python 3",
   "language": "python",
   "name": "python3"
  },
  "language_info": {
   "codemirror_mode": {
    "name": "ipython",
    "version": 2
   },
   "file_extension": ".py",
   "mimetype": "text/x-python",
   "name": "python",
   "nbconvert_exporter": "python",
   "pygments_lexer": "ipython2",
   "version": "2.7.6"
  }
 },
 "nbformat": 4,
 "nbformat_minor": 5
}
