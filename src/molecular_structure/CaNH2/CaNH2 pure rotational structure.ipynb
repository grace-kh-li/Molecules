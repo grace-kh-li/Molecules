{
 "cells": [
  {
   "cell_type": "code",
   "id": "initial_id",
   "metadata": {
    "collapsed": true,
    "ExecuteTime": {
     "end_time": "2025-09-21T23:48:54.062529Z",
     "start_time": "2025-09-21T23:48:53.603251Z"
    }
   },
   "source": [
    "from src.molecular_structure.RotationalStates import *\n",
    "import numpy as np\n",
    "import matplotlib.pyplot as plt"
   ],
   "outputs": [],
   "execution_count": 1
  },
  {
   "metadata": {
    "ExecuteTime": {
     "end_time": "2025-09-21T23:48:54.067210Z",
     "start_time": "2025-09-21T23:48:54.065066Z"
    }
   },
   "cell_type": "code",
   "source": [
    "def wavenumber_to_Hz(k):\n",
    "    return k * 299792458 * 100\n",
    "def wavenumber_to_GHz(k):\n",
    "    return k * 299792458 * 100 / 1e9"
   ],
   "id": "29b5f28fad0db250",
   "outputs": [],
   "execution_count": 2
  },
  {
   "metadata": {
    "ExecuteTime": {
     "end_time": "2025-09-21T23:48:54.072247Z",
     "start_time": "2025-09-21T23:48:54.070826Z"
    }
   },
   "cell_type": "code",
   "source": "",
   "id": "4b0c8eebcbfa4cda",
   "outputs": [],
   "execution_count": null
  },
  {
   "metadata": {},
   "cell_type": "markdown",
   "source": "## Method 1 (for pure rotational states): use ATM_RotationalBasis",
   "id": "427a8108659d9a17"
  },
  {
   "metadata": {},
   "cell_type": "markdown",
   "source": [
    "### CaNH2\n",
    "Rotational constants from Morbi, Zhao, Bernath, JCP 1997\n",
    "\n",
    "X state:"
   ],
   "id": "71d3a194abb6cb36"
  },
  {
   "metadata": {
    "ExecuteTime": {
     "end_time": "2025-09-21T23:48:54.560632Z",
     "start_time": "2025-09-21T23:48:54.557498Z"
    }
   },
   "cell_type": "code",
   "source": [
    "A = wavenumber_to_GHz(13.05744)\n",
    "BC_avg2 = wavenumber_to_GHz(0.296652) # (B+C)/2\n",
    "BC_diff4 = wavenumber_to_GHz(1.8894e-3) # (B-C)/4\n",
    "rot_basis_X = ATM_RotationalBasis(A,BC_avg2,BC_diff4,R_range=(0,2),m_range=(0,0))"
   ],
   "id": "1958e33936d1577d",
   "outputs": [],
   "execution_count": 3
  },
  {
   "metadata": {
    "ExecuteTime": {
     "end_time": "2025-09-21T23:48:54.925208Z",
     "start_time": "2025-09-21T23:48:54.922374Z"
    }
   },
   "cell_type": "code",
   "source": "rot_basis_X[3].show_composition()",
   "id": "e31845263507a8d8",
   "outputs": [
    {
     "name": "stdout",
     "output_type": "stream",
     "text": [
      "|N=1, k_a=1, k_c=0, mN=0> = 0.71 |N=1, k=1, mN=0> + 0.71 |N=1, k=-1, mN=0> \n"
     ]
    }
   ],
   "execution_count": 4
  },
  {
   "metadata": {
    "ExecuteTime": {
     "end_time": "2025-09-21T23:48:57.474621Z",
     "start_time": "2025-09-21T23:48:57.469181Z"
    }
   },
   "cell_type": "code",
   "source": "rot_basis_X[3].E - rot_basis_X[2].E",
   "id": "502ba275a2d3d427",
   "outputs": [
    {
     "data": {
      "text/plain": [
       "np.float64(0.22657114805804213)"
      ]
     },
     "execution_count": 5,
     "metadata": {},
     "output_type": "execute_result"
    }
   ],
   "execution_count": 5
  },
  {
   "metadata": {
    "ExecuteTime": {
     "end_time": "2025-09-21T23:50:06.406344Z",
     "start_time": "2025-09-21T23:50:06.402591Z"
    }
   },
   "cell_type": "code",
   "source": "rot_basis_X[1].E",
   "id": "d5e37737f672d3da",
   "outputs": [
    {
     "data": {
      "text/plain": [
       "np.float64(17.786806450123205)"
      ]
     },
     "execution_count": 7,
     "metadata": {},
     "output_type": "execute_result"
    }
   ],
   "execution_count": 7
  },
  {
   "metadata": {},
   "cell_type": "markdown",
   "source": "States in the Ka=1 Stack in X state",
   "id": "eed483806c3498a2"
  },
  {
   "metadata": {
    "ExecuteTime": {
     "end_time": "2025-09-21T23:44:05.665048Z",
     "start_time": "2025-09-21T23:44:05.662330Z"
    }
   },
   "cell_type": "code",
   "source": [
    "\n",
    "rot_basis_X = ATM_RotationalBasis(A,BC_avg2,BC_diff4,R_range=(0,2),m_range=(0,0))\n",
    "\n",
    "ka1_X = rot_basis_X.get_ka_subspace(1)\n",
    "for b in ka1_X:\n",
    "    print(b)\n",
    "    print(f\"{b.E:.6f} GHz\")\n",
    "    print()"
   ],
   "id": "f6f275e311bfed68",
   "outputs": [
    {
     "name": "stdout",
     "output_type": "stream",
     "text": [
      "|N=1, k_a=1, k_c=1, mN=0>\n",
      "400.345607 GHz\n",
      "\n",
      "|N=1, k_a=1, k_c=0, mN=0>\n",
      "400.345607 GHz\n",
      "\n",
      "|N=2, k_a=1, k_c=2, mN=0>\n",
      "435.919219 GHz\n",
      "\n",
      "|N=2, k_a=1, k_c=1, mN=0>\n",
      "435.919219 GHz\n",
      "\n"
     ]
    }
   ],
   "execution_count": 8
  },
  {
   "metadata": {},
   "cell_type": "code",
   "source": "",
   "id": "aa75d87dbf5e571e",
   "outputs": [],
   "execution_count": null
  },
  {
   "metadata": {},
   "cell_type": "code",
   "source": [
    "ka1_X = rot_basis_X.get_ka_subspace(1)\n",
    "for b in ka1_X:\n",
    "    print(b)\n",
    "    print(f\"{b.E:.6f} GHz\")\n",
    "    print()"
   ],
   "id": "dafc9b2f9fa10e16",
   "outputs": [],
   "execution_count": null
  },
  {
   "metadata": {},
   "cell_type": "code",
   "source": [
    "for b in rot_basis_X:\n",
    "    print(b)"
   ],
   "id": "7f79ab20967e4ec9",
   "outputs": [],
   "execution_count": null
  },
  {
   "metadata": {},
   "cell_type": "code",
   "source": [
    "for b in rot_basis_X:\n",
    "    print(b.E)"
   ],
   "id": "39022323cb8b9548",
   "outputs": [],
   "execution_count": null
  },
  {
   "metadata": {},
   "cell_type": "markdown",
   "source": "A state:",
   "id": "7c918854a4c1c6e3"
  },
  {
   "metadata": {},
   "cell_type": "code",
   "source": [
    "E_A = (wavenumber_to_Hz(15464.36739)-149e6)/1e9 # X to A spacing, modified to fit experiment\n",
    "A_A = wavenumber_to_GHz(11.44854)\n",
    "BC_avg2_A = wavenumber_to_GHz(0.303107) # (B+C)/2\n",
    "BC_diff4_A = wavenumber_to_GHz(1.958e-3) # (B-C)/4\n",
    "rot_basis_A = ATM_RotationalBasis(A_A,BC_avg2_A,BC_diff4_A,R_range=(0,5), m_range=(0,0), extra_label=\"A\")"
   ],
   "id": "ac1c6ef164f8e1fd",
   "outputs": [],
   "execution_count": null
  },
  {
   "metadata": {},
   "cell_type": "code",
   "source": [
    "# ka0_A = rot_basis_A.get_ka_subspace(0)\n",
    "# for b in ka0_A:\n",
    "#     print(b)\n",
    "#     print(f\"{b.E:.2f} GHz\")\n",
    "#     print()"
   ],
   "id": "f6170bfa0bd4910b",
   "outputs": [],
   "execution_count": null
  },
  {
   "metadata": {},
   "cell_type": "code",
   "source": [
    "X_111 = rot_basis_X.get_state(1,1,1)\n",
    "A_000 = rot_basis_A.get_state(0,0,0)\n",
    "mainline = A_000.E - X_111.E + E_A\n",
    "print(f\"X-A cycling transition: {mainline * 1e-3:.6f} THz\")"
   ],
   "id": "801524c831b021df",
   "outputs": [],
   "execution_count": null
  },
  {
   "metadata": {},
   "cell_type": "code",
   "source": [
    "# for rot_state_A in rot_basis_A:\n",
    "#     for rot_state_X in rot_basis_X:\n",
    "#         if abs(rot_state_A.ka - rot_state_X.ka) == 1 and abs(rot_state_A.kc - rot_state_X.kc) == 1 and abs(rot_state_A.R - rot_state_X.R) <= 1: # b-type\n",
    "#             delta_E = rot_state_A.E - rot_state_X.E - mainline\n",
    "#             if abs(delta_E) < 40:\n",
    "#                 print(f\"{rot_state_X.label} -> {rot_state_A.label}: {delta_E}\")"
   ],
   "id": "4ab3fb6ae80e0492",
   "outputs": [],
   "execution_count": null
  },
  {
   "metadata": {
    "ExecuteTime": {
     "end_time": "2025-08-28T18:56:35.026881Z",
     "start_time": "2025-08-28T18:56:35.024258Z"
    }
   },
   "cell_type": "markdown",
   "source": "B State",
   "id": "6bb67f37182eae58"
  },
  {
   "metadata": {},
   "cell_type": "code",
   "source": [
    "E_B = (wavenumber_to_Hz(15885.28188)-129e6)/1e9 # X to B spacing\n",
    "A_B = wavenumber_to_GHz(14.3664)\n",
    "BC_avg2_B = wavenumber_to_GHz(0.301693) # (B+C)/2\n",
    "BC_diff4_B = wavenumber_to_GHz(4.68e-3) # (B-C)/4\n",
    "rot_basis_B = ATM_RotationalBasis(A_A,BC_avg2_A,BC_diff4_A,R_range=(0,5), m_range=(0,0), extra_label=\"B\")"
   ],
   "id": "56d286d7dd9f6101",
   "outputs": [],
   "execution_count": null
  },
  {
   "metadata": {},
   "cell_type": "code",
   "source": "print(rot_basis_B)",
   "id": "e99d1609e50e948b",
   "outputs": [],
   "execution_count": null
  },
  {
   "metadata": {},
   "cell_type": "code",
   "source": [
    "B_202 = rot_basis_B.get_state(2,0,2)\n",
    "print(B_202.E - B_000.E)"
   ],
   "id": "b3e50cf7ca03abe6",
   "outputs": [],
   "execution_count": null
  },
  {
   "metadata": {},
   "cell_type": "code",
   "source": [
    "X_110 = rot_basis_X.get_state(1,1,0)\n",
    "B_000 = rot_basis_B.get_state(0,0,0)\n",
    "mainline1 = B_000.E - X_110.E + E_B\n",
    "print(f\"X-B cycling transition: {mainline1 * 1e-3:.6f} THz\")"
   ],
   "id": "5f1bcd95f57c148",
   "outputs": [],
   "execution_count": null
  },
  {
   "metadata": {},
   "cell_type": "code",
   "source": [
    "X_211 = rot_basis_X.get_state(2,1,1)\n",
    "X_211.E - X_111.E"
   ],
   "id": "1e437f08e771edcc",
   "outputs": [],
   "execution_count": null
  },
  {
   "metadata": {},
   "cell_type": "code",
   "source": "457.472375 + 226.57e-6 + 18.1738e-3",
   "id": "803a3700ee3f0d74",
   "outputs": [],
   "execution_count": null
  },
  {
   "metadata": {},
   "cell_type": "code",
   "source": [
    "X_111 = rot_basis_X.get_state(1,1,1)\n",
    "B_101 = rot_basis_B.get_state(1,0,1)\n",
    "v2 = B_101.E - X_111.E + E_B - mainline1 + 457.472375e3\n",
    "print(f\"X-B v=2 repump transition: {v2 * 1e-3:.6f} THz\")"
   ],
   "id": "9b580007ef08cb45",
   "outputs": [],
   "execution_count": null
  },
  {
   "metadata": {},
   "cell_type": "code",
   "source": [
    "X_211 = rot_basis_X.get_state(2,1,1)\n",
    "B_101 = rot_basis_B.get_state(1,0,1)\n",
    "line2 = B_101.E - X_211.E + E_B\n",
    "print(f\"X-B rotational repump: {line2 * 1e-3:.6f} THz\")"
   ],
   "id": "f6e7824c21bbceb",
   "outputs": [],
   "execution_count": null
  },
  {
   "metadata": {},
   "cell_type": "code",
   "source": "(line2 - mainline1)",
   "id": "ecc8e92b4556074b",
   "outputs": [],
   "execution_count": null
  },
  {
   "metadata": {},
   "cell_type": "code",
   "source": "X_211.E - X_111.E",
   "id": "3dce728f92aa1af4",
   "outputs": [],
   "execution_count": null
  },
  {
   "metadata": {},
   "cell_type": "code",
   "source": "475.82818 - 17.62e-3",
   "id": "8173917fe1f7a603",
   "outputs": [],
   "execution_count": null
  },
  {
   "metadata": {},
   "cell_type": "code",
   "source": "",
   "id": "441a2e3e4e8e045",
   "outputs": [],
   "execution_count": null
  },
  {
   "metadata": {},
   "cell_type": "markdown",
   "source": "### k-doublet spacing vs. ATM term",
   "id": "d06b1b08344b16bf"
  },
  {
   "metadata": {},
   "cell_type": "code",
   "source": [
    "A = 391.45 #GHz\n",
    "B = 9.0067\n",
    "C = 8.7801\n",
    "basis = ATM_RotationalBasis(A,B,C,R_range=(0,5), m_range=(0,0), extra_label=\"X\")\n",
    "xs = np.linspace(0,8,50)\n",
    "ys = []\n",
    "for i, x in enumerate(xs):\n",
    "    basis = ATM_RotationalBasis(A,B+x,C-x,R_range=(1,1), m_range=(0,0))\n",
    "    ys.append(basis.basis_vectors[2].E - basis.basis_vectors[1].E)\n",
    "plt.plot(xs, ys, \"r.-\")\n",
    "plt.show()"
   ],
   "id": "a15964aeb14758a4",
   "outputs": [],
   "execution_count": null
  },
  {
   "metadata": {},
   "cell_type": "code",
   "source": "",
   "id": "aebe8e6226cf358b",
   "outputs": [],
   "execution_count": null
  },
  {
   "metadata": {},
   "cell_type": "code",
   "source": [
    "a = np.array([1,2,3])\n",
    "a.shape == (3,)"
   ],
   "id": "8dac29b70a4d80bf",
   "outputs": [],
   "execution_count": null
  },
  {
   "metadata": {},
   "cell_type": "code",
   "source": "",
   "id": "6a9c19e2bf92907e",
   "outputs": [],
   "execution_count": null
  }
 ],
 "metadata": {
  "kernelspec": {
   "display_name": "Python 3",
   "language": "python",
   "name": "python3"
  },
  "language_info": {
   "codemirror_mode": {
    "name": "ipython",
    "version": 2
   },
   "file_extension": ".py",
   "mimetype": "text/x-python",
   "name": "python",
   "nbconvert_exporter": "python",
   "pygments_lexer": "ipython2",
   "version": "2.7.6"
  }
 },
 "nbformat": 4,
 "nbformat_minor": 5
}
