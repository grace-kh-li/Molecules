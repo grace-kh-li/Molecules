{
 "cells": [
  {
   "cell_type": "code",
   "id": "initial_id",
   "metadata": {
    "collapsed": true,
    "ExecuteTime": {
     "end_time": "2025-09-19T23:15:54.377296Z",
     "start_time": "2025-09-19T23:15:54.128322Z"
    }
   },
   "source": [
    "from src.molecular_structure.VibronicStates import VibronicState\n",
    "from src.molecular_structure.RotationalStates import STM_RotationalBasis\n",
    "from src.quantum_mechanics.Basis import OrthogonalBasis\n",
    "from src.molecular_structure.molecular_Hamiltonians.Rotational_Hamiltonian import *"
   ],
   "outputs": [],
   "execution_count": 1
  },
  {
   "metadata": {
    "ExecuteTime": {
     "end_time": "2025-09-19T23:15:54.384883Z",
     "start_time": "2025-09-19T23:15:54.381464Z"
    }
   },
   "cell_type": "code",
   "source": [
    "from src.group_theory.Group import *\n",
    "\n",
    "\n",
    "def wavenumber_to_Hz(k):\n",
    "    if isinstance(k, list):\n",
    "        return [wavenumber_to_Hz(item) for item in k]\n",
    "    if isinstance(k, dict):\n",
    "        return {key: wavenumber_to_Hz(k[key]) for key in k}\n",
    "    return k * 299792458 * 100\n",
    "\n",
    "def wavenumber_to_GHz(k):\n",
    "    if isinstance(k, list):\n",
    "        return [wavenumber_to_GHz(item) for item in k]\n",
    "    if isinstance(k, dict):\n",
    "        return {key: wavenumber_to_GHz(k[key]) for key in k}\n",
    "    return k * 299792458 * 100 / 1e9\n",
    "\n",
    "group = C2vGroup()\n",
    "A1 = C2v_A1_representation(group)\n",
    "A2 = C2v_A2_representation(group)\n",
    "B1 = C2v_B1_representation(group)\n",
    "B2 = C2v_B2_representation(group)"
   ],
   "id": "c6620d6a111c085",
   "outputs": [],
   "execution_count": 2
  },
  {
   "metadata": {
    "ExecuteTime": {
     "end_time": "2025-09-19T23:16:03.398645Z",
     "start_time": "2025-09-19T23:16:03.386658Z"
    }
   },
   "cell_type": "code",
   "source": [
    "X = VibronicState(\"X\", symmetry_group=group, irrep = A1)\n",
    "A = VibronicState(\"A\", symmetry_group=group, irrep= B2)\n",
    "vibronic_basis = OrthogonalBasis([X,A],\"Electronic\")\n",
    "\n",
    "rot_basis = STM_RotationalBasis(R_range=(0,2))\n",
    "\n",
    "evr_basis = rot_basis * vibronic_basis\n",
    "\n",
    "evr_basis[0].tensor_components"
   ],
   "id": "672efb8b62ac1257",
   "outputs": [
    {
     "data": {
      "text/plain": [
       "[|R=0, k=0, mR=0>, |elec=X>]"
      ]
     },
     "execution_count": 4,
     "metadata": {},
     "output_type": "execute_result"
    }
   ],
   "execution_count": 4
  },
  {
   "metadata": {
    "ExecuteTime": {
     "end_time": "2025-09-19T23:16:03.767895Z",
     "start_time": "2025-09-19T23:16:03.653427Z"
    }
   },
   "cell_type": "code",
   "source": [
    "A_dict = {}\n",
    "BC_avg2_dict = {}\n",
    "BC_diff4_dict = {}\n",
    "\n",
    "# X state constants\n",
    "A_dict[\"X\"] = 13.05744\n",
    "BC_avg2_dict[\"X\"] = 0.296652\n",
    "BC_diff4_dict[\"X\"] = 1.8894e-3\n",
    "\n",
    "\n",
    "# A state constants\n",
    "A_dict[\"A\"] = 11.44854\n",
    "BC_avg2_dict[\"A\"] = 0.303107\n",
    "BC_diff4_dict[\"A\"] = 1.958e-3\n",
    "\n",
    "# B state constants\n",
    "A_dict[\"B\"] = 14.3664\n",
    "BC_avg2_dict[\"B\"] = 0.301693\n",
    "BC_diff4_dict[\"B\"] = 4.68e-3\n",
    "\n",
    "H_rot = Rotational_Hamiltonian_evr(evr_basis,A_dict,BC_avg2_dict,BC_diff4_dict)"
   ],
   "id": "70cc44ff9ec926f0",
   "outputs": [
    {
     "ename": "KeyError",
     "evalue": "'elec=X'",
     "output_type": "error",
     "traceback": [
      "\u001B[31m---------------------------------------------------------------------------\u001B[39m",
      "\u001B[31mKeyError\u001B[39m                                  Traceback (most recent call last)",
      "\u001B[36mCell\u001B[39m\u001B[36m \u001B[39m\u001B[32mIn[5]\u001B[39m\u001B[32m, line 21\u001B[39m\n\u001B[32m     18\u001B[39m BC_avg2_dict[\u001B[33m\"\u001B[39m\u001B[33mB\u001B[39m\u001B[33m\"\u001B[39m] = \u001B[32m0.301693\u001B[39m\n\u001B[32m     19\u001B[39m BC_diff4_dict[\u001B[33m\"\u001B[39m\u001B[33mB\u001B[39m\u001B[33m\"\u001B[39m] = \u001B[32m4.68e-3\u001B[39m\n\u001B[32m---> \u001B[39m\u001B[32m21\u001B[39m H_rot = \u001B[43mRotational_Hamiltonian_evr\u001B[49m\u001B[43m(\u001B[49m\u001B[43mevr_basis\u001B[49m\u001B[43m,\u001B[49m\u001B[43mA_dict\u001B[49m\u001B[43m,\u001B[49m\u001B[43mBC_avg2_dict\u001B[49m\u001B[43m,\u001B[49m\u001B[43mBC_diff4_dict\u001B[49m\u001B[43m)\u001B[49m\n",
      "\u001B[36mFile \u001B[39m\u001B[32m~/PycharmProjects/Molecules/src/molecular_structure/molecular_Hamiltonians/Rotational_Hamiltonian.py:34\u001B[39m, in \u001B[36mRotational_Hamiltonian_evr.__init__\u001B[39m\u001B[34m(self, basis, A_dict, BC_avg2_dict, BC_diff4_dict)\u001B[39m\n\u001B[32m     32\u001B[39m \u001B[38;5;28;01mfor\u001B[39;00m ev_state \u001B[38;5;129;01min\u001B[39;00m vibronic_basis:\n\u001B[32m     33\u001B[39m     elec = ev_state.label\n\u001B[32m---> \u001B[39m\u001B[32m34\u001B[39m     rot_Hamiltonians[elec] = Rotational_Hamiltonian(rot_basis, \u001B[43mA_dict\u001B[49m\u001B[43m[\u001B[49m\u001B[43melec\u001B[49m\u001B[43m]\u001B[49m, BC_avg2_dict[elec], BC_diff4_dict[elec])\n\u001B[32m     36\u001B[39m matrix = np.zeros((basis.dimension, basis.dimension),dtype=np.complex128)\n\u001B[32m     37\u001B[39m \u001B[38;5;28;01mfor\u001B[39;00m i, b \u001B[38;5;129;01min\u001B[39;00m \u001B[38;5;28menumerate\u001B[39m(basis):\n",
      "\u001B[31mKeyError\u001B[39m: 'elec=X'"
     ]
    }
   ],
   "execution_count": 5
  },
  {
   "metadata": {},
   "cell_type": "code",
   "outputs": [],
   "execution_count": null,
   "source": "",
   "id": "649cd848587e30fd"
  }
 ],
 "metadata": {
  "kernelspec": {
   "display_name": "Python 3",
   "language": "python",
   "name": "python3"
  },
  "language_info": {
   "codemirror_mode": {
    "name": "ipython",
    "version": 2
   },
   "file_extension": ".py",
   "mimetype": "text/x-python",
   "name": "python",
   "nbconvert_exporter": "python",
   "pygments_lexer": "ipython2",
   "version": "2.7.6"
  }
 },
 "nbformat": 4,
 "nbformat_minor": 5
}
