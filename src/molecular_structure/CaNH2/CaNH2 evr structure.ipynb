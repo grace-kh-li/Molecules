{
 "cells": [
  {
   "metadata": {},
   "cell_type": "markdown",
   "source": "# CaNH2 structure including vibronic, rotational and electronic spin",
   "id": "2c2d384567541ae3"
  },
  {
   "metadata": {},
   "cell_type": "markdown",
   "source": "### Import functions classes, define symmetry group",
   "id": "ab296186d2d00338"
  },
  {
   "metadata": {
    "collapsed": true,
    "ExecuteTime": {
     "end_time": "2025-11-01T18:28:15.820392Z",
     "start_time": "2025-11-01T18:28:15.550865Z"
    }
   },
   "cell_type": "code",
   "source": [
    "from src.group_theory.Group import *\n",
    "from src.molecular_structure.VibronicStates import VibronicState, OffsetOperator\n",
    "from src.molecular_structure.RotationalStates import STM_RotationalBasis\n",
    "from src.molecular_structure.molecular_Hamiltonians.SpinRotation import Spin_Rotation_Hamiltonian_evCaseB\n",
    "from src.quantum_mechanics.AngularMomentum import ElectronicSpinBasis\n",
    "from src.quantum_mechanics.Basis import OrthogonalBasis\n",
    "from src.molecular_structure.molecular_Hamiltonians.Rotational_Hamiltonian import *\n",
    "\n",
    "# uncomment the following if you want to print matrices and not see all the digits.\n",
    "# np.set_printoptions(formatter={'all': lambda x: f\"{x.real:.2f}\"},threshold=np.inf)\n"
   ],
   "id": "ff86c961fc51c72d",
   "outputs": [],
   "execution_count": 1
  },
  {
   "metadata": {
    "ExecuteTime": {
     "end_time": "2025-11-01T18:28:15.826859Z",
     "start_time": "2025-11-01T18:28:15.824178Z"
    }
   },
   "cell_type": "code",
   "source": [
    "def wavenumber_to_Hz(k):\n",
    "    if isinstance(k, list):\n",
    "        return [wavenumber_to_Hz(item) for item in k]\n",
    "    if isinstance(k, dict):\n",
    "        return {key: wavenumber_to_Hz(k[key]) for key in k}\n",
    "    return k * 299792458 * 100\n",
    "\n",
    "def wavenumber_to_MHz(k):\n",
    "    if isinstance(k, list):\n",
    "        return [wavenumber_to_MHz(item) for item in k]\n",
    "    if isinstance(k, dict):\n",
    "        return {key: wavenumber_to_MHz(k[key]) for key in k}\n",
    "    return k * 299792458 * 100 / 1e6\n",
    "\n",
    "# define symmetry group\n",
    "group = C2vGroup()\n",
    "A1 = C2v_A1_representation(group)\n",
    "A2 = C2v_A2_representation(group)\n",
    "B1 = C2v_B1_representation(group)\n",
    "B2 = C2v_B2_representation(group)"
   ],
   "id": "c6620d6a111c085",
   "outputs": [],
   "execution_count": 2
  },
  {
   "metadata": {
    "ExecuteTime": {
     "end_time": "2025-11-01T18:28:16.666971Z",
     "start_time": "2025-11-01T18:28:16.660569Z"
    }
   },
   "cell_type": "code",
   "source": "B1 * B2",
   "id": "969a99359fccac3f",
   "outputs": [
    {
     "data": {
      "text/plain": [
       "C2v_A2 representation\n",
       "e: [[1]]\n",
       "C_2: [[1]]\n",
       "σ_v(xz): [[-1]]\n",
       "σ_v(yz): [[-1]]"
      ]
     },
     "execution_count": 3,
     "metadata": {},
     "output_type": "execute_result"
    }
   ],
   "execution_count": 3
  },
  {
   "metadata": {},
   "cell_type": "markdown",
   "source": [
    "### Define the vibronic basis, and their dipole moment.\n",
    "\n",
    "Here I only included one vibrational state in each electronic state. Just add more if needed"
   ],
   "id": "4d89109403ac66a6"
  },
  {
   "metadata": {
    "ExecuteTime": {
     "end_time": "2025-11-01T18:28:17.518800Z",
     "start_time": "2025-11-01T18:28:17.514507Z"
    }
   },
   "cell_type": "code",
   "source": [
    "from src.tools.SphericalTensors import SphericalTensor_prolate, Irreducible_SphericalTensor\n",
    "\n",
    "X = VibronicState(\"X\", symmetry_group=group, irrep= A1)\n",
    "A = VibronicState(\"A\", symmetry_group=group, irrep= B2)\n",
    "B = VibronicState(\"B\", symmetry_group=group, irrep= B1)\n",
    "vibronic_basis = OrthogonalBasis([X,A],\"Electronic\")\n",
    "vibronic_d_a = Operator(vibronic_basis,np.array([[0,0,0],[0,0,0],[0,0,0]]),symmetry_group=group, irrep= A1)\n",
    "vibronic_d_b = Operator(vibronic_basis,np.array([[0,1,0],[1,0,0],[0,0,0]]),symmetry_group=group, irrep= B2)\n",
    "vibronic_d_c = Operator(vibronic_basis,np.array([[0,0,1],[0,0,0],[1,0,0]]),symmetry_group=group, irrep= B1)\n",
    "\n",
    "# the transition dipole moment in molecule frame as a spherical tensor\n",
    "vibronic_d = SphericalTensor_prolate(np.array([vibronic_d_a,vibronic_d_b,vibronic_d_c]),is_operator=True, operator_basis=vibronic_basis)"
   ],
   "id": "672efb8b62ac1257",
   "outputs": [],
   "execution_count": 4
  },
  {
   "metadata": {},
   "cell_type": "markdown",
   "source": [
    "### Define the rotational basis and electron spin basis\n",
    "\n",
    "Note: it's important to couple vibronic and rotational states first, before coupling to other states. This is because the dipole moment operator evaluation is not separable for vibronic and rotational Hilbert spaces."
   ],
   "id": "b94e390b2b75a07"
  },
  {
   "metadata": {
    "ExecuteTime": {
     "end_time": "2025-11-01T18:28:19.111187Z",
     "start_time": "2025-11-01T18:28:19.016741Z"
    }
   },
   "cell_type": "code",
   "source": [
    "rot_basis = STM_RotationalBasis(R_range=(0,2))\n",
    "es_basis = ElectronicSpinBasis(S_range=(1/2,1/2))\n",
    "evr_basis = rot_basis * vibronic_basis\n",
    "\n",
    "basis = evr_basis.couple(es_basis)\n",
    "basis.rename_symbols(\"J\",\"m\") # rename angular momentum symbols."
   ],
   "id": "136726ecfa8f6c23",
   "outputs": [],
   "execution_count": 5
  },
  {
   "metadata": {},
   "cell_type": "markdown",
   "source": [
    "### Define molecular constants for different electronic states\n",
    "\n",
    "Note: all constants should be given in GHz."
   ],
   "id": "15f78bd66776ff54"
  },
  {
   "metadata": {
    "ExecuteTime": {
     "end_time": "2025-11-01T18:29:27.343115Z",
     "start_time": "2025-11-01T18:29:27.337518Z"
    }
   },
   "cell_type": "code",
   "source": [
    "from src.molecular_structure.RotationOperators import MShiftOperator, JShiftOperator\n",
    "\n",
    "A_dict = {}\n",
    "BC_avg2_dict = {}\n",
    "BC_diff4_dict = {}\n",
    "\n",
    "e_aa_dict = {}\n",
    "e_bb_dict = {}\n",
    "e_cc_dict = {}\n",
    "\n",
    "offset_dict = {}\n",
    "\n",
    "# X state constants\n",
    "A_dict[\"X\"] = wavenumber_to_MHz(13.05744)\n",
    "BC_avg2_dict[\"X\"] = wavenumber_to_MHz(0.296652)\n",
    "BC_diff4_dict[\"X\"] = wavenumber_to_MHz(1.8894e-3)\n",
    "e_aa_dict[\"X\"] = 45.7\n",
    "e_bb_dict[\"X\"] = 32.063\n",
    "e_cc_dict[\"X\"] = 41.110\n",
    "offset_dict[\"X\"] = 0.0\n",
    "\n",
    "\n",
    "# A state constants\n",
    "A_dict[\"A\"] = wavenumber_to_MHz(11.44854)\n",
    "BC_avg2_dict[\"A\"] = wavenumber_to_MHz(0.303107)\n",
    "BC_diff4_dict[\"A\"] = wavenumber_to_MHz(1.958e-3)\n",
    "e_aa_dict[\"A\"] = wavenumber_to_MHz(8.2369)\n",
    "e_bb_dict[\"A\"] = wavenumber_to_MHz(3.0534e-2 - 1.2617e-2 * 2)\n",
    "e_cc_dict[\"A\"] = wavenumber_to_MHz(3.0534e-2 + 1.2617e-2 * 2)\n",
    "offset_dict[\"A\"] = (wavenumber_to_Hz(15464.36739)-192e6)/1e6\n",
    "\n",
    "# B state constants\n",
    "A_dict[\"B\"] = wavenumber_to_MHz(14.3664)\n",
    "BC_avg2_dict[\"B\"] = wavenumber_to_MHz(0.301693)\n",
    "BC_diff4_dict[\"B\"] = wavenumber_to_MHz(4.68e-3)\n",
    "e_aa_dict[\"B\"] = wavenumber_to_MHz(-7.5472)\n",
    "e_bb_dict[\"B\"] = wavenumber_to_MHz(2.083e-2 - 8.66e-3 * 2)\n",
    "e_cc_dict[\"B\"] = wavenumber_to_MHz(2.083e-2 + 8.66e-3 * 2)\n",
    "offset_dict[\"B\"] = (wavenumber_to_Hz(15885.28188)-129e6)/1e6"
   ],
   "id": "70cc44ff9ec926f0",
   "outputs": [],
   "execution_count": 18
  },
  {
   "metadata": {},
   "cell_type": "markdown",
   "source": [
    "### Define the Hamiltonian\n",
    "\n",
    "H_rot: rotational Hamiltonian\n",
    "\n",
    "H_SR: spin-rotation coupling\n",
    "\n",
    "H_offset: adds offset to the energies for different electronic states\n",
    "\n",
    "Z: breaks magnetic degeneracies by adding a fictitious term"
   ],
   "id": "b514ac444a1ec87d"
  },
  {
   "metadata": {
    "ExecuteTime": {
     "end_time": "2025-11-01T18:29:30.833729Z",
     "start_time": "2025-11-01T18:29:28.090697Z"
    }
   },
   "cell_type": "code",
   "source": [
    "H_rot = Rotational_Hamiltonian_evr(basis,A_dict,BC_avg2_dict,BC_diff4_dict)\n",
    "H_SR = Spin_Rotation_Hamiltonian_evCaseB(basis, e_aa_dict, e_bb_dict, e_cc_dict)\n",
    "H_offset = OffsetOperator(basis,offset_dict)\n",
    "Z = MShiftOperator(basis) * 1e-3 #+ JShiftOperator(basis) * 1e-5\n",
    "\n",
    "\n",
    "H = H_rot + H_SR + H_offset + Z"
   ],
   "id": "fc5d844bf71fff8e",
   "outputs": [],
   "execution_count": 19
  },
  {
   "metadata": {
    "ExecuteTime": {
     "end_time": "2025-11-01T18:29:30.838267Z",
     "start_time": "2025-11-01T18:29:30.836483Z"
    }
   },
   "cell_type": "code",
   "source": [
    "# you can check which basis states are coupled by each operator by calling\n",
    "# H_SR.get_connected_states()"
   ],
   "id": "2d574774d4626743",
   "outputs": [],
   "execution_count": 20
  },
  {
   "metadata": {},
   "cell_type": "markdown",
   "source": "### Diagonalize the Hamiltonian",
   "id": "d6a9e199e57d74fc"
  },
  {
   "metadata": {
    "ExecuteTime": {
     "end_time": "2025-11-01T18:29:30.863298Z",
     "start_time": "2025-11-01T18:29:30.840740Z"
    }
   },
   "cell_type": "code",
   "source": [
    "from src.molecular_structure.RotationalStates import rename_ATM_states\n",
    "\n",
    "Es, states = H.diagonalize()\n",
    "rename_ATM_states(states)  # rename the states using ATM convention (N ka kc)"
   ],
   "id": "649cd848587e30fd",
   "outputs": [],
   "execution_count": 21
  },
  {
   "metadata": {},
   "cell_type": "markdown",
   "source": [
    "## Inspect the energy eigenstates\n",
    "\n",
    "We can take a look at some of the eigenstates. For simplicity let's restrict to the m = 1/2 magnetic states"
   ],
   "id": "c3354704f1038afa"
  },
  {
   "metadata": {},
   "cell_type": "markdown",
   "source": "### X State",
   "id": "9e689b186fc2c37a"
  },
  {
   "metadata": {
    "ExecuteTime": {
     "end_time": "2025-11-01T18:29:30.869018Z",
     "start_time": "2025-11-01T18:29:30.866795Z"
    }
   },
   "cell_type": "code",
   "source": [
    "X_states_m12 = []\n",
    "X_Es_m12 = []\n",
    "for i in range(len(states)):\n",
    "    if states[i][0].m == 1/2 and states[i][0].elec == \"X\":\n",
    "        X_states_m12.append(states[i])\n",
    "        X_Es_m12.append(Es[i])"
   ],
   "id": "81bd56882560bfa0",
   "outputs": [],
   "execution_count": 22
  },
  {
   "metadata": {},
   "cell_type": "markdown",
   "source": "These are our cycling ground states:",
   "id": "9b3922716d9b5171"
  },
  {
   "metadata": {
    "ExecuteTime": {
     "end_time": "2025-11-01T18:29:31.044552Z",
     "start_time": "2025-11-01T18:29:31.041643Z"
    }
   },
   "cell_type": "code",
   "source": "X_states_m12[5]",
   "id": "23492654a57cb78e",
   "outputs": [
    {
     "data": {
      "text/plain": [
       "|elec = X, S = 0.5, N=1, ka=1, kc=1, J = 0.5, m = 0.5> = 0.71 |elec=X, S=0.5, N=1, k=-1, J=0.5, m=0.5> + -0.71 |elec=X, S=0.5, N=1, k=1, J=0.5, m=0.5> + -2.0e-05 |elec=X, S=0.5, N=1, k=-1, J=0.5, m=-0.5> + 2.0e-05 |elec=X, S=0.5, N=1, k=1, J=0.5, m=-0.5> "
      ]
     },
     "execution_count": 23,
     "metadata": {},
     "output_type": "execute_result"
    }
   ],
   "execution_count": 23
  },
  {
   "metadata": {
    "ExecuteTime": {
     "end_time": "2025-11-01T18:29:31.422786Z",
     "start_time": "2025-11-01T18:29:31.420739Z"
    }
   },
   "cell_type": "code",
   "source": "X_states_m12[6]",
   "id": "1755e9c275e4100a",
   "outputs": [
    {
     "data": {
      "text/plain": [
       "|elec = X, S = 0.5, N=1, ka=1, kc=1, J = 1.5, m = 0.5> = 0.71 |elec=X, S=0.5, N=1, k=1, J=1.5, m=0.5> + -0.71 |elec=X, S=0.5, N=1, k=-1, J=1.5, m=0.5> + 3.9e-05 |elec=X, S=0.5, N=2, k=-1, J=1.5, m=0.5> + 3.9e-05 |elec=X, S=0.5, N=2, k=1, J=1.5, m=0.5> + 3.1e-05 |elec=X, S=0.5, N=1, k=1, J=1.5, m=-0.5> + -3.1e-05 |elec=X, S=0.5, N=1, k=-1, J=1.5, m=-0.5> + 1.4e-05 |elec=X, S=0.5, N=1, k=1, J=1.5, m=1.5> + -1.4e-05 |elec=X, S=0.5, N=1, k=-1, J=1.5, m=1.5> "
      ]
     },
     "execution_count": 24,
     "metadata": {},
     "output_type": "execute_result"
    }
   ],
   "execution_count": 24
  },
  {
   "metadata": {
    "ExecuteTime": {
     "end_time": "2025-11-01T18:29:31.747118Z",
     "start_time": "2025-11-01T18:29:31.744237Z"
    }
   },
   "cell_type": "code",
   "source": "print(f\"1_11 state spin-rotation splitting = {(X_Es_m12[6] - X_Es_m12[5]):.1f} MHz\")",
   "id": "aa5852b77010c84a",
   "outputs": [
    {
     "name": "stdout",
     "output_type": "stream",
     "text": [
      "1_11 state spin-rotation splitting = 65.1 MHz\n"
     ]
    }
   ],
   "execution_count": 25
  },
  {
   "metadata": {},
   "cell_type": "markdown",
   "source": "These are the 2_11 states:",
   "id": "39187f80f2e222c0"
  },
  {
   "metadata": {
    "ExecuteTime": {
     "end_time": "2025-11-01T18:26:05.109025Z",
     "start_time": "2025-11-01T18:26:05.106989Z"
    }
   },
   "cell_type": "code",
   "source": "X_states_m12[11]",
   "id": "29d14667e769f288",
   "outputs": [
    {
     "data": {
      "text/plain": [
       "|elec = X, S = 0.5, N=2, ka=1, kc=1, J = 1.5, m = 0.5> = 0.71 |elec=X, S=0.5, N=2, k=1, J=1.5, m=0.5> + 0.71 |elec=X, S=0.5, N=2, k=-1, J=1.5, m=0.5> + 3.9e-05 |elec=X, S=0.5, N=1, k=-1, J=1.5, m=0.5> + -3.9e-05 |elec=X, S=0.5, N=1, k=1, J=1.5, m=0.5> "
      ]
     },
     "execution_count": 15,
     "metadata": {},
     "output_type": "execute_result"
    }
   ],
   "execution_count": 15
  },
  {
   "metadata": {
    "ExecuteTime": {
     "end_time": "2025-11-01T18:26:05.118796Z",
     "start_time": "2025-11-01T18:26:05.117001Z"
    }
   },
   "cell_type": "code",
   "source": "X_states_m12[12]",
   "id": "9400bbf646d61062",
   "outputs": [
    {
     "data": {
      "text/plain": [
       "|elec = X, S = 0.5, N=2, ka=1, kc=1, J = 2.5, m = 0.5> = 0.71 |elec=X, S=0.5, N=2, k=1, J=2.5, m=0.5> + 0.71 |elec=X, S=0.5, N=2, k=-1, J=2.5, m=0.5> "
      ]
     },
     "execution_count": 16,
     "metadata": {},
     "output_type": "execute_result"
    }
   ],
   "execution_count": 16
  },
  {
   "metadata": {
    "ExecuteTime": {
     "end_time": "2025-11-01T18:26:05.126469Z",
     "start_time": "2025-11-01T18:26:05.125087Z"
    }
   },
   "cell_type": "code",
   "source": "print(f\"2_11 state spin-rotation splitting = {(X_Es_m12[12] - X_Es_m12[11])*1000:.1f} MHz\")",
   "id": "b941c2846c1b055f",
   "outputs": [
    {
     "name": "stdout",
     "output_type": "stream",
     "text": [
      "2_11 state spin-rotation splitting = 89.6 MHz\n"
     ]
    }
   ],
   "execution_count": 17
  },
  {
   "metadata": {},
   "cell_type": "markdown",
   "source": "### A State",
   "id": "346ae77eb0c9e1eb"
  },
  {
   "metadata": {
    "ExecuteTime": {
     "end_time": "2025-11-01T18:26:05.134521Z",
     "start_time": "2025-11-01T18:26:05.132897Z"
    }
   },
   "cell_type": "code",
   "source": [
    "A_states_m12 = []\n",
    "A_Es_m12 = []\n",
    "for i in range(len(states)):\n",
    "    if states[i][0].m == 1/2 and states[i][0].elec == \"A\":\n",
    "        A_states_m12.append(states[i])\n",
    "        A_Es_m12.append(Es[i])"
   ],
   "id": "ec100a7e1d63691",
   "outputs": [],
   "execution_count": 18
  },
  {
   "metadata": {},
   "cell_type": "markdown",
   "source": "This is the A 0_00 J=1/2 state, which is the excited state in our cycling scheme:",
   "id": "70fba7ae54a3c294"
  },
  {
   "metadata": {
    "ExecuteTime": {
     "end_time": "2025-11-01T18:26:05.142704Z",
     "start_time": "2025-11-01T18:26:05.140789Z"
    }
   },
   "cell_type": "code",
   "source": "A_states_m12[0]",
   "id": "a3d566228a680965",
   "outputs": [
    {
     "data": {
      "text/plain": [
       "|elec = A, S = 0.5, N=0, ka=0, kc=0, J = 0.5, m = 0.5> = 1.00 |elec=A, S=0.5, N=0, k=0, J=0.5, m=0.5> "
      ]
     },
     "execution_count": 19,
     "metadata": {},
     "output_type": "execute_result"
    }
   ],
   "execution_count": 19
  },
  {
   "metadata": {
    "ExecuteTime": {
     "end_time": "2025-11-01T18:26:05.147181Z",
     "start_time": "2025-11-01T18:26:05.145617Z"
    }
   },
   "cell_type": "code",
   "source": "print(f\"Cycling transition frequency on X-A: {(A_Es_m12[0] - X_Es_m12[5])*1e-3:.6f} THz\")",
   "id": "ab4c437d1d99e79",
   "outputs": [
    {
     "name": "stdout",
     "output_type": "stream",
     "text": [
      "Cycling transition frequency on X-A: 463.209690 THz\n"
     ]
    }
   ],
   "execution_count": 20
  },
  {
   "metadata": {},
   "cell_type": "markdown",
   "source": "### B State",
   "id": "8f48b2fe190ebd34"
  },
  {
   "metadata": {
    "ExecuteTime": {
     "end_time": "2025-11-01T18:26:05.153966Z",
     "start_time": "2025-11-01T18:26:05.152365Z"
    }
   },
   "cell_type": "code",
   "source": [
    "B_states_m12 = []\n",
    "B_Es_m12 = []\n",
    "for i in range(len(states)):\n",
    "    if states[i][0].m == 1/2 and states[i][0].elec == \"B\":\n",
    "        B_states_m12.append(states[i])\n",
    "        B_Es_m12.append(Es[i])"
   ],
   "id": "a1e9c00b4ff6237",
   "outputs": [],
   "execution_count": 21
  },
  {
   "metadata": {},
   "cell_type": "markdown",
   "source": "This is the B 0_00 state, which is the excited state for X-B cycling scheme:",
   "id": "2d28169603a3cd00"
  },
  {
   "metadata": {
    "ExecuteTime": {
     "end_time": "2025-11-01T18:26:05.228431Z",
     "start_time": "2025-11-01T18:26:05.157612Z"
    }
   },
   "cell_type": "code",
   "source": "B_states_m12[0]",
   "id": "9a2d126a434da7a5",
   "outputs": [
    {
     "ename": "IndexError",
     "evalue": "list index out of range",
     "output_type": "error",
     "traceback": [
      "\u001B[31m---------------------------------------------------------------------------\u001B[39m",
      "\u001B[31mIndexError\u001B[39m                                Traceback (most recent call last)",
      "\u001B[36mCell\u001B[39m\u001B[36m \u001B[39m\u001B[32mIn[22]\u001B[39m\u001B[32m, line 1\u001B[39m\n\u001B[32m----> \u001B[39m\u001B[32m1\u001B[39m \u001B[43mB_states_m12\u001B[49m\u001B[43m[\u001B[49m\u001B[32;43m0\u001B[39;49m\u001B[43m]\u001B[49m\n",
      "\u001B[31mIndexError\u001B[39m: list index out of range"
     ]
    }
   ],
   "execution_count": 22
  },
  {
   "metadata": {},
   "cell_type": "markdown",
   "source": "For completeness, these are the ground states for the X-B cycling scheme:",
   "id": "6696fd4278a3183d"
  },
  {
   "metadata": {},
   "cell_type": "code",
   "source": "X_states_m12[7]",
   "id": "babc7e437b899ed",
   "outputs": [],
   "execution_count": null
  },
  {
   "metadata": {},
   "cell_type": "code",
   "source": "X_states_m12[8]",
   "id": "957bdf263d4f593d",
   "outputs": [],
   "execution_count": null
  },
  {
   "metadata": {},
   "cell_type": "code",
   "source": "print(f\"Cycling transition frequency on X-B: {(B_Es_m12[0] - X_Es_m12[7])*1e-3:.6f} THz\")",
   "id": "93dac0b0ac2be44e",
   "outputs": [],
   "execution_count": null
  },
  {
   "metadata": {},
   "cell_type": "markdown",
   "source": "Let's also look at the B 1_01 SR states (excited states for our 6_2 repump):",
   "id": "3893d34600303920"
  },
  {
   "metadata": {},
   "cell_type": "code",
   "source": "B_states_m12[1]",
   "id": "1a8cf7abc179e32f",
   "outputs": [],
   "execution_count": null
  },
  {
   "metadata": {},
   "cell_type": "code",
   "source": "B_states_m12[2]",
   "id": "3fa22bf897784548",
   "outputs": [],
   "execution_count": null
  },
  {
   "metadata": {},
   "cell_type": "code",
   "source": "print(f\"Spin-rotation on B 1_01: {(B_Es_m12[2] - B_Es_m12[1]):.6f} GHz\")",
   "id": "4978ff690b1445b9",
   "outputs": [],
   "execution_count": null
  },
  {
   "metadata": {},
   "cell_type": "markdown",
   "source": [
    "### Optional: decompose Hund's case B into STM basis\n",
    "\n",
    "If you are curious about the decomposition into rotation x spin, you can do it like this:"
   ],
   "id": "6968e646dde7549a"
  },
  {
   "metadata": {},
   "cell_type": "code",
   "source": [
    "STM_basis = basis.get_uncoupled_basis()\n",
    "matrix = basis.get_basis_change_matrix()\n",
    "s = X_states_m12[5].change_basis(STM_basis,matrix)\n",
    "s"
   ],
   "id": "8da50e718a607fe3",
   "outputs": [],
   "execution_count": null
  },
  {
   "metadata": {},
   "cell_type": "markdown",
   "source": [
    "# Transition Dipole Moments\n",
    "\n",
    "Define the dipole operator on the vibronic x rotational Hilbert space and on the electron spin Hilbert space. Take their tensor product.\n",
    "\n",
    "sigma_d is the spatial angular momentum of the dipole moment. So sigma_d = 0 is looking at the pi transitions."
   ],
   "id": "54b54bf8e997b59e"
  },
  {
   "metadata": {},
   "cell_type": "code",
   "source": [
    "from src.molecular_structure.TDMs import DipoleOperator_evr, DipoleOperator_spin\n",
    "\n",
    "TDM = Irreducible_SphericalTensor(1,is_operator=True,operator_basis=basis)\n",
    "\n",
    "for sigma_d in (-1,0,1):\n",
    "    d_evr = DipoleOperator_evr(evr_basis,vibronic_d, 0)\n",
    "    d_es = DipoleOperator_spin(es_basis,0)\n",
    "    d_uncoupled = d_evr.tensor(d_es)\n",
    "    d = d_uncoupled.change_basis(basis, basis.get_basis_change_matrix())\n",
    "    TDM[sigma_d] = d"
   ],
   "id": "ff1785a28080433f",
   "outputs": [],
   "execution_count": null
  },
  {
   "metadata": {},
   "cell_type": "markdown",
   "source": "For example, check the dipole moment between X 1_11 J=3/2, m=1/2 and A 0_00 J=1/2, m=1/2:",
   "id": "fc81a0ac735e8b0f"
  },
  {
   "metadata": {},
   "cell_type": "code",
   "source": [
    "d = TDM[0]\n",
    "s1 = X_states_m12[6]\n",
    "s2 = A_states_m12[0]\n",
    "print(f\"{d.matrix_element(s1, s2):.2f}\")"
   ],
   "id": "b35e2e0892ecb776",
   "outputs": [],
   "execution_count": null
  },
  {
   "metadata": {},
   "cell_type": "markdown",
   "source": "And check the dipole moment between X 1_10 J=3/2, m=1/2 and A 0_00 J=1/2, m=1/2: (it should be zero, because X 1_01 has the same parity as A 0_00)",
   "id": "7566a275d01cae11"
  },
  {
   "metadata": {},
   "cell_type": "code",
   "source": [
    "s1 = X_states_m12[8]\n",
    "s2 = A_states_m12[0]\n",
    "print(f\"{d.matrix_element(s1, s2):.2f}\")"
   ],
   "id": "f7f422dfaba587a",
   "outputs": [],
   "execution_count": null
  },
  {
   "metadata": {},
   "cell_type": "markdown",
   "source": "It is, instead, connected to B 0_00 state:",
   "id": "ffbcfaa02d1a1ec9"
  },
  {
   "metadata": {},
   "cell_type": "code",
   "source": [
    "s1 = X_states_m12[8]\n",
    "s2 = B_states_m12[0]\n",
    "print(f\"{d.matrix_element(s1, s2):.2f}\")"
   ],
   "id": "5fe58662f18d6194",
   "outputs": [],
   "execution_count": null
  },
  {
   "metadata": {},
   "cell_type": "markdown",
   "source": "Look at dipole-connected Case B basis states using d.get_connected_states()",
   "id": "307b83e301e3435d"
  },
  {
   "metadata": {},
   "cell_type": "code",
   "source": [
    "connected_states = d.get_connected_states()\n",
    "connected_states"
   ],
   "id": "1060bb59de200a05",
   "outputs": [],
   "execution_count": null
  },
  {
   "metadata": {},
   "cell_type": "code",
   "source": "",
   "id": "23b12697527bb2d1",
   "outputs": [],
   "execution_count": null
  },
  {
   "metadata": {},
   "cell_type": "markdown",
   "source": "### Zeeman Shifts",
   "id": "81dd00c5799c2aa6"
  },
  {
   "metadata": {
    "ExecuteTime": {
     "end_time": "2025-11-01T18:26:09.165045Z",
     "start_time": "2025-11-01T18:26:09.145227Z"
    }
   },
   "cell_type": "code",
   "source": [
    "from src.molecular_structure.Zeeman import ZeemanHamiltonian_es\n",
    "\n",
    "Zeeman_z_evr = ZeemanHamiltonian_es(evr_basis, \"z\")\n",
    "Zeeman_z_es = ZeemanHamiltonian_es(es_basis,\"z\")\n",
    "Zeeman_z_uncoupled = Zeeman_z_evr.tensor(Zeeman_z_es)\n",
    "Zeeman_z = Zeeman_z_uncoupled.change_basis(basis, basis.get_basis_change_matrix())\n"
   ],
   "id": "f96b325acfdf121",
   "outputs": [],
   "execution_count": 23
  },
  {
   "metadata": {
    "ExecuteTime": {
     "end_time": "2025-11-01T18:26:09.680534Z",
     "start_time": "2025-11-01T18:26:09.675487Z"
    }
   },
   "cell_type": "code",
   "source": "np.max(Zeeman_z.matrix)",
   "id": "35bc9f98bcfefe43",
   "outputs": [
    {
     "data": {
      "text/plain": [
       "np.complex128(0.00140124805611607+0j)"
      ]
     },
     "execution_count": 24,
     "metadata": {},
     "output_type": "execute_result"
    }
   ],
   "execution_count": 24
  },
  {
   "metadata": {
    "ExecuteTime": {
     "end_time": "2025-11-01T18:26:09.820448Z",
     "start_time": "2025-11-01T18:26:09.818159Z"
    }
   },
   "cell_type": "code",
   "source": "basis[0].show_composition()",
   "id": "1dcba7c4d9da4dab",
   "outputs": [
    {
     "name": "stdout",
     "output_type": "stream",
     "text": [
      "|elec=X, S=0.5, N=0, k=0, J=0.5, m=-0.5> = 1.00 |elec=X, S=0.5, ms=-0.5, N=0, k=0, mN=0> \n"
     ]
    }
   ],
   "execution_count": 25
  },
  {
   "metadata": {
    "ExecuteTime": {
     "end_time": "2025-11-01T18:26:10.126961Z",
     "start_time": "2025-11-01T18:26:10.124102Z"
    }
   },
   "cell_type": "code",
   "source": "Zeeman_z[basis[0],basis[0]]",
   "id": "8cca0cd05ae0ebd8",
   "outputs": [
    {
     "data": {
      "text/plain": [
       "np.complex128(-0.00140124805611607+0j)"
      ]
     },
     "execution_count": 26,
     "metadata": {},
     "output_type": "execute_result"
    }
   ],
   "execution_count": 26
  },
  {
   "metadata": {},
   "cell_type": "code",
   "source": "",
   "id": "457e7046989b5dca",
   "outputs": [],
   "execution_count": null
  }
 ],
 "metadata": {
  "kernelspec": {
   "display_name": "Python 3",
   "language": "python",
   "name": "python3"
  },
  "language_info": {
   "codemirror_mode": {
    "name": "ipython",
    "version": 2
   },
   "file_extension": ".py",
   "mimetype": "text/x-python",
   "name": "python",
   "nbconvert_exporter": "python",
   "pygments_lexer": "ipython2",
   "version": "2.7.6"
  }
 },
 "nbformat": 4,
 "nbformat_minor": 5
}
