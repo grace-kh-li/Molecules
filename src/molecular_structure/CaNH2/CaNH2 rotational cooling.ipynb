{
 "cells": [
  {
   "cell_type": "code",
   "id": "initial_id",
   "metadata": {
    "collapsed": true,
    "ExecuteTime": {
     "end_time": "2025-10-09T17:16:44.297537Z",
     "start_time": "2025-10-09T17:16:28.026386Z"
    }
   },
   "source": [
    "from CaNH2_package import CaNH2_molecule\n",
    "import numpy as np\n",
    "import matplotlib.pyplot as plt\n",
    "\n",
    "molecule = CaNH2_molecule(vibronic_states_to_include=(\"X\",\"A\",\"B\"))"
   ],
   "outputs": [],
   "execution_count": 49
  },
  {
   "metadata": {
    "ExecuteTime": {
     "end_time": "2025-10-09T17:16:44.305Z",
     "start_time": "2025-10-09T17:16:44.302741Z"
    }
   },
   "cell_type": "code",
   "source": [
    "def get_total_d2(s1, s2, TDMs):\n",
    "    s = 0\n",
    "    for q in (-1,0,1):\n",
    "        s += np.abs(TDMs[q][s1,s2])**2\n",
    "    return s"
   ],
   "id": "947b0fae0124a6fb",
   "outputs": [],
   "execution_count": 50
  },
  {
   "metadata": {
    "ExecuteTime": {
     "end_time": "2025-10-09T17:16:44.311667Z",
     "start_time": "2025-10-09T17:16:44.309459Z"
    }
   },
   "cell_type": "code",
   "source": [
    "states = molecule.eigenstates\n",
    "Es = molecule.Es\n",
    "TDMs = molecule.TDMs\n",
    "\n",
    "for i, s in enumerate(states):\n",
    "    s.E = Es[i] / 1000"
   ],
   "id": "91123aac640ecbd3",
   "outputs": [],
   "execution_count": 51
  },
  {
   "metadata": {
    "ExecuteTime": {
     "end_time": "2025-10-09T17:16:44.318947Z",
     "start_time": "2025-10-09T17:16:44.315547Z"
    }
   },
   "cell_type": "code",
   "source": [
    "X_states_111 = []\n",
    "for i in range(len(states)):\n",
    "    if states[i][0].elec == \"X\" and states[i].ka == 1 and states[i].kc == 1 and states[i][0].N == 1:\n",
    "        X_states_111.append(states[i])\n",
    "\n",
    "X_states_211 = []\n",
    "for i in range(len(states)):\n",
    "    if states[i][0].elec == \"X\" and states[i].ka == 1 and states[i].kc == 1 and states[i][0].N == 2:\n",
    "        X_states_211.append(states[i])\n",
    "\n",
    "B_states_101_J32 = []\n",
    "for i in range(len(states)):\n",
    "    if states[i][0].elec == \"B\" and states[i][0].J == 3/2 and states[i].ka == 0 and states[i].kc == 1 and states[i][0].N == 1:\n",
    "        B_states_101_J32.append(states[i])"
   ],
   "id": "bf5d9aa4a13c733",
   "outputs": [],
   "execution_count": 52
  },
  {
   "metadata": {
    "ExecuteTime": {
     "end_time": "2025-10-09T17:19:03.867221Z",
     "start_time": "2025-10-09T17:19:03.859906Z"
    }
   },
   "cell_type": "code",
   "source": [
    "sB = 0\n",
    "for s in X_states_111 + X_states_111:\n",
    "    for s1 in B_states_101_J32:\n",
    "        sB += get_total_d2(s1, s,TDMs)\n",
    "\n",
    "s211 = 0\n",
    "for s in X_states_211:\n",
    "    total = 0\n",
    "    for s1 in B_states_101_J32:\n",
    "        total += get_total_d2(s1, s, TDMs)\n",
    "    print(total/sB*100)\n",
    "    s211 += total\n",
    "print(s211/sB)"
   ],
   "id": "c4d9ff1d37a67986",
   "outputs": [
    {
     "name": "stdout",
     "output_type": "stream",
     "text": [
      "1.2485622177754134\n",
      "1.2485622177674938\n",
      "1.2485622177337719\n",
      "1.2485622177333824\n",
      "7.500426743044371\n",
      "7.500426742881092\n",
      "7.50042674283196\n",
      "7.500426742778861\n",
      "7.500426742717857\n",
      "7.500426742571998\n",
      "0.499968093278362\n"
     ]
    }
   ],
   "execution_count": 58
  },
  {
   "metadata": {
    "ExecuteTime": {
     "end_time": "2025-10-09T17:17:12.394415Z",
     "start_time": "2025-10-09T17:17:12.383571Z"
    }
   },
   "cell_type": "code",
   "source": [
    "import numpy as np\n",
    "from scipy.integrate import solve_ivp\n",
    "\n",
    "def simulate_rate_equations(\n",
    "    absorption_weights: np.ndarray,\n",
    "    decay_weights: np.ndarray,\n",
    "    absorption_rate: float,\n",
    "    decay_rate: float,\n",
    "    g0: np.ndarray,\n",
    "    e0: np.ndarray,\n",
    "    t_span: tuple[float, float],\n",
    "    t_eval: np.ndarray | None = None,\n",
    "    method: str = \"RK45\",\n",
    "    stim_emission_rate: float | None = None,\n",
    "):\n",
    "    \"\"\"\n",
    "    Simulate rate-equation dynamics for N_g ground and N_e excited states,\n",
    "    including spontaneous decay and stimulated emission.\n",
    "\n",
    "    New/changed bits:\n",
    "      - Stimulated emission uses the same (N_g x N_e) coupling matrix as absorption.\n",
    "      - Set `stim_emission_rate=None` to use `absorption_rate` (Einstein B symmetry).\n",
    "\n",
    "    Population flow terms:\n",
    "      Absorption (g -> e):\n",
    "        -g_i:  -S * g_i * sum_j A[i,j]\n",
    "        +e_j:  +S * sum_i A[i,j] * g_i\n",
    "      Spontaneous decay (e -> g):\n",
    "        -e_j:  -Gamma * e_j\n",
    "        +g_i:  +Gamma * P[i,j] * e_j, with P columns normalized from `decay_weights`.\n",
    "      Stimulated emission (e -> g):\n",
    "        -e_j:  -S_stim * e_j * sum_i A[i,j]\n",
    "        +g_i:  +S_stim * sum_j A[i,j] * e_j\n",
    "\n",
    "    Parameters\n",
    "    ----------\n",
    "    absorption_weights : (N_g, N_e) array_like\n",
    "        Nonnegative weights for absorption g_i -> e_j (also used for stimulated emission).\n",
    "    decay_weights : (N_g, N_e) array_like\n",
    "        Nonnegative weights for spontaneous decay e_j -> g_i (column-normalized internally).\n",
    "    absorption_rate : float\n",
    "        Scalar absorption rate (same for all ground states).\n",
    "    decay_rate : float\n",
    "        Total spontaneous decay rate out of each excited state (same for all j).\n",
    "    g0 : (N_g,) array_like\n",
    "        Initial ground-state populations.\n",
    "    e0 : (N_e,) array_like\n",
    "        Initial excited-state populations.\n",
    "    t_span : (t0, tf)\n",
    "        Integration time interval.\n",
    "    t_eval : array_like or None\n",
    "        Times at which to store the computed solution.\n",
    "    method : str\n",
    "        ODE solver (e.g., \"RK45\", \"BDF\").\n",
    "    stim_emission_rate : float or None\n",
    "        Scalar stimulated-emission rate. If None, equals `absorption_rate`.\n",
    "\n",
    "    Returns\n",
    "    -------\n",
    "    result : scipy.integrate.OdeResult\n",
    "        With convenience attributes:\n",
    "          - result.g : (N_g, len(t)) ground populations\n",
    "          - result.e : (N_e, len(t)) excited populations\n",
    "    \"\"\"\n",
    "    A = np.asarray(absorption_weights, dtype=float)\n",
    "    B = np.asarray(decay_weights, dtype=float)\n",
    "    g0 = np.asarray(g0, dtype=float)\n",
    "    e0 = np.asarray(e0, dtype=float)\n",
    "\n",
    "    # Shape & value checks\n",
    "    if A.ndim != 2 or B.ndim != 2:\n",
    "        raise ValueError(\"absorption_weights and decay_weights must be 2D arrays.\")\n",
    "    Ng, Ne = A.shape\n",
    "    if B.shape != (Ng, Ne):\n",
    "        raise ValueError(\"absorption_weights and decay_weights must both be (N_g, N_e).\")\n",
    "    if g0.shape != (Ng,) or e0.shape != (Ne,):\n",
    "        raise ValueError(\"g0 shape must be (N_g,), e0 shape must be (N_e,).\")\n",
    "    if np.any(A < 0) or np.any(B < 0):\n",
    "        raise ValueError(\"All weights must be nonnegative.\")\n",
    "    if absorption_rate < 0 or decay_rate < 0:\n",
    "        raise ValueError(\"Rates must be nonnegative.\")\n",
    "    if np.any(g0 < 0) or np.any(e0 < 0):\n",
    "        raise ValueError(\"Initial populations must be nonnegative.\")\n",
    "\n",
    "    # Normalize decay weights column-wise -> branching matrix P (Ng x Ne)\n",
    "    col_sums = B.sum(axis=0, keepdims=True)  # (1, Ne)\n",
    "    with np.errstate(divide='ignore', invalid='ignore'):\n",
    "        P = np.divide(B, col_sums, out=np.full_like(B, 1.0 / Ng), where=col_sums > 0)\n",
    "\n",
    "    # Precompute absorption/stimulated-emission aggregated weights\n",
    "    A_row_sums = A.sum(axis=1)  # for ground-state absorption outflow\n",
    "    A_col_sums = A.sum(axis=0)  # for excited-state stimulated-emission outflow\n",
    "\n",
    "    y0 = np.concatenate([g0, e0])\n",
    "    S_abs = float(absorption_rate)\n",
    "    S_stim = float(S_abs if stim_emission_rate is None else stim_emission_rate)\n",
    "\n",
    "    def rhs(t, y):\n",
    "        g = y[:Ng]\n",
    "        e = y[Ng:]\n",
    "\n",
    "        # Absorption terms\n",
    "        g_loss_abs = S_abs * g * A_row_sums           # (Ng,)\n",
    "        e_gain_abs = S_abs * (A.T @ g)                # (Ne,)\n",
    "\n",
    "        # Spontaneous decay terms\n",
    "        e_loss_dec = decay_rate * e                   # (Ne,)\n",
    "        g_gain_dec = decay_rate * (P @ e)             # (Ng,)\n",
    "\n",
    "        # Stimulated emission terms\n",
    "        e_loss_stim = S_stim * e * A_col_sums         # (Ne,)\n",
    "        g_gain_stim = S_stim * (A @ e)                # (Ng,)\n",
    "\n",
    "        dgdt = -g_loss_abs + g_gain_dec + g_gain_stim\n",
    "        dedt = +e_gain_abs - e_loss_dec - e_loss_stim\n",
    "        return np.concatenate([dgdt, dedt])\n",
    "\n",
    "    sol = solve_ivp(\n",
    "        rhs,\n",
    "        t_span=t_span,\n",
    "        y0=y0,\n",
    "        t_eval=t_eval,\n",
    "        method=method,\n",
    "        vectorized=False,\n",
    "        rtol=1e-7,\n",
    "        atol=1e-10,\n",
    "    )\n",
    "\n",
    "    sol.g = sol.y[:Ng, :]\n",
    "    sol.e = sol.y[Ng:, :]\n",
    "    return sol\n"
   ],
   "id": "f73e3845752e252b",
   "outputs": [],
   "execution_count": 54
  },
  {
   "metadata": {
    "ExecuteTime": {
     "end_time": "2025-10-09T17:19:23.737634Z",
     "start_time": "2025-10-09T17:19:23.733024Z"
    }
   },
   "cell_type": "code",
   "source": "1/0.65",
   "id": "c0e3b832c85f43fc",
   "outputs": [
    {
     "data": {
      "text/plain": [
       "1.5384615384615383"
      ]
     },
     "execution_count": 61,
     "metadata": {},
     "output_type": "execute_result"
    }
   ],
   "execution_count": 61
  },
  {
   "metadata": {
    "ExecuteTime": {
     "end_time": "2025-10-08T18:58:10.394111Z",
     "start_time": "2025-10-08T18:58:10.389111Z"
    }
   },
   "cell_type": "code",
   "source": [
    "ground_states = X_states_111 + X_states_211\n",
    "excited_states = B_states_101_J32\n",
    "\n",
    "A = np.zeros((len(ground_states), len(excited_states)))\n",
    "B = np.zeros((len(ground_states), len(excited_states)))\n",
    "\n",
    "for i, g in enumerate(ground_states):\n",
    "    for j, e in enumerate(excited_states):\n",
    "        B[i,j] = get_total_d2(g, e, TDMs)\n",
    "        if g in X_states_211:\n",
    "            A[i,j] = np.abs(TDMs[0][g,e])**2 # lasers have linear polarization"
   ],
   "id": "e760e86132204549",
   "outputs": [],
   "execution_count": 7
  },
  {
   "metadata": {
    "ExecuteTime": {
     "end_time": "2025-10-08T20:15:00.372637Z",
     "start_time": "2025-10-08T20:14:59.710612Z"
    }
   },
   "cell_type": "code",
   "source": [
    "\n",
    "S = 2e6      # absorption_rate (same for all ground states)\n",
    "Gamma = 20e6  # decay_rate (same for all excited states)\n",
    "\n",
    "g0 = np.array([1]*len(X_states_111) + [0.25]*len(X_states_211))\n",
    "e0 = np.array([0]*len(excited_states))\n",
    "\n",
    "t_eval = np.linspace(0.0, 1000e-6, 501)\n",
    "sol = simulate_rate_equations(A, B, S, Gamma, g0, e0, t_span=(0.0, 1000e-6), t_eval=t_eval)\n",
    "\n",
    "# Access populations:\n",
    "g_t = sol.g   # shape (2, 501)\n",
    "e_t = sol.e   # shape (3, 501)\n",
    "\n",
    "populations = []\n",
    "# --- Plot results ---\n",
    "plt.figure(figsize=(8, 5))\n",
    "\n",
    "for i in range(sol.g.shape[0]):\n",
    "    plt.plot(sol.t, sol.g[i], label=f\"{ground_states[i].label[19:]}\")\n",
    "\n",
    "\n",
    "plt.xlabel(\"Time\")\n",
    "plt.ylabel(\"Population\")\n",
    "plt.title(\"Rate Equation Simulation\")\n",
    "plt.legend()\n",
    "plt.grid(True)\n",
    "plt.tight_layout()\n",
    "plt.savefig(\"rotational_pumping.png\",dpi=300)\n",
    "plt.show()"
   ],
   "id": "fe2ea583d73b8770",
   "outputs": [
    {
     "data": {
      "text/plain": [
       "<Figure size 800x500 with 1 Axes>"
      ],
      "image/png": "[encoded data removed]"
     },
     "metadata": {},
     "output_type": "display_data"
    }
   ],
   "execution_count": 27
  },
  {
   "metadata": {
    "ExecuteTime": {
     "end_time": "2025-10-08T20:17:36.157163Z",
     "start_time": "2025-10-08T20:17:36.153572Z"
    }
   },
   "cell_type": "code",
   "source": "ground_states[14]",
   "id": "8e79d934171bd3d4",
   "outputs": [
    {
     "data": {
      "text/plain": [
       "|elec = X, S = 0.5, N=2, ka=1, kc=1, J = 2.5, m = 1.5> = 0.71 |elec=X, S=0.5, N=2, k=-1, J=2.5, m=1.5> + 0.71 |elec=X, S=0.5, N=2, k=1, J=2.5, m=1.5> "
      ]
     },
     "execution_count": 33,
     "metadata": {},
     "output_type": "execute_result"
    }
   ],
   "execution_count": 33
  },
  {
   "metadata": {
    "ExecuteTime": {
     "end_time": "2025-10-08T20:20:04.118443Z",
     "start_time": "2025-10-08T20:20:04.114322Z"
    }
   },
   "cell_type": "code",
   "source": [
    "N1_population = np.sum(sol.g[3:5][:,-1])\n",
    "N2_population = np.sum(sol.g[11:15][:,-1])\n",
    "print(N1_population, N2_population)"
   ],
   "id": "f541b90b271cbae",
   "outputs": [
    {
     "name": "stdout",
     "output_type": "stream",
     "text": [
      "2.640500215699772 1.589172546588974e-05\n"
     ]
    }
   ],
   "execution_count": 45
  },
  {
   "metadata": {
    "ExecuteTime": {
     "end_time": "2025-10-08T20:22:05.971189Z",
     "start_time": "2025-10-08T20:22:05.968283Z"
    }
   },
   "cell_type": "code",
   "source": "sol.g[:][:,-1]",
   "id": "926aadb950bcc218",
   "outputs": [
    {
     "data": {
      "text/plain": [
       "array([1.12822712e+00, 1.12822712e+00, 1.32029529e+00, 1.32025011e+00,\n",
       "       1.32025011e+00, 1.32029530e+00, 2.38682700e-06, 4.90634171e-04,\n",
       "       4.90634181e-04, 2.38682936e-06, 4.80726232e-01, 4.14173764e-06,\n",
       "       3.80412368e-06, 3.80412408e-06, 4.14174007e-06, 4.80726230e-01])"
      ]
     },
     "execution_count": 46,
     "metadata": {},
     "output_type": "execute_result"
    }
   ],
   "execution_count": 46
  },
  {
   "metadata": {
    "ExecuteTime": {
     "end_time": "2025-10-08T20:26:27.923698Z",
     "start_time": "2025-10-08T20:26:27.921239Z"
    }
   },
   "cell_type": "code",
   "source": "(1.32 + 1.13)/2",
   "id": "3eded05fd4e84c69",
   "outputs": [
    {
     "data": {
      "text/plain": [
       "1.225"
      ]
     },
     "execution_count": 47,
     "metadata": {},
     "output_type": "execute_result"
    }
   ],
   "execution_count": 47
  },
  {
   "metadata": {
    "ExecuteTime": {
     "end_time": "2025-10-08T19:09:03.176462Z",
     "start_time": "2025-10-08T19:09:03.171733Z"
    }
   },
   "cell_type": "code",
   "source": "4 * 0.3 / 10 / 0.36",
   "id": "1029542b913896b6",
   "outputs": [
    {
     "data": {
      "text/plain": [
       "0.3333333333333333"
      ]
     },
     "execution_count": 14,
     "metadata": {},
     "output_type": "execute_result"
    }
   ],
   "execution_count": 14
  },
  {
   "metadata": {},
   "cell_type": "code",
   "outputs": [],
   "execution_count": null,
   "source": "0.3",
   "id": "c6e744306be3b9b6"
  }
 ],
 "metadata": {
  "kernelspec": {
   "display_name": "Python 3",
   "language": "python",
   "name": "python3"
  },
  "language_info": {
   "codemirror_mode": {
    "name": "ipython",
    "version": 2
   },
   "file_extension": ".py",
   "mimetype": "text/x-python",
   "name": "python",
   "nbconvert_exporter": "python",
   "pygments_lexer": "ipython2",
   "version": "2.7.6"
  }
 },
 "nbformat": 4,
 "nbformat_minor": 5
}
