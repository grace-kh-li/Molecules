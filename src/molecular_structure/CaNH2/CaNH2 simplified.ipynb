{
 "cells": [
  {
   "metadata": {
    "ExecuteTime": {
     "end_time": "2025-09-29T22:35:40.912050Z",
     "start_time": "2025-09-29T22:35:25.966232Z"
    }
   },
   "cell_type": "code",
   "source": [
    "from CaNH2_package import CaNH2_molecule\n",
    "molecule = CaNH2_molecule(vibronic_states_to_include=(\"X\",\"A\",\"B\"))"
   ],
   "id": "49a88a93eee7491a",
   "outputs": [],
   "execution_count": 31
  },
  {
   "metadata": {
    "ExecuteTime": {
     "end_time": "2025-09-29T22:35:40.917729Z",
     "start_time": "2025-09-29T22:35:40.915647Z"
    }
   },
   "cell_type": "code",
   "source": [
    "states = molecule.eigenstates\n",
    "Es = molecule.Es\n",
    "TDMs = molecule.TDMs"
   ],
   "id": "6336e09e0fa09081",
   "outputs": [],
   "execution_count": 32
  },
  {
   "metadata": {
    "ExecuteTime": {
     "end_time": "2025-09-29T22:40:22.144626Z",
     "start_time": "2025-09-29T22:40:22.134438Z"
    }
   },
   "cell_type": "code",
   "source": [
    "X_states_111_J32 = []\n",
    "for i in range(len(states)):\n",
    "    if states[i][0].J == 3/2 and states[i][0].elec == \"X\" and states[i].ka == 1 and states[i].kc == 1 and states[i][0].N == 1:\n",
    "        X_states_111_J32.append(states[i])\n",
    "\n",
    "X_states_211_J52 = []\n",
    "for i in range(len(states)):\n",
    "    if states[i][0].J == 5/2 and states[i][0].elec == \"X\" and states[i].ka == 1 and states[i].kc == 1 and states[i][0].N == 2:\n",
    "        X_states_211_J52.append(states[i])\n",
    "\n",
    "X_states = []\n",
    "for i in range(len(states)):\n",
    "    if states[i][0].elec == \"X\" and states[i][0].N <= 2:\n",
    "        X_states.append(states[i])\n",
    "\n",
    "A_states = []\n",
    "for i in range(len(states)):\n",
    "    if states[i][0].elec == \"A\" and states[i][0].J == 1/2 and states[i].ka == 0 and states[i].kc == 0 and states[i][0].N == 0:\n",
    "        A_states.append(states[i])\n",
    "\n",
    "B_states = []\n",
    "for i in range(len(states)):\n",
    "    if states[i][0].elec == \"B\" and states[i][0].J == 3/2 and states[i].ka == 0 and states[i].kc == 1 and states[i][0].N == 1:\n",
    "        B_states.append(states[i])"
   ],
   "id": "b1dd3b958601ceb6",
   "outputs": [],
   "execution_count": 41
  },
  {
   "metadata": {
    "ExecuteTime": {
     "end_time": "2025-09-29T22:37:53.911081Z",
     "start_time": "2025-09-29T22:37:53.906804Z"
    }
   },
   "cell_type": "code",
   "source": "X_states_111_J32",
   "id": "636868cc002403a3",
   "outputs": [
    {
     "data": {
      "text/plain": [
       "[|elec = X, S = 0.5, N=1, ka=1, kc=1, J = 1.5, m = -1.5> = 0.71 |elec=X, S=0.5, N=1, k=-1, J=1.5, m=-1.5> + -0.71 |elec=X, S=0.5, N=1, k=1, J=1.5, m=-1.5> + -3.9e-05 |elec=X, S=0.5, N=2, k=-1, J=1.5, m=-1.5> + -3.9e-05 |elec=X, S=0.5, N=2, k=1, J=1.5, m=-1.5> ,\n",
       " |elec = X, S = 0.5, N=1, ka=1, kc=1, J = 1.5, m = -0.5> = 0.71 |elec=X, S=0.5, N=1, k=1, J=1.5, m=-0.5> + -0.71 |elec=X, S=0.5, N=1, k=-1, J=1.5, m=-0.5> + 3.9e-05 |elec=X, S=0.5, N=2, k=1, J=1.5, m=-0.5> + 3.9e-05 |elec=X, S=0.5, N=2, k=-1, J=1.5, m=-0.5> ,\n",
       " |elec = X, S = 0.5, N=1, ka=1, kc=1, J = 1.5, m = 0.5> = 0.71 |elec=X, S=0.5, N=1, k=-1, J=1.5, m=0.5> + -0.71 |elec=X, S=0.5, N=1, k=1, J=1.5, m=0.5> + -3.9e-05 |elec=X, S=0.5, N=2, k=1, J=1.5, m=0.5> + -3.9e-05 |elec=X, S=0.5, N=2, k=-1, J=1.5, m=0.5> ,\n",
       " |elec = X, S = 0.5, N=1, ka=1, kc=1, J = 1.5, m = 1.5> = 0.71 |elec=X, S=0.5, N=1, k=-1, J=1.5, m=1.5> + -0.71 |elec=X, S=0.5, N=1, k=1, J=1.5, m=1.5> + -3.9e-05 |elec=X, S=0.5, N=2, k=1, J=1.5, m=1.5> + -3.9e-05 |elec=X, S=0.5, N=2, k=-1, J=1.5, m=1.5> ]"
      ]
     },
     "execution_count": 38,
     "metadata": {},
     "output_type": "execute_result"
    }
   ],
   "execution_count": 38
  },
  {
   "metadata": {
    "ExecuteTime": {
     "end_time": "2025-09-29T22:38:01.177780Z",
     "start_time": "2025-09-29T22:38:01.172991Z"
    }
   },
   "cell_type": "code",
   "source": "A_states",
   "id": "d097655512caa774",
   "outputs": [
    {
     "data": {
      "text/plain": [
       "[|elec = A, S = 0.5, N=0, ka=0, kc=0, J = 0.5, m = -0.5> = 1.00 |elec=A, S=0.5, N=0, k=0, J=0.5, m=-0.5> ,\n",
       " |elec = A, S = 0.5, N=0, ka=0, kc=0, J = 0.5, m = 0.5> = 1.00 |elec=A, S=0.5, N=0, k=0, J=0.5, m=0.5> ]"
      ]
     },
     "execution_count": 39,
     "metadata": {},
     "output_type": "execute_result"
    }
   ],
   "execution_count": 39
  },
  {
   "metadata": {
    "ExecuteTime": {
     "end_time": "2025-09-29T22:43:13.008755Z",
     "start_time": "2025-09-29T22:43:13.002341Z"
    }
   },
   "cell_type": "code",
   "source": "TDMs[-1][X_states_111_J32[0],A_states[0]]",
   "id": "7a30208578290c24",
   "outputs": [
    {
     "data": {
      "text/plain": [
       "np.complex128(0.577350268306604-3.0312978574779185e-19j)"
      ]
     },
     "execution_count": 51,
     "metadata": {},
     "output_type": "execute_result"
    }
   ],
   "execution_count": 51
  },
  {
   "metadata": {
    "ExecuteTime": {
     "end_time": "2025-09-29T22:38:01.754367Z",
     "start_time": "2025-09-29T22:38:01.749029Z"
    }
   },
   "cell_type": "code",
   "source": "B_states",
   "id": "2b2676ac358a9060",
   "outputs": [
    {
     "data": {
      "text/plain": [
       "[|elec = B, S = 0.5, N=1, ka=0, kc=1, J = 1.5, m = -1.5> = 1.00 |elec=B, S=0.5, N=1, k=0, J=1.5, m=-1.5> + 1.6e-04 |elec=B, S=0.5, N=2, k=2, J=1.5, m=-1.5> + -1.6e-04 |elec=B, S=0.5, N=2, k=-2, J=1.5, m=-1.5> ,\n",
       " |elec = B, S = 0.5, N=1, ka=0, kc=1, J = 1.5, m = -0.5> = 1.00 |elec=B, S=0.5, N=1, k=0, J=1.5, m=-0.5> + 1.6e-04 |elec=B, S=0.5, N=2, k=2, J=1.5, m=-0.5> + -1.6e-04 |elec=B, S=0.5, N=2, k=-2, J=1.5, m=-0.5> ,\n",
       " |elec = B, S = 0.5, N=1, ka=0, kc=1, J = 1.5, m = 0.5> = 1.00 |elec=B, S=0.5, N=1, k=0, J=1.5, m=0.5> + 1.6e-04 |elec=B, S=0.5, N=2, k=2, J=1.5, m=0.5> + -1.6e-04 |elec=B, S=0.5, N=2, k=-2, J=1.5, m=0.5> ,\n",
       " |elec = B, S = 0.5, N=1, ka=0, kc=1, J = 1.5, m = 1.5> = 1.00 |elec=B, S=0.5, N=1, k=0, J=1.5, m=1.5> + 1.6e-04 |elec=B, S=0.5, N=2, k=2, J=1.5, m=1.5> + -1.6e-04 |elec=B, S=0.5, N=2, k=-2, J=1.5, m=1.5> ]"
      ]
     },
     "execution_count": 40,
     "metadata": {},
     "output_type": "execute_result"
    }
   ],
   "execution_count": 40
  },
  {
   "metadata": {
    "ExecuteTime": {
     "end_time": "2025-09-29T22:45:30.441166Z",
     "start_time": "2025-09-29T22:45:30.414647Z"
    }
   },
   "cell_type": "code",
   "source": [
    "import numpy as np\n",
    "sA = 0 # all decays from A_000\n",
    "for q in (-1,0,1):\n",
    "    for s_A in A_states:\n",
    "        for s_X in X_states:\n",
    "            sA += np.abs(TDMs[q][s_A,s_X])**2\n",
    "\n",
    "sA_111_32 = 0 # decays from A_000 into X_111_J=3/2\n",
    "for q in (-1,0,1):\n",
    "    for s_A in A_states:\n",
    "        for s_X in X_states_111_J32:\n",
    "            sA_111_32 += np.abs(TDMs[q][s_A,s_X])**2\n",
    "\n",
    "sB = 0 # all decays from B_101\n",
    "for q in (-1,0,1):\n",
    "    for s_B in B_states:\n",
    "        for s_X in X_states:\n",
    "            sB += np.abs(TDMs[q][s_B,s_X])**2\n",
    "\n",
    "sB_211_52 = 0 # all decays from B_101\n",
    "for q in (-1,0,1):\n",
    "    for s_B in B_states:\n",
    "        for s_X in X_states_211_J52:\n",
    "            sB_211_52 += np.abs(TDMs[q][s_B,s_X])**2"
   ],
   "id": "31cdbc955ab6b4fe",
   "outputs": [],
   "execution_count": 55
  },
  {
   "metadata": {
    "ExecuteTime": {
     "end_time": "2025-09-29T22:46:18.466936Z",
     "start_time": "2025-09-29T22:46:18.463529Z"
    }
   },
   "cell_type": "code",
   "source": "sA_111_32/sA",
   "id": "75872deb14888dd8",
   "outputs": [
    {
     "data": {
      "text/plain": [
       "np.float64(0.6666666646291249)"
      ]
     },
     "execution_count": 62,
     "metadata": {},
     "output_type": "execute_result"
    }
   ],
   "execution_count": 62
  },
  {
   "metadata": {
    "ExecuteTime": {
     "end_time": "2025-09-29T22:46:18.598184Z",
     "start_time": "2025-09-29T22:46:18.594712Z"
    }
   },
   "cell_type": "code",
   "source": "sB_211_52/sB",
   "id": "66367139374ab3a1",
   "outputs": [
    {
     "data": {
      "text/plain": [
       "np.float64(0.4500399638683101)"
      ]
     },
     "execution_count": 63,
     "metadata": {},
     "output_type": "execute_result"
    }
   ],
   "execution_count": 63
  },
  {
   "metadata": {},
   "cell_type": "code",
   "outputs": [],
   "execution_count": null,
   "source": "",
   "id": "90a0eccd3788fde0"
  }
 ],
 "metadata": {
  "kernelspec": {
   "display_name": "Python 3",
   "language": "python",
   "name": "python3"
  },
  "language_info": {
   "codemirror_mode": {
    "name": "ipython",
    "version": 2
   },
   "file_extension": ".py",
   "mimetype": "text/x-python",
   "name": "python",
   "nbconvert_exporter": "python",
   "pygments_lexer": "ipython2",
   "version": "2.7.6"
  }
 },
 "nbformat": 4,
 "nbformat_minor": 5
}
