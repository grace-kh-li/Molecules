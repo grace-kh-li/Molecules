{
 "cells": [
  {
   "metadata": {
    "ExecuteTime": {
     "end_time": "2025-09-29T23:06:15.463075Z",
     "start_time": "2025-09-29T23:06:05.906983Z"
    }
   },
   "cell_type": "code",
   "source": [
    "from CaNH2_package import CaNH2_molecule\n",
    "molecule = CaNH2_molecule(vibronic_states_to_include=(\"X\",\"A\",\"B\"))"
   ],
   "id": "49a88a93eee7491a",
   "outputs": [],
   "execution_count": 2
  },
  {
   "metadata": {
    "ExecuteTime": {
     "end_time": "2025-09-29T23:06:15.471674Z",
     "start_time": "2025-09-29T23:06:15.469722Z"
    }
   },
   "cell_type": "code",
   "source": [
    "states = molecule.eigenstates\n",
    "Es = molecule.Es\n",
    "TDMs = molecule.TDMs"
   ],
   "id": "6336e09e0fa09081",
   "outputs": [],
   "execution_count": 3
  },
  {
   "metadata": {
    "ExecuteTime": {
     "end_time": "2025-09-29T23:21:18.788187Z",
     "start_time": "2025-09-29T23:21:18.783364Z"
    }
   },
   "cell_type": "code",
   "source": [
    "X_states_111_J12 = []\n",
    "for i in range(len(states)):\n",
    "    if states[i][0].J == 1/2 and states[i][0].elec == \"X\" and states[i].ka == 1 and states[i].kc == 1 and states[i][0].N == 1:\n",
    "        X_states_111_J12.append(states[i])\n",
    "\n",
    "X_states_111_J32 = []\n",
    "for i in range(len(states)):\n",
    "    if states[i][0].J == 3/2 and states[i][0].elec == \"X\" and states[i].ka == 1 and states[i].kc == 1 and states[i][0].N == 1:\n",
    "        X_states_111_J32.append(states[i])\n",
    "\n",
    "X_states_211_J32 = []\n",
    "for i in range(len(states)):\n",
    "    if states[i][0].J == 3/2 and states[i][0].elec == \"X\" and states[i].ka == 1 and states[i].kc == 1 and states[i][0].N == 2:\n",
    "        X_states_211_J32.append(states[i])\n",
    "\n",
    "X_states_211_J52 = []\n",
    "for i in range(len(states)):\n",
    "    if states[i][0].J == 5/2 and states[i][0].elec == \"X\" and states[i].ka == 1 and states[i].kc == 1 and states[i][0].N == 2:\n",
    "        X_states_211_J52.append(states[i])\n",
    "\n",
    "X_states = []\n",
    "for i in range(len(states)):\n",
    "    if states[i][0].elec == \"X\" and states[i][0].N <= 2:\n",
    "        X_states.append(states[i])\n",
    "\n",
    "A_states = []\n",
    "for i in range(len(states)):\n",
    "    if states[i][0].elec == \"A\" and states[i][0].J == 1/2 and states[i].ka == 0 and states[i].kc == 0 and states[i][0].N == 0:\n",
    "        A_states.append(states[i])\n",
    "\n",
    "B_states = []\n",
    "for i in range(len(states)):\n",
    "    if states[i][0].elec == \"B\" and states[i][0].J == 3/2 and states[i].ka == 2 and states[i].kc == 1 and states[i][0].N == 2:\n",
    "        B_states.append(states[i])"
   ],
   "id": "b1dd3b958601ceb6",
   "outputs": [],
   "execution_count": 66
  },
  {
   "metadata": {
    "ExecuteTime": {
     "end_time": "2025-09-29T23:21:21.074819Z",
     "start_time": "2025-09-29T23:21:21.071531Z"
    }
   },
   "cell_type": "code",
   "source": "X_states_111_J12",
   "id": "636868cc002403a3",
   "outputs": [
    {
     "data": {
      "text/plain": [
       "[|elec = X, S = 0.5, N=1, ka=1, kc=1, J = 0.5, m = -0.5> = 0.71 |elec=X, S=0.5, N=1, k=-1, J=0.5, m=-0.5> + -0.71 |elec=X, S=0.5, N=1, k=1, J=0.5, m=-0.5> + -1.1e-05 |elec=X, S=0.5, N=1, k=-1, J=0.5, m=0.5> + 1.1e-05 |elec=X, S=0.5, N=1, k=1, J=0.5, m=0.5> ,\n",
       " |elec = X, S = 0.5, N=1, ka=1, kc=1, J = 0.5, m = 0.5> = 0.71 |elec=X, S=0.5, N=1, k=-1, J=0.5, m=0.5> + -0.71 |elec=X, S=0.5, N=1, k=1, J=0.5, m=0.5> + -1.2e-05 |elec=X, S=0.5, N=1, k=1, J=0.5, m=-0.5> + 1.2e-05 |elec=X, S=0.5, N=1, k=-1, J=0.5, m=-0.5> ]"
      ]
     },
     "execution_count": 67,
     "metadata": {},
     "output_type": "execute_result"
    }
   ],
   "execution_count": 67
  },
  {
   "metadata": {
    "ExecuteTime": {
     "end_time": "2025-09-29T23:06:15.510476Z",
     "start_time": "2025-09-29T23:06:15.505925Z"
    }
   },
   "cell_type": "code",
   "source": "A_states",
   "id": "d097655512caa774",
   "outputs": [
    {
     "data": {
      "text/plain": [
       "[|elec = A, S = 0.5, N=0, ka=0, kc=0, J = 0.5, m = -0.5> = 1.00 |elec=A, S=0.5, N=0, k=0, J=0.5, m=-0.5> ,\n",
       " |elec = A, S = 0.5, N=0, ka=0, kc=0, J = 0.5, m = 0.5> = 1.00 |elec=A, S=0.5, N=0, k=0, J=0.5, m=0.5> ]"
      ]
     },
     "execution_count": 6,
     "metadata": {},
     "output_type": "execute_result"
    }
   ],
   "execution_count": 6
  },
  {
   "metadata": {
    "ExecuteTime": {
     "end_time": "2025-09-29T23:08:00.361110Z",
     "start_time": "2025-09-29T23:08:00.357734Z"
    }
   },
   "cell_type": "code",
   "source": "TDMs[-1][X_states_111_J32[0],A_states[0]]",
   "id": "7a30208578290c24",
   "outputs": [
    {
     "data": {
      "text/plain": [
       "np.complex128(0.577350268306604-3.0312978574779185e-19j)"
      ]
     },
     "execution_count": 24,
     "metadata": {},
     "output_type": "execute_result"
    }
   ],
   "execution_count": 24
  },
  {
   "metadata": {
    "ExecuteTime": {
     "end_time": "2025-09-29T23:08:00.801888Z",
     "start_time": "2025-09-29T23:08:00.798996Z"
    }
   },
   "cell_type": "code",
   "source": "B_states",
   "id": "2b2676ac358a9060",
   "outputs": [
    {
     "data": {
      "text/plain": [
       "[|elec = B, S = 0.5, N=1, ka=0, kc=1, J = 1.5, m = -1.5> = 1.00 |elec=B, S=0.5, N=1, k=0, J=1.5, m=-1.5> + 1.6e-04 |elec=B, S=0.5, N=2, k=2, J=1.5, m=-1.5> + -1.6e-04 |elec=B, S=0.5, N=2, k=-2, J=1.5, m=-1.5> ,\n",
       " |elec = B, S = 0.5, N=1, ka=0, kc=1, J = 1.5, m = -0.5> = 1.00 |elec=B, S=0.5, N=1, k=0, J=1.5, m=-0.5> + 1.6e-04 |elec=B, S=0.5, N=2, k=2, J=1.5, m=-0.5> + -1.6e-04 |elec=B, S=0.5, N=2, k=-2, J=1.5, m=-0.5> ,\n",
       " |elec = B, S = 0.5, N=1, ka=0, kc=1, J = 1.5, m = 0.5> = 1.00 |elec=B, S=0.5, N=1, k=0, J=1.5, m=0.5> + 1.6e-04 |elec=B, S=0.5, N=2, k=2, J=1.5, m=0.5> + -1.6e-04 |elec=B, S=0.5, N=2, k=-2, J=1.5, m=0.5> ,\n",
       " |elec = B, S = 0.5, N=1, ka=0, kc=1, J = 1.5, m = 1.5> = 1.00 |elec=B, S=0.5, N=1, k=0, J=1.5, m=1.5> + 1.6e-04 |elec=B, S=0.5, N=2, k=2, J=1.5, m=1.5> + -1.6e-04 |elec=B, S=0.5, N=2, k=-2, J=1.5, m=1.5> ]"
      ]
     },
     "execution_count": 25,
     "metadata": {},
     "output_type": "execute_result"
    }
   ],
   "execution_count": 25
  },
  {
   "metadata": {
    "ExecuteTime": {
     "end_time": "2025-09-30T16:30:25.332097Z",
     "start_time": "2025-09-30T16:30:25.306426Z"
    }
   },
   "cell_type": "code",
   "source": [
    "import numpy as np\n",
    "sA = 0 # all decays from A_000\n",
    "for q in (-1,0,1):\n",
    "    for s_A in A_states:\n",
    "        for s_X in X_states:\n",
    "            sA += np.abs(TDMs[q][s_A,s_X])**2\n",
    "\n",
    "sA_111_32 = 0 # decays from A_000 into X_111_J=3/2\n",
    "for q in (-1,0,1):\n",
    "    for s_A in A_states:\n",
    "        for s_X in X_states_111_J32:\n",
    "            sA_111_32 += np.abs(TDMs[q][s_A,s_X])**2\n",
    "\n",
    "sA_111_12 = 0 # decays from A_000 into X_111_J=3/2\n",
    "for q in (-1,0,1):\n",
    "    for s_A in A_states:\n",
    "        for s_X in X_states_111_J12:\n",
    "            sA_111_12 += np.abs(TDMs[q][s_A,s_X])**2\n",
    "\n",
    "sB = 0 # all decays from B_101\n",
    "for q in (-1,0,1):\n",
    "    for s_B in B_states:\n",
    "        for s_X in X_states:\n",
    "            sB += np.abs(TDMs[q][s_B,s_X])**2\n",
    "\n",
    "sB_211_52 = 0 #\n",
    "for q in (-1,0,1):\n",
    "    for s_B in B_states:\n",
    "        for s_X in X_states_211_J52:\n",
    "            sB_211_52 += np.abs(TDMs[q][s_B,s_X])**2\n",
    "\n",
    "sB_211_32 = 0 #\n",
    "for q in (-1,0,1):\n",
    "    for s_B in B_states:\n",
    "        for s_X in X_states_211_J32:\n",
    "            sB_211_32 += np.abs(TDMs[q][s_B,s_X])**2\n",
    "\n",
    "sB_111_32 = 0\n",
    "for q in (-1,0,1):\n",
    "    for s_B in B_states:\n",
    "        for s_X in X_states_111_J32:\n",
    "            sB_111_32 += np.abs(TDMs[q][s_B,s_X])**2\n",
    "\n",
    "sB_111_12 = 0 #\n",
    "for q in (-1,0,1):\n",
    "    for s_B in B_states:\n",
    "        for s_X in X_states_111_J12:\n",
    "            sB_111_12 += np.abs(TDMs[q][s_B,s_X])**2"
   ],
   "id": "31cdbc955ab6b4fe",
   "outputs": [],
   "execution_count": 72
  },
  {
   "metadata": {
    "ExecuteTime": {
     "end_time": "2025-09-29T23:20:18.020301Z",
     "start_time": "2025-09-29T23:20:18.015346Z"
    }
   },
   "cell_type": "code",
   "source": [
    "s = 0 # all decays from A_000\n",
    "\n",
    "for s_X in X_states_211_J32:\n",
    "    s = 0\n",
    "    for q in (-1,0,1):\n",
    "        for s_A in B_states:\n",
    "            s += np.abs(TDMs[q][s_A,s_X])**2\n",
    "    print(f\"{s_X}: {s:.3f}\")"
   ],
   "id": "28f0c4026ae8bf39",
   "outputs": [
    {
     "name": "stdout",
     "output_type": "stream",
     "text": [
      "|elec = X, S = 0.5, N=2, ka=1, kc=1, J = 1.5, m = -1.5> = 0.71 |elec=X, S=0.5, N=2, k=-1, J=1.5, m=-1.5> + 0.71 |elec=X, S=0.5, N=2, k=1, J=1.5, m=-1.5> + -3.9e-05 |elec=X, S=0.5, N=1, k=1, J=1.5, m=-1.5> + 3.9e-05 |elec=X, S=0.5, N=1, k=-1, J=1.5, m=-1.5> : 0.050\n",
      "|elec = X, S = 0.5, N=2, ka=1, kc=1, J = 1.5, m = -0.5> = 0.71 |elec=X, S=0.5, N=2, k=1, J=1.5, m=-0.5> + 0.71 |elec=X, S=0.5, N=2, k=-1, J=1.5, m=-0.5> + -3.9e-05 |elec=X, S=0.5, N=1, k=1, J=1.5, m=-0.5> + 3.9e-05 |elec=X, S=0.5, N=1, k=-1, J=1.5, m=-0.5> : 0.050\n",
      "|elec = X, S = 0.5, N=2, ka=1, kc=1, J = 1.5, m = 0.5> = 0.71 |elec=X, S=0.5, N=2, k=-1, J=1.5, m=0.5> + 0.71 |elec=X, S=0.5, N=2, k=1, J=1.5, m=0.5> + -3.9e-05 |elec=X, S=0.5, N=1, k=1, J=1.5, m=0.5> + 3.9e-05 |elec=X, S=0.5, N=1, k=-1, J=1.5, m=0.5> : 0.050\n",
      "|elec = X, S = 0.5, N=2, ka=1, kc=1, J = 1.5, m = 1.5> = 0.71 |elec=X, S=0.5, N=2, k=1, J=1.5, m=1.5> + 0.71 |elec=X, S=0.5, N=2, k=-1, J=1.5, m=1.5> + -3.9e-05 |elec=X, S=0.5, N=1, k=1, J=1.5, m=1.5> + 3.9e-05 |elec=X, S=0.5, N=1, k=-1, J=1.5, m=1.5> : 0.050\n"
     ]
    }
   ],
   "execution_count": 65
  },
  {
   "metadata": {
    "ExecuteTime": {
     "end_time": "2025-09-29T23:21:28.295509Z",
     "start_time": "2025-09-29T23:21:28.291995Z"
    }
   },
   "cell_type": "code",
   "source": "sB_211_32/sB",
   "id": "a84029b2373250da",
   "outputs": [
    {
     "data": {
      "text/plain": [
       "np.float64(0.32149366347300956)"
      ]
     },
     "execution_count": 69,
     "metadata": {},
     "output_type": "execute_result"
    }
   ],
   "execution_count": 69
  },
  {
   "metadata": {
    "ExecuteTime": {
     "end_time": "2025-09-29T23:21:29.034484Z",
     "start_time": "2025-09-29T23:21:29.030867Z"
    }
   },
   "cell_type": "code",
   "source": "sB_211_52/sB",
   "id": "d64839fb463d0054",
   "outputs": [
    {
     "data": {
      "text/plain": [
       "np.float64(0.035628674080898384)"
      ]
     },
     "execution_count": 70,
     "metadata": {},
     "output_type": "execute_result"
    }
   ],
   "execution_count": 70
  },
  {
   "metadata": {
    "ExecuteTime": {
     "end_time": "2025-09-30T16:30:39.435399Z",
     "start_time": "2025-09-30T16:30:39.430227Z"
    }
   },
   "cell_type": "code",
   "source": "sB_111_32/sB",
   "id": "90a0eccd3788fde0",
   "outputs": [
    {
     "data": {
      "text/plain": [
       "np.float64(0.10730619323105965)"
      ]
     },
     "execution_count": 73,
     "metadata": {},
     "output_type": "execute_result"
    }
   ],
   "execution_count": 73
  },
  {
   "metadata": {
    "ExecuteTime": {
     "end_time": "2025-09-30T16:30:46.922251Z",
     "start_time": "2025-09-30T16:30:46.919376Z"
    }
   },
   "cell_type": "code",
   "source": "sB_111_12/sB",
   "id": "3f0c18a89ce7236",
   "outputs": [
    {
     "data": {
      "text/plain": [
       "np.float64(0.5355714692146987)"
      ]
     },
     "execution_count": 74,
     "metadata": {},
     "output_type": "execute_result"
    }
   ],
   "execution_count": 74
  },
  {
   "metadata": {},
   "cell_type": "code",
   "outputs": [],
   "execution_count": null,
   "source": "",
   "id": "b790820b935fd125"
  },
  {
   "metadata": {
    "ExecuteTime": {
     "end_time": "2025-09-30T16:31:28.508300Z",
     "start_time": "2025-09-30T16:31:28.503187Z"
    }
   },
   "cell_type": "code",
   "source": "sA_111_12/sA",
   "id": "a4378552c57c536c",
   "outputs": [
    {
     "data": {
      "text/plain": [
       "np.float64(0.33333333333333326)"
      ]
     },
     "execution_count": 75,
     "metadata": {},
     "output_type": "execute_result"
    }
   ],
   "execution_count": 75
  },
  {
   "metadata": {
    "ExecuteTime": {
     "end_time": "2025-09-30T16:31:34.684564Z",
     "start_time": "2025-09-30T16:31:34.680143Z"
    }
   },
   "cell_type": "code",
   "source": "sA_111_32/sA",
   "id": "4aaa7794e7fbd8f0",
   "outputs": [
    {
     "data": {
      "text/plain": [
       "np.float64(0.6666666646291249)"
      ]
     },
     "execution_count": 76,
     "metadata": {},
     "output_type": "execute_result"
    }
   ],
   "execution_count": 76
  },
  {
   "metadata": {
    "ExecuteTime": {
     "end_time": "2025-10-01T18:34:42.939524Z",
     "start_time": "2025-10-01T18:34:42.927537Z"
    }
   },
   "cell_type": "code",
   "source": "1/(1-sA_111_32/sA)",
   "id": "119b9653b9c96c",
   "outputs": [
    {
     "data": {
      "text/plain": [
       "np.float64(2.999999981662125)"
      ]
     },
     "execution_count": 78,
     "metadata": {},
     "output_type": "execute_result"
    }
   ],
   "execution_count": 78
  },
  {
   "metadata": {
    "ExecuteTime": {
     "end_time": "2025-10-01T18:35:20.625166Z",
     "start_time": "2025-10-01T18:35:20.620043Z"
    }
   },
   "cell_type": "code",
   "source": "1/(1-sB_211_52/sB)",
   "id": "dd644ccc8fc30414",
   "outputs": [
    {
     "data": {
      "text/plain": [
       "np.float64(1.0369449745376267)"
      ]
     },
     "execution_count": 79,
     "metadata": {},
     "output_type": "execute_result"
    }
   ],
   "execution_count": 79
  },
  {
   "metadata": {
    "ExecuteTime": {
     "end_time": "2025-10-01T18:39:30.230156Z",
     "start_time": "2025-10-01T18:39:30.225538Z"
    }
   },
   "cell_type": "code",
   "source": "1.5 / 6 * 4 + 1.5",
   "id": "706e8179e0b24fae",
   "outputs": [
    {
     "data": {
      "text/plain": [
       "2.5"
      ]
     },
     "execution_count": 80,
     "metadata": {},
     "output_type": "execute_result"
    }
   ],
   "execution_count": 80
  },
  {
   "metadata": {
    "ExecuteTime": {
     "end_time": "2025-10-01T18:39:38.639230Z",
     "start_time": "2025-10-01T18:39:38.632254Z"
    }
   },
   "cell_type": "code",
   "source": "1 + 1/4*2",
   "id": "34daae064890a244",
   "outputs": [
    {
     "data": {
      "text/plain": [
       "1.5"
      ]
     },
     "execution_count": 81,
     "metadata": {},
     "output_type": "execute_result"
    }
   ],
   "execution_count": 81
  },
  {
   "metadata": {
    "ExecuteTime": {
     "end_time": "2025-10-01T18:39:46.258536Z",
     "start_time": "2025-10-01T18:39:46.253170Z"
    }
   },
   "cell_type": "code",
   "source": "2.5/1.5",
   "id": "f76c1a19c6365cf9",
   "outputs": [
    {
     "data": {
      "text/plain": [
       "1.6666666666666667"
      ]
     },
     "execution_count": 82,
     "metadata": {},
     "output_type": "execute_result"
    }
   ],
   "execution_count": 82
  },
  {
   "metadata": {},
   "cell_type": "code",
   "outputs": [],
   "execution_count": null,
   "source": "",
   "id": "1677bcb20454c141"
  }
 ],
 "metadata": {
  "kernelspec": {
   "display_name": "Python 3",
   "language": "python",
   "name": "python3"
  },
  "language_info": {
   "codemirror_mode": {
    "name": "ipython",
    "version": 2
   },
   "file_extension": ".py",
   "mimetype": "text/x-python",
   "name": "python",
   "nbconvert_exporter": "python",
   "pygments_lexer": "ipython2",
   "version": "2.7.6"
  }
 },
 "nbformat": 4,
 "nbformat_minor": 5
}
