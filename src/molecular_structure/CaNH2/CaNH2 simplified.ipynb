{
 "cells": [
  {
   "metadata": {
    "ExecuteTime": {
     "end_time": "2025-11-01T18:30:23.394768Z",
     "start_time": "2025-11-01T18:30:11.382867Z"
    }
   },
   "cell_type": "code",
   "source": [
    "from CaNH2_package import CaNH2_molecule\n",
    "molecule = CaNH2_molecule(vibronic_states_to_include=(\"X\",\"A\",\"B\"),N_range=(0,3))"
   ],
   "id": "49a88a93eee7491a",
   "outputs": [],
   "execution_count": 1
  },
  {
   "metadata": {
    "ExecuteTime": {
     "end_time": "2025-11-01T18:31:13.527412Z",
     "start_time": "2025-11-01T18:31:13.523197Z"
    }
   },
   "cell_type": "code",
   "outputs": [],
   "execution_count": 12,
   "source": [
    "def get_total_d2(s1, s2, TDMs):\n",
    "    s = 0\n",
    "    for q in (-1,0,1):\n",
    "        s += np.abs(TDMs[q][s1,s2])**2\n",
    "    return s"
   ],
   "id": "eb80b306ab89afee"
  },
  {
   "metadata": {
    "ExecuteTime": {
     "end_time": "2025-11-01T18:30:49.532108Z",
     "start_time": "2025-11-01T18:30:49.530250Z"
    }
   },
   "cell_type": "code",
   "source": [
    "states = molecule.eigenstates\n",
    "Es = molecule.Es\n",
    "TDMs = molecule.TDMs\n",
    "\n",
    "for i, s in enumerate(states):\n",
    "    s.E = Es[i] / 1000"
   ],
   "id": "6336e09e0fa09081",
   "outputs": [],
   "execution_count": 5
  },
  {
   "metadata": {
    "ExecuteTime": {
     "end_time": "2025-11-01T18:30:50.043838Z",
     "start_time": "2025-11-01T18:30:50.039546Z"
    }
   },
   "cell_type": "code",
   "outputs": [],
   "execution_count": 6,
   "source": [
    "X_states_111 = []\n",
    "for i in range(len(states)):\n",
    "    if states[i][0].elec == \"X\" and states[i].ka == 1 and states[i].kc == 1 and states[i][0].N == 1:\n",
    "        X_states_111.append(states[i])\n",
    "\n",
    "X_states_211 = []\n",
    "for i in range(len(states)):\n",
    "    if states[i][0].elec == \"X\" and states[i].ka == 1 and states[i].kc == 1 and states[i][0].N == 2:\n",
    "        X_states_211.append(states[i])\n",
    "\n",
    "X_states_313 = []\n",
    "for i in range(len(states)):\n",
    "    if states[i][0].elec == \"X\" and states[i].ka == 1 and states[i].kc == 3 and states[i][0].N == 3:\n",
    "        X_states_313.append(states[i])\n",
    "\n",
    "X_states = []\n",
    "for i in range(len(states)):\n",
    "    if states[i][0].elec == \"X\":\n",
    "        X_states.append(states[i])\n",
    "\n",
    "A_states_000 = []\n",
    "for i in range(len(states)):\n",
    "    if states[i][0].elec == \"A\" and states[i][0].J == 1/2 and states[i].ka == 0 and states[i].kc == 0 and states[i][0].N == 0:\n",
    "        A_states_000.append(states[i])\n",
    "\n",
    "A_states_202_J32= []\n",
    "for i in range(len(states)):\n",
    "    if states[i][0].elec == \"A\" and states[i][0].J == 3/2 and states[i].ka == 0 and states[i].kc == 2 and states[i][0].N == 2:\n",
    "        A_states_202_J32.append(states[i])\n",
    "\n",
    "B_states_101_J32 = []\n",
    "for i in range(len(states)):\n",
    "    if states[i][0].elec == \"B\" and states[i][0].J == 3/2 and states[i].ka == 0 and states[i].kc == 1 and states[i][0].N == 1:\n",
    "        B_states_101_J32.append(states[i])"
   ],
   "id": "b1dd3b958601ceb6"
  },
  {
   "metadata": {
    "ExecuteTime": {
     "end_time": "2025-11-01T18:30:50.209712Z",
     "start_time": "2025-11-01T18:30:50.205280Z"
    }
   },
   "cell_type": "code",
   "source": "-X_states_111[0].E + X_states_211[0].E + 475.810705",
   "id": "9bbad416bfae29aa",
   "outputs": [
    {
     "data": {
      "text/plain": [
       "np.float64(475.8467213947967)"
      ]
     },
     "execution_count": 7,
     "metadata": {},
     "output_type": "execute_result"
    }
   ],
   "execution_count": 7
  },
  {
   "metadata": {
    "ExecuteTime": {
     "end_time": "2025-11-01T18:30:50.408341Z",
     "start_time": "2025-11-01T18:30:50.407071Z"
    }
   },
   "cell_type": "code",
   "source": "",
   "id": "913bff67199e903e",
   "outputs": [],
   "execution_count": null
  },
  {
   "metadata": {
    "ExecuteTime": {
     "end_time": "2025-11-01T18:30:53.249971Z",
     "start_time": "2025-11-01T18:30:53.231516Z"
    }
   },
   "cell_type": "code",
   "source": "B_states_101_J32[0].E - X_states_111[0].E",
   "id": "62ca24a8a1d5c8ff",
   "outputs": [
    {
     "ename": "IndexError",
     "evalue": "list index out of range",
     "output_type": "error",
     "traceback": [
      "\u001B[31m---------------------------------------------------------------------------\u001B[39m",
      "\u001B[31mIndexError\u001B[39m                                Traceback (most recent call last)",
      "\u001B[36mCell\u001B[39m\u001B[36m \u001B[39m\u001B[32mIn[8]\u001B[39m\u001B[32m, line 1\u001B[39m\n\u001B[32m----> \u001B[39m\u001B[32m1\u001B[39m \u001B[43mB_states_101_J32\u001B[49m\u001B[43m[\u001B[49m\u001B[32;43m0\u001B[39;49m\u001B[43m]\u001B[49m.E - X_states_111[\u001B[32m0\u001B[39m].E\n",
      "\u001B[31mIndexError\u001B[39m: list index out of range"
     ]
    }
   ],
   "execution_count": 8
  },
  {
   "metadata": {
    "ExecuteTime": {
     "end_time": "2025-10-09T16:43:51.331857Z",
     "start_time": "2025-10-09T16:43:51.288678Z"
    }
   },
   "cell_type": "code",
   "source": [
    "sA = 0\n",
    "for s in A_states_202_J32:\n",
    "    for s1 in X_states:\n",
    "        sA += get_total_d2(s, s1, TDMs)\n",
    "\n",
    "sA_111 = 0\n",
    "for s in A_states_202_J32:\n",
    "    for s1 in X_states_111:\n",
    "        sA_111 += get_total_d2(s, s1, TDMs)\n",
    "\n",
    "sA_211 = 0\n",
    "for s in A_states_202_J32:\n",
    "    for s1 in X_states_211:\n",
    "        sA_211 += get_total_d2(s, s1, TDMs)\n",
    "\n",
    "sA_313 = 0\n",
    "for s in A_states_202_J32:\n",
    "    for s1 in X_states_313:\n",
    "        sA_313 += get_total_d2(s, s1, TDMs)\n",
    "\n",
    "print(sA,sA_111/sA,sA_211/sA,sA_313/sA)"
   ],
   "id": "6b7433b0b268bb38",
   "outputs": [
    {
     "name": "stdout",
     "output_type": "stream",
     "text": [
      "4.000000000020087 0.10032790379309513 0.4994065361600907 0.4002652037158701\n"
     ]
    }
   ],
   "execution_count": 55
  },
  {
   "metadata": {
    "ExecuteTime": {
     "end_time": "2025-10-09T16:42:39.802150Z",
     "start_time": "2025-10-09T16:42:39.798666Z"
    }
   },
   "cell_type": "code",
   "source": "0.4013116151743958 +1.9976261446503942+ 1.6010608148715206",
   "id": "31e56ce7b0fbaef9",
   "outputs": [
    {
     "data": {
      "text/plain": [
       "3.9999985746963107"
      ]
     },
     "execution_count": 54,
     "metadata": {},
     "output_type": "execute_result"
    }
   ],
   "execution_count": 54
  },
  {
   "metadata": {
    "ExecuteTime": {
     "end_time": "2025-10-08T15:11:31.017250Z",
     "start_time": "2025-10-08T15:11:31.013893Z"
    }
   },
   "cell_type": "code",
   "source": "B_states_101_J32[0].E - X_states_111[0].E",
   "id": "636868cc002403a3",
   "outputs": [
    {
     "data": {
      "text/plain": [
       "np.float64(475.8468533441467)"
      ]
     },
     "execution_count": 17,
     "metadata": {},
     "output_type": "execute_result"
    }
   ],
   "execution_count": 17
  },
  {
   "metadata": {
    "ExecuteTime": {
     "end_time": "2025-10-09T14:32:20.644459Z",
     "start_time": "2025-10-09T14:32:20.629628Z"
    }
   },
   "cell_type": "code",
   "source": "B_states_101_J32[0].E - X_states_211[0].E",
   "id": "f3d05508211955be",
   "outputs": [
    {
     "data": {
      "text/plain": [
       "np.float64(475.8108369593406)"
      ]
     },
     "execution_count": 39,
     "metadata": {},
     "output_type": "execute_result"
    }
   ],
   "execution_count": 39
  },
  {
   "metadata": {
    "ExecuteTime": {
     "end_time": "2025-10-08T15:11:31.323761Z",
     "start_time": "2025-10-08T15:11:31.320347Z"
    }
   },
   "cell_type": "code",
   "source": "A_states_000[0].E - X_states_111[0].E",
   "id": "38198080cce82fa6",
   "outputs": [
    {
     "data": {
      "text/plain": [
       "np.float64(463.2096902103847)"
      ]
     },
     "execution_count": 18,
     "metadata": {},
     "output_type": "execute_result"
    }
   ],
   "execution_count": 18
  },
  {
   "metadata": {
    "ExecuteTime": {
     "end_time": "2025-10-08T15:29:50.862574Z",
     "start_time": "2025-10-08T15:29:50.859594Z"
    }
   },
   "cell_type": "code",
   "source": "2.083e-2 + 8.66e-3 * 2",
   "id": "7a30208578290c24",
   "outputs": [
    {
     "data": {
      "text/plain": [
       "0.03815"
      ]
     },
     "execution_count": 21,
     "metadata": {},
     "output_type": "execute_result"
    }
   ],
   "execution_count": 21
  },
  {
   "metadata": {
    "ExecuteTime": {
     "end_time": "2025-10-08T16:41:43.935375Z",
     "start_time": "2025-10-08T16:41:43.931076Z"
    }
   },
   "cell_type": "code",
   "source": [
    "def get_total_d2(s1, s2, TDMs):\n",
    "    s = 0\n",
    "    for q in (-1,0,1):\n",
    "        s += np.abs(TDMs[q][s1,s2])**2\n",
    "    return s"
   ],
   "id": "9d424ac9e905ed7a",
   "outputs": [],
   "execution_count": 41
  },
  {
   "metadata": {},
   "cell_type": "code",
   "outputs": [],
   "execution_count": null,
   "source": "",
   "id": "f15b0b40a304b33c"
  },
  {
   "metadata": {
    "ExecuteTime": {
     "end_time": "2025-11-01T18:31:02.101329Z",
     "start_time": "2025-11-01T18:31:02.090162Z"
    }
   },
   "cell_type": "code",
   "source": [
    "import numpy as np\n",
    "\n",
    "X_states_111_J12 = []\n",
    "for i in range(len(states)):\n",
    "    if states[i][0].elec == \"X\" and states[i].ka == 1 and states[i].kc == 1 and states[i][0].N == 1 and states[i][0].J == 1/2:\n",
    "        X_states_111_J12.append(states[i])\n",
    "\n",
    "X_states_111_J32 = []\n",
    "for i in range(len(states)):\n",
    "    if states[i][0].elec == \"X\" and states[i].ka == 1 and states[i].kc == 1 and states[i][0].N == 1 and states[i][0].J == 3/2:\n",
    "        X_states_111_J32.append(states[i])\n",
    "\n",
    "X_states_211_J32 = []\n",
    "for i in range(len(states)):\n",
    "    if states[i][0].elec == \"X\" and states[i].ka == 1 and states[i].kc == 1 and states[i][0].N == 2 and states[i][0].J == 3/2:\n",
    "        X_states_211_J32.append(states[i])\n",
    "\n",
    "X_states_211_J52 = []\n",
    "for i in range(len(states)):\n",
    "    if states[i][0].elec == \"X\" and states[i].ka == 1 and states[i].kc == 1 and states[i][0].N == 2 and states[i][0].J == 5/2:\n",
    "        X_states_211_J52.append(states[i])\n",
    "\n",
    "X_states_211 = []\n",
    "for i in range(len(states)):\n",
    "    if states[i][0].elec == \"X\" and states[i].ka == 1 and states[i].kc == 1 and states[i][0].N == 2:\n",
    "        X_states_211.append(states[i])\n",
    "\n",
    "sB = 0 # all decays from B_101\n",
    "for q in (-1,0,1):\n",
    "    for s_B in B_states_101_J32:\n",
    "        for s_X in X_states:\n",
    "            sB += np.abs(TDMs[q][s_B,s_X])**2\n",
    "\n",
    "sB_111_32 = 0\n",
    "for s_B in B_states_101_J32:\n",
    "    for s_X in X_states_111_J32:\n",
    "        sB_111_32 += get_total_d2(s_X, s_B, TDMs)\n",
    "\n",
    "sB_111_12 = 0 #\n",
    "for s_B in B_states_101_J32:\n",
    "    for s_X in X_states_111_J12:\n",
    "        sB_111_12 += get_total_d2(s_X, s_B, TDMs)\n",
    "\n",
    "sB_211_32 = 0\n",
    "for s_B in B_states_101_J32:\n",
    "    for s_X in X_states_211_J32:\n",
    "        sB_211_32 += get_total_d2(s_X, s_B, TDMs)\n",
    "\n",
    "sB_211_52 = 0 #\n",
    "for s_B in B_states_101_J32:\n",
    "    for s_X in X_states_211_J52:\n",
    "        sB_211_52 += get_total_d2(s_X, s_B, TDMs)"
   ],
   "id": "31cdbc955ab6b4fe",
   "outputs": [],
   "execution_count": 9
  },
  {
   "metadata": {
    "ExecuteTime": {
     "end_time": "2025-11-01T18:31:02.739441Z",
     "start_time": "2025-11-01T18:31:02.722558Z"
    }
   },
   "cell_type": "code",
   "source": "sB_111_32 / sB",
   "id": "69a6a173b27c4a5b",
   "outputs": [
    {
     "ename": "ZeroDivisionError",
     "evalue": "division by zero",
     "output_type": "error",
     "traceback": [
      "\u001B[31m---------------------------------------------------------------------------\u001B[39m",
      "\u001B[31mZeroDivisionError\u001B[39m                         Traceback (most recent call last)",
      "\u001B[36mCell\u001B[39m\u001B[36m \u001B[39m\u001B[32mIn[10]\u001B[39m\u001B[32m, line 1\u001B[39m\n\u001B[32m----> \u001B[39m\u001B[32m1\u001B[39m \u001B[43msB_111_32\u001B[49m\u001B[43m \u001B[49m\u001B[43m/\u001B[49m\u001B[43m \u001B[49m\u001B[43msB\u001B[49m\n",
      "\u001B[31mZeroDivisionError\u001B[39m: division by zero"
     ]
    }
   ],
   "execution_count": 10
  },
  {
   "metadata": {
    "ExecuteTime": {
     "end_time": "2025-10-08T19:14:42.866385Z",
     "start_time": "2025-10-08T19:14:42.862588Z"
    }
   },
   "cell_type": "code",
   "source": "sB_111_12 / sB",
   "id": "114e10dc5e690bb1",
   "outputs": [
    {
     "data": {
      "text/plain": [
       "np.float64(0.0833999681880426)"
      ]
     },
     "execution_count": 12,
     "metadata": {},
     "output_type": "execute_result"
    }
   ],
   "execution_count": 12
  },
  {
   "metadata": {
    "ExecuteTime": {
     "end_time": "2025-10-08T19:15:29.007098Z",
     "start_time": "2025-10-08T19:15:29.002203Z"
    }
   },
   "cell_type": "code",
   "source": "sB_211_32 / sB",
   "id": "89864151ec4c6637",
   "outputs": [
    {
     "data": {
      "text/plain": [
       "np.float64(0.04994408226203083)"
      ]
     },
     "execution_count": 14,
     "metadata": {},
     "output_type": "execute_result"
    }
   ],
   "execution_count": 14
  },
  {
   "metadata": {
    "ExecuteTime": {
     "end_time": "2025-10-08T19:15:34.512103Z",
     "start_time": "2025-10-08T19:15:34.507330Z"
    }
   },
   "cell_type": "code",
   "source": "sB_211_52 / sB",
   "id": "54e9fe318befc97b",
   "outputs": [
    {
     "data": {
      "text/plain": [
       "np.float64(0.45003996386811446)"
      ]
     },
     "execution_count": 15,
     "metadata": {},
     "output_type": "execute_result"
    }
   ],
   "execution_count": 15
  },
  {
   "metadata": {
    "ExecuteTime": {
     "end_time": "2025-10-08T19:17:20.375895Z",
     "start_time": "2025-10-08T19:17:20.373161Z"
    }
   },
   "cell_type": "code",
   "source": "1 / (1 - sB_211_52 / sB)",
   "id": "dc675acaedcb0e54",
   "outputs": [
    {
     "data": {
      "text/plain": [
       "np.float64(1.8183139397426884)"
      ]
     },
     "execution_count": 18,
     "metadata": {},
     "output_type": "execute_result"
    }
   ],
   "execution_count": 18
  },
  {
   "metadata": {
    "ExecuteTime": {
     "end_time": "2025-11-01T18:31:18.728359Z",
     "start_time": "2025-11-01T18:31:18.722398Z"
    }
   },
   "cell_type": "code",
   "source": [
    "s_A = 0\n",
    "for sA in A_states_000:\n",
    "    for sX in X_states_111:\n",
    "        s_A += get_total_d2(sA, sX, TDMs)\n",
    "\n",
    "s_A12 = 0\n",
    "for sA in A_states_000:\n",
    "    for sX in X_states_111_J12:\n",
    "        s_A12 += get_total_d2(sA, sX, TDMs)\n",
    "\n",
    "s_A32 = 0\n",
    "for sA in A_states_000:\n",
    "    for sX in X_states_111_J32:\n",
    "        s_A32 += get_total_d2(sA, sX, TDMs)\n"
   ],
   "id": "523498344701b2d3",
   "outputs": [],
   "execution_count": 13
  },
  {
   "metadata": {
    "ExecuteTime": {
     "end_time": "2025-11-01T18:31:19.825726Z",
     "start_time": "2025-11-01T18:31:19.822234Z"
    }
   },
   "cell_type": "code",
   "source": "s_A12/s_A",
   "id": "495aabce264cbde7",
   "outputs": [
    {
     "data": {
      "text/plain": [
       "np.float64(0.3333333340125139)"
      ]
     },
     "execution_count": 14,
     "metadata": {},
     "output_type": "execute_result"
    }
   ],
   "execution_count": 14
  },
  {
   "metadata": {
    "ExecuteTime": {
     "end_time": "2025-11-01T18:31:20.501587Z",
     "start_time": "2025-11-01T18:31:20.498491Z"
    }
   },
   "cell_type": "code",
   "source": "1 / (1-s_A32 / s_A)",
   "id": "890832efa820d5c7",
   "outputs": [
    {
     "data": {
      "text/plain": [
       "np.float64(2.9999999938873745)"
      ]
     },
     "execution_count": 15,
     "metadata": {},
     "output_type": "execute_result"
    }
   ],
   "execution_count": 15
  },
  {
   "metadata": {
    "ExecuteTime": {
     "end_time": "2025-10-08T19:23:09.048188Z",
     "start_time": "2025-10-08T19:23:09.044942Z"
    }
   },
   "cell_type": "code",
   "source": "2/3/4",
   "id": "3ad161884b8c438d",
   "outputs": [
    {
     "data": {
      "text/plain": [
       "0.16666666666666666"
      ]
     },
     "execution_count": 33,
     "metadata": {},
     "output_type": "execute_result"
    }
   ],
   "execution_count": 33
  },
  {
   "metadata": {
    "ExecuteTime": {
     "end_time": "2025-11-01T18:31:22.427408Z",
     "start_time": "2025-11-01T18:31:22.423190Z"
    }
   },
   "cell_type": "code",
   "source": [
    "for s in X_states_211_J52:\n",
    "    total = 0\n",
    "    for s1 in B_states_101_J32:\n",
    "        total += get_total_d2(s1, sX, TDMs)\n",
    "    print(total)"
   ],
   "id": "753f4d4653aed515",
   "outputs": [
    {
     "name": "stdout",
     "output_type": "stream",
     "text": [
      "0\n",
      "0\n",
      "0\n",
      "0\n",
      "0\n",
      "0\n"
     ]
    }
   ],
   "execution_count": 16
  },
  {
   "metadata": {
    "ExecuteTime": {
     "end_time": "2025-10-08T18:07:15.579327Z",
     "start_time": "2025-10-08T18:07:15.576727Z"
    }
   },
   "cell_type": "code",
   "source": [
    "s = 0 # all decays from A_000\n",
    "\n",
    "for s_X in X_states_111_J12:\n",
    "    s = 0\n",
    "    for q in (-1,0,1):\n",
    "        for s_A in B_states_101_J32:\n",
    "            s += np.abs(TDMs[q][s_A,s_X])**2\n",
    "    print(f\"{s_X}: {s:.3f}\")"
   ],
   "id": "28f0c4026ae8bf39",
   "outputs": [
    {
     "name": "stdout",
     "output_type": "stream",
     "text": [
      "|elec = X, S = 0.5, N=1, ka=1, kc=1, J = 0.5, m = -0.5> = 0.71 |elec=X, S=0.5, N=1, k=-1, J=0.5, m=-0.5> + -0.71 |elec=X, S=0.5, N=1, k=1, J=0.5, m=-0.5> : 0.167\n",
      "|elec = X, S = 0.5, N=1, ka=1, kc=1, J = 0.5, m = 0.5> = 0.71 |elec=X, S=0.5, N=1, k=1, J=0.5, m=0.5> + -0.71 |elec=X, S=0.5, N=1, k=-1, J=0.5, m=0.5> : 0.167\n"
     ]
    }
   ],
   "execution_count": 111
  },
  {
   "metadata": {
    "ExecuteTime": {
     "end_time": "2025-09-29T23:21:28.295509Z",
     "start_time": "2025-09-29T23:21:28.291995Z"
    }
   },
   "cell_type": "code",
   "source": "sB_211_32/sB",
   "id": "a84029b2373250da",
   "outputs": [
    {
     "data": {
      "text/plain": [
       "np.float64(0.32149366347300956)"
      ]
     },
     "execution_count": 69,
     "metadata": {},
     "output_type": "execute_result"
    }
   ],
   "execution_count": 69
  },
  {
   "metadata": {
    "ExecuteTime": {
     "end_time": "2025-09-29T23:21:29.034484Z",
     "start_time": "2025-09-29T23:21:29.030867Z"
    }
   },
   "cell_type": "code",
   "source": "sB_211_52/sB",
   "id": "d64839fb463d0054",
   "outputs": [
    {
     "data": {
      "text/plain": [
       "np.float64(0.035628674080898384)"
      ]
     },
     "execution_count": 70,
     "metadata": {},
     "output_type": "execute_result"
    }
   ],
   "execution_count": 70
  },
  {
   "metadata": {
    "ExecuteTime": {
     "end_time": "2025-09-30T16:30:39.435399Z",
     "start_time": "2025-09-30T16:30:39.430227Z"
    }
   },
   "cell_type": "code",
   "source": "sB_111_32/sB",
   "id": "90a0eccd3788fde0",
   "outputs": [
    {
     "data": {
      "text/plain": [
       "np.float64(0.10730619323105965)"
      ]
     },
     "execution_count": 73,
     "metadata": {},
     "output_type": "execute_result"
    }
   ],
   "execution_count": 73
  },
  {
   "metadata": {
    "ExecuteTime": {
     "end_time": "2025-09-30T16:30:46.922251Z",
     "start_time": "2025-09-30T16:30:46.919376Z"
    }
   },
   "cell_type": "code",
   "source": "sB_111_12/sB",
   "id": "3f0c18a89ce7236",
   "outputs": [
    {
     "data": {
      "text/plain": [
       "np.float64(0.5355714692146987)"
      ]
     },
     "execution_count": 74,
     "metadata": {},
     "output_type": "execute_result"
    }
   ],
   "execution_count": 74
  },
  {
   "metadata": {},
   "cell_type": "code",
   "outputs": [],
   "execution_count": null,
   "source": "",
   "id": "b790820b935fd125"
  },
  {
   "metadata": {
    "ExecuteTime": {
     "end_time": "2025-09-30T16:31:28.508300Z",
     "start_time": "2025-09-30T16:31:28.503187Z"
    }
   },
   "cell_type": "code",
   "source": "sA_111_12/sA",
   "id": "a4378552c57c536c",
   "outputs": [
    {
     "data": {
      "text/plain": [
       "np.float64(0.33333333333333326)"
      ]
     },
     "execution_count": 75,
     "metadata": {},
     "output_type": "execute_result"
    }
   ],
   "execution_count": 75
  },
  {
   "metadata": {
    "ExecuteTime": {
     "end_time": "2025-09-30T16:31:34.684564Z",
     "start_time": "2025-09-30T16:31:34.680143Z"
    }
   },
   "cell_type": "code",
   "source": "sA_111_32/sA",
   "id": "4aaa7794e7fbd8f0",
   "outputs": [
    {
     "data": {
      "text/plain": [
       "np.float64(0.6666666646291249)"
      ]
     },
     "execution_count": 76,
     "metadata": {},
     "output_type": "execute_result"
    }
   ],
   "execution_count": 76
  },
  {
   "metadata": {
    "ExecuteTime": {
     "end_time": "2025-10-01T18:34:42.939524Z",
     "start_time": "2025-10-01T18:34:42.927537Z"
    }
   },
   "cell_type": "code",
   "source": "1/(1-sA_111_32/sA)",
   "id": "119b9653b9c96c",
   "outputs": [
    {
     "data": {
      "text/plain": [
       "np.float64(2.999999981662125)"
      ]
     },
     "execution_count": 78,
     "metadata": {},
     "output_type": "execute_result"
    }
   ],
   "execution_count": 78
  },
  {
   "metadata": {
    "ExecuteTime": {
     "end_time": "2025-10-01T18:35:20.625166Z",
     "start_time": "2025-10-01T18:35:20.620043Z"
    }
   },
   "cell_type": "code",
   "source": "1/(1-sB_211_52/sB)",
   "id": "dd644ccc8fc30414",
   "outputs": [
    {
     "data": {
      "text/plain": [
       "np.float64(1.0369449745376267)"
      ]
     },
     "execution_count": 79,
     "metadata": {},
     "output_type": "execute_result"
    }
   ],
   "execution_count": 79
  },
  {
   "metadata": {
    "ExecuteTime": {
     "end_time": "2025-10-01T18:39:30.230156Z",
     "start_time": "2025-10-01T18:39:30.225538Z"
    }
   },
   "cell_type": "code",
   "source": "1.5 / 6 * 4 + 1.5",
   "id": "706e8179e0b24fae",
   "outputs": [
    {
     "data": {
      "text/plain": [
       "2.5"
      ]
     },
     "execution_count": 80,
     "metadata": {},
     "output_type": "execute_result"
    }
   ],
   "execution_count": 80
  },
  {
   "metadata": {
    "ExecuteTime": {
     "end_time": "2025-10-01T18:39:38.639230Z",
     "start_time": "2025-10-01T18:39:38.632254Z"
    }
   },
   "cell_type": "code",
   "source": "1 + 1/4*2",
   "id": "34daae064890a244",
   "outputs": [
    {
     "data": {
      "text/plain": [
       "1.5"
      ]
     },
     "execution_count": 81,
     "metadata": {},
     "output_type": "execute_result"
    }
   ],
   "execution_count": 81
  },
  {
   "metadata": {
    "ExecuteTime": {
     "end_time": "2025-10-01T18:39:46.258536Z",
     "start_time": "2025-10-01T18:39:46.253170Z"
    }
   },
   "cell_type": "code",
   "source": "2.5/1.5",
   "id": "f76c1a19c6365cf9",
   "outputs": [
    {
     "data": {
      "text/plain": [
       "1.6666666666666667"
      ]
     },
     "execution_count": 82,
     "metadata": {},
     "output_type": "execute_result"
    }
   ],
   "execution_count": 82
  },
  {
   "metadata": {},
   "cell_type": "code",
   "outputs": [],
   "execution_count": null,
   "source": "",
   "id": "1677bcb20454c141"
  }
 ],
 "metadata": {
  "kernelspec": {
   "display_name": "Python 3",
   "language": "python",
   "name": "python3"
  },
  "language_info": {
   "codemirror_mode": {
    "name": "ipython",
    "version": 2
   },
   "file_extension": ".py",
   "mimetype": "text/x-python",
   "name": "python",
   "nbconvert_exporter": "python",
   "pygments_lexer": "ipython2",
   "version": "2.7.6"
  }
 },
 "nbformat": 4,
 "nbformat_minor": 5
}
