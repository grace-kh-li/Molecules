{
 "cells": [
  {
   "metadata": {
    "ExecuteTime": {
     "end_time": "2025-11-01T18:40:58.947775Z",
     "start_time": "2025-11-01T18:40:46.719156Z"
    }
   },
   "cell_type": "code",
   "source": [
    "from CaNH2_package import CaNH2_molecule\n",
    "molecule = CaNH2_molecule(vibronic_states_to_include=(\"X\",\"A\"),N_range=(0,3))"
   ],
   "id": "ff31551f4ea77ea5",
   "outputs": [],
   "execution_count": 1
  },
  {
   "metadata": {
    "ExecuteTime": {
     "end_time": "2025-11-01T18:40:58.953408Z",
     "start_time": "2025-11-01T18:40:58.951452Z"
    }
   },
   "cell_type": "code",
   "source": "",
   "id": "2d47f58c2b611181",
   "outputs": [],
   "execution_count": 2
  },
  {
   "metadata": {
    "ExecuteTime": {
     "end_time": "2025-11-01T18:43:05.439712Z",
     "start_time": "2025-11-01T18:43:05.316759Z"
    }
   },
   "cell_type": "code",
   "source": "molecule.solve_Hamiltonian(m_shift=False, Zeeman=True,B=(0,0,1))",
   "id": "f256ae379bfb9101",
   "outputs": [],
   "execution_count": 22
  },
  {
   "metadata": {
    "ExecuteTime": {
     "end_time": "2025-11-01T18:43:05.443647Z",
     "start_time": "2025-11-01T18:43:05.441815Z"
    }
   },
   "cell_type": "code",
   "source": [
    "states = molecule.eigenstates\n",
    "Es = molecule.Es\n",
    "TDMs = molecule.TDMs\n",
    "\n",
    "for i, s in enumerate(states):\n",
    "    s.E = Es[i]"
   ],
   "id": "fb58072bd84d42ac",
   "outputs": [],
   "execution_count": 23
  },
  {
   "metadata": {
    "ExecuteTime": {
     "end_time": "2025-11-01T18:43:05.582707Z",
     "start_time": "2025-11-01T18:43:05.580081Z"
    }
   },
   "cell_type": "code",
   "source": [
    "X_states_111 = []\n",
    "for i in range(len(states)):\n",
    "    if states[i][0].elec == \"X\" and states[i].ka == 1 and states[i].kc == 1 and states[i][0].N == 1:\n",
    "        X_states_111.append(states[i])"
   ],
   "id": "ffa26e73bc52a207",
   "outputs": [],
   "execution_count": 24
  },
  {
   "metadata": {
    "ExecuteTime": {
     "end_time": "2025-11-01T18:43:05.850511Z",
     "start_time": "2025-11-01T18:43:05.846926Z"
    }
   },
   "cell_type": "code",
   "source": [
    "for s in X_states_111:\n",
    "    print(s.E - X_states_111[0].E)"
   ],
   "id": "fefbb92d77a24f2d",
   "outputs": [
    {
     "name": "stdout",
     "output_type": "stream",
     "text": [
      "0.0\n",
      "0.9333968799910508\n",
      "64.19964200473623\n",
      "65.1609928504331\n",
      "66.09438987297472\n",
      "67.00213803519728\n"
     ]
    }
   ],
   "execution_count": 25
  },
  {
   "metadata": {},
   "cell_type": "code",
   "outputs": [],
   "execution_count": null,
   "source": "",
   "id": "693b21d03847cf50"
  }
 ],
 "metadata": {
  "kernelspec": {
   "display_name": "Python 3",
   "language": "python",
   "name": "python3"
  },
  "language_info": {
   "codemirror_mode": {
    "name": "ipython",
    "version": 2
   },
   "file_extension": ".py",
   "mimetype": "text/x-python",
   "name": "python",
   "nbconvert_exporter": "python",
   "pygments_lexer": "ipython2",
   "version": "2.7.6"
  }
 },
 "nbformat": 4,
 "nbformat_minor": 5
}
