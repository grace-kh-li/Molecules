{
 "cells": [
  {
   "cell_type": "code",
   "execution_count": null,
   "id": "initial_id",
   "metadata": {
    "collapsed": true
   },
   "outputs": [],
   "source": [
    "from from src.group_theory.Group import *\n",
    "from src.molecular_structure.VibronicStates import VibronicState, OffsetOperator\n",
    "from src.molecular_structure.RotationalStates import STM_RotationalBasis\n",
    "from src.molecular_structure.molecular_Hamiltonians.SpinRotation import Spin_Rotation_Hamiltonian_evCaseB\n",
    "from src.quantum_mechanics.AngularMomentum import ElectronicSpinBasis\n",
    "from src.quantum_mechanics.Basis import OrthogonalBasis\n",
    "from src.molecular_structure.molecular_Hamiltonians.Rotational_Hamiltonian import *\n",
    "\n",
    "# uncomment the following if you want to print matrices and not see all the digits.\n",
    "# np.set_printoptions(formatter={'all': lambda x: f\"{x.real:.2f}\"},threshold=np.inf)\n",
    "\n",
    "def wavenumber_to_Hz(k):\n",
    "    if isinstance(k, list):\n",
    "        return [wavenumber_to_Hz(item) for item in k]\n",
    "    if isinstance(k, dict):\n",
    "        return {key: wavenumber_to_Hz(k[key]) for key in k}\n",
    "    return k * 299792458 * 100\n",
    "\n",
    "def wavenumber_to_GHz(k):\n",
    "    if isinstance(k, list):\n",
    "        return [wavenumber_to_GHz(item) for item in k]\n",
    "    if isinstance(k, dict):\n",
    "        return {key: wavenumber_to_GHz(k[key]) for key in k}\n",
    "    return k * 299792458 * 100 / 1e9\n",
    "\n",
    "# define symmetry group\n",
    "group = C2vGroup()\n",
    "A1 = C2v_A1_representation(group)\n",
    "A2 = C2v_A2_representation(group)\n",
    "B1 = C2v_B1_representation(group)\n",
    "B2 = C2v_B2_representation(group)"
   ]
  }
 ],
 "metadata": {
  "kernelspec": {
   "display_name": "Python 3",
   "language": "python",
   "name": "python3"
  },
  "language_info": {
   "codemirror_mode": {
    "name": "ipython",
    "version": 2
   },
   "file_extension": ".py",
   "mimetype": "text/x-python",
   "name": "python",
   "nbconvert_exporter": "python",
   "pygments_lexer": "ipython2",
   "version": "2.7.6"
  }
 },
 "nbformat": 4,
 "nbformat_minor": 5
}
