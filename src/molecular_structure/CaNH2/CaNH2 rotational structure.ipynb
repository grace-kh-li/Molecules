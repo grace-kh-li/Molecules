{
 "cells": [
  {
   "cell_type": "code",
   "id": "initial_id",
   "metadata": {
    "collapsed": true,
    "ExecuteTime": {
     "end_time": "2025-09-18T22:32:55.634551Z",
     "start_time": "2025-09-18T22:32:55.118937Z"
    }
   },
   "source": [
    "from src.molecular_structure.RotationalStates import *\n",
    "import numpy as np\n",
    "import matplotlib.pyplot as plt"
   ],
   "outputs": [],
   "execution_count": 1
  },
  {
   "metadata": {
    "ExecuteTime": {
     "end_time": "2025-09-18T22:32:55.639750Z",
     "start_time": "2025-09-18T22:32:55.638177Z"
    }
   },
   "cell_type": "code",
   "source": [
    "def wavenumber_to_Hz(k):\n",
    "    return k * 299792458 * 100\n",
    "def wavenumber_to_GHz(k):\n",
    "    return k * 299792458 * 100 / 1e9"
   ],
   "id": "29b5f28fad0db250",
   "outputs": [],
   "execution_count": 2
  },
  {
   "metadata": {},
   "cell_type": "markdown",
   "source": [
    "### CaNH2\n",
    "Rotational constants from Morbi, Zhao, Bernath, JCP 1997\n",
    "\n",
    "X state:"
   ],
   "id": "71d3a194abb6cb36"
  },
  {
   "metadata": {
    "ExecuteTime": {
     "end_time": "2025-09-18T22:32:55.787426Z",
     "start_time": "2025-09-18T22:32:55.784030Z"
    }
   },
   "cell_type": "code",
   "source": [
    "A = wavenumber_to_GHz(13.05744)\n",
    "BC_avg2 = wavenumber_to_GHz(0.296652) # (B+C)/2\n",
    "BC_diff4 = wavenumber_to_GHz(1.8894e-3) # (B-C)/4\n",
    "rot_basis_X = ATM_RotationalBasis(A,BC_avg2,BC_diff4,R_range=(0,2),m_range=(0,0))"
   ],
   "id": "1958e33936d1577d",
   "outputs": [],
   "execution_count": 3
  },
  {
   "metadata": {
    "ExecuteTime": {
     "end_time": "2025-09-18T22:32:58.505553Z",
     "start_time": "2025-09-18T22:32:58.498830Z"
    }
   },
   "cell_type": "code",
   "source": "rot_basis_X",
   "id": "e31845263507a8d8",
   "outputs": [
    {
     "data": {
      "text/plain": [
       "ATM rotational basis = \n",
       "{|0_00, mR=0> =  = 1.00 |R=0, k=0, mR=0> , \n",
       " |1_01, mR=0> =  = 1.00 |R=1, k=0, mR=0> , \n",
       " |1_11, mR=0> =  = 0.71 |R=1, k=-1, mR=0> + -0.71 |R=1, k=1, mR=0> , \n",
       " |1_10, mR=0> =  = 0.71 |R=1, k=1, mR=0> + 0.71 |R=1, k=-1, mR=0> , \n",
       " |2_02, mR=0> =  = 1.00 |R=2, k=0, mR=0> + -1.8e-04 |R=2, k=2, mR=0> + -1.8e-04 |R=2, k=-2, mR=0> , \n",
       " |2_12, mR=0> =  = 0.71 |R=2, k=-1, mR=0> + -0.71 |R=2, k=1, mR=0> , \n",
       " |2_11, mR=0> =  = 0.71 |R=2, k=1, mR=0> + 0.71 |R=2, k=-1, mR=0> , \n",
       " |2_21, mR=0> =  = 0.71 |R=2, k=-2, mR=0> + -0.71 |R=2, k=2, mR=0> , \n",
       " |2_20, mR=0> =  = 0.71 |R=2, k=2, mR=0> + 0.71 |R=2, k=-2, mR=0> + 2.6e-04 |R=2, k=0, mR=0>  }"
      ]
     },
     "execution_count": 4,
     "metadata": {},
     "output_type": "execute_result"
    }
   ],
   "execution_count": 4
  },
  {
   "metadata": {
    "ExecuteTime": {
     "end_time": "2025-09-17T17:55:55.497191Z",
     "start_time": "2025-09-17T17:55:55.494481Z"
    }
   },
   "cell_type": "code",
   "source": "rot_basis_X[3].E - rot_basis_X[2].E",
   "id": "502ba275a2d3d427",
   "outputs": [
    {
     "data": {
      "text/plain": [
       "np.float64(0.22657114805804213)"
      ]
     },
     "execution_count": 5,
     "metadata": {},
     "output_type": "execute_result"
    }
   ],
   "execution_count": 5
  },
  {
   "metadata": {
    "ExecuteTime": {
     "end_time": "2025-09-17T17:55:56.124743Z",
     "start_time": "2025-09-17T17:55:56.120483Z"
    }
   },
   "cell_type": "code",
   "source": "rot_basis_X[1].E",
   "id": "d5e37737f672d3da",
   "outputs": [
    {
     "data": {
      "text/plain": [
       "np.float64(17.786806450123205)"
      ]
     },
     "execution_count": 6,
     "metadata": {},
     "output_type": "execute_result"
    }
   ],
   "execution_count": 6
  },
  {
   "metadata": {},
   "cell_type": "markdown",
   "source": "States in the Ka=1 Stack in X state",
   "id": "eed483806c3498a2"
  },
  {
   "metadata": {
    "ExecuteTime": {
     "end_time": "2025-09-17T17:55:59.270968Z",
     "start_time": "2025-09-17T17:55:59.266111Z"
    }
   },
   "cell_type": "code",
   "source": [
    "\n",
    "rot_basis_X = ATM_RotationalBasis(A,BC_avg2,BC_diff4,R_range=(0,2),m_range=(0,0), extra_label=\"X\")\n",
    "\n",
    "ka1_X = rot_basis_X.get_ka_subspace(1)\n",
    "for b in ka1_X:\n",
    "    print(b)\n",
    "    print(f\"{b.E:.6f} GHz\")\n",
    "    print()"
   ],
   "id": "f6f275e311bfed68",
   "outputs": [
    {
     "name": "stdout",
     "output_type": "stream",
     "text": [
      "|X, 1_11, mR=0> =  0.71 |R=1, k=-1, mR=0> + -0.71 |R=1, k=1, mR=0> \n",
      "400.232321 GHz\n",
      "\n",
      "|X, 1_10, mR=0> =  0.71 |R=1, k=1, mR=0> + 0.71 |R=1, k=-1, mR=0> \n",
      "400.458892 GHz\n",
      "\n",
      "|X, 2_12, mR=0> =  0.71 |R=2, k=-1, mR=0> + -0.71 |R=2, k=1, mR=0> \n",
      "435.579363 GHz\n",
      "\n",
      "|X, 2_11, mR=0> =  0.71 |R=2, k=1, mR=0> + 0.71 |R=2, k=-1, mR=0> \n",
      "436.259076 GHz\n",
      "\n"
     ]
    }
   ],
   "execution_count": 7
  },
  {
   "metadata": {},
   "cell_type": "code",
   "outputs": [],
   "execution_count": null,
   "source": "",
   "id": "aa75d87dbf5e571e"
  },
  {
   "metadata": {
    "ExecuteTime": {
     "end_time": "2025-09-02T23:59:33.856476Z",
     "start_time": "2025-09-02T23:59:33.853069Z"
    }
   },
   "cell_type": "code",
   "source": [
    "ka1_X = rot_basis_X.get_ka_subspace(1)\n",
    "for b in ka1_X:\n",
    "    print(b)\n",
    "    print(f\"{b.E:.6f} GHz\")\n",
    "    print()"
   ],
   "id": "dafc9b2f9fa10e16",
   "outputs": [
    {
     "name": "stdout",
     "output_type": "stream",
     "text": [
      "|X, 1_11, mR=0> =  0.71 |R=1, k=-1, mR=0> + -0.71 |R=1, k=1, mR=0> \n",
      "400.232321 GHz\n",
      "\n",
      "|X, 1_10, mR=0> =  0.71 |R=1, k=1, mR=0> + 0.71 |R=1, k=-1, mR=0> \n",
      "400.458892 GHz\n",
      "\n",
      "|X, 2_12, mR=0> =  0.71 |R=2, k=-1, mR=0> + -0.71 |R=2, k=1, mR=0> \n",
      "435.579363 GHz\n",
      "\n",
      "|X, 2_11, mR=0> =  0.71 |R=2, k=1, mR=0> + 0.71 |R=2, k=-1, mR=0> \n",
      "436.259076 GHz\n",
      "\n"
     ]
    }
   ],
   "execution_count": 11
  },
  {
   "metadata": {
    "ExecuteTime": {
     "end_time": "2025-09-02T23:39:36.312053Z",
     "start_time": "2025-09-02T23:39:36.306732Z"
    }
   },
   "cell_type": "code",
   "source": [
    "for b in rot_basis_X:\n",
    "    print(b)"
   ],
   "id": "7f79ab20967e4ec9",
   "outputs": [
    {
     "name": "stdout",
     "output_type": "stream",
     "text": [
      "|X, 0_00, mR=0> =  1.00 |R=0, k=0, mR=0> \n",
      "|X, 1_01, mR=0> =  1.00 |R=1, k=0, mR=0> \n",
      "|X, 1_11, mR=0> =  0.71 |R=1, k=1, mR=0> + -0.71 |R=1, k=-1, mR=0> \n",
      "|X, 1_10, mR=0> =  0.71 |R=1, k=-1, mR=0> + 0.71 |R=1, k=1, mR=0> \n",
      "|X, 2_02, mR=0> =  1.00 |R=2, k=0, mR=0> + -1.7e-04 |R=2, k=2, mR=0> + -1.7e-04 |R=2, k=-2, mR=0> \n",
      "|X, 2_12, mR=0> =  0.71 |R=2, k=-1, mR=0> + -0.71 |R=2, k=1, mR=0> \n",
      "|X, 2_11, mR=0> =  0.71 |R=2, k=1, mR=0> + 0.71 |R=2, k=-1, mR=0> \n",
      "|X, 2_21, mR=0> =  0.71 |R=2, k=-2, mR=0> + -0.71 |R=2, k=2, mR=0> \n",
      "|X, 2_20, mR=0> =  0.71 |R=2, k=2, mR=0> + 0.71 |R=2, k=-2, mR=0> + 2.5e-04 |R=2, k=0, mR=0> \n"
     ]
    }
   ],
   "execution_count": 19
  },
  {
   "metadata": {
    "ExecuteTime": {
     "end_time": "2025-09-02T23:38:35.753943Z",
     "start_time": "2025-09-02T23:38:35.751019Z"
    }
   },
   "cell_type": "code",
   "source": [
    "for b in rot_basis_X:\n",
    "    print(b.E)"
   ],
   "id": "39022323cb8b9548",
   "outputs": [
    {
     "name": "stdout",
     "output_type": "stream",
     "text": [
      "0.0\n",
      "17.928\n",
      "488.19200000000006\n",
      "488.46000000000015\n",
      "53.78388548421403\n",
      "523.78\n",
      "524.5840000000002\n",
      "1935.3760000000004\n",
      "1935.3761145157862\n"
     ]
    }
   ],
   "execution_count": 18
  },
  {
   "metadata": {},
   "cell_type": "markdown",
   "source": "A state:",
   "id": "7c918854a4c1c6e3"
  },
  {
   "metadata": {
    "ExecuteTime": {
     "end_time": "2025-09-02T23:59:50.358570Z",
     "start_time": "2025-09-02T23:59:50.352629Z"
    }
   },
   "cell_type": "code",
   "source": [
    "E_A = (wavenumber_to_Hz(15464.36739)-149e6)/1e9 # X to A spacing, modified to fit experiment\n",
    "A_A = wavenumber_to_GHz(11.44854)\n",
    "BC_avg2_A = wavenumber_to_GHz(0.303107) # (B+C)/2\n",
    "BC_diff4_A = wavenumber_to_GHz(1.958e-3) # (B-C)/4\n",
    "rot_basis_A = ATM_RotationalBasis(A_A,BC_avg2_A,BC_diff4_A,R_range=(0,5), m_range=(0,0), extra_label=\"A\")"
   ],
   "id": "ac1c6ef164f8e1fd",
   "outputs": [],
   "execution_count": 12
  },
  {
   "metadata": {
    "ExecuteTime": {
     "end_time": "2025-09-02T23:59:51.221993Z",
     "start_time": "2025-09-02T23:59:51.218986Z"
    }
   },
   "cell_type": "code",
   "source": [
    "# ka0_A = rot_basis_A.get_ka_subspace(0)\n",
    "# for b in ka0_A:\n",
    "#     print(b)\n",
    "#     print(f\"{b.E:.2f} GHz\")\n",
    "#     print()"
   ],
   "id": "f6170bfa0bd4910b",
   "outputs": [],
   "execution_count": 13
  },
  {
   "metadata": {
    "ExecuteTime": {
     "end_time": "2025-09-02T23:59:52.662065Z",
     "start_time": "2025-09-02T23:59:52.658486Z"
    }
   },
   "cell_type": "code",
   "source": [
    "X_111 = rot_basis_X.get_state(1,1,1)\n",
    "A_000 = rot_basis_A.get_state(0,0,0)\n",
    "mainline = A_000.E - X_111.E + E_A\n",
    "print(f\"X-A cycling transition: {mainline * 1e-3:.6f} THz\")"
   ],
   "id": "801524c831b021df",
   "outputs": [
    {
     "name": "stdout",
     "output_type": "stream",
     "text": [
      "X-A cycling transition: 463.209690 THz\n"
     ]
    }
   ],
   "execution_count": 14
  },
  {
   "metadata": {
    "ExecuteTime": {
     "end_time": "2025-09-02T23:31:27.766819Z",
     "start_time": "2025-09-02T23:31:27.763643Z"
    }
   },
   "cell_type": "code",
   "source": [
    "# for rot_state_A in rot_basis_A:\n",
    "#     for rot_state_X in rot_basis_X:\n",
    "#         if abs(rot_state_A.ka - rot_state_X.ka) == 1 and abs(rot_state_A.kc - rot_state_X.kc) == 1 and abs(rot_state_A.R - rot_state_X.R) <= 1: # b-type\n",
    "#             delta_E = rot_state_A.E - rot_state_X.E - mainline\n",
    "#             if abs(delta_E) < 40:\n",
    "#                 print(f\"{rot_state_X.label} -> {rot_state_A.label}: {delta_E}\")"
   ],
   "id": "4ab3fb6ae80e0492",
   "outputs": [],
   "execution_count": 15
  },
  {
   "metadata": {
    "ExecuteTime": {
     "end_time": "2025-08-28T18:56:35.026881Z",
     "start_time": "2025-08-28T18:56:35.024258Z"
    }
   },
   "cell_type": "markdown",
   "source": "B State",
   "id": "6bb67f37182eae58"
  },
  {
   "metadata": {
    "ExecuteTime": {
     "end_time": "2025-09-02T23:59:55.967538Z",
     "start_time": "2025-09-02T23:59:55.958732Z"
    }
   },
   "cell_type": "code",
   "source": [
    "E_B = (wavenumber_to_Hz(15885.28188)-129e6)/1e9 # X to B spacing\n",
    "A_B = wavenumber_to_GHz(14.3664)\n",
    "BC_avg2_B = wavenumber_to_GHz(0.301693) # (B+C)/2\n",
    "BC_diff4_B = wavenumber_to_GHz(4.68e-3) # (B-C)/4\n",
    "rot_basis_B = ATM_RotationalBasis(A_A,BC_avg2_A,BC_diff4_A,R_range=(0,5), m_range=(0,0), extra_label=\"B\")"
   ],
   "id": "56d286d7dd9f6101",
   "outputs": [],
   "execution_count": 15
  },
  {
   "metadata": {
    "ExecuteTime": {
     "end_time": "2025-09-02T23:59:56.750664Z",
     "start_time": "2025-09-02T23:59:56.747328Z"
    }
   },
   "cell_type": "code",
   "source": "print(rot_basis_B)",
   "id": "e99d1609e50e948b",
   "outputs": [
    {
     "name": "stdout",
     "output_type": "stream",
     "text": [
      "basis = \n",
      "{|B, 0_00, mR=0> =  1.00 |R=0, k=0, mR=0> , \n",
      " |B, 1_01, mR=0> =  1.00 |R=1, k=0, mR=0> , \n",
      " |B, 1_11, mR=0> =  0.71 |R=1, k=1, mR=0> + -0.71 |R=1, k=-1, mR=0> , \n",
      " |B, 1_10, mR=0> =  0.71 |R=1, k=1, mR=0> + 0.71 |R=1, k=-1, mR=0> , \n",
      " |B, 2_02, mR=0> =  1.00 |R=2, k=0, mR=0> + -2.2e-04 |R=2, k=2, mR=0> + -2.2e-04 |R=2, k=-2, mR=0> , \n",
      " |B, 2_12, mR=0> =  0.71 |R=2, k=1, mR=0> + -0.71 |R=2, k=-1, mR=0> , \n",
      " |B, 2_11, mR=0> =  0.71 |R=2, k=1, mR=0> + 0.71 |R=2, k=-1, mR=0> , \n",
      " |B, 2_21, mR=0> =  0.71 |R=2, k=-2, mR=0> + -0.71 |R=2, k=2, mR=0> , \n",
      " |B, 2_20, mR=0> =  0.71 |R=2, k=2, mR=0> + 0.71 |R=2, k=-2, mR=0> + 3.0e-04 |R=2, k=0, mR=0> , \n",
      " |B, 3_03, mR=0> =  1.00 |R=3, k=0, mR=0> + -4.8e-04 |R=3, k=-2, mR=0> + -4.8e-04 |R=3, k=2, mR=0> , \n",
      " |B, 3_13, mR=0> =  0.71 |R=3, k=1, mR=0> + -0.71 |R=3, k=-1, mR=0> + 1.2e-04 |R=3, k=-3, mR=0> + -1.2e-04 |R=3, k=3, mR=0> , \n",
      " |B, 3_12, mR=0> =  0.71 |R=3, k=-1, mR=0> + 0.71 |R=3, k=1, mR=0> + -1.2e-04 |R=3, k=-3, mR=0> + -1.2e-04 |R=3, k=3, mR=0> , \n",
      " |B, 3_22, mR=0> =  0.71 |R=3, k=2, mR=0> + -0.71 |R=3, k=-2, mR=0> , \n",
      " |B, 3_21, mR=0> =  0.71 |R=3, k=-2, mR=0> + 0.71 |R=3, k=2, mR=0> + 6.8e-04 |R=3, k=0, mR=0> , \n",
      " |B, 3_31, mR=0> =  0.71 |R=3, k=-3, mR=0> + -0.71 |R=3, k=3, mR=0> + 1.2e-04 |R=3, k=-1, mR=0> + -1.2e-04 |R=3, k=1, mR=0> , \n",
      " |B, 3_30, mR=0> =  0.71 |R=3, k=3, mR=0> + 0.71 |R=3, k=-3, mR=0> + 1.2e-04 |R=3, k=1, mR=0> + 1.2e-04 |R=3, k=-1, mR=0> , \n",
      " |B, 4_04, mR=0> =  1.00 |R=4, k=0, mR=0> + -8.3e-04 |R=4, k=2, mR=0> + -8.3e-04 |R=4, k=-2, mR=0> , \n",
      " |B, 4_14, mR=0> =  0.71 |R=4, k=-1, mR=0> + -0.71 |R=4, k=1, mR=0> + -2.5e-04 |R=4, k=-3, mR=0> + 2.5e-04 |R=4, k=3, mR=0> , \n",
      " |B, 4_13, mR=0> =  0.71 |R=4, k=1, mR=0> + 0.71 |R=4, k=-1, mR=0> + -2.5e-04 |R=4, k=3, mR=0> + -2.5e-04 |R=4, k=-3, mR=0> , \n",
      " |B, 4_23, mR=0> =  0.71 |R=4, k=-2, mR=0> + -0.71 |R=4, k=2, mR=0> + -1.1e-04 |R=4, k=-4, mR=0> + 1.1e-04 |R=4, k=4, mR=0> , \n",
      " |B, 4_22, mR=0> =  0.71 |R=4, k=-2, mR=0> + 0.71 |R=4, k=2, mR=0> + 1.2e-03 |R=4, k=0, mR=0> + -1.1e-04 |R=4, k=-4, mR=0> + -1.1e-04 |R=4, k=4, mR=0> , \n",
      " |B, 4_32, mR=0> =  0.71 |R=4, k=-3, mR=0> + -0.71 |R=4, k=3, mR=0> + 2.5e-04 |R=4, k=-1, mR=0> + -2.5e-04 |R=4, k=1, mR=0> , \n",
      " |B, 4_31, mR=0> =  0.71 |R=4, k=-3, mR=0> + 0.71 |R=4, k=3, mR=0> + 2.5e-04 |R=4, k=-1, mR=0> + 2.5e-04 |R=4, k=1, mR=0> , \n",
      " |B, 4_41, mR=0> =  0.77 |R=4, k=4, mR=0> + -0.64 |R=4, k=-4, mR=0> + 1.2e-04 |R=4, k=2, mR=0> + -9.9e-05 |R=4, k=-2, mR=0> , \n",
      " |B, 4_40, mR=0> =  0.83 |R=4, k=4, mR=0> + 0.56 |R=4, k=-4, mR=0> + 1.3e-04 |R=4, k=2, mR=0> + 8.6e-05 |R=4, k=-2, mR=0> , \n",
      " |B, 5_05, mR=0> =  1.00 |R=5, k=0, mR=0> + -1.3e-03 |R=5, k=2, mR=0> + -1.3e-03 |R=5, k=-2, mR=0> , \n",
      " |B, 5_15, mR=0> =  0.71 |R=5, k=1, mR=0> + -0.71 |R=5, k=-1, mR=0> + 4.0e-04 |R=5, k=-3, mR=0> + -4.0e-04 |R=5, k=3, mR=0> , \n",
      " |B, 5_14, mR=0> =  0.71 |R=5, k=1, mR=0> + 0.71 |R=5, k=-1, mR=0> + -4.0e-04 |R=5, k=3, mR=0> + -4.0e-04 |R=5, k=-3, mR=0> , \n",
      " |B, 5_24, mR=0> =  0.71 |R=5, k=2, mR=0> + -0.71 |R=5, k=-2, mR=0> + -2.2e-04 |R=5, k=4, mR=0> + 2.2e-04 |R=5, k=-4, mR=0> , \n",
      " |B, 5_23, mR=0> =  0.71 |R=5, k=-2, mR=0> + 0.71 |R=5, k=2, mR=0> + 1.8e-03 |R=5, k=0, mR=0> + -2.2e-04 |R=5, k=-4, mR=0> + -2.2e-04 |R=5, k=4, mR=0> , \n",
      " |B, 5_33, mR=0> =  0.71 |R=5, k=3, mR=0> + -0.71 |R=5, k=-3, mR=0> + 4.0e-04 |R=5, k=1, mR=0> + -4.0e-04 |R=5, k=-1, mR=0> + -1.0e-04 |R=5, k=5, mR=0> + 1.0e-04 |R=5, k=-5, mR=0> , \n",
      " |B, 5_32, mR=0> =  0.71 |R=5, k=-3, mR=0> + 0.71 |R=5, k=3, mR=0> + 4.0e-04 |R=5, k=-1, mR=0> + 4.0e-04 |R=5, k=1, mR=0> + -1.0e-04 |R=5, k=-5, mR=0> + -1.0e-04 |R=5, k=5, mR=0> , \n",
      " |B, 5_42, mR=0> =  0.73 |R=5, k=4, mR=0> + -0.68 |R=5, k=-4, mR=0> + 2.2e-04 |R=5, k=2, mR=0> + -2.1e-04 |R=5, k=-2, mR=0> , \n",
      " |B, 5_41, mR=0> =  0.73 |R=5, k=-4, mR=0> + 0.68 |R=5, k=4, mR=0> + 2.2e-04 |R=5, k=-2, mR=0> + 2.1e-04 |R=5, k=2, mR=0> , \n",
      " |B, 5_51, mR=0> =  1.00 |R=5, k=5, mR=0> + -2.4e-04 |R=5, k=-5, mR=0> + 1.5e-04 |R=5, k=3, mR=0> , \n",
      " |B, 5_50, mR=0> =  1.00 |R=5, k=-5, mR=0> + 2.1e-04 |R=5, k=5, mR=0> + 1.5e-04 |R=5, k=-3, mR=0>  }\n"
     ]
    }
   ],
   "execution_count": 16
  },
  {
   "metadata": {
    "ExecuteTime": {
     "end_time": "2025-09-03T21:29:46.857801Z",
     "start_time": "2025-09-03T21:29:46.855055Z"
    }
   },
   "cell_type": "code",
   "source": [
    "B_202 = rot_basis_B.get_state(2,0,2)\n",
    "print(B_202.E - B_000.E)"
   ],
   "id": "b3e50cf7ca03abe6",
   "outputs": [
    {
     "name": "stdout",
     "output_type": "stream",
     "text": [
      "54.52139179444049\n"
     ]
    }
   ],
   "execution_count": 20
  },
  {
   "metadata": {
    "ExecuteTime": {
     "end_time": "2025-09-03T00:00:02.330366Z",
     "start_time": "2025-09-03T00:00:02.326829Z"
    }
   },
   "cell_type": "code",
   "source": [
    "X_110 = rot_basis_X.get_state(1,1,0)\n",
    "B_000 = rot_basis_B.get_state(0,0,0)\n",
    "mainline1 = B_000.E - X_110.E + E_B\n",
    "print(f\"X-B cycling transition: {mainline1 * 1e-3:.6f} THz\")"
   ],
   "id": "5f1bcd95f57c148",
   "outputs": [
    {
     "name": "stdout",
     "output_type": "stream",
     "text": [
      "X-B cycling transition: 475.828182 THz\n"
     ]
    }
   ],
   "execution_count": 17
  },
  {
   "metadata": {
    "ExecuteTime": {
     "end_time": "2025-09-04T21:16:08.776522Z",
     "start_time": "2025-09-04T21:16:08.769252Z"
    }
   },
   "cell_type": "code",
   "source": [
    "X_211 = rot_basis_X.get_state(2,1,1)\n",
    "X_211.E - X_111.E"
   ],
   "id": "1e437f08e771edcc",
   "outputs": [
    {
     "data": {
      "text/plain": [
       "np.float64(36.02675519636284)"
      ]
     },
     "execution_count": 22,
     "metadata": {},
     "output_type": "execute_result"
    }
   ],
   "execution_count": 22
  },
  {
   "metadata": {
    "ExecuteTime": {
     "end_time": "2025-09-02T17:24:29.540567Z",
     "start_time": "2025-09-02T17:24:29.536334Z"
    }
   },
   "cell_type": "code",
   "source": "457.472375 + 226.57e-6 + 18.1738e-3",
   "id": "803a3700ee3f0d74",
   "outputs": [
    {
     "data": {
      "text/plain": [
       "457.49077537"
      ]
     },
     "execution_count": 81,
     "metadata": {},
     "output_type": "execute_result"
    }
   ],
   "execution_count": 81
  },
  {
   "metadata": {
    "ExecuteTime": {
     "end_time": "2025-09-02T17:23:48.663906Z",
     "start_time": "2025-09-02T17:23:48.659999Z"
    }
   },
   "cell_type": "code",
   "source": [
    "X_111 = rot_basis_X.get_state(1,1,1)\n",
    "B_101 = rot_basis_B.get_state(1,0,1)\n",
    "v2 = B_101.E - X_111.E + E_B - mainline1 + 457.472375e3\n",
    "print(f\"X-B v=2 repump transition: {v2 * 1e-3:.6f} THz\")"
   ],
   "id": "9b580007ef08cb45",
   "outputs": [
    {
     "name": "stdout",
     "output_type": "stream",
     "text": [
      "X-B v=2 repump transition: 457.490775 THz\n"
     ]
    }
   ],
   "execution_count": 79
  },
  {
   "metadata": {
    "ExecuteTime": {
     "end_time": "2025-08-28T19:09:18.182042Z",
     "start_time": "2025-08-28T19:09:18.177893Z"
    }
   },
   "cell_type": "code",
   "source": [
    "X_211 = rot_basis_X.get_state(2,1,1)\n",
    "B_101 = rot_basis_B.get_state(1,0,1)\n",
    "line2 = B_101.E - X_211.E + E_B\n",
    "print(f\"X-B rotational repump: {line2 * 1e-3:.6f} THz\")"
   ],
   "id": "f6e7824c21bbceb",
   "outputs": [
    {
     "name": "stdout",
     "output_type": "stream",
     "text": [
      "X-B rotational repump: 475.810556 THz\n"
     ]
    }
   ],
   "execution_count": 71
  },
  {
   "metadata": {
    "ExecuteTime": {
     "end_time": "2025-08-28T19:03:05.147387Z",
     "start_time": "2025-08-28T19:03:05.144072Z"
    }
   },
   "cell_type": "code",
   "source": "(line2 - mainline1)",
   "id": "ecc8e92b4556074b",
   "outputs": [
    {
     "data": {
      "text/plain": [
       "np.float64(-17.62634553492535)"
      ]
     },
     "execution_count": 51,
     "metadata": {},
     "output_type": "execute_result"
    }
   ],
   "execution_count": 51
  },
  {
   "metadata": {
    "ExecuteTime": {
     "end_time": "2025-09-05T20:41:57.197172Z",
     "start_time": "2025-09-05T20:41:57.188784Z"
    }
   },
   "cell_type": "code",
   "source": "X_211.E - X_111.E",
   "id": "3dce728f92aa1af4",
   "outputs": [
    {
     "data": {
      "text/plain": [
       "np.float64(36.02675519636284)"
      ]
     },
     "execution_count": 23,
     "metadata": {},
     "output_type": "execute_result"
    }
   ],
   "execution_count": 23
  },
  {
   "metadata": {
    "ExecuteTime": {
     "end_time": "2025-08-28T19:09:53.224462Z",
     "start_time": "2025-08-28T19:09:53.218942Z"
    }
   },
   "cell_type": "code",
   "source": "475.82818 - 17.62e-3",
   "id": "8173917fe1f7a603",
   "outputs": [
    {
     "data": {
      "text/plain": [
       "475.81055999999995"
      ]
     },
     "execution_count": 72,
     "metadata": {},
     "output_type": "execute_result"
    }
   ],
   "execution_count": 72
  },
  {
   "metadata": {},
   "cell_type": "code",
   "outputs": [],
   "execution_count": null,
   "source": "",
   "id": "441a2e3e4e8e045"
  },
  {
   "metadata": {},
   "cell_type": "markdown",
   "source": "### k-doublet spacing vs. ATM term",
   "id": "d06b1b08344b16bf"
  },
  {
   "metadata": {
    "ExecuteTime": {
     "end_time": "2025-07-20T15:17:29.789496Z",
     "start_time": "2025-07-20T15:17:29.725357Z"
    }
   },
   "cell_type": "code",
   "source": [
    "A = 391.45 #GHz\n",
    "B = 9.0067\n",
    "C = 8.7801\n",
    "basis = ATM_RotationalBasis(A,B,C,R_range=(0,5), m_range=(0,0), extra_label=\"X\")\n",
    "xs = np.linspace(0,8,50)\n",
    "ys = []\n",
    "for i, x in enumerate(xs):\n",
    "    basis = ATM_RotationalBasis(A,B+x,C-x,R_range=(1,1), m_range=(0,0))\n",
    "    ys.append(basis.basis_vectors[2].E - basis.basis_vectors[1].E)\n",
    "plt.plot(xs, ys, \"r.-\")\n",
    "plt.show()"
   ],
   "id": "a15964aeb14758a4",
   "outputs": [
    {
     "data": {
      "text/plain": [
       "<Figure size 640x480 with 1 Axes>"
      ],
      "image/png": "[encoded data removed]"
     },
     "metadata": {},
     "output_type": "display_data"
    }
   ],
   "execution_count": 6
  },
  {
   "metadata": {},
   "cell_type": "code",
   "source": "",
   "id": "aebe8e6226cf358b",
   "outputs": [],
   "execution_count": null
  },
  {
   "metadata": {
    "ExecuteTime": {
     "end_time": "2025-07-24T19:51:58.124244Z",
     "start_time": "2025-07-24T19:51:58.120575Z"
    }
   },
   "cell_type": "code",
   "source": [
    "a = np.array([1,2,3])\n",
    "a.shape == (3,)"
   ],
   "id": "8dac29b70a4d80bf",
   "outputs": [
    {
     "data": {
      "text/plain": [
       "True"
      ]
     },
     "execution_count": 46,
     "metadata": {},
     "output_type": "execute_result"
    }
   ],
   "execution_count": 46
  },
  {
   "metadata": {},
   "cell_type": "code",
   "outputs": [],
   "execution_count": null,
   "source": "",
   "id": "6a9c19e2bf92907e"
  }
 ],
 "metadata": {
  "kernelspec": {
   "display_name": "Python 3",
   "language": "python",
   "name": "python3"
  },
  "language_info": {
   "codemirror_mode": {
    "name": "ipython",
    "version": 2
   },
   "file_extension": ".py",
   "mimetype": "text/x-python",
   "name": "python",
   "nbconvert_exporter": "python",
   "pygments_lexer": "ipython2",
   "version": "2.7.6"
  }
 },
 "nbformat": 4,
 "nbformat_minor": 5
}
