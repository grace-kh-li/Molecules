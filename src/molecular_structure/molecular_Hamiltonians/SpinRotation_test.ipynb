{
 "cells": [
  {
   "cell_type": "code",
   "id": "initial_id",
   "metadata": {
    "collapsed": true,
    "ExecuteTime": {
     "end_time": "2025-09-21T21:01:59.484908Z",
     "start_time": "2025-09-21T21:01:59.028152Z"
    }
   },
   "source": [
    "\n",
    "from src.molecular_structure.molecular_Hamiltonians.SpinRotation import *\n",
    "from src.molecular_structure.HundsCaseB import *\n",
    "from src.molecular_structure.RotationalStates import STM_RotationalBasis\n",
    "from src.molecular_structure.VibronicStates import VibronicState"
   ],
   "outputs": [],
   "execution_count": 1
  },
  {
   "metadata": {
    "ExecuteTime": {
     "end_time": "2025-09-21T21:01:59.505955Z",
     "start_time": "2025-09-21T21:01:59.488276Z"
    }
   },
   "cell_type": "code",
   "source": [
    "X = VibronicState(\"X\")\n",
    "A = VibronicState(\"A\")\n",
    "vibronic_basis = OrthogonalBasis([X,A],\"Electronic\")\n",
    "\n",
    "rot_basis = STM_RotationalBasis(R_range=(1,1),k_range = (-1,1))\n",
    "es_basis = ElectronicSpinBasis(S_range=(1/2,1/2))\n",
    "ns_basis = NuclearSpinBasis(I_range=(1/2,1/2))\n",
    "basis = es_basis.couple(rot_basis) * vibronic_basis\n",
    "basis.rename_symbols(\"J\",\"m\")"
   ],
   "id": "76872b607a6a39d4",
   "outputs": [],
   "execution_count": 2
  },
  {
   "metadata": {
    "ExecuteTime": {
     "end_time": "2025-09-21T21:02:00.065623Z",
     "start_time": "2025-09-21T21:02:00.060624Z"
    }
   },
   "cell_type": "code",
   "source": "basis[0]",
   "id": "b1c4a1110c5f957d",
   "outputs": [
    {
     "data": {
      "text/plain": [
       "|elec=X, S=0.5, R=1, k=-1, J=0.5, m=-0.5>"
      ]
     },
     "execution_count": 3,
     "metadata": {},
     "output_type": "execute_result"
    }
   ],
   "execution_count": 3
  },
  {
   "metadata": {
    "ExecuteTime": {
     "end_time": "2025-09-21T21:02:00.478638Z",
     "start_time": "2025-09-21T21:02:00.475187Z"
    }
   },
   "cell_type": "code",
   "source": "basis[0].S",
   "id": "1a5eaed98207e6f8",
   "outputs": [
    {
     "data": {
      "text/plain": [
       "0.5"
      ]
     },
     "execution_count": 4,
     "metadata": {},
     "output_type": "execute_result"
    }
   ],
   "execution_count": 4
  },
  {
   "metadata": {
    "ExecuteTime": {
     "end_time": "2025-09-21T21:02:00.876324Z",
     "start_time": "2025-09-21T21:02:00.874464Z"
    }
   },
   "cell_type": "code",
   "source": "",
   "id": "1c520618d8a0a6d4",
   "outputs": [],
   "execution_count": null
  },
  {
   "metadata": {
    "ExecuteTime": {
     "end_time": "2025-09-21T20:54:04.054419Z",
     "start_time": "2025-09-21T20:54:03.885380Z"
    }
   },
   "cell_type": "code",
   "source": "basis = HundsCaseB_Basis(N_range=[0,1],S_range=[1/2,1/2],m_range=[1/2,1/2])",
   "id": "7a757e9216a7747c",
   "outputs": [
    {
     "ename": "TypeError",
     "evalue": "QuantumState.set_defining_basis() missing 1 required positional argument: 'coeff'",
     "output_type": "error",
     "traceback": [
      "\u001B[31m---------------------------------------------------------------------------\u001B[39m",
      "\u001B[31mTypeError\u001B[39m                                 Traceback (most recent call last)",
      "\u001B[36mCell\u001B[39m\u001B[36m \u001B[39m\u001B[32mIn[5]\u001B[39m\u001B[32m, line 1\u001B[39m\n\u001B[32m----> \u001B[39m\u001B[32m1\u001B[39m basis = \u001B[43mHundsCaseB_Basis\u001B[49m\u001B[43m(\u001B[49m\u001B[43mN_range\u001B[49m\u001B[43m=\u001B[49m\u001B[43m[\u001B[49m\u001B[32;43m0\u001B[39;49m\u001B[43m,\u001B[49m\u001B[32;43m1\u001B[39;49m\u001B[43m]\u001B[49m\u001B[43m,\u001B[49m\u001B[43mS_range\u001B[49m\u001B[43m=\u001B[49m\u001B[43m[\u001B[49m\u001B[32;43m1\u001B[39;49m\u001B[43m/\u001B[49m\u001B[32;43m2\u001B[39;49m\u001B[43m,\u001B[49m\u001B[32;43m1\u001B[39;49m\u001B[43m/\u001B[49m\u001B[32;43m2\u001B[39;49m\u001B[43m]\u001B[49m\u001B[43m,\u001B[49m\u001B[43mm_range\u001B[49m\u001B[43m=\u001B[49m\u001B[43m[\u001B[49m\u001B[32;43m1\u001B[39;49m\u001B[43m/\u001B[49m\u001B[32;43m2\u001B[39;49m\u001B[43m,\u001B[49m\u001B[32;43m1\u001B[39;49m\u001B[43m/\u001B[49m\u001B[32;43m2\u001B[39;49m\u001B[43m]\u001B[49m\u001B[43m)\u001B[49m\n",
      "\u001B[36mFile \u001B[39m\u001B[32m~/PycharmProjects/Molecules/src/molecular_structure/HundsCaseB.py:33\u001B[39m, in \u001B[36mHundsCaseB_Basis.__init__\u001B[39m\u001B[34m(self, N_range, S_range, k_range, J_range, m_range)\u001B[39m\n\u001B[32m     31\u001B[39m \u001B[38;5;28msuper\u001B[39m().\u001B[34m__init__\u001B[39m(vectors, \u001B[33m\"\u001B[39m\u001B[33mHund\u001B[39m\u001B[33m'\u001B[39m\u001B[33ms case B Basis\u001B[39m\u001B[33m\"\u001B[39m)\n\u001B[32m     32\u001B[39m \u001B[38;5;28;01mfor\u001B[39;00m v \u001B[38;5;129;01min\u001B[39;00m vectors:\n\u001B[32m---> \u001B[39m\u001B[32m33\u001B[39m     \u001B[43mv\u001B[49m\u001B[43m.\u001B[49m\u001B[43mset_defining_basis\u001B[49m\u001B[43m(\u001B[49m\u001B[38;5;28;43mself\u001B[39;49m\u001B[43m)\u001B[49m\n",
      "\u001B[31mTypeError\u001B[39m: QuantumState.set_defining_basis() missing 1 required positional argument: 'coeff'"
     ]
    }
   ],
   "execution_count": 5
  },
  {
   "metadata": {
    "ExecuteTime": {
     "end_time": "2025-09-21T21:02:04.876531Z",
     "start_time": "2025-09-21T21:02:04.156157Z"
    }
   },
   "cell_type": "code",
   "source": [
    "e_aa = 45.7e-3\n",
    "e_bb = 32.063e-3\n",
    "e_cc = 41.110e-3\n",
    "H = SpinRotationHamiltonian(basis, e_aa, e_bb, e_cc)"
   ],
   "id": "5d14485baddcf690",
   "outputs": [],
   "execution_count": 5
  },
  {
   "metadata": {
    "ExecuteTime": {
     "end_time": "2025-09-21T21:02:06.143233Z",
     "start_time": "2025-09-21T21:02:06.132387Z"
    }
   },
   "cell_type": "code",
   "source": "H.get_connected_states()",
   "id": "3f92ec9d7f440470",
   "outputs": [
    {
     "data": {
      "text/plain": [
       "[(|elec=X, S=0.5, R=1, k=-1, J=0.5, m=-0.5>,\n",
       "  |elec=X, S=0.5, R=1, k=-1, J=0.5, m=-0.5>),\n",
       " (|elec=X, S=0.5, R=1, k=-1, J=0.5, m=-0.5>,\n",
       "  |elec=A, S=0.5, R=1, k=-1, J=0.5, m=-0.5>),\n",
       " (|elec=X, S=0.5, R=1, k=1, J=0.5, m=-0.5>,\n",
       "  |elec=X, S=0.5, R=1, k=-1, J=0.5, m=-0.5>),\n",
       " (|elec=X, S=0.5, R=1, k=-1, J=0.5, m=-0.5>,\n",
       "  |elec=A, S=0.5, R=1, k=1, J=0.5, m=-0.5>),\n",
       " (|elec=A, S=0.5, R=1, k=-1, J=0.5, m=-0.5>,\n",
       "  |elec=A, S=0.5, R=1, k=-1, J=0.5, m=-0.5>),\n",
       " (|elec=X, S=0.5, R=1, k=1, J=0.5, m=-0.5>,\n",
       "  |elec=A, S=0.5, R=1, k=-1, J=0.5, m=-0.5>),\n",
       " (|elec=A, S=0.5, R=1, k=-1, J=0.5, m=-0.5>,\n",
       "  |elec=A, S=0.5, R=1, k=1, J=0.5, m=-0.5>),\n",
       " (|elec=X, S=0.5, R=1, k=-1, J=0.5, m=0.5>,\n",
       "  |elec=X, S=0.5, R=1, k=-1, J=0.5, m=0.5>),\n",
       " (|elec=X, S=0.5, R=1, k=-1, J=0.5, m=0.5>,\n",
       "  |elec=A, S=0.5, R=1, k=-1, J=0.5, m=0.5>),\n",
       " (|elec=X, S=0.5, R=1, k=1, J=0.5, m=0.5>,\n",
       "  |elec=X, S=0.5, R=1, k=-1, J=0.5, m=0.5>),\n",
       " (|elec=X, S=0.5, R=1, k=-1, J=0.5, m=0.5>,\n",
       "  |elec=A, S=0.5, R=1, k=1, J=0.5, m=0.5>),\n",
       " (|elec=A, S=0.5, R=1, k=-1, J=0.5, m=0.5>,\n",
       "  |elec=A, S=0.5, R=1, k=-1, J=0.5, m=0.5>),\n",
       " (|elec=X, S=0.5, R=1, k=1, J=0.5, m=0.5>,\n",
       "  |elec=A, S=0.5, R=1, k=-1, J=0.5, m=0.5>),\n",
       " (|elec=A, S=0.5, R=1, k=-1, J=0.5, m=0.5>,\n",
       "  |elec=A, S=0.5, R=1, k=1, J=0.5, m=0.5>),\n",
       " (|elec=X, S=0.5, R=1, k=-1, J=1.5, m=-1.5>,\n",
       "  |elec=X, S=0.5, R=1, k=-1, J=1.5, m=-1.5>),\n",
       " (|elec=X, S=0.5, R=1, k=-1, J=1.5, m=-1.5>,\n",
       "  |elec=A, S=0.5, R=1, k=-1, J=1.5, m=-1.5>),\n",
       " (|elec=X, S=0.5, R=1, k=1, J=1.5, m=-1.5>,\n",
       "  |elec=X, S=0.5, R=1, k=-1, J=1.5, m=-1.5>),\n",
       " (|elec=X, S=0.5, R=1, k=-1, J=1.5, m=-1.5>,\n",
       "  |elec=A, S=0.5, R=1, k=1, J=1.5, m=-1.5>),\n",
       " (|elec=A, S=0.5, R=1, k=-1, J=1.5, m=-1.5>,\n",
       "  |elec=A, S=0.5, R=1, k=-1, J=1.5, m=-1.5>),\n",
       " (|elec=X, S=0.5, R=1, k=1, J=1.5, m=-1.5>,\n",
       "  |elec=A, S=0.5, R=1, k=-1, J=1.5, m=-1.5>),\n",
       " (|elec=A, S=0.5, R=1, k=-1, J=1.5, m=-1.5>,\n",
       "  |elec=A, S=0.5, R=1, k=1, J=1.5, m=-1.5>),\n",
       " (|elec=X, S=0.5, R=1, k=-1, J=1.5, m=-0.5>,\n",
       "  |elec=X, S=0.5, R=1, k=-1, J=1.5, m=-0.5>),\n",
       " (|elec=X, S=0.5, R=1, k=-1, J=1.5, m=-0.5>,\n",
       "  |elec=A, S=0.5, R=1, k=-1, J=1.5, m=-0.5>),\n",
       " (|elec=X, S=0.5, R=1, k=1, J=1.5, m=-0.5>,\n",
       "  |elec=X, S=0.5, R=1, k=-1, J=1.5, m=-0.5>),\n",
       " (|elec=X, S=0.5, R=1, k=-1, J=1.5, m=-0.5>,\n",
       "  |elec=A, S=0.5, R=1, k=1, J=1.5, m=-0.5>),\n",
       " (|elec=A, S=0.5, R=1, k=-1, J=1.5, m=-0.5>,\n",
       "  |elec=A, S=0.5, R=1, k=-1, J=1.5, m=-0.5>),\n",
       " (|elec=X, S=0.5, R=1, k=1, J=1.5, m=-0.5>,\n",
       "  |elec=A, S=0.5, R=1, k=-1, J=1.5, m=-0.5>),\n",
       " (|elec=A, S=0.5, R=1, k=-1, J=1.5, m=-0.5>,\n",
       "  |elec=A, S=0.5, R=1, k=1, J=1.5, m=-0.5>),\n",
       " (|elec=X, S=0.5, R=1, k=-1, J=1.5, m=0.5>,\n",
       "  |elec=X, S=0.5, R=1, k=-1, J=1.5, m=0.5>),\n",
       " (|elec=X, S=0.5, R=1, k=-1, J=1.5, m=0.5>,\n",
       "  |elec=A, S=0.5, R=1, k=-1, J=1.5, m=0.5>),\n",
       " (|elec=X, S=0.5, R=1, k=1, J=1.5, m=0.5>,\n",
       "  |elec=X, S=0.5, R=1, k=-1, J=1.5, m=0.5>),\n",
       " (|elec=X, S=0.5, R=1, k=-1, J=1.5, m=0.5>,\n",
       "  |elec=A, S=0.5, R=1, k=1, J=1.5, m=0.5>),\n",
       " (|elec=A, S=0.5, R=1, k=-1, J=1.5, m=0.5>,\n",
       "  |elec=A, S=0.5, R=1, k=-1, J=1.5, m=0.5>),\n",
       " (|elec=X, S=0.5, R=1, k=1, J=1.5, m=0.5>,\n",
       "  |elec=A, S=0.5, R=1, k=-1, J=1.5, m=0.5>),\n",
       " (|elec=A, S=0.5, R=1, k=-1, J=1.5, m=0.5>,\n",
       "  |elec=A, S=0.5, R=1, k=1, J=1.5, m=0.5>),\n",
       " (|elec=X, S=0.5, R=1, k=-1, J=1.5, m=1.5>,\n",
       "  |elec=X, S=0.5, R=1, k=-1, J=1.5, m=1.5>),\n",
       " (|elec=X, S=0.5, R=1, k=-1, J=1.5, m=1.5>,\n",
       "  |elec=A, S=0.5, R=1, k=-1, J=1.5, m=1.5>),\n",
       " (|elec=X, S=0.5, R=1, k=1, J=1.5, m=1.5>,\n",
       "  |elec=X, S=0.5, R=1, k=-1, J=1.5, m=1.5>),\n",
       " (|elec=X, S=0.5, R=1, k=-1, J=1.5, m=1.5>,\n",
       "  |elec=A, S=0.5, R=1, k=1, J=1.5, m=1.5>),\n",
       " (|elec=A, S=0.5, R=1, k=-1, J=1.5, m=1.5>,\n",
       "  |elec=A, S=0.5, R=1, k=-1, J=1.5, m=1.5>),\n",
       " (|elec=X, S=0.5, R=1, k=1, J=1.5, m=1.5>,\n",
       "  |elec=A, S=0.5, R=1, k=-1, J=1.5, m=1.5>),\n",
       " (|elec=A, S=0.5, R=1, k=-1, J=1.5, m=1.5>,\n",
       "  |elec=A, S=0.5, R=1, k=1, J=1.5, m=1.5>),\n",
       " (|elec=X, S=0.5, R=1, k=0, J=0.5, m=-0.5>,\n",
       "  |elec=X, S=0.5, R=1, k=0, J=0.5, m=-0.5>),\n",
       " (|elec=X, S=0.5, R=1, k=0, J=0.5, m=-0.5>,\n",
       "  |elec=A, S=0.5, R=1, k=0, J=0.5, m=-0.5>),\n",
       " (|elec=A, S=0.5, R=1, k=0, J=0.5, m=-0.5>,\n",
       "  |elec=A, S=0.5, R=1, k=0, J=0.5, m=-0.5>),\n",
       " (|elec=X, S=0.5, R=1, k=0, J=0.5, m=0.5>,\n",
       "  |elec=X, S=0.5, R=1, k=0, J=0.5, m=0.5>),\n",
       " (|elec=X, S=0.5, R=1, k=0, J=0.5, m=0.5>,\n",
       "  |elec=A, S=0.5, R=1, k=0, J=0.5, m=0.5>),\n",
       " (|elec=A, S=0.5, R=1, k=0, J=0.5, m=0.5>,\n",
       "  |elec=A, S=0.5, R=1, k=0, J=0.5, m=0.5>),\n",
       " (|elec=X, S=0.5, R=1, k=0, J=1.5, m=-1.5>,\n",
       "  |elec=X, S=0.5, R=1, k=0, J=1.5, m=-1.5>),\n",
       " (|elec=X, S=0.5, R=1, k=0, J=1.5, m=-1.5>,\n",
       "  |elec=A, S=0.5, R=1, k=0, J=1.5, m=-1.5>),\n",
       " (|elec=A, S=0.5, R=1, k=0, J=1.5, m=-1.5>,\n",
       "  |elec=A, S=0.5, R=1, k=0, J=1.5, m=-1.5>),\n",
       " (|elec=X, S=0.5, R=1, k=0, J=1.5, m=-0.5>,\n",
       "  |elec=X, S=0.5, R=1, k=0, J=1.5, m=-0.5>),\n",
       " (|elec=X, S=0.5, R=1, k=0, J=1.5, m=-0.5>,\n",
       "  |elec=A, S=0.5, R=1, k=0, J=1.5, m=-0.5>),\n",
       " (|elec=A, S=0.5, R=1, k=0, J=1.5, m=-0.5>,\n",
       "  |elec=A, S=0.5, R=1, k=0, J=1.5, m=-0.5>),\n",
       " (|elec=X, S=0.5, R=1, k=0, J=1.5, m=0.5>,\n",
       "  |elec=X, S=0.5, R=1, k=0, J=1.5, m=0.5>),\n",
       " (|elec=X, S=0.5, R=1, k=0, J=1.5, m=0.5>,\n",
       "  |elec=A, S=0.5, R=1, k=0, J=1.5, m=0.5>),\n",
       " (|elec=A, S=0.5, R=1, k=0, J=1.5, m=0.5>,\n",
       "  |elec=A, S=0.5, R=1, k=0, J=1.5, m=0.5>),\n",
       " (|elec=X, S=0.5, R=1, k=0, J=1.5, m=1.5>,\n",
       "  |elec=X, S=0.5, R=1, k=0, J=1.5, m=1.5>),\n",
       " (|elec=X, S=0.5, R=1, k=0, J=1.5, m=1.5>,\n",
       "  |elec=A, S=0.5, R=1, k=0, J=1.5, m=1.5>),\n",
       " (|elec=A, S=0.5, R=1, k=0, J=1.5, m=1.5>,\n",
       "  |elec=A, S=0.5, R=1, k=0, J=1.5, m=1.5>),\n",
       " (|elec=X, S=0.5, R=1, k=1, J=0.5, m=-0.5>,\n",
       "  |elec=X, S=0.5, R=1, k=1, J=0.5, m=-0.5>),\n",
       " (|elec=X, S=0.5, R=1, k=1, J=0.5, m=-0.5>,\n",
       "  |elec=A, S=0.5, R=1, k=1, J=0.5, m=-0.5>),\n",
       " (|elec=A, S=0.5, R=1, k=1, J=0.5, m=-0.5>,\n",
       "  |elec=A, S=0.5, R=1, k=1, J=0.5, m=-0.5>),\n",
       " (|elec=X, S=0.5, R=1, k=1, J=0.5, m=0.5>,\n",
       "  |elec=X, S=0.5, R=1, k=1, J=0.5, m=0.5>),\n",
       " (|elec=X, S=0.5, R=1, k=1, J=0.5, m=0.5>,\n",
       "  |elec=A, S=0.5, R=1, k=1, J=0.5, m=0.5>),\n",
       " (|elec=A, S=0.5, R=1, k=1, J=0.5, m=0.5>,\n",
       "  |elec=A, S=0.5, R=1, k=1, J=0.5, m=0.5>),\n",
       " (|elec=X, S=0.5, R=1, k=1, J=1.5, m=-1.5>,\n",
       "  |elec=X, S=0.5, R=1, k=1, J=1.5, m=-1.5>),\n",
       " (|elec=X, S=0.5, R=1, k=1, J=1.5, m=-1.5>,\n",
       "  |elec=A, S=0.5, R=1, k=1, J=1.5, m=-1.5>),\n",
       " (|elec=A, S=0.5, R=1, k=1, J=1.5, m=-1.5>,\n",
       "  |elec=A, S=0.5, R=1, k=1, J=1.5, m=-1.5>),\n",
       " (|elec=X, S=0.5, R=1, k=1, J=1.5, m=-0.5>,\n",
       "  |elec=X, S=0.5, R=1, k=1, J=1.5, m=-0.5>),\n",
       " (|elec=X, S=0.5, R=1, k=1, J=1.5, m=-0.5>,\n",
       "  |elec=A, S=0.5, R=1, k=1, J=1.5, m=-0.5>),\n",
       " (|elec=A, S=0.5, R=1, k=1, J=1.5, m=-0.5>,\n",
       "  |elec=A, S=0.5, R=1, k=1, J=1.5, m=-0.5>),\n",
       " (|elec=X, S=0.5, R=1, k=1, J=1.5, m=0.5>,\n",
       "  |elec=X, S=0.5, R=1, k=1, J=1.5, m=0.5>),\n",
       " (|elec=X, S=0.5, R=1, k=1, J=1.5, m=0.5>,\n",
       "  |elec=A, S=0.5, R=1, k=1, J=1.5, m=0.5>),\n",
       " (|elec=A, S=0.5, R=1, k=1, J=1.5, m=0.5>,\n",
       "  |elec=A, S=0.5, R=1, k=1, J=1.5, m=0.5>),\n",
       " (|elec=X, S=0.5, R=1, k=1, J=1.5, m=1.5>,\n",
       "  |elec=X, S=0.5, R=1, k=1, J=1.5, m=1.5>),\n",
       " (|elec=X, S=0.5, R=1, k=1, J=1.5, m=1.5>,\n",
       "  |elec=A, S=0.5, R=1, k=1, J=1.5, m=1.5>),\n",
       " (|elec=A, S=0.5, R=1, k=1, J=1.5, m=1.5>,\n",
       "  |elec=A, S=0.5, R=1, k=1, J=1.5, m=1.5>)]"
      ]
     },
     "execution_count": 6,
     "metadata": {},
     "output_type": "execute_result"
    }
   ],
   "execution_count": 6
  },
  {
   "metadata": {},
   "cell_type": "code",
   "outputs": [],
   "execution_count": null,
   "source": "",
   "id": "e9660c78c7c0a09d"
  }
 ],
 "metadata": {
  "kernelspec": {
   "display_name": "Python 3",
   "language": "python",
   "name": "python3"
  },
  "language_info": {
   "codemirror_mode": {
    "name": "ipython",
    "version": 2
   },
   "file_extension": ".py",
   "mimetype": "text/x-python",
   "name": "python",
   "nbconvert_exporter": "python",
   "pygments_lexer": "ipython2",
   "version": "2.7.6"
  }
 },
 "nbformat": 4,
 "nbformat_minor": 5
}
