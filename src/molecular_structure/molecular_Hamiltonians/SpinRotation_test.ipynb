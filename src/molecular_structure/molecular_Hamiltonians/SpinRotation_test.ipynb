{
 "cells": [
  {
   "cell_type": "code",
   "id": "initial_id",
   "metadata": {
    "collapsed": true,
    "ExecuteTime": {
     "end_time": "2025-09-21T22:57:52.369404Z",
     "start_time": "2025-09-21T22:57:52.100563Z"
    }
   },
   "source": [
    "\n",
    "from src.molecular_structure.molecular_Hamiltonians.SpinRotation import *\n",
    "from src.molecular_structure.HundsCaseB import *\n",
    "from src.molecular_structure.RotationalStates import STM_RotationalBasis\n",
    "from src.molecular_structure.VibronicStates import VibronicState"
   ],
   "outputs": [],
   "execution_count": 1
  },
  {
   "metadata": {
    "ExecuteTime": {
     "end_time": "2025-09-21T22:57:54.174708Z",
     "start_time": "2025-09-21T22:57:54.121667Z"
    }
   },
   "cell_type": "code",
   "source": [
    "X = VibronicState(\"X\")\n",
    "A = VibronicState(\"A\")\n",
    "vibronic_basis = OrthogonalBasis([X,A],\"Electronic\")\n",
    "\n",
    "basis = HundsCaseB_Basis(N_range=(0,2),S_range=(1/2,1/2))"
   ],
   "id": "76872b607a6a39d4",
   "outputs": [],
   "execution_count": 2
  },
  {
   "metadata": {},
   "cell_type": "code",
   "outputs": [],
   "execution_count": null,
   "source": "",
   "id": "ccb24b1d03f5587d"
  },
  {
   "metadata": {
    "ExecuteTime": {
     "end_time": "2025-09-21T22:27:40.698572Z",
     "start_time": "2025-09-21T22:27:40.696922Z"
    }
   },
   "cell_type": "code",
   "source": "",
   "id": "1c520618d8a0a6d4",
   "outputs": [],
   "execution_count": null
  },
  {
   "metadata": {
    "ExecuteTime": {
     "end_time": "2025-09-21T22:27:46.571532Z",
     "start_time": "2025-09-21T22:27:46.569594Z"
    }
   },
   "cell_type": "code",
   "source": "# basis = HundsCaseB_Basis(N_range=[0,1],S_range=[1/2,1/2],m_range=[1/2,1/2])",
   "id": "7a757e9216a7747c",
   "outputs": [],
   "execution_count": 7
  },
  {
   "metadata": {
    "ExecuteTime": {
     "end_time": "2025-09-21T22:57:58.935055Z",
     "start_time": "2025-09-21T22:57:58.229749Z"
    }
   },
   "cell_type": "code",
   "source": [
    "from src.molecular_structure.molecular_Hamiltonians.Rotational_Hamiltonian import Rotational_Hamiltonian\n",
    "\n",
    "e_aa = 45.7e-3\n",
    "e_bb = 32.063e-3\n",
    "e_cc = 41.110e-3\n",
    "H = SpinRotationHamiltonian(basis, e_aa, e_bb, e_cc)\n",
    "\n",
    "A = wavenumber_to_GHz(13.05744)\n",
    "BC_avg2 = wavenumber_to_GHz(0.296652) # (B+C)/2\n",
    "BC_diff4 = wavenumber_to_GHz(1.8894e-3) # (B-C)/4\n",
    "H_rot = Rotational_Hamiltonian(basis,A, BC_avg2, BC_diff4)\n",
    "Z = MShiftOperator(basis) * 1e-6 + JShiftOperator(basis) * 1e-5 # liftng the m and J degeneracies so that eigensolver doesn't get confused\n",
    "H = H_rot + Z"
   ],
   "id": "5d14485baddcf690",
   "outputs": [],
   "execution_count": 3
  },
  {
   "metadata": {
    "ExecuteTime": {
     "end_time": "2025-09-21T21:02:06.143233Z",
     "start_time": "2025-09-21T21:02:06.132387Z"
    }
   },
   "cell_type": "code",
   "source": "H.get_connected_states()",
   "id": "3f92ec9d7f440470",
   "outputs": [
    {
     "data": {
      "text/plain": [
       "[(|elec=X, S=0.5, R=1, k=-1, J=0.5, m=-0.5>,\n",
       "  |elec=X, S=0.5, R=1, k=-1, J=0.5, m=-0.5>),\n",
       " (|elec=X, S=0.5, R=1, k=-1, J=0.5, m=-0.5>,\n",
       "  |elec=A, S=0.5, R=1, k=-1, J=0.5, m=-0.5>),\n",
       " (|elec=X, S=0.5, R=1, k=1, J=0.5, m=-0.5>,\n",
       "  |elec=X, S=0.5, R=1, k=-1, J=0.5, m=-0.5>),\n",
       " (|elec=X, S=0.5, R=1, k=-1, J=0.5, m=-0.5>,\n",
       "  |elec=A, S=0.5, R=1, k=1, J=0.5, m=-0.5>),\n",
       " (|elec=A, S=0.5, R=1, k=-1, J=0.5, m=-0.5>,\n",
       "  |elec=A, S=0.5, R=1, k=-1, J=0.5, m=-0.5>),\n",
       " (|elec=X, S=0.5, R=1, k=1, J=0.5, m=-0.5>,\n",
       "  |elec=A, S=0.5, R=1, k=-1, J=0.5, m=-0.5>),\n",
       " (|elec=A, S=0.5, R=1, k=-1, J=0.5, m=-0.5>,\n",
       "  |elec=A, S=0.5, R=1, k=1, J=0.5, m=-0.5>),\n",
       " (|elec=X, S=0.5, R=1, k=-1, J=0.5, m=0.5>,\n",
       "  |elec=X, S=0.5, R=1, k=-1, J=0.5, m=0.5>),\n",
       " (|elec=X, S=0.5, R=1, k=-1, J=0.5, m=0.5>,\n",
       "  |elec=A, S=0.5, R=1, k=-1, J=0.5, m=0.5>),\n",
       " (|elec=X, S=0.5, R=1, k=1, J=0.5, m=0.5>,\n",
       "  |elec=X, S=0.5, R=1, k=-1, J=0.5, m=0.5>),\n",
       " (|elec=X, S=0.5, R=1, k=-1, J=0.5, m=0.5>,\n",
       "  |elec=A, S=0.5, R=1, k=1, J=0.5, m=0.5>),\n",
       " (|elec=A, S=0.5, R=1, k=-1, J=0.5, m=0.5>,\n",
       "  |elec=A, S=0.5, R=1, k=-1, J=0.5, m=0.5>),\n",
       " (|elec=X, S=0.5, R=1, k=1, J=0.5, m=0.5>,\n",
       "  |elec=A, S=0.5, R=1, k=-1, J=0.5, m=0.5>),\n",
       " (|elec=A, S=0.5, R=1, k=-1, J=0.5, m=0.5>,\n",
       "  |elec=A, S=0.5, R=1, k=1, J=0.5, m=0.5>),\n",
       " (|elec=X, S=0.5, R=1, k=-1, J=1.5, m=-1.5>,\n",
       "  |elec=X, S=0.5, R=1, k=-1, J=1.5, m=-1.5>),\n",
       " (|elec=X, S=0.5, R=1, k=-1, J=1.5, m=-1.5>,\n",
       "  |elec=A, S=0.5, R=1, k=-1, J=1.5, m=-1.5>),\n",
       " (|elec=X, S=0.5, R=1, k=1, J=1.5, m=-1.5>,\n",
       "  |elec=X, S=0.5, R=1, k=-1, J=1.5, m=-1.5>),\n",
       " (|elec=X, S=0.5, R=1, k=-1, J=1.5, m=-1.5>,\n",
       "  |elec=A, S=0.5, R=1, k=1, J=1.5, m=-1.5>),\n",
       " (|elec=A, S=0.5, R=1, k=-1, J=1.5, m=-1.5>,\n",
       "  |elec=A, S=0.5, R=1, k=-1, J=1.5, m=-1.5>),\n",
       " (|elec=X, S=0.5, R=1, k=1, J=1.5, m=-1.5>,\n",
       "  |elec=A, S=0.5, R=1, k=-1, J=1.5, m=-1.5>),\n",
       " (|elec=A, S=0.5, R=1, k=-1, J=1.5, m=-1.5>,\n",
       "  |elec=A, S=0.5, R=1, k=1, J=1.5, m=-1.5>),\n",
       " (|elec=X, S=0.5, R=1, k=-1, J=1.5, m=-0.5>,\n",
       "  |elec=X, S=0.5, R=1, k=-1, J=1.5, m=-0.5>),\n",
       " (|elec=X, S=0.5, R=1, k=-1, J=1.5, m=-0.5>,\n",
       "  |elec=A, S=0.5, R=1, k=-1, J=1.5, m=-0.5>),\n",
       " (|elec=X, S=0.5, R=1, k=1, J=1.5, m=-0.5>,\n",
       "  |elec=X, S=0.5, R=1, k=-1, J=1.5, m=-0.5>),\n",
       " (|elec=X, S=0.5, R=1, k=-1, J=1.5, m=-0.5>,\n",
       "  |elec=A, S=0.5, R=1, k=1, J=1.5, m=-0.5>),\n",
       " (|elec=A, S=0.5, R=1, k=-1, J=1.5, m=-0.5>,\n",
       "  |elec=A, S=0.5, R=1, k=-1, J=1.5, m=-0.5>),\n",
       " (|elec=X, S=0.5, R=1, k=1, J=1.5, m=-0.5>,\n",
       "  |elec=A, S=0.5, R=1, k=-1, J=1.5, m=-0.5>),\n",
       " (|elec=A, S=0.5, R=1, k=-1, J=1.5, m=-0.5>,\n",
       "  |elec=A, S=0.5, R=1, k=1, J=1.5, m=-0.5>),\n",
       " (|elec=X, S=0.5, R=1, k=-1, J=1.5, m=0.5>,\n",
       "  |elec=X, S=0.5, R=1, k=-1, J=1.5, m=0.5>),\n",
       " (|elec=X, S=0.5, R=1, k=-1, J=1.5, m=0.5>,\n",
       "  |elec=A, S=0.5, R=1, k=-1, J=1.5, m=0.5>),\n",
       " (|elec=X, S=0.5, R=1, k=1, J=1.5, m=0.5>,\n",
       "  |elec=X, S=0.5, R=1, k=-1, J=1.5, m=0.5>),\n",
       " (|elec=X, S=0.5, R=1, k=-1, J=1.5, m=0.5>,\n",
       "  |elec=A, S=0.5, R=1, k=1, J=1.5, m=0.5>),\n",
       " (|elec=A, S=0.5, R=1, k=-1, J=1.5, m=0.5>,\n",
       "  |elec=A, S=0.5, R=1, k=-1, J=1.5, m=0.5>),\n",
       " (|elec=X, S=0.5, R=1, k=1, J=1.5, m=0.5>,\n",
       "  |elec=A, S=0.5, R=1, k=-1, J=1.5, m=0.5>),\n",
       " (|elec=A, S=0.5, R=1, k=-1, J=1.5, m=0.5>,\n",
       "  |elec=A, S=0.5, R=1, k=1, J=1.5, m=0.5>),\n",
       " (|elec=X, S=0.5, R=1, k=-1, J=1.5, m=1.5>,\n",
       "  |elec=X, S=0.5, R=1, k=-1, J=1.5, m=1.5>),\n",
       " (|elec=X, S=0.5, R=1, k=-1, J=1.5, m=1.5>,\n",
       "  |elec=A, S=0.5, R=1, k=-1, J=1.5, m=1.5>),\n",
       " (|elec=X, S=0.5, R=1, k=1, J=1.5, m=1.5>,\n",
       "  |elec=X, S=0.5, R=1, k=-1, J=1.5, m=1.5>),\n",
       " (|elec=X, S=0.5, R=1, k=-1, J=1.5, m=1.5>,\n",
       "  |elec=A, S=0.5, R=1, k=1, J=1.5, m=1.5>),\n",
       " (|elec=A, S=0.5, R=1, k=-1, J=1.5, m=1.5>,\n",
       "  |elec=A, S=0.5, R=1, k=-1, J=1.5, m=1.5>),\n",
       " (|elec=X, S=0.5, R=1, k=1, J=1.5, m=1.5>,\n",
       "  |elec=A, S=0.5, R=1, k=-1, J=1.5, m=1.5>),\n",
       " (|elec=A, S=0.5, R=1, k=-1, J=1.5, m=1.5>,\n",
       "  |elec=A, S=0.5, R=1, k=1, J=1.5, m=1.5>),\n",
       " (|elec=X, S=0.5, R=1, k=0, J=0.5, m=-0.5>,\n",
       "  |elec=X, S=0.5, R=1, k=0, J=0.5, m=-0.5>),\n",
       " (|elec=X, S=0.5, R=1, k=0, J=0.5, m=-0.5>,\n",
       "  |elec=A, S=0.5, R=1, k=0, J=0.5, m=-0.5>),\n",
       " (|elec=A, S=0.5, R=1, k=0, J=0.5, m=-0.5>,\n",
       "  |elec=A, S=0.5, R=1, k=0, J=0.5, m=-0.5>),\n",
       " (|elec=X, S=0.5, R=1, k=0, J=0.5, m=0.5>,\n",
       "  |elec=X, S=0.5, R=1, k=0, J=0.5, m=0.5>),\n",
       " (|elec=X, S=0.5, R=1, k=0, J=0.5, m=0.5>,\n",
       "  |elec=A, S=0.5, R=1, k=0, J=0.5, m=0.5>),\n",
       " (|elec=A, S=0.5, R=1, k=0, J=0.5, m=0.5>,\n",
       "  |elec=A, S=0.5, R=1, k=0, J=0.5, m=0.5>),\n",
       " (|elec=X, S=0.5, R=1, k=0, J=1.5, m=-1.5>,\n",
       "  |elec=X, S=0.5, R=1, k=0, J=1.5, m=-1.5>),\n",
       " (|elec=X, S=0.5, R=1, k=0, J=1.5, m=-1.5>,\n",
       "  |elec=A, S=0.5, R=1, k=0, J=1.5, m=-1.5>),\n",
       " (|elec=A, S=0.5, R=1, k=0, J=1.5, m=-1.5>,\n",
       "  |elec=A, S=0.5, R=1, k=0, J=1.5, m=-1.5>),\n",
       " (|elec=X, S=0.5, R=1, k=0, J=1.5, m=-0.5>,\n",
       "  |elec=X, S=0.5, R=1, k=0, J=1.5, m=-0.5>),\n",
       " (|elec=X, S=0.5, R=1, k=0, J=1.5, m=-0.5>,\n",
       "  |elec=A, S=0.5, R=1, k=0, J=1.5, m=-0.5>),\n",
       " (|elec=A, S=0.5, R=1, k=0, J=1.5, m=-0.5>,\n",
       "  |elec=A, S=0.5, R=1, k=0, J=1.5, m=-0.5>),\n",
       " (|elec=X, S=0.5, R=1, k=0, J=1.5, m=0.5>,\n",
       "  |elec=X, S=0.5, R=1, k=0, J=1.5, m=0.5>),\n",
       " (|elec=X, S=0.5, R=1, k=0, J=1.5, m=0.5>,\n",
       "  |elec=A, S=0.5, R=1, k=0, J=1.5, m=0.5>),\n",
       " (|elec=A, S=0.5, R=1, k=0, J=1.5, m=0.5>,\n",
       "  |elec=A, S=0.5, R=1, k=0, J=1.5, m=0.5>),\n",
       " (|elec=X, S=0.5, R=1, k=0, J=1.5, m=1.5>,\n",
       "  |elec=X, S=0.5, R=1, k=0, J=1.5, m=1.5>),\n",
       " (|elec=X, S=0.5, R=1, k=0, J=1.5, m=1.5>,\n",
       "  |elec=A, S=0.5, R=1, k=0, J=1.5, m=1.5>),\n",
       " (|elec=A, S=0.5, R=1, k=0, J=1.5, m=1.5>,\n",
       "  |elec=A, S=0.5, R=1, k=0, J=1.5, m=1.5>),\n",
       " (|elec=X, S=0.5, R=1, k=1, J=0.5, m=-0.5>,\n",
       "  |elec=X, S=0.5, R=1, k=1, J=0.5, m=-0.5>),\n",
       " (|elec=X, S=0.5, R=1, k=1, J=0.5, m=-0.5>,\n",
       "  |elec=A, S=0.5, R=1, k=1, J=0.5, m=-0.5>),\n",
       " (|elec=A, S=0.5, R=1, k=1, J=0.5, m=-0.5>,\n",
       "  |elec=A, S=0.5, R=1, k=1, J=0.5, m=-0.5>),\n",
       " (|elec=X, S=0.5, R=1, k=1, J=0.5, m=0.5>,\n",
       "  |elec=X, S=0.5, R=1, k=1, J=0.5, m=0.5>),\n",
       " (|elec=X, S=0.5, R=1, k=1, J=0.5, m=0.5>,\n",
       "  |elec=A, S=0.5, R=1, k=1, J=0.5, m=0.5>),\n",
       " (|elec=A, S=0.5, R=1, k=1, J=0.5, m=0.5>,\n",
       "  |elec=A, S=0.5, R=1, k=1, J=0.5, m=0.5>),\n",
       " (|elec=X, S=0.5, R=1, k=1, J=1.5, m=-1.5>,\n",
       "  |elec=X, S=0.5, R=1, k=1, J=1.5, m=-1.5>),\n",
       " (|elec=X, S=0.5, R=1, k=1, J=1.5, m=-1.5>,\n",
       "  |elec=A, S=0.5, R=1, k=1, J=1.5, m=-1.5>),\n",
       " (|elec=A, S=0.5, R=1, k=1, J=1.5, m=-1.5>,\n",
       "  |elec=A, S=0.5, R=1, k=1, J=1.5, m=-1.5>),\n",
       " (|elec=X, S=0.5, R=1, k=1, J=1.5, m=-0.5>,\n",
       "  |elec=X, S=0.5, R=1, k=1, J=1.5, m=-0.5>),\n",
       " (|elec=X, S=0.5, R=1, k=1, J=1.5, m=-0.5>,\n",
       "  |elec=A, S=0.5, R=1, k=1, J=1.5, m=-0.5>),\n",
       " (|elec=A, S=0.5, R=1, k=1, J=1.5, m=-0.5>,\n",
       "  |elec=A, S=0.5, R=1, k=1, J=1.5, m=-0.5>),\n",
       " (|elec=X, S=0.5, R=1, k=1, J=1.5, m=0.5>,\n",
       "  |elec=X, S=0.5, R=1, k=1, J=1.5, m=0.5>),\n",
       " (|elec=X, S=0.5, R=1, k=1, J=1.5, m=0.5>,\n",
       "  |elec=A, S=0.5, R=1, k=1, J=1.5, m=0.5>),\n",
       " (|elec=A, S=0.5, R=1, k=1, J=1.5, m=0.5>,\n",
       "  |elec=A, S=0.5, R=1, k=1, J=1.5, m=0.5>),\n",
       " (|elec=X, S=0.5, R=1, k=1, J=1.5, m=1.5>,\n",
       "  |elec=X, S=0.5, R=1, k=1, J=1.5, m=1.5>),\n",
       " (|elec=X, S=0.5, R=1, k=1, J=1.5, m=1.5>,\n",
       "  |elec=A, S=0.5, R=1, k=1, J=1.5, m=1.5>),\n",
       " (|elec=A, S=0.5, R=1, k=1, J=1.5, m=1.5>,\n",
       "  |elec=A, S=0.5, R=1, k=1, J=1.5, m=1.5>)]"
      ]
     },
     "execution_count": 6,
     "metadata": {},
     "output_type": "execute_result"
    }
   ],
   "execution_count": 6
  },
  {
   "metadata": {},
   "cell_type": "code",
   "outputs": [],
   "execution_count": null,
   "source": "",
   "id": "e9660c78c7c0a09d"
  }
 ],
 "metadata": {
  "kernelspec": {
   "display_name": "Python 3",
   "language": "python",
   "name": "python3"
  },
  "language_info": {
   "codemirror_mode": {
    "name": "ipython",
    "version": 2
   },
   "file_extension": ".py",
   "mimetype": "text/x-python",
   "name": "python",
   "nbconvert_exporter": "python",
   "pygments_lexer": "ipython2",
   "version": "2.7.6"
  }
 },
 "nbformat": 4,
 "nbformat_minor": 5
}
