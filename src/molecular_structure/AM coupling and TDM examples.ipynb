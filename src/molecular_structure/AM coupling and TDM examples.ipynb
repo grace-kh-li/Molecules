{
 "cells": [
  {
   "metadata": {
    "ExecuteTime": {
     "end_time": "2025-09-19T23:23:18.848995Z",
     "start_time": "2025-09-19T23:23:18.553193Z"
    }
   },
   "cell_type": "code",
   "source": [
    "from src.tools.SphericalTensors import SphericalTensor_prolate\n",
    "from src.molecular_structure.RotationalStates import STM_RotationalBasis, ATM_RotationalBasis\n",
    "from src.group_theory.Group import *\n",
    "from src.molecular_structure.TDMs import *\n",
    "from src.molecular_structure.VibronicStates import VibronicState\n",
    "from src.quantum_mechanics.Basis import OrthogonalBasis\n",
    "\n",
    "np.set_printoptions(formatter={'all': lambda x: f\"{x.real:.2f}\"})\n",
    "\n",
    "group = C2vGroup()\n",
    "A1 = C2v_A1_representation(group)\n",
    "A2 = C2v_A2_representation(group)\n",
    "B1 = C2v_B1_representation(group)\n",
    "B2 = C2v_B2_representation(group)"
   ],
   "id": "a203f44707effab4",
   "outputs": [],
   "execution_count": 1
  },
  {
   "metadata": {},
   "cell_type": "markdown",
   "source": [
    "## Coupling angular momentum states\n",
    "An angular momentum basis can be coupled (not just tensored) with another angular momentum basis. They can also be tensored with other bases (e.g. vibronic basis). The order of operation does not matter."
   ],
   "id": "9a4a39fa2c80d01a"
  },
  {
   "metadata": {
    "ExecuteTime": {
     "end_time": "2025-09-19T23:23:19.116031Z",
     "start_time": "2025-09-19T23:23:19.101236Z"
    }
   },
   "cell_type": "code",
   "source": [
    "from src.quantum_mechanics.AngularMomentum import ElectronicSpinBasis, NuclearSpinBasis\n",
    "\n",
    "# Defining a basis for the vibronic Hilbert space\n",
    "X = VibronicState(\"X\", symmetry_group=group, irrep = A1)\n",
    "A = VibronicState(\"A\", symmetry_group=group, irrep= B2)\n",
    "vibronic_basis = OrthogonalBasis([X,A],\"Electronic\")\n",
    "\n",
    "# Basis for the rotational, electronic spin and nuclear spin Hilbert space\n",
    "rot_basis = STM_RotationalBasis(R_range=(1,1),k_range = (-1,1))\n",
    "es_basis = ElectronicSpinBasis(S_range=(1/2,1/2))\n",
    "ns_basis = NuclearSpinBasis(I_range=(1/2,1/2))\n",
    "\n",
    "# Coupling the rotational and electronic spin bases gives the J basis (Hund's case B)\n",
    "J_basis = vibronic_basis * rot_basis.couple(es_basis)\n",
    "J_basis.rename_symbols(\"J\",\"mJ\")"
   ],
   "id": "d378362451653603",
   "outputs": [],
   "execution_count": 2
  },
  {
   "metadata": {},
   "cell_type": "markdown",
   "source": "The coupled basis vectors can be expressed in terms of the tensor product basis. The coefficients are given by Clebsch-Gordan coefficients.",
   "id": "e8d2027d78abae07"
  },
  {
   "metadata": {
    "ExecuteTime": {
     "end_time": "2025-09-19T23:23:22.697369Z",
     "start_time": "2025-09-19T23:23:22.693932Z"
    }
   },
   "cell_type": "code",
   "source": "J_basis[1].show_composition()",
   "id": "8e5a68eafbe68d9b",
   "outputs": [
    {
     "name": "stdout",
     "output_type": "stream",
     "text": [
      "|elec=A, S=0.5, R=1, k=-1, J=0.5, mJ=-0.5> = -0.82 |elec=A, S=0.5, ms=0.5, R=1, k=-1, mR=-1> + 0.58 |elec=A, S=0.5, ms=-0.5, R=1, k=-1, mR=0> \n"
     ]
    }
   ],
   "execution_count": 3
  },
  {
   "metadata": {
    "ExecuteTime": {
     "end_time": "2025-09-19T23:23:25.645290Z",
     "start_time": "2025-09-19T23:23:25.638504Z"
    }
   },
   "cell_type": "code",
   "source": "J_basis[1].quantum_numbers",
   "id": "861869ee311cd478",
   "outputs": [
    {
     "data": {
      "text/plain": [
       "{'elec': 'A', 'S': 0.5, 'R': 1, 'k': -1, 'J': 0.5, 'mJ': -0.5}"
      ]
     },
     "execution_count": 4,
     "metadata": {},
     "output_type": "execute_result"
    }
   ],
   "execution_count": 4
  },
  {
   "metadata": {},
   "cell_type": "markdown",
   "source": "By default, when two bases A and B are coupled to make basis C, show_composition() will write the coupled basis states in terms of the tensor products of the tensor product basis states (a1 x b1, etc.). However, in the case where basis A or (and) B themselves came from coupling simpler angular momentum bases, calling unravel_basis() will write the decomposition of basis vectors in C in terms of the completely unravelled tensor products.",
   "id": "39d8d639082735f8"
  },
  {
   "metadata": {
    "ExecuteTime": {
     "end_time": "2025-09-19T23:23:27.209895Z",
     "start_time": "2025-09-19T23:23:27.165985Z"
    }
   },
   "cell_type": "code",
   "source": [
    "# Coupled the nuclear spin to J to make F.\n",
    "F_basis = ns_basis.couple(J_basis)\n",
    "F_basis.rename_symbols(\"F\",\"mF\")"
   ],
   "id": "27c7c8b7d06886ce",
   "outputs": [],
   "execution_count": 5
  },
  {
   "metadata": {
    "ExecuteTime": {
     "end_time": "2025-09-19T20:42:49.305849Z",
     "start_time": "2025-09-19T20:42:49.304160Z"
    }
   },
   "cell_type": "code",
   "source": "F_basis[2].show_composition()",
   "id": "3e67804cc49e23a0",
   "outputs": [
    {
     "name": "stdout",
     "output_type": "stream",
     "text": [
      "|elec=X, S=0.5, I=0.5, R=1, k=-1, J=0.5, F=1.0, mF=0.0> = 0.71 |elec=X, S=0.5, I=0.5, mI=-0.5, R=1, k=-1, J=0.5, mJ=0.5> + 0.71 |elec=X, S=0.5, I=0.5, mI=0.5, R=1, k=-1, J=0.5, mJ=-0.5> \n"
     ]
    }
   ],
   "execution_count": 5
  },
  {
   "metadata": {
    "ExecuteTime": {
     "end_time": "2025-09-19T20:42:49.318514Z",
     "start_time": "2025-09-19T20:42:49.311262Z"
    }
   },
   "cell_type": "code",
   "source": [
    "F_basis.unravel_basis()\n",
    "F_basis[2].show_composition()"
   ],
   "id": "a603f5069215631e",
   "outputs": [
    {
     "name": "stdout",
     "output_type": "stream",
     "text": [
      "|elec=X, S=0.5, I=0.5, R=1, k=-1, J=0.5, F=1.0, mF=0.0> = 0.58 |elec=X, S=0.5, ms=-0.5, I=0.5, mI=-0.5, R=1, k=-1, mR=1> + -0.58 |elec=X, S=0.5, ms=0.5, I=0.5, mI=0.5, R=1, k=-1, mR=-1> + -0.41 |elec=X, S=0.5, ms=0.5, I=0.5, mI=-0.5, R=1, k=-1, mR=0> + 0.41 |elec=X, S=0.5, ms=-0.5, I=0.5, mI=0.5, R=1, k=-1, mR=0> \n"
     ]
    }
   ],
   "execution_count": 6
  },
  {
   "metadata": {},
   "cell_type": "markdown",
   "source": "## Evaluating transition dipole moments",
   "id": "7bbe35470bd608cd"
  },
  {
   "metadata": {},
   "cell_type": "markdown",
   "source": [
    "Dipole moment operators are defined in TDMs.py for\n",
    "\n",
    "- rotational basis (DipoleOperator_STM)\n",
    "- vibronic x rotational basis (DipoleOperator_evr)\n",
    "- spin basis, where it is just the identity matrix (DipoleOperator_spin)\n",
    "\n",
    "To define the dipole moment operator for your state, take the tensor product of the corresponding operators."
   ],
   "id": "eba690900bf36409"
  },
  {
   "metadata": {},
   "cell_type": "markdown",
   "source": [
    "To define dipole operator for a vibronic x rotational state, you need to define the vibronic basis and the rotational basis.\n",
    "\n",
    "Then, you need to specify what the dipole moment between different vibronic states are (d_a, d_b, d_c), and turn them into a spherical tensor using SphericalTensor_prolate() from tools.SphericalTensors.\n",
    "\n",
    "Inputting this into DipoleOperator_evr gives you the dipole operator (in space-fixed frame, with q = -1, 0, or 1) for this basis."
   ],
   "id": "9f9fff6c6d138cc9"
  },
  {
   "metadata": {
    "ExecuteTime": {
     "end_time": "2025-09-19T23:23:53.372777Z",
     "start_time": "2025-09-19T23:23:53.349500Z"
    }
   },
   "cell_type": "code",
   "source": [
    "X = VibronicState(\"X\", symmetry_group=group, irrep = A1)\n",
    "A = VibronicState(\"A\", symmetry_group=group, irrep= B2)\n",
    "vibronic_basis = OrthogonalBasis([X,A],\"Electronic\")\n",
    "evr_basis = vibronic_basis * rot_basis\n",
    "\n",
    "vibronic_d_a = Operator(vibronic_basis,np.array([[0,0],[0,0]]),symmetry_group=group, irrep= A1)\n",
    "vibronic_d_b = Operator(vibronic_basis,np.array([[0,1],[1,0]]),symmetry_group=group, irrep= B2)\n",
    "vibronic_d_c = Operator(vibronic_basis,np.array([[0,0],[0,0]]),symmetry_group=group, irrep= B1)\n",
    "\n",
    "# the transition dipole moment in molecule frame as a spherical tensor\n",
    "vibronic_d = SphericalTensor_prolate(np.array([vibronic_d_a,vibronic_d_b,vibronic_d_c]),is_operator=True, operator_basis=vibronic_basis)\n",
    "\n",
    "d_evr = DipoleOperator_evr(evr_basis,vibronic_d, 1)"
   ],
   "id": "8866acb055c5e524",
   "outputs": [],
   "execution_count": 6
  },
  {
   "metadata": {
    "ExecuteTime": {
     "end_time": "2025-09-19T23:23:54.051073Z",
     "start_time": "2025-09-19T23:23:54.045224Z"
    }
   },
   "cell_type": "code",
   "source": "d_evr.get_connected_states()",
   "id": "5fd878b5b9cddabb",
   "outputs": [
    {
     "data": {
      "text/plain": [
       "[(|elec=X, R=1, k=-1, mR=0>, |elec=A, R=1, k=0, mR=-1>),\n",
       " (|elec=X, R=1, k=0, mR=-1>, |elec=A, R=1, k=-1, mR=0>),\n",
       " (|elec=X, R=1, k=-1, mR=1>, |elec=A, R=1, k=0, mR=0>),\n",
       " (|elec=X, R=1, k=0, mR=0>, |elec=A, R=1, k=-1, mR=1>),\n",
       " (|elec=X, R=1, k=0, mR=0>, |elec=A, R=1, k=-1, mR=-1>),\n",
       " (|elec=X, R=1, k=0, mR=0>, |elec=A, R=1, k=1, mR=-1>),\n",
       " (|elec=X, R=1, k=-1, mR=-1>, |elec=A, R=1, k=0, mR=0>),\n",
       " (|elec=X, R=1, k=1, mR=-1>, |elec=A, R=1, k=0, mR=0>),\n",
       " (|elec=X, R=1, k=0, mR=1>, |elec=A, R=1, k=-1, mR=0>),\n",
       " (|elec=X, R=1, k=0, mR=1>, |elec=A, R=1, k=1, mR=0>),\n",
       " (|elec=X, R=1, k=-1, mR=0>, |elec=A, R=1, k=0, mR=1>),\n",
       " (|elec=X, R=1, k=1, mR=0>, |elec=A, R=1, k=0, mR=1>),\n",
       " (|elec=X, R=1, k=1, mR=0>, |elec=A, R=1, k=0, mR=-1>),\n",
       " (|elec=X, R=1, k=0, mR=-1>, |elec=A, R=1, k=1, mR=0>),\n",
       " (|elec=X, R=1, k=1, mR=1>, |elec=A, R=1, k=0, mR=0>),\n",
       " (|elec=X, R=1, k=0, mR=0>, |elec=A, R=1, k=1, mR=1>)]"
      ]
     },
     "execution_count": 7,
     "metadata": {},
     "output_type": "execute_result"
    }
   ],
   "execution_count": 7
  },
  {
   "metadata": {},
   "cell_type": "markdown",
   "source": "If you want to use a basis where rotation is coupled with electron spin or nuclear spin, simply declare those bases and tensor them with the evr basis.",
   "id": "a3a6c28c52ebcb89"
  },
  {
   "metadata": {
    "ExecuteTime": {
     "end_time": "2025-09-19T23:23:55.808156Z",
     "start_time": "2025-09-19T23:23:55.804960Z"
    }
   },
   "cell_type": "code",
   "source": [
    "d_es = DipoleOperator_spin(es_basis,1)\n",
    "d_es.get_connected_states()"
   ],
   "id": "e84caebdd61d8d40",
   "outputs": [
    {
     "data": {
      "text/plain": [
       "[(|S=0.5, ms=-0.5>, |S=0.5, ms=-0.5>), (|S=0.5, ms=0.5>, |S=0.5, ms=0.5>)]"
      ]
     },
     "execution_count": 8,
     "metadata": {},
     "output_type": "execute_result"
    }
   ],
   "execution_count": 8
  },
  {
   "metadata": {
    "ExecuteTime": {
     "end_time": "2025-09-19T23:23:57.933653Z",
     "start_time": "2025-09-19T23:23:57.910255Z"
    }
   },
   "cell_type": "code",
   "source": [
    "caseB_basis = evr_basis.couple(es_basis)\n",
    "caseB_basis.rename_symbols(\"J\",\"mJ\")"
   ],
   "id": "1f81d8fbe697520a",
   "outputs": [],
   "execution_count": 9
  },
  {
   "metadata": {},
   "cell_type": "markdown",
   "source": [
    "Since the TDM operator is only defined for the product state and not the coupled state, in order to get the TDM operator for the coupled basis, we need to:\n",
    "\n",
    "- Define the operator with the uncoupled basis (evr_basis x es_basis), d_uncoupled.\n",
    "- Use the basis-change matrix stored in the coupled bases (et_basis_change_matrix()) to change the basis of the operator to the new coupled basis."
   ],
   "id": "839547a64da57c9d"
  },
  {
   "metadata": {
    "ExecuteTime": {
     "end_time": "2025-09-19T23:23:58.557876Z",
     "start_time": "2025-09-19T23:23:58.551821Z"
    }
   },
   "cell_type": "code",
   "source": [
    "d_uncoupled = d_evr.tensor(d_es)\n",
    "d_baseB = d_uncoupled.change_basis(caseB_basis, caseB_basis.get_basis_change_matrix())"
   ],
   "id": "5590aced3a72b198",
   "outputs": [],
   "execution_count": 10
  },
  {
   "metadata": {
    "ExecuteTime": {
     "end_time": "2025-09-19T23:24:00.607187Z",
     "start_time": "2025-09-19T23:24:00.602014Z"
    }
   },
   "cell_type": "code",
   "source": "d_baseB.get_connected_states()",
   "id": "de9051bf0a799960",
   "outputs": [
    {
     "data": {
      "text/plain": [
       "[(|elec=X, S=0.5, R=1, k=-1, J=0.5, mJ=-0.5>,\n",
       "  |elec=A, S=0.5, R=1, k=0, J=1.5, mJ=-1.5>),\n",
       " (|elec=X, S=0.5, R=1, k=-1, J=0.5, mJ=0.5>,\n",
       "  |elec=A, S=0.5, R=1, k=0, J=0.5, mJ=-0.5>),\n",
       " (|elec=X, S=0.5, R=1, k=-1, J=0.5, mJ=0.5>,\n",
       "  |elec=A, S=0.5, R=1, k=0, J=1.5, mJ=-0.5>),\n",
       " (|elec=X, S=0.5, R=1, k=-1, J=1.5, mJ=-0.5>,\n",
       "  |elec=A, S=0.5, R=1, k=0, J=1.5, mJ=-1.5>),\n",
       " (|elec=X, S=0.5, R=1, k=-1, J=1.5, mJ=0.5>,\n",
       "  |elec=A, S=0.5, R=1, k=0, J=0.5, mJ=-0.5>),\n",
       " (|elec=X, S=0.5, R=1, k=-1, J=1.5, mJ=0.5>,\n",
       "  |elec=A, S=0.5, R=1, k=0, J=1.5, mJ=-0.5>),\n",
       " (|elec=X, S=0.5, R=1, k=-1, J=1.5, mJ=1.5>,\n",
       "  |elec=A, S=0.5, R=1, k=0, J=0.5, mJ=0.5>),\n",
       " (|elec=X, S=0.5, R=1, k=-1, J=1.5, mJ=1.5>,\n",
       "  |elec=A, S=0.5, R=1, k=0, J=1.5, mJ=0.5>),\n",
       " (|elec=X, S=0.5, R=1, k=0, J=1.5, mJ=-1.5>,\n",
       "  |elec=A, S=0.5, R=1, k=-1, J=0.5, mJ=-0.5>),\n",
       " (|elec=X, S=0.5, R=1, k=0, J=0.5, mJ=-0.5>,\n",
       "  |elec=A, S=0.5, R=1, k=-1, J=0.5, mJ=0.5>),\n",
       " (|elec=X, S=0.5, R=1, k=0, J=1.5, mJ=-0.5>,\n",
       "  |elec=A, S=0.5, R=1, k=-1, J=0.5, mJ=0.5>),\n",
       " (|elec=X, S=0.5, R=1, k=0, J=1.5, mJ=-1.5>,\n",
       "  |elec=A, S=0.5, R=1, k=-1, J=1.5, mJ=-0.5>),\n",
       " (|elec=X, S=0.5, R=1, k=0, J=0.5, mJ=-0.5>,\n",
       "  |elec=A, S=0.5, R=1, k=-1, J=1.5, mJ=0.5>),\n",
       " (|elec=X, S=0.5, R=1, k=0, J=1.5, mJ=-0.5>,\n",
       "  |elec=A, S=0.5, R=1, k=-1, J=1.5, mJ=0.5>),\n",
       " (|elec=X, S=0.5, R=1, k=0, J=0.5, mJ=0.5>,\n",
       "  |elec=A, S=0.5, R=1, k=-1, J=1.5, mJ=1.5>),\n",
       " (|elec=X, S=0.5, R=1, k=0, J=1.5, mJ=0.5>,\n",
       "  |elec=A, S=0.5, R=1, k=-1, J=1.5, mJ=1.5>),\n",
       " (|elec=X, S=0.5, R=1, k=0, J=0.5, mJ=-0.5>,\n",
       "  |elec=A, S=0.5, R=1, k=-1, J=1.5, mJ=-1.5>),\n",
       " (|elec=X, S=0.5, R=1, k=0, J=0.5, mJ=-0.5>,\n",
       "  |elec=A, S=0.5, R=1, k=1, J=1.5, mJ=-1.5>),\n",
       " (|elec=X, S=0.5, R=1, k=0, J=0.5, mJ=0.5>,\n",
       "  |elec=A, S=0.5, R=1, k=-1, J=0.5, mJ=-0.5>),\n",
       " (|elec=X, S=0.5, R=1, k=0, J=0.5, mJ=0.5>,\n",
       "  |elec=A, S=0.5, R=1, k=-1, J=1.5, mJ=-0.5>),\n",
       " (|elec=X, S=0.5, R=1, k=0, J=0.5, mJ=0.5>,\n",
       "  |elec=A, S=0.5, R=1, k=1, J=0.5, mJ=-0.5>),\n",
       " (|elec=X, S=0.5, R=1, k=0, J=0.5, mJ=0.5>,\n",
       "  |elec=A, S=0.5, R=1, k=1, J=1.5, mJ=-0.5>),\n",
       " (|elec=X, S=0.5, R=1, k=0, J=1.5, mJ=-0.5>,\n",
       "  |elec=A, S=0.5, R=1, k=-1, J=1.5, mJ=-1.5>),\n",
       " (|elec=X, S=0.5, R=1, k=0, J=1.5, mJ=-0.5>,\n",
       "  |elec=A, S=0.5, R=1, k=1, J=1.5, mJ=-1.5>),\n",
       " (|elec=X, S=0.5, R=1, k=0, J=1.5, mJ=0.5>,\n",
       "  |elec=A, S=0.5, R=1, k=-1, J=0.5, mJ=-0.5>),\n",
       " (|elec=X, S=0.5, R=1, k=0, J=1.5, mJ=0.5>,\n",
       "  |elec=A, S=0.5, R=1, k=-1, J=1.5, mJ=-0.5>),\n",
       " (|elec=X, S=0.5, R=1, k=0, J=1.5, mJ=0.5>,\n",
       "  |elec=A, S=0.5, R=1, k=1, J=0.5, mJ=-0.5>),\n",
       " (|elec=X, S=0.5, R=1, k=0, J=1.5, mJ=0.5>,\n",
       "  |elec=A, S=0.5, R=1, k=1, J=1.5, mJ=-0.5>),\n",
       " (|elec=X, S=0.5, R=1, k=0, J=1.5, mJ=1.5>,\n",
       "  |elec=A, S=0.5, R=1, k=-1, J=0.5, mJ=0.5>),\n",
       " (|elec=X, S=0.5, R=1, k=0, J=1.5, mJ=1.5>,\n",
       "  |elec=A, S=0.5, R=1, k=-1, J=1.5, mJ=0.5>),\n",
       " (|elec=X, S=0.5, R=1, k=0, J=1.5, mJ=1.5>,\n",
       "  |elec=A, S=0.5, R=1, k=1, J=0.5, mJ=0.5>),\n",
       " (|elec=X, S=0.5, R=1, k=0, J=1.5, mJ=1.5>,\n",
       "  |elec=A, S=0.5, R=1, k=1, J=1.5, mJ=0.5>),\n",
       " (|elec=X, S=0.5, R=1, k=-1, J=1.5, mJ=-1.5>,\n",
       "  |elec=A, S=0.5, R=1, k=0, J=0.5, mJ=-0.5>),\n",
       " (|elec=X, S=0.5, R=1, k=1, J=1.5, mJ=-1.5>,\n",
       "  |elec=A, S=0.5, R=1, k=0, J=0.5, mJ=-0.5>),\n",
       " (|elec=X, S=0.5, R=1, k=-1, J=0.5, mJ=-0.5>,\n",
       "  |elec=A, S=0.5, R=1, k=0, J=0.5, mJ=0.5>),\n",
       " (|elec=X, S=0.5, R=1, k=-1, J=1.5, mJ=-0.5>,\n",
       "  |elec=A, S=0.5, R=1, k=0, J=0.5, mJ=0.5>),\n",
       " (|elec=X, S=0.5, R=1, k=1, J=0.5, mJ=-0.5>,\n",
       "  |elec=A, S=0.5, R=1, k=0, J=0.5, mJ=0.5>),\n",
       " (|elec=X, S=0.5, R=1, k=1, J=1.5, mJ=-0.5>,\n",
       "  |elec=A, S=0.5, R=1, k=0, J=0.5, mJ=0.5>),\n",
       " (|elec=X, S=0.5, R=1, k=-1, J=1.5, mJ=-1.5>,\n",
       "  |elec=A, S=0.5, R=1, k=0, J=1.5, mJ=-0.5>),\n",
       " (|elec=X, S=0.5, R=1, k=1, J=1.5, mJ=-1.5>,\n",
       "  |elec=A, S=0.5, R=1, k=0, J=1.5, mJ=-0.5>),\n",
       " (|elec=X, S=0.5, R=1, k=-1, J=0.5, mJ=-0.5>,\n",
       "  |elec=A, S=0.5, R=1, k=0, J=1.5, mJ=0.5>),\n",
       " (|elec=X, S=0.5, R=1, k=-1, J=1.5, mJ=-0.5>,\n",
       "  |elec=A, S=0.5, R=1, k=0, J=1.5, mJ=0.5>),\n",
       " (|elec=X, S=0.5, R=1, k=1, J=0.5, mJ=-0.5>,\n",
       "  |elec=A, S=0.5, R=1, k=0, J=1.5, mJ=0.5>),\n",
       " (|elec=X, S=0.5, R=1, k=1, J=1.5, mJ=-0.5>,\n",
       "  |elec=A, S=0.5, R=1, k=0, J=1.5, mJ=0.5>),\n",
       " (|elec=X, S=0.5, R=1, k=-1, J=0.5, mJ=0.5>,\n",
       "  |elec=A, S=0.5, R=1, k=0, J=1.5, mJ=1.5>),\n",
       " (|elec=X, S=0.5, R=1, k=-1, J=1.5, mJ=0.5>,\n",
       "  |elec=A, S=0.5, R=1, k=0, J=1.5, mJ=1.5>),\n",
       " (|elec=X, S=0.5, R=1, k=1, J=0.5, mJ=0.5>,\n",
       "  |elec=A, S=0.5, R=1, k=0, J=1.5, mJ=1.5>),\n",
       " (|elec=X, S=0.5, R=1, k=1, J=1.5, mJ=0.5>,\n",
       "  |elec=A, S=0.5, R=1, k=0, J=1.5, mJ=1.5>),\n",
       " (|elec=X, S=0.5, R=1, k=1, J=0.5, mJ=-0.5>,\n",
       "  |elec=A, S=0.5, R=1, k=0, J=1.5, mJ=-1.5>),\n",
       " (|elec=X, S=0.5, R=1, k=1, J=0.5, mJ=0.5>,\n",
       "  |elec=A, S=0.5, R=1, k=0, J=0.5, mJ=-0.5>),\n",
       " (|elec=X, S=0.5, R=1, k=1, J=0.5, mJ=0.5>,\n",
       "  |elec=A, S=0.5, R=1, k=0, J=1.5, mJ=-0.5>),\n",
       " (|elec=X, S=0.5, R=1, k=1, J=1.5, mJ=-0.5>,\n",
       "  |elec=A, S=0.5, R=1, k=0, J=1.5, mJ=-1.5>),\n",
       " (|elec=X, S=0.5, R=1, k=1, J=1.5, mJ=0.5>,\n",
       "  |elec=A, S=0.5, R=1, k=0, J=0.5, mJ=-0.5>),\n",
       " (|elec=X, S=0.5, R=1, k=1, J=1.5, mJ=0.5>,\n",
       "  |elec=A, S=0.5, R=1, k=0, J=1.5, mJ=-0.5>),\n",
       " (|elec=X, S=0.5, R=1, k=1, J=1.5, mJ=1.5>,\n",
       "  |elec=A, S=0.5, R=1, k=0, J=0.5, mJ=0.5>),\n",
       " (|elec=X, S=0.5, R=1, k=1, J=1.5, mJ=1.5>,\n",
       "  |elec=A, S=0.5, R=1, k=0, J=1.5, mJ=0.5>),\n",
       " (|elec=X, S=0.5, R=1, k=0, J=1.5, mJ=-1.5>,\n",
       "  |elec=A, S=0.5, R=1, k=1, J=0.5, mJ=-0.5>),\n",
       " (|elec=X, S=0.5, R=1, k=0, J=0.5, mJ=-0.5>,\n",
       "  |elec=A, S=0.5, R=1, k=1, J=0.5, mJ=0.5>),\n",
       " (|elec=X, S=0.5, R=1, k=0, J=1.5, mJ=-0.5>,\n",
       "  |elec=A, S=0.5, R=1, k=1, J=0.5, mJ=0.5>),\n",
       " (|elec=X, S=0.5, R=1, k=0, J=1.5, mJ=-1.5>,\n",
       "  |elec=A, S=0.5, R=1, k=1, J=1.5, mJ=-0.5>),\n",
       " (|elec=X, S=0.5, R=1, k=0, J=0.5, mJ=-0.5>,\n",
       "  |elec=A, S=0.5, R=1, k=1, J=1.5, mJ=0.5>),\n",
       " (|elec=X, S=0.5, R=1, k=0, J=1.5, mJ=-0.5>,\n",
       "  |elec=A, S=0.5, R=1, k=1, J=1.5, mJ=0.5>),\n",
       " (|elec=X, S=0.5, R=1, k=0, J=0.5, mJ=0.5>,\n",
       "  |elec=A, S=0.5, R=1, k=1, J=1.5, mJ=1.5>),\n",
       " (|elec=X, S=0.5, R=1, k=0, J=1.5, mJ=0.5>,\n",
       "  |elec=A, S=0.5, R=1, k=1, J=1.5, mJ=1.5>)]"
      ]
     },
     "execution_count": 11,
     "metadata": {},
     "output_type": "execute_result"
    }
   ],
   "execution_count": 11
  },
  {
   "metadata": {},
   "cell_type": "markdown",
   "source": "### Another example with ATM rotational basis",
   "id": "8edbedd9a871b037"
  },
  {
   "metadata": {
    "ExecuteTime": {
     "end_time": "2025-09-19T23:24:09.515426Z",
     "start_time": "2025-09-19T23:24:09.486312Z"
    }
   },
   "cell_type": "code",
   "source": [
    "def wavenumber_to_Hz(k):\n",
    "    return k * 299792458 * 100\n",
    "def wavenumber_to_GHz(k):\n",
    "    return k * 299792458 * 100 / 1e9\n",
    "\n",
    "A = wavenumber_to_GHz(13.05744)\n",
    "BC_avg2 = wavenumber_to_GHz(0.296652) # (B+C)/2\n",
    "BC_diff4 = wavenumber_to_GHz(1.8894e-3) # (B-C)/4\n",
    "rot_basis_ATM = ATM_RotationalBasis(A,BC_avg2,BC_diff4,R_range=(0,1),m_range=(-5,5))\n",
    "\n",
    "evr_basis_ATM = vibronic_basis * rot_basis_ATM\n",
    "d_evr_ATM = DipoleOperator_evr(evr_basis_ATM,vibronic_d, 1)"
   ],
   "id": "c0917c6c3063ec43",
   "outputs": [],
   "execution_count": 12
  },
  {
   "metadata": {
    "ExecuteTime": {
     "end_time": "2025-09-19T23:24:10.778898Z",
     "start_time": "2025-09-19T23:24:10.774270Z"
    }
   },
   "cell_type": "code",
   "source": "d_evr_ATM.get_connected_states()",
   "id": "7ea3ae0ed8a01f67",
   "outputs": [
    {
     "data": {
      "text/plain": [
       "[(|elec=X, R=0, k_a=0, k_c=0, mR=0>, |elec=A, R=1, k_a=1, k_c=1, mR=-1>),\n",
       " (|elec=X, R=1, k_a=1, k_c=1, mR=-1>, |elec=A, R=0, k_a=0, k_c=0, mR=0>),\n",
       " (|elec=X, R=1, k_a=0, k_c=1, mR=0>, |elec=A, R=1, k_a=1, k_c=0, mR=-1>),\n",
       " (|elec=X, R=1, k_a=1, k_c=0, mR=-1>, |elec=A, R=1, k_a=0, k_c=1, mR=0>),\n",
       " (|elec=X, R=1, k_a=0, k_c=1, mR=1>, |elec=A, R=1, k_a=1, k_c=0, mR=0>),\n",
       " (|elec=X, R=1, k_a=1, k_c=0, mR=0>, |elec=A, R=1, k_a=0, k_c=1, mR=1>),\n",
       " (|elec=X, R=1, k_a=1, k_c=1, mR=1>, |elec=A, R=0, k_a=0, k_c=0, mR=0>),\n",
       " (|elec=X, R=0, k_a=0, k_c=0, mR=0>, |elec=A, R=1, k_a=1, k_c=1, mR=1>),\n",
       " (|elec=X, R=1, k_a=1, k_c=0, mR=0>, |elec=A, R=1, k_a=0, k_c=1, mR=-1>),\n",
       " (|elec=X, R=1, k_a=0, k_c=1, mR=-1>, |elec=A, R=1, k_a=1, k_c=0, mR=0>),\n",
       " (|elec=X, R=1, k_a=1, k_c=0, mR=1>, |elec=A, R=1, k_a=0, k_c=1, mR=0>),\n",
       " (|elec=X, R=1, k_a=0, k_c=1, mR=0>, |elec=A, R=1, k_a=1, k_c=0, mR=1>)]"
      ]
     },
     "execution_count": 13,
     "metadata": {},
     "output_type": "execute_result"
    }
   ],
   "execution_count": 13
  },
  {
   "metadata": {
    "ExecuteTime": {
     "end_time": "2025-09-19T23:24:14.434627Z",
     "start_time": "2025-09-19T23:24:14.407472Z"
    }
   },
   "cell_type": "code",
   "source": [
    "J_basis_ATM = evr_basis_ATM.couple(es_basis)\n",
    "J_basis_ATM.rename_symbols(\"J\",\"mJ\")\n",
    "\n",
    "d_uncoupled_ATM = d_evr_ATM.tensor(d_es)\n",
    "d_caseB_ATM = d_uncoupled_ATM.change_basis(J_basis_ATM, J_basis_ATM.get_basis_change_matrix())\n",
    "\n",
    "d_caseB_ATM.get_connected_states()"
   ],
   "id": "e69ea2ec728684d1",
   "outputs": [
    {
     "data": {
      "text/plain": [
       "[(|elec=X, S=0.5, R=0, k_a=0, k_c=0, J=0.5, mJ=-0.5>,\n",
       "  |elec=A, S=0.5, R=1, k_a=1, k_c=1, J=1.5, mJ=-1.5>),\n",
       " (|elec=X, S=0.5, R=0, k_a=0, k_c=0, J=0.5, mJ=0.5>,\n",
       "  |elec=A, S=0.5, R=1, k_a=1, k_c=1, J=0.5, mJ=-0.5>),\n",
       " (|elec=X, S=0.5, R=0, k_a=0, k_c=0, J=0.5, mJ=0.5>,\n",
       "  |elec=A, S=0.5, R=1, k_a=1, k_c=1, J=1.5, mJ=-0.5>),\n",
       " (|elec=X, S=0.5, R=1, k_a=1, k_c=1, J=1.5, mJ=-1.5>,\n",
       "  |elec=A, S=0.5, R=0, k_a=0, k_c=0, J=0.5, mJ=-0.5>),\n",
       " (|elec=X, S=0.5, R=1, k_a=1, k_c=1, J=0.5, mJ=-0.5>,\n",
       "  |elec=A, S=0.5, R=0, k_a=0, k_c=0, J=0.5, mJ=0.5>),\n",
       " (|elec=X, S=0.5, R=1, k_a=1, k_c=1, J=1.5, mJ=-0.5>,\n",
       "  |elec=A, S=0.5, R=0, k_a=0, k_c=0, J=0.5, mJ=0.5>),\n",
       " (|elec=X, S=0.5, R=1, k_a=0, k_c=1, J=0.5, mJ=-0.5>,\n",
       "  |elec=A, S=0.5, R=1, k_a=1, k_c=0, J=1.5, mJ=-1.5>),\n",
       " (|elec=X, S=0.5, R=1, k_a=0, k_c=1, J=0.5, mJ=0.5>,\n",
       "  |elec=A, S=0.5, R=1, k_a=1, k_c=0, J=0.5, mJ=-0.5>),\n",
       " (|elec=X, S=0.5, R=1, k_a=0, k_c=1, J=0.5, mJ=0.5>,\n",
       "  |elec=A, S=0.5, R=1, k_a=1, k_c=0, J=1.5, mJ=-0.5>),\n",
       " (|elec=X, S=0.5, R=1, k_a=0, k_c=1, J=1.5, mJ=-0.5>,\n",
       "  |elec=A, S=0.5, R=1, k_a=1, k_c=0, J=1.5, mJ=-1.5>),\n",
       " (|elec=X, S=0.5, R=1, k_a=0, k_c=1, J=1.5, mJ=0.5>,\n",
       "  |elec=A, S=0.5, R=1, k_a=1, k_c=0, J=0.5, mJ=-0.5>),\n",
       " (|elec=X, S=0.5, R=1, k_a=0, k_c=1, J=1.5, mJ=0.5>,\n",
       "  |elec=A, S=0.5, R=1, k_a=1, k_c=0, J=1.5, mJ=-0.5>),\n",
       " (|elec=X, S=0.5, R=1, k_a=0, k_c=1, J=1.5, mJ=1.5>,\n",
       "  |elec=A, S=0.5, R=1, k_a=1, k_c=0, J=0.5, mJ=0.5>),\n",
       " (|elec=X, S=0.5, R=1, k_a=0, k_c=1, J=1.5, mJ=1.5>,\n",
       "  |elec=A, S=0.5, R=1, k_a=1, k_c=0, J=1.5, mJ=0.5>),\n",
       " (|elec=X, S=0.5, R=1, k_a=1, k_c=0, J=1.5, mJ=-1.5>,\n",
       "  |elec=A, S=0.5, R=1, k_a=0, k_c=1, J=0.5, mJ=-0.5>),\n",
       " (|elec=X, S=0.5, R=1, k_a=1, k_c=0, J=0.5, mJ=-0.5>,\n",
       "  |elec=A, S=0.5, R=1, k_a=0, k_c=1, J=0.5, mJ=0.5>),\n",
       " (|elec=X, S=0.5, R=1, k_a=1, k_c=0, J=1.5, mJ=-0.5>,\n",
       "  |elec=A, S=0.5, R=1, k_a=0, k_c=1, J=0.5, mJ=0.5>),\n",
       " (|elec=X, S=0.5, R=1, k_a=1, k_c=0, J=1.5, mJ=-1.5>,\n",
       "  |elec=A, S=0.5, R=1, k_a=0, k_c=1, J=1.5, mJ=-0.5>),\n",
       " (|elec=X, S=0.5, R=1, k_a=1, k_c=0, J=0.5, mJ=-0.5>,\n",
       "  |elec=A, S=0.5, R=1, k_a=0, k_c=1, J=1.5, mJ=0.5>),\n",
       " (|elec=X, S=0.5, R=1, k_a=1, k_c=0, J=1.5, mJ=-0.5>,\n",
       "  |elec=A, S=0.5, R=1, k_a=0, k_c=1, J=1.5, mJ=0.5>),\n",
       " (|elec=X, S=0.5, R=1, k_a=1, k_c=0, J=0.5, mJ=0.5>,\n",
       "  |elec=A, S=0.5, R=1, k_a=0, k_c=1, J=1.5, mJ=1.5>),\n",
       " (|elec=X, S=0.5, R=1, k_a=1, k_c=0, J=1.5, mJ=0.5>,\n",
       "  |elec=A, S=0.5, R=1, k_a=0, k_c=1, J=1.5, mJ=1.5>),\n",
       " (|elec=X, S=0.5, R=1, k_a=1, k_c=1, J=0.5, mJ=0.5>,\n",
       "  |elec=A, S=0.5, R=0, k_a=0, k_c=0, J=0.5, mJ=-0.5>),\n",
       " (|elec=X, S=0.5, R=1, k_a=1, k_c=1, J=1.5, mJ=0.5>,\n",
       "  |elec=A, S=0.5, R=0, k_a=0, k_c=0, J=0.5, mJ=-0.5>),\n",
       " (|elec=X, S=0.5, R=1, k_a=1, k_c=1, J=1.5, mJ=1.5>,\n",
       "  |elec=A, S=0.5, R=0, k_a=0, k_c=0, J=0.5, mJ=0.5>),\n",
       " (|elec=X, S=0.5, R=0, k_a=0, k_c=0, J=0.5, mJ=-0.5>,\n",
       "  |elec=A, S=0.5, R=1, k_a=1, k_c=1, J=0.5, mJ=0.5>),\n",
       " (|elec=X, S=0.5, R=0, k_a=0, k_c=0, J=0.5, mJ=-0.5>,\n",
       "  |elec=A, S=0.5, R=1, k_a=1, k_c=1, J=1.5, mJ=0.5>),\n",
       " (|elec=X, S=0.5, R=0, k_a=0, k_c=0, J=0.5, mJ=0.5>,\n",
       "  |elec=A, S=0.5, R=1, k_a=1, k_c=1, J=1.5, mJ=1.5>),\n",
       " (|elec=X, S=0.5, R=1, k_a=1, k_c=0, J=0.5, mJ=-0.5>,\n",
       "  |elec=A, S=0.5, R=1, k_a=0, k_c=1, J=1.5, mJ=-1.5>),\n",
       " (|elec=X, S=0.5, R=1, k_a=1, k_c=0, J=0.5, mJ=0.5>,\n",
       "  |elec=A, S=0.5, R=1, k_a=0, k_c=1, J=0.5, mJ=-0.5>),\n",
       " (|elec=X, S=0.5, R=1, k_a=1, k_c=0, J=0.5, mJ=0.5>,\n",
       "  |elec=A, S=0.5, R=1, k_a=0, k_c=1, J=1.5, mJ=-0.5>),\n",
       " (|elec=X, S=0.5, R=1, k_a=1, k_c=0, J=1.5, mJ=-0.5>,\n",
       "  |elec=A, S=0.5, R=1, k_a=0, k_c=1, J=1.5, mJ=-1.5>),\n",
       " (|elec=X, S=0.5, R=1, k_a=1, k_c=0, J=1.5, mJ=0.5>,\n",
       "  |elec=A, S=0.5, R=1, k_a=0, k_c=1, J=0.5, mJ=-0.5>),\n",
       " (|elec=X, S=0.5, R=1, k_a=1, k_c=0, J=1.5, mJ=0.5>,\n",
       "  |elec=A, S=0.5, R=1, k_a=0, k_c=1, J=1.5, mJ=-0.5>),\n",
       " (|elec=X, S=0.5, R=1, k_a=1, k_c=0, J=1.5, mJ=1.5>,\n",
       "  |elec=A, S=0.5, R=1, k_a=0, k_c=1, J=0.5, mJ=0.5>),\n",
       " (|elec=X, S=0.5, R=1, k_a=1, k_c=0, J=1.5, mJ=1.5>,\n",
       "  |elec=A, S=0.5, R=1, k_a=0, k_c=1, J=1.5, mJ=0.5>),\n",
       " (|elec=X, S=0.5, R=1, k_a=0, k_c=1, J=1.5, mJ=-1.5>,\n",
       "  |elec=A, S=0.5, R=1, k_a=1, k_c=0, J=0.5, mJ=-0.5>),\n",
       " (|elec=X, S=0.5, R=1, k_a=0, k_c=1, J=0.5, mJ=-0.5>,\n",
       "  |elec=A, S=0.5, R=1, k_a=1, k_c=0, J=0.5, mJ=0.5>),\n",
       " (|elec=X, S=0.5, R=1, k_a=0, k_c=1, J=1.5, mJ=-0.5>,\n",
       "  |elec=A, S=0.5, R=1, k_a=1, k_c=0, J=0.5, mJ=0.5>),\n",
       " (|elec=X, S=0.5, R=1, k_a=0, k_c=1, J=1.5, mJ=-1.5>,\n",
       "  |elec=A, S=0.5, R=1, k_a=1, k_c=0, J=1.5, mJ=-0.5>),\n",
       " (|elec=X, S=0.5, R=1, k_a=0, k_c=1, J=0.5, mJ=-0.5>,\n",
       "  |elec=A, S=0.5, R=1, k_a=1, k_c=0, J=1.5, mJ=0.5>),\n",
       " (|elec=X, S=0.5, R=1, k_a=0, k_c=1, J=1.5, mJ=-0.5>,\n",
       "  |elec=A, S=0.5, R=1, k_a=1, k_c=0, J=1.5, mJ=0.5>),\n",
       " (|elec=X, S=0.5, R=1, k_a=0, k_c=1, J=0.5, mJ=0.5>,\n",
       "  |elec=A, S=0.5, R=1, k_a=1, k_c=0, J=1.5, mJ=1.5>),\n",
       " (|elec=X, S=0.5, R=1, k_a=0, k_c=1, J=1.5, mJ=0.5>,\n",
       "  |elec=A, S=0.5, R=1, k_a=1, k_c=0, J=1.5, mJ=1.5>)]"
      ]
     },
     "execution_count": 14,
     "metadata": {},
     "output_type": "execute_result"
    }
   ],
   "execution_count": 14
  },
  {
   "metadata": {},
   "cell_type": "markdown",
   "source": [
    "## Symmetry of the state\n",
    "\n",
    "If state irreps and operator irreps are defined, you can check whether a transition is possible by checking if the product of the irreps are A1."
   ],
   "id": "97a5389bd2f0392f"
  },
  {
   "metadata": {
    "ExecuteTime": {
     "end_time": "2025-09-19T18:57:44.545221Z",
     "start_time": "2025-09-19T18:57:44.538438Z"
    }
   },
   "cell_type": "code",
   "source": "X.irrep * vibronic_d_b.irrep * A.irrep",
   "id": "bd8a748c1fe2dbb4",
   "outputs": [
    {
     "data": {
      "text/plain": [
       "C2v_A1 representation\n",
       "e: [[1]]\n",
       "C_2: [[1]]\n",
       "σ_v(xz): [[1]]\n",
       "σ_v(yz): [[1]]"
      ]
     },
     "execution_count": 21,
     "metadata": {},
     "output_type": "execute_result"
    }
   ],
   "execution_count": 21
  },
  {
   "metadata": {},
   "cell_type": "code",
   "outputs": [],
   "execution_count": null,
   "source": "",
   "id": "33fd8c8773f64e89"
  },
  {
   "metadata": {},
   "cell_type": "code",
   "outputs": [],
   "execution_count": null,
   "source": "",
   "id": "dd5b9d24033db485"
  },
  {
   "metadata": {},
   "cell_type": "code",
   "outputs": [],
   "execution_count": null,
   "source": "",
   "id": "d35a7192c1d9087a"
  }
 ],
 "metadata": {
  "kernelspec": {
   "display_name": "Python 3",
   "language": "python",
   "name": "python3"
  },
  "language_info": {
   "codemirror_mode": {
    "name": "ipython",
    "version": 2
   },
   "file_extension": ".py",
   "mimetype": "text/x-python",
   "name": "python",
   "nbconvert_exporter": "python",
   "pygments_lexer": "ipython2",
   "version": "2.7.6"
  }
 },
 "nbformat": 4,
 "nbformat_minor": 5
}
