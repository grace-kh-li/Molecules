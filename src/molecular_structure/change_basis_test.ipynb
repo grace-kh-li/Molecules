{
 "cells": [
  {
   "metadata": {
    "ExecuteTime": {
     "end_time": "2025-09-18T19:31:24.583052Z",
     "start_time": "2025-09-18T19:31:24.255395Z"
    }
   },
   "cell_type": "code",
   "source": [
    "from src.molecular_structure.RotationalStates import STM_RotationalBasis\n",
    "from src.quantum_mechanics.AngularMomentum import ElectronicSpinBasis, NuclearSpinBasis\n",
    "import numpy as np\n",
    "\n",
    "\n",
    "es_basis1 = ElectronicSpinBasis(S_range=(1/2,1/2))\n",
    "es_basis1.rename_symbols(\"N\",\"m_N\")\n",
    "es_basis2 = ElectronicSpinBasis(S_range=(1/2,1/2))\n",
    "es_basis2.rename_symbols(\"S\",\"m_S\")\n",
    "es_basis3 = ElectronicSpinBasis(S_range=(1/2,1/2))\n",
    "es_basis3.rename_symbols(\"I\",\"m_I\")\n",
    "\n",
    "coupled_basis12 = es_basis1.couple(es_basis2)\n",
    "coupled_basis12.rename_symbols(\"J\",\"m_J\")\n",
    "coupled_basis123 = coupled_basis12.couple(es_basis3)\n",
    "coupled_basis123.rename_symbols(\"F\",\"m_F\")"
   ],
   "id": "94a0e99347d71558",
   "outputs": [],
   "execution_count": 1
  },
  {
   "metadata": {
    "ExecuteTime": {
     "end_time": "2025-09-18T19:31:33.086127Z",
     "start_time": "2025-09-18T19:31:33.080413Z"
    }
   },
   "cell_type": "code",
   "source": [
    "coupled_basis12.unravel_basis()\n",
    "# coupled_basis12.use_as_defining_basis()\n",
    "coupled_basis12[0].coeff"
   ],
   "id": "fa898c794443e615",
   "outputs": [
    {
     "data": {
      "text/plain": [
       "array([ 0.        , -0.70710678,  0.70710678,  0.        ])"
      ]
     },
     "execution_count": 3,
     "metadata": {},
     "output_type": "execute_result"
    }
   ],
   "execution_count": 3
  },
  {
   "metadata": {
    "ExecuteTime": {
     "end_time": "2025-09-18T19:31:34.403319Z",
     "start_time": "2025-09-18T19:31:34.398593Z"
    }
   },
   "cell_type": "code",
   "source": "coupled_basis123.unravel_basis()",
   "id": "cd22679f5e57461c",
   "outputs": [],
   "execution_count": 4
  },
  {
   "metadata": {
    "ExecuteTime": {
     "end_time": "2025-09-18T19:31:35.172367Z",
     "start_time": "2025-09-18T19:31:35.168587Z"
    }
   },
   "cell_type": "code",
   "source": "coupled_basis123[7].show_composition()",
   "id": "97e0fcd8dcb60593",
   "outputs": [
    {
     "name": "stdout",
     "output_type": "stream",
     "text": [
      "|S=0.5, I=0.5, N=0.5, J=1.0, F=1.5, m_F=1.5> = 1.00 |S=0.5, m_S=0.5, I=0.5, m_I=0.5, N=0.5, m_N=0.5> \n"
     ]
    }
   ],
   "execution_count": 5
  },
  {
   "metadata": {
    "ExecuteTime": {
     "end_time": "2025-09-18T19:31:43.772160Z",
     "start_time": "2025-09-18T19:31:43.767696Z"
    }
   },
   "cell_type": "code",
   "source": "coupled_basis123.get_subspace({\"F\":1.5, \"m_F\":(-2,2)})",
   "id": "1eb215c346f40165",
   "outputs": [
    {
     "data": {
      "text/plain": [
       "[|S=0.5, I=0.5, N=0.5, J=1.0, F=1.5, m_F=-1.5>,\n",
       " |S=0.5, I=0.5, N=0.5, J=1.0, F=1.5, m_F=-0.5>,\n",
       " |S=0.5, I=0.5, N=0.5, J=1.0, F=1.5, m_F=0.5>,\n",
       " |S=0.5, I=0.5, N=0.5, J=1.0, F=1.5, m_F=1.5>]"
      ]
     },
     "execution_count": 6,
     "metadata": {},
     "output_type": "execute_result"
    }
   ],
   "execution_count": 6
  },
  {
   "metadata": {},
   "cell_type": "code",
   "outputs": [],
   "execution_count": null,
   "source": "",
   "id": "4ba8b90cf14e00b5"
  },
  {
   "metadata": {
    "ExecuteTime": {
     "end_time": "2025-09-18T17:05:13.933200Z",
     "start_time": "2025-09-18T17:05:13.927755Z"
    }
   },
   "cell_type": "code",
   "source": [
    "a = np.array(coupled_basis123[0].non_zero_coeffs)\n",
    "np.sum(a*np.conj(a))"
   ],
   "id": "e3603aeddaf58fab",
   "outputs": [
    {
     "data": {
      "text/plain": [
       "np.float64(1.0000000000000004)"
      ]
     },
     "execution_count": 5,
     "metadata": {},
     "output_type": "execute_result"
    }
   ],
   "execution_count": 5
  },
  {
   "metadata": {
    "ExecuteTime": {
     "end_time": "2025-09-18T17:05:14.288695Z",
     "start_time": "2025-09-18T17:05:14.269491Z"
    }
   },
   "cell_type": "code",
   "source": [
    "from src.quantum_mechanics.Basis import OrthogonalBasis\n",
    "from src.molecular_structure.ElectronicStates import ElectronicState\n",
    "\n",
    "X = ElectronicState(\"X\")\n",
    "A = ElectronicState(\"A\")\n",
    "vibronic_basis = OrthogonalBasis([X,A],\"Electronic\")\n",
    "\n",
    "rot_basis = STM_RotationalBasis(R_range=(1,1),k_range = (-1,1))\n",
    "es_basis = ElectronicSpinBasis(S_range=(1/2,1/2))\n",
    "ns_basis = NuclearSpinBasis(I_range=(1/2,1/2))\n",
    "coupled_basis = es_basis.couple(rot_basis) * vibronic_basis\n",
    "coupled_basis.rename_symbols(\"J\",\"mJ\")"
   ],
   "id": "40a9cddc99e23a91",
   "outputs": [],
   "execution_count": 6
  },
  {
   "metadata": {
    "ExecuteTime": {
     "end_time": "2025-09-18T17:05:15.197085Z",
     "start_time": "2025-09-18T17:05:15.189738Z"
    }
   },
   "cell_type": "code",
   "source": [
    "ev_rot_basis = vibronic_basis * rot_basis * es_basis\n",
    "ev_rot_basis.tensor_components"
   ],
   "id": "2d17d892b3b643d8",
   "outputs": [
    {
     "data": {
      "text/plain": [
       "[STM Rotational Basis = \n",
       " {|R=1, k=-1, mR=-1>, \n",
       "  |R=1, k=-1, mR=0>, \n",
       "  |R=1, k=-1, mR=1>, \n",
       "  |R=1, k=0, mR=-1>, \n",
       "  |R=1, k=0, mR=0>, \n",
       "  |R=1, k=0, mR=1>, \n",
       "  |R=1, k=1, mR=-1>, \n",
       "  |R=1, k=1, mR=0>, \n",
       "  |R=1, k=1, mR=1> },\n",
       " Electronic = \n",
       " {|X>, \n",
       "  |A> },\n",
       " ES basis = \n",
       " {|S=0.5, ms=-0.5>, \n",
       "  |S=0.5, ms=0.5> }]"
      ]
     },
     "execution_count": 7,
     "metadata": {},
     "output_type": "execute_result"
    }
   ],
   "execution_count": 7
  },
  {
   "metadata": {
    "ExecuteTime": {
     "end_time": "2025-09-18T17:05:16.827347Z",
     "start_time": "2025-09-18T17:05:16.776001Z"
    }
   },
   "cell_type": "code",
   "source": [
    "coupled_basis1 = coupled_basis.couple(ns_basis)\n",
    "coupled_basis1.rename_symbols(\"F\" ,\"mF\")\n",
    "uncoupled_basis1 = coupled_basis1.tensor_basis"
   ],
   "id": "6cc2ce065e91dba8",
   "outputs": [],
   "execution_count": 8
  },
  {
   "metadata": {
    "ExecuteTime": {
     "end_time": "2025-09-18T17:05:33.213321Z",
     "start_time": "2025-09-18T17:05:33.209875Z"
    }
   },
   "cell_type": "code",
   "source": "coupled_basis1",
   "id": "cf5575724c5cfa09",
   "outputs": [
    {
     "data": {
      "text/plain": [
       "ES basis x STM Rotational Basis x Electronic x NS basis = \n",
       "{|k=-1, S=0.5, R=1, elec=X, J=0.5, I=0.5, F=0.0, mF=-0.0>, \n",
       " |k=-1, S=0.5, R=1, elec=X, J=0.5, I=0.5, F=1.0, mF=-1.0>, \n",
       " |k=-1, S=0.5, R=1, elec=X, J=0.5, I=0.5, F=1.0, mF=0.0>, \n",
       " |k=-1, S=0.5, R=1, elec=X, J=0.5, I=0.5, F=1.0, mF=1.0>, \n",
       " |k=-1, S=0.5, R=1, elec=X, J=1.5, I=0.5, F=1.0, mF=-1.0>, \n",
       " |k=-1, S=0.5, R=1, elec=X, J=1.5, I=0.5, F=1.0, mF=0.0>, \n",
       " |k=-1, S=0.5, R=1, elec=X, J=1.5, I=0.5, F=1.0, mF=1.0>, \n",
       " |k=-1, S=0.5, R=1, elec=X, J=1.5, I=0.5, F=2.0, mF=-2.0>, \n",
       " |k=-1, S=0.5, R=1, elec=X, J=1.5, I=0.5, F=2.0, mF=-1.0>, \n",
       " |k=-1, S=0.5, R=1, elec=X, J=1.5, I=0.5, F=2.0, mF=0.0>, \n",
       " |k=-1, S=0.5, R=1, elec=X, J=1.5, I=0.5, F=2.0, mF=1.0>, \n",
       " |k=-1, S=0.5, R=1, elec=X, J=1.5, I=0.5, F=2.0, mF=2.0>, \n",
       " |k=-1, S=0.5, R=1, elec=A, J=0.5, I=0.5, F=0.0, mF=-0.0>, \n",
       " |k=-1, S=0.5, R=1, elec=A, J=0.5, I=0.5, F=1.0, mF=-1.0>, \n",
       " |k=-1, S=0.5, R=1, elec=A, J=0.5, I=0.5, F=1.0, mF=0.0>, \n",
       " |k=-1, S=0.5, R=1, elec=A, J=0.5, I=0.5, F=1.0, mF=1.0>, \n",
       " |k=-1, S=0.5, R=1, elec=A, J=1.5, I=0.5, F=1.0, mF=-1.0>, \n",
       " |k=-1, S=0.5, R=1, elec=A, J=1.5, I=0.5, F=1.0, mF=0.0>, \n",
       " |k=-1, S=0.5, R=1, elec=A, J=1.5, I=0.5, F=1.0, mF=1.0>, \n",
       " |k=-1, S=0.5, R=1, elec=A, J=1.5, I=0.5, F=2.0, mF=-2.0>, \n",
       " |k=-1, S=0.5, R=1, elec=A, J=1.5, I=0.5, F=2.0, mF=-1.0>, \n",
       " |k=-1, S=0.5, R=1, elec=A, J=1.5, I=0.5, F=2.0, mF=0.0>, \n",
       " |k=-1, S=0.5, R=1, elec=A, J=1.5, I=0.5, F=2.0, mF=1.0>, \n",
       " |k=-1, S=0.5, R=1, elec=A, J=1.5, I=0.5, F=2.0, mF=2.0>, \n",
       " |k=0, S=0.5, R=1, elec=X, J=0.5, I=0.5, F=0.0, mF=-0.0>, \n",
       " |k=0, S=0.5, R=1, elec=X, J=0.5, I=0.5, F=1.0, mF=-1.0>, \n",
       " |k=0, S=0.5, R=1, elec=X, J=0.5, I=0.5, F=1.0, mF=0.0>, \n",
       " |k=0, S=0.5, R=1, elec=X, J=0.5, I=0.5, F=1.0, mF=1.0>, \n",
       " |k=0, S=0.5, R=1, elec=X, J=1.5, I=0.5, F=1.0, mF=-1.0>, \n",
       " |k=0, S=0.5, R=1, elec=X, J=1.5, I=0.5, F=1.0, mF=0.0>, \n",
       " |k=0, S=0.5, R=1, elec=X, J=1.5, I=0.5, F=1.0, mF=1.0>, \n",
       " |k=0, S=0.5, R=1, elec=X, J=1.5, I=0.5, F=2.0, mF=-2.0>, \n",
       " |k=0, S=0.5, R=1, elec=X, J=1.5, I=0.5, F=2.0, mF=-1.0>, \n",
       " |k=0, S=0.5, R=1, elec=X, J=1.5, I=0.5, F=2.0, mF=0.0>, \n",
       " |k=0, S=0.5, R=1, elec=X, J=1.5, I=0.5, F=2.0, mF=1.0>, \n",
       " |k=0, S=0.5, R=1, elec=X, J=1.5, I=0.5, F=2.0, mF=2.0>, \n",
       " |k=0, S=0.5, R=1, elec=A, J=0.5, I=0.5, F=0.0, mF=-0.0>, \n",
       " |k=0, S=0.5, R=1, elec=A, J=0.5, I=0.5, F=1.0, mF=-1.0>, \n",
       " |k=0, S=0.5, R=1, elec=A, J=0.5, I=0.5, F=1.0, mF=0.0>, \n",
       " |k=0, S=0.5, R=1, elec=A, J=0.5, I=0.5, F=1.0, mF=1.0>, \n",
       " |k=0, S=0.5, R=1, elec=A, J=1.5, I=0.5, F=1.0, mF=-1.0>, \n",
       " |k=0, S=0.5, R=1, elec=A, J=1.5, I=0.5, F=1.0, mF=0.0>, \n",
       " |k=0, S=0.5, R=1, elec=A, J=1.5, I=0.5, F=1.0, mF=1.0>, \n",
       " |k=0, S=0.5, R=1, elec=A, J=1.5, I=0.5, F=2.0, mF=-2.0>, \n",
       " |k=0, S=0.5, R=1, elec=A, J=1.5, I=0.5, F=2.0, mF=-1.0>, \n",
       " |k=0, S=0.5, R=1, elec=A, J=1.5, I=0.5, F=2.0, mF=0.0>, \n",
       " |k=0, S=0.5, R=1, elec=A, J=1.5, I=0.5, F=2.0, mF=1.0>, \n",
       " |k=0, S=0.5, R=1, elec=A, J=1.5, I=0.5, F=2.0, mF=2.0>, \n",
       " |k=1, S=0.5, R=1, elec=X, J=0.5, I=0.5, F=0.0, mF=-0.0>, \n",
       " |k=1, S=0.5, R=1, elec=X, J=0.5, I=0.5, F=1.0, mF=-1.0>, \n",
       " |k=1, S=0.5, R=1, elec=X, J=0.5, I=0.5, F=1.0, mF=0.0>, \n",
       " |k=1, S=0.5, R=1, elec=X, J=0.5, I=0.5, F=1.0, mF=1.0>, \n",
       " |k=1, S=0.5, R=1, elec=X, J=1.5, I=0.5, F=1.0, mF=-1.0>, \n",
       " |k=1, S=0.5, R=1, elec=X, J=1.5, I=0.5, F=1.0, mF=0.0>, \n",
       " |k=1, S=0.5, R=1, elec=X, J=1.5, I=0.5, F=1.0, mF=1.0>, \n",
       " |k=1, S=0.5, R=1, elec=X, J=1.5, I=0.5, F=2.0, mF=-2.0>, \n",
       " |k=1, S=0.5, R=1, elec=X, J=1.5, I=0.5, F=2.0, mF=-1.0>, \n",
       " |k=1, S=0.5, R=1, elec=X, J=1.5, I=0.5, F=2.0, mF=0.0>, \n",
       " |k=1, S=0.5, R=1, elec=X, J=1.5, I=0.5, F=2.0, mF=1.0>, \n",
       " |k=1, S=0.5, R=1, elec=X, J=1.5, I=0.5, F=2.0, mF=2.0>, \n",
       " |k=1, S=0.5, R=1, elec=A, J=0.5, I=0.5, F=0.0, mF=-0.0>, \n",
       " |k=1, S=0.5, R=1, elec=A, J=0.5, I=0.5, F=1.0, mF=-1.0>, \n",
       " |k=1, S=0.5, R=1, elec=A, J=0.5, I=0.5, F=1.0, mF=0.0>, \n",
       " |k=1, S=0.5, R=1, elec=A, J=0.5, I=0.5, F=1.0, mF=1.0>, \n",
       " |k=1, S=0.5, R=1, elec=A, J=1.5, I=0.5, F=1.0, mF=-1.0>, \n",
       " |k=1, S=0.5, R=1, elec=A, J=1.5, I=0.5, F=1.0, mF=0.0>, \n",
       " |k=1, S=0.5, R=1, elec=A, J=1.5, I=0.5, F=1.0, mF=1.0>, \n",
       " |k=1, S=0.5, R=1, elec=A, J=1.5, I=0.5, F=2.0, mF=-2.0>, \n",
       " |k=1, S=0.5, R=1, elec=A, J=1.5, I=0.5, F=2.0, mF=-1.0>, \n",
       " |k=1, S=0.5, R=1, elec=A, J=1.5, I=0.5, F=2.0, mF=0.0>, \n",
       " |k=1, S=0.5, R=1, elec=A, J=1.5, I=0.5, F=2.0, mF=1.0>, \n",
       " |k=1, S=0.5, R=1, elec=A, J=1.5, I=0.5, F=2.0, mF=2.0> }"
      ]
     },
     "execution_count": 9,
     "metadata": {},
     "output_type": "execute_result"
    }
   ],
   "execution_count": 9
  },
  {
   "metadata": {},
   "cell_type": "code",
   "source": [
    "import numpy as np\n",
    "from src.molecular_structure.TDMs import DipoleOperator\n",
    "from src.tools.SphericalTensors import SphericalTensor_prolate\n",
    "\n",
    "dipole_mol = SphericalTensor_prolate(np.array([0,1,0]))\n",
    "rot_d = DipoleOperator(rot_basis, dipole_mol, -1)\n"
   ],
   "id": "e79b4f2464e2ff29",
   "outputs": [],
   "execution_count": null
  },
  {
   "metadata": {},
   "cell_type": "code",
   "source": "rot_d.change_basis(coupled_basis, coupled_basis.change_basis_matrix)",
   "id": "dafb9b28bcbf1a84",
   "outputs": [],
   "execution_count": null
  },
  {
   "metadata": {},
   "cell_type": "code",
   "source": "",
   "id": "d67c29eed8db7ba3",
   "outputs": [],
   "execution_count": null
  }
 ],
 "metadata": {
  "kernelspec": {
   "display_name": "Python 3",
   "language": "python",
   "name": "python3"
  },
  "language_info": {
   "codemirror_mode": {
    "name": "ipython",
    "version": 2
   },
   "file_extension": ".py",
   "mimetype": "text/x-python",
   "name": "python",
   "nbconvert_exporter": "python",
   "pygments_lexer": "ipython2",
   "version": "2.7.6"
  }
 },
 "nbformat": 4,
 "nbformat_minor": 5
}
