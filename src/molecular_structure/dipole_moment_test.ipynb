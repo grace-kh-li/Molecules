{
 "cells": [
  {
   "metadata": {
    "ExecuteTime": {
     "end_time": "2025-09-18T19:49:58.103006Z",
     "start_time": "2025-09-18T19:49:57.788502Z"
    }
   },
   "cell_type": "code",
   "source": [
    "from src.tools.SphericalTensors import SphericalTensor_prolate\n",
    "from src.molecular_structure.RotationalStates import STM_RotationalBasis\n",
    "from src.group_theory.Group import *\n",
    "from src.molecular_structure.TDMs import DipoleOperator_separable\n",
    "from src.molecular_structure.ElectronicStates import ElectronicState\n",
    "from src.quantum_mechanics.Basis import OrthogonalBasis\n",
    "\n",
    "\n",
    "group = C2vGroup()\n",
    "A1 = C2v_A1_representation(group)\n",
    "A2 = C2v_A2_representation(group)\n",
    "B1 = C2v_B1_representation(group)\n",
    "B2 = C2v_B2_representation(group)"
   ],
   "id": "a203f44707effab4",
   "outputs": [],
   "execution_count": 1
  },
  {
   "metadata": {
    "ExecuteTime": {
     "end_time": "2025-09-18T19:51:35.365614Z",
     "start_time": "2025-09-18T19:51:35.302590Z"
    }
   },
   "cell_type": "code",
   "source": [
    "from src.quantum_mechanics.AngularMomentum import ElectronicSpinBasis, NuclearSpinBasis\n",
    "\n",
    "X = ElectronicState(\"X\",symmetry_group=group, irrep = A1)\n",
    "A = ElectronicState(\"A\",symmetry_group=group, irrep= B2)\n",
    "vibronic_basis = OrthogonalBasis([X,A],\"Electronic\")\n",
    "\n",
    "rot_basis = STM_RotationalBasis(R_range=(1,1),k_range = (-1,1))\n",
    "es_basis = ElectronicSpinBasis(S_range=(1/2,1/2))\n",
    "ns_basis = NuclearSpinBasis(I_range=(1/2,1/2))\n",
    "\n",
    "J_basis = vibronic_basis * rot_basis.couple(es_basis)\n",
    "J_basis.rename_symbols(\"J\",\"mJ\")\n",
    "\n",
    "F_basis = ns_basis.couple(J_basis)\n",
    "F_basis.rename_symbols(\"F\",\"mF\")"
   ],
   "id": "d378362451653603",
   "outputs": [],
   "execution_count": 15
  },
  {
   "metadata": {
    "ExecuteTime": {
     "end_time": "2025-09-18T19:51:36.142515Z",
     "start_time": "2025-09-18T19:51:36.136747Z"
    }
   },
   "cell_type": "code",
   "source": "J_basis.unravel_basis()",
   "id": "a603f5069215631e",
   "outputs": [],
   "execution_count": 16
  },
  {
   "metadata": {
    "ExecuteTime": {
     "end_time": "2025-09-18T19:51:36.870272Z",
     "start_time": "2025-09-18T19:51:36.868511Z"
    }
   },
   "cell_type": "code",
   "source": "J_basis[1].show_composition()",
   "id": "1822e3e9b1d9d5a4",
   "outputs": [
    {
     "name": "stdout",
     "output_type": "stream",
     "text": [
      "|elec=A, S=0.5, R=1, k=-1, J=0.5, mJ=-0.5> = -0.82 |elec=A, S=0.5, R=1, k=-1, m=-1, ms=0.5> + 0.58 |elec=A, S=0.5, R=1, k=-1, m=0, ms=-0.5> \n"
     ]
    }
   ],
   "execution_count": 17
  },
  {
   "metadata": {
    "ExecuteTime": {
     "end_time": "2025-09-18T19:33:17.918076Z",
     "start_time": "2025-09-18T19:33:17.914554Z"
    }
   },
   "cell_type": "code",
   "source": "J_basis.change_basis_matrix",
   "id": "ca10e3d178dc4f20",
   "outputs": [
    {
     "data": {
      "text/plain": [
       "array([[1., 0., 0., ..., 0., 0., 0.],\n",
       "       [0., 1., 0., ..., 0., 0., 0.],\n",
       "       [0., 0., 1., ..., 0., 0., 0.],\n",
       "       ...,\n",
       "       [0., 0., 0., ..., 1., 0., 0.],\n",
       "       [0., 0., 0., ..., 0., 1., 0.],\n",
       "       [0., 0., 0., ..., 0., 0., 1.]], shape=(36, 36))"
      ]
     },
     "execution_count": 25,
     "metadata": {},
     "output_type": "execute_result"
    }
   ],
   "execution_count": 25
  },
  {
   "metadata": {
    "ExecuteTime": {
     "end_time": "2025-09-18T19:11:44.790112Z",
     "start_time": "2025-09-18T19:11:44.785775Z"
    }
   },
   "cell_type": "code",
   "source": "a",
   "id": "2e31379736d89394",
   "outputs": [
    {
     "data": {
      "text/plain": [
       "{'b': 1, 'a': 2}"
      ]
     },
     "execution_count": 14,
     "metadata": {},
     "output_type": "execute_result"
    }
   ],
   "execution_count": 14
  },
  {
   "metadata": {
    "ExecuteTime": {
     "end_time": "2025-09-18T19:14:21.762914Z",
     "start_time": "2025-09-18T19:14:21.757983Z"
    }
   },
   "cell_type": "code",
   "source": [
    "\n",
    "\n",
    "\n",
    "# Example\n",
    "my_dict = {\"a\": 1, \"b\": 2, \"c\": 3, \"d\": 4}\n",
    "order_list = [\"c\", \"x\", \"b\"]   # \"x\" not in my_dict\n",
    "\n",
    "reordered = reorder_dict(my_dict, order_list)\n",
    "print(reordered)\n"
   ],
   "id": "f594f57d7e7a62d1",
   "outputs": [
    {
     "name": "stdout",
     "output_type": "stream",
     "text": [
      "{'c': 3, 'b': 2, 'a': 1, 'd': 4}\n"
     ]
    }
   ],
   "execution_count": 16
  },
  {
   "metadata": {},
   "cell_type": "code",
   "outputs": [],
   "execution_count": null,
   "source": "",
   "id": "8e9fcecfb384bc8f"
  },
  {
   "metadata": {},
   "cell_type": "code",
   "outputs": [],
   "execution_count": null,
   "source": "",
   "id": "3d08806de430ef19"
  },
  {
   "metadata": {},
   "cell_type": "code",
   "outputs": [],
   "execution_count": null,
   "source": [
    "rot_basis = STM_RotationalBasis(R_range=(0,1),k_range = (0,1),m_range = (0,1))\n",
    "dipole_mol = SphericalTensor_prolate(np.array([0,1,0]))\n",
    "rot_d = DipoleOperator(rot_basis, dipole_mol, -1)"
   ],
   "id": "1d8380df5b0508e5"
  },
  {
   "metadata": {},
   "cell_type": "code",
   "outputs": [],
   "execution_count": null,
   "source": [
    "\n",
    "X = ElectronicState(\"X\",symmetry_group=group, irrep = A1)\n",
    "A = ElectronicState(\"A\",symmetry_group=group, irrep= B2)\n",
    "vibronic_basis = OrthogonalBasis([X,A],\"Electronic\")\n",
    "vibronic_d_a = Operator(vibronic_basis,np.array([[0,0],[0,0]]),symmetry_group=group, irrep= A1)\n",
    "vibronic_d_b = Operator(vibronic_basis,np.array([[1,0],[0,1]]),symmetry_group=group, irrep= B2)\n",
    "vibronic_d_c = Operator(vibronic_basis,np.array([[0,0],[0,0]]),symmetry_group=group, irrep= B1)\n",
    "\n",
    "# the transition dipole moment in molecule frame as a spherical tensor\n",
    "vibronic_d = SphericalTensor_prolate(np.array([vibronic_d_a,vibronic_d_b,vibronic_d_c]),is_operator=True, operator_basis=vibronic_basis)\n"
   ],
   "id": "8866acb055c5e524"
  },
  {
   "metadata": {},
   "cell_type": "code",
   "outputs": [],
   "execution_count": null,
   "source": "vibronic_d[1][0]",
   "id": "5fd878b5b9cddabb"
  },
  {
   "metadata": {},
   "cell_type": "code",
   "source": "X.irrep * vibronic_d_c.irrep * A.irrep",
   "id": "bd8a748c1fe2dbb4",
   "outputs": [],
   "execution_count": null
  },
  {
   "metadata": {},
   "cell_type": "code",
   "source": "d = vibronic_d_b.tensor(rot_d)",
   "id": "43ad5c32c05fcda",
   "outputs": [],
   "execution_count": null
  },
  {
   "metadata": {},
   "cell_type": "code",
   "source": "d.get_connected_states()",
   "id": "7ff8c76b1f1ef67b",
   "outputs": [],
   "execution_count": null
  },
  {
   "metadata": {},
   "cell_type": "code",
   "source": "",
   "id": "24bc89d98be1b4e3",
   "outputs": [],
   "execution_count": null
  }
 ],
 "metadata": {
  "kernelspec": {
   "display_name": "Python 3",
   "language": "python",
   "name": "python3"
  },
  "language_info": {
   "codemirror_mode": {
    "name": "ipython",
    "version": 2
   },
   "file_extension": ".py",
   "mimetype": "text/x-python",
   "name": "python",
   "nbconvert_exporter": "python",
   "pygments_lexer": "ipython2",
   "version": "2.7.6"
  }
 },
 "nbformat": 4,
 "nbformat_minor": 5
}
