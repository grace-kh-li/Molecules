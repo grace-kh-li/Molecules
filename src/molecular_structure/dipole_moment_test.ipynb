{
 "cells": [
  {
   "metadata": {
    "ExecuteTime": {
     "end_time": "2025-09-18T23:22:27.985100Z",
     "start_time": "2025-09-18T23:22:27.658376Z"
    }
   },
   "cell_type": "code",
   "source": [
    "from src.tools.SphericalTensors import SphericalTensor_prolate\n",
    "from src.molecular_structure.RotationalStates import STM_RotationalBasis\n",
    "from src.group_theory.Group import *\n",
    "from src.molecular_structure.TDMs import *\n",
    "from src.molecular_structure.VibronicStates import VibronicState\n",
    "from src.quantum_mechanics.Basis import OrthogonalBasis\n",
    "\n",
    "\n",
    "group = C2vGroup()\n",
    "A1 = C2v_A1_representation(group)\n",
    "A2 = C2v_A2_representation(group)\n",
    "B1 = C2v_B1_representation(group)\n",
    "B2 = C2v_B2_representation(group)"
   ],
   "id": "a203f44707effab4",
   "outputs": [],
   "execution_count": 1
  },
  {
   "metadata": {
    "ExecuteTime": {
     "end_time": "2025-09-18T23:22:28.030850Z",
     "start_time": "2025-09-18T23:22:27.988028Z"
    }
   },
   "cell_type": "code",
   "source": [
    "from src.quantum_mechanics.AngularMomentum import ElectronicSpinBasis, NuclearSpinBasis\n",
    "\n",
    "X = VibronicState(\"X\", symmetry_group=group, irrep = A1)\n",
    "A = VibronicState(\"A\", symmetry_group=group, irrep= B2)\n",
    "vibronic_basis = OrthogonalBasis([X,A],\"Electronic\")\n",
    "\n",
    "rot_basis = STM_RotationalBasis(R_range=(1,1),k_range = (-1,1))\n",
    "es_basis = ElectronicSpinBasis(S_range=(1/2,1/2))\n",
    "ns_basis = NuclearSpinBasis(I_range=(1/2,1/2))\n",
    "\n",
    "J_basis = vibronic_basis * rot_basis.couple(es_basis)\n",
    "J_basis.rename_symbols(\"J\",\"mJ\")\n",
    "\n",
    "F_basis = ns_basis.couple(J_basis)\n",
    "F_basis.rename_symbols(\"F\",\"mF\")"
   ],
   "id": "d378362451653603",
   "outputs": [],
   "execution_count": 2
  },
  {
   "metadata": {
    "ExecuteTime": {
     "end_time": "2025-09-18T23:22:28.036934Z",
     "start_time": "2025-09-18T23:22:28.033449Z"
    }
   },
   "cell_type": "code",
   "source": "J_basis.unravel_basis()",
   "id": "a603f5069215631e",
   "outputs": [],
   "execution_count": 3
  },
  {
   "metadata": {
    "ExecuteTime": {
     "end_time": "2025-09-18T23:22:28.042907Z",
     "start_time": "2025-09-18T23:22:28.041232Z"
    }
   },
   "cell_type": "code",
   "source": "J_basis[1].show_composition()",
   "id": "1822e3e9b1d9d5a4",
   "outputs": [
    {
     "name": "stdout",
     "output_type": "stream",
     "text": [
      "|elec=A, S=0.5, R=1, k=-1, J=0.5, mJ=-0.5> = -0.82 |elec=A, S=0.5, R=1, k=-1, m=-1, ms=0.5> + 0.58 |elec=A, S=0.5, R=1, k=-1, m=0, ms=-0.5> \n"
     ]
    }
   ],
   "execution_count": 4
  },
  {
   "metadata": {
    "ExecuteTime": {
     "end_time": "2025-09-18T23:22:28.135768Z",
     "start_time": "2025-09-18T23:22:28.131815Z"
    }
   },
   "cell_type": "code",
   "source": "J_basis.tensor_components",
   "id": "8e9fcecfb384bc8f",
   "outputs": [
    {
     "data": {
      "text/plain": [
       "[STM Rotational Basis = \n",
       " {|R=1, k=-1, mR=-1>, \n",
       "  |R=1, k=-1, mR=0>, \n",
       "  |R=1, k=-1, mR=1>, \n",
       "  |R=1, k=0, mR=-1>, \n",
       "  |R=1, k=0, mR=0>, \n",
       "  |R=1, k=0, mR=1>, \n",
       "  |R=1, k=1, mR=-1>, \n",
       "  |R=1, k=1, mR=0>, \n",
       "  |R=1, k=1, mR=1> },\n",
       " ES basis = \n",
       " {|S=0.5, ms=-0.5>, \n",
       "  |S=0.5, ms=0.5> },\n",
       " Electronic = \n",
       " {|elec=X>, \n",
       "  |elec=A> }]"
      ]
     },
     "execution_count": 5,
     "metadata": {},
     "output_type": "execute_result"
    }
   ],
   "execution_count": 5
  },
  {
   "metadata": {
    "ExecuteTime": {
     "end_time": "2025-09-18T23:22:28.280469Z",
     "start_time": "2025-09-18T23:22:28.276519Z"
    }
   },
   "cell_type": "code",
   "source": [
    "evr_basis = rot_basis * vibronic_basis\n",
    "evr_basis.tensor_components"
   ],
   "id": "3d08806de430ef19",
   "outputs": [
    {
     "data": {
      "text/plain": [
       "[STM Rotational Basis = \n",
       " {|R=1, k=-1, mR=-1>, \n",
       "  |R=1, k=-1, mR=0>, \n",
       "  |R=1, k=-1, mR=1>, \n",
       "  |R=1, k=0, mR=-1>, \n",
       "  |R=1, k=0, mR=0>, \n",
       "  |R=1, k=0, mR=1>, \n",
       "  |R=1, k=1, mR=-1>, \n",
       "  |R=1, k=1, mR=0>, \n",
       "  |R=1, k=1, mR=1> },\n",
       " Electronic = \n",
       " {|elec=X>, \n",
       "  |elec=A> }]"
      ]
     },
     "execution_count": 6,
     "metadata": {},
     "output_type": "execute_result"
    }
   ],
   "execution_count": 6
  },
  {
   "metadata": {
    "ExecuteTime": {
     "end_time": "2025-09-18T23:22:28.396055Z",
     "start_time": "2025-09-18T23:22:28.379394Z"
    }
   },
   "cell_type": "code",
   "source": [
    "rot_basis = STM_RotationalBasis(R_range=(0,1),k_range = (0,1),m_range = (-1,1))\n",
    "dipole_mol = SphericalTensor_prolate(np.array([0,1,0]))\n",
    "rot_d = DipoleOperator_STM(rot_basis, dipole_mol, 0)"
   ],
   "id": "1d8380df5b0508e5",
   "outputs": [],
   "execution_count": 7
  },
  {
   "metadata": {
    "ExecuteTime": {
     "end_time": "2025-09-18T23:22:28.511681Z",
     "start_time": "2025-09-18T23:22:28.509069Z"
    }
   },
   "cell_type": "code",
   "source": "rot_d.get_connected_states()",
   "id": "a2577b6cf86339a4",
   "outputs": [
    {
     "data": {
      "text/plain": [
       "[(|R=0, k=0, mR=0>, |R=1, k=-1, mR=0>),\n",
       " (|R=0, k=0, mR=0>, |R=1, k=1, mR=0>),\n",
       " (|R=1, k=-1, mR=-1>, |R=1, k=0, mR=-1>),\n",
       " (|R=1, k=-1, mR=1>, |R=1, k=0, mR=1>),\n",
       " (|R=1, k=0, mR=-1>, |R=1, k=1, mR=-1>),\n",
       " (|R=1, k=0, mR=1>, |R=1, k=1, mR=1>)]"
      ]
     },
     "execution_count": 8,
     "metadata": {},
     "output_type": "execute_result"
    }
   ],
   "execution_count": 8
  },
  {
   "metadata": {
    "ExecuteTime": {
     "end_time": "2025-09-18T23:22:28.632577Z",
     "start_time": "2025-09-18T23:22:28.630861Z"
    }
   },
   "cell_type": "code",
   "source": "",
   "id": "c27ea9d43da7e85e",
   "outputs": [],
   "execution_count": null
  },
  {
   "metadata": {
    "ExecuteTime": {
     "end_time": "2025-09-18T23:22:28.972963Z",
     "start_time": "2025-09-18T23:22:28.966772Z"
    }
   },
   "cell_type": "code",
   "source": [
    "X = VibronicState(\"X\", symmetry_group=group, irrep = A1)\n",
    "A = VibronicState(\"A\", symmetry_group=group, irrep= B2)\n",
    "vibronic_basis = OrthogonalBasis([X,A],\"Electronic\")\n",
    "vibronic_d_a = Operator(vibronic_basis,np.array([[0,0],[0,0]]),symmetry_group=group, irrep= A1)\n",
    "vibronic_d_b = Operator(vibronic_basis,np.array([[0,1],[1,0]]),symmetry_group=group, irrep= B2)\n",
    "vibronic_d_c = Operator(vibronic_basis,np.array([[0,0],[0,0]]),symmetry_group=group, irrep= B1)\n",
    "\n",
    "# the transition dipole moment in molecule frame as a spherical tensor\n",
    "vibronic_d = SphericalTensor_prolate(np.array([vibronic_d_a,vibronic_d_b,vibronic_d_c]),is_operator=True, operator_basis=vibronic_basis)\n",
    "\n",
    "evr_basis = vibronic_basis * rot_basis"
   ],
   "id": "8866acb055c5e524",
   "outputs": [],
   "execution_count": 9
  },
  {
   "metadata": {
    "ExecuteTime": {
     "end_time": "2025-09-18T23:27:39.869320Z",
     "start_time": "2025-09-18T23:27:39.852932Z"
    }
   },
   "cell_type": "code",
   "source": [
    "d_evr = DipoleOperator_evr(evr_basis,vibronic_d, 0)\n",
    "d_evr.get_connected_states()"
   ],
   "id": "5fd878b5b9cddabb",
   "outputs": [
    {
     "data": {
      "text/plain": [
       "[(|elec=X, R=0, k=0, m=0>, |elec=A, R=1, k=-1, m=0>),\n",
       " (|elec=X, R=0, k=0, m=0>, |elec=A, R=1, k=1, m=0>),\n",
       " (|elec=A, R=0, k=0, m=0>, |elec=X, R=1, k=-1, m=0>),\n",
       " (|elec=A, R=0, k=0, m=0>, |elec=X, R=1, k=1, m=0>),\n",
       " (|elec=X, R=1, k=-1, m=-1>, |elec=A, R=1, k=0, m=-1>),\n",
       " (|elec=A, R=1, k=-1, m=-1>, |elec=X, R=1, k=0, m=-1>),\n",
       " (|elec=X, R=1, k=-1, m=1>, |elec=A, R=1, k=0, m=1>),\n",
       " (|elec=A, R=1, k=-1, m=1>, |elec=X, R=1, k=0, m=1>),\n",
       " (|elec=X, R=1, k=0, m=-1>, |elec=A, R=1, k=1, m=-1>),\n",
       " (|elec=A, R=1, k=0, m=-1>, |elec=X, R=1, k=1, m=-1>),\n",
       " (|elec=X, R=1, k=0, m=1>, |elec=A, R=1, k=1, m=1>),\n",
       " (|elec=A, R=1, k=0, m=1>, |elec=X, R=1, k=1, m=1>)]"
      ]
     },
     "execution_count": 20,
     "metadata": {},
     "output_type": "execute_result"
    }
   ],
   "execution_count": 20
  },
  {
   "metadata": {
    "ExecuteTime": {
     "end_time": "2025-09-18T23:27:40.740193Z",
     "start_time": "2025-09-18T23:27:40.735272Z"
    }
   },
   "cell_type": "code",
   "source": [
    "d_es = DipoleOperator_spin(es_basis,0)\n",
    "d_es.get_connected_states()"
   ],
   "id": "e84caebdd61d8d40",
   "outputs": [
    {
     "data": {
      "text/plain": [
       "[(|S=0.5, ms=-0.5>, |S=0.5, ms=-0.5>), (|S=0.5, ms=0.5>, |S=0.5, ms=0.5>)]"
      ]
     },
     "execution_count": 21,
     "metadata": {},
     "output_type": "execute_result"
    }
   ],
   "execution_count": 21
  },
  {
   "metadata": {
    "ExecuteTime": {
     "end_time": "2025-09-18T23:27:44.041695Z",
     "start_time": "2025-09-18T23:27:44.015239Z"
    }
   },
   "cell_type": "code",
   "source": [
    "caseB_basis = evr_basis.couple(es_basis)\n",
    "caseB_basis.rename_symbols(\"J\",\"mJ\")"
   ],
   "id": "1f81d8fbe697520a",
   "outputs": [],
   "execution_count": 22
  },
  {
   "metadata": {
    "ExecuteTime": {
     "end_time": "2025-09-18T23:27:44.909647Z",
     "start_time": "2025-09-18T23:27:44.904404Z"
    }
   },
   "cell_type": "code",
   "source": [
    "uncoupled_basis = caseB_basis.get_uncoupled_basis()\n",
    "d_uncoupled = d_evr.tensor(d_es)\n",
    "d_baseB = d_uncoupled.change_basis(caseB_basis, caseB_basis.get_basis_change_matrix())"
   ],
   "id": "5590aced3a72b198",
   "outputs": [],
   "execution_count": 23
  },
  {
   "metadata": {
    "ExecuteTime": {
     "end_time": "2025-09-18T23:27:45.912262Z",
     "start_time": "2025-09-18T23:27:45.903957Z"
    }
   },
   "cell_type": "code",
   "source": "d_baseB.get_connected_states()",
   "id": "de9051bf0a799960",
   "outputs": [
    {
     "data": {
      "text/plain": [
       "[(|elec=X, S=0.5, R=0, k=0, J=0.5, mJ=-0.5>,\n",
       "  |elec=A, S=0.5, R=1, k=-1, J=0.5, mJ=-0.5>),\n",
       " (|elec=X, S=0.5, R=0, k=0, J=0.5, mJ=-0.5>,\n",
       "  |elec=A, S=0.5, R=1, k=-1, J=1.5, mJ=-0.5>),\n",
       " (|elec=X, S=0.5, R=0, k=0, J=0.5, mJ=-0.5>,\n",
       "  |elec=A, S=0.5, R=1, k=1, J=0.5, mJ=-0.5>),\n",
       " (|elec=X, S=0.5, R=0, k=0, J=0.5, mJ=-0.5>,\n",
       "  |elec=A, S=0.5, R=1, k=1, J=1.5, mJ=-0.5>),\n",
       " (|elec=X, S=0.5, R=0, k=0, J=0.5, mJ=0.5>,\n",
       "  |elec=A, S=0.5, R=1, k=-1, J=0.5, mJ=0.5>),\n",
       " (|elec=X, S=0.5, R=0, k=0, J=0.5, mJ=0.5>,\n",
       "  |elec=A, S=0.5, R=1, k=-1, J=1.5, mJ=0.5>),\n",
       " (|elec=X, S=0.5, R=0, k=0, J=0.5, mJ=0.5>,\n",
       "  |elec=A, S=0.5, R=1, k=1, J=0.5, mJ=0.5>),\n",
       " (|elec=X, S=0.5, R=0, k=0, J=0.5, mJ=0.5>,\n",
       "  |elec=A, S=0.5, R=1, k=1, J=1.5, mJ=0.5>),\n",
       " (|elec=X, S=0.5, R=1, k=0, J=0.5, mJ=-0.5>,\n",
       "  |elec=A, S=0.5, R=1, k=-1, J=0.5, mJ=-0.5>),\n",
       " (|elec=X, S=0.5, R=1, k=0, J=0.5, mJ=-0.5>,\n",
       "  |elec=A, S=0.5, R=1, k=-1, J=1.5, mJ=-0.5>),\n",
       " (|elec=X, S=0.5, R=1, k=0, J=0.5, mJ=-0.5>,\n",
       "  |elec=A, S=0.5, R=1, k=1, J=0.5, mJ=-0.5>),\n",
       " (|elec=X, S=0.5, R=1, k=0, J=0.5, mJ=-0.5>,\n",
       "  |elec=A, S=0.5, R=1, k=1, J=1.5, mJ=-0.5>),\n",
       " (|elec=X, S=0.5, R=1, k=0, J=0.5, mJ=0.5>,\n",
       "  |elec=A, S=0.5, R=1, k=-1, J=0.5, mJ=0.5>),\n",
       " (|elec=X, S=0.5, R=1, k=0, J=0.5, mJ=0.5>,\n",
       "  |elec=A, S=0.5, R=1, k=-1, J=1.5, mJ=0.5>),\n",
       " (|elec=X, S=0.5, R=1, k=0, J=0.5, mJ=0.5>,\n",
       "  |elec=A, S=0.5, R=1, k=1, J=0.5, mJ=0.5>),\n",
       " (|elec=X, S=0.5, R=1, k=0, J=0.5, mJ=0.5>,\n",
       "  |elec=A, S=0.5, R=1, k=1, J=1.5, mJ=0.5>),\n",
       " (|elec=X, S=0.5, R=1, k=0, J=1.5, mJ=-1.5>,\n",
       "  |elec=A, S=0.5, R=1, k=-1, J=1.5, mJ=-1.5>),\n",
       " (|elec=X, S=0.5, R=1, k=0, J=1.5, mJ=-1.5>,\n",
       "  |elec=A, S=0.5, R=1, k=1, J=1.5, mJ=-1.5>),\n",
       " (|elec=X, S=0.5, R=1, k=0, J=1.5, mJ=-0.5>,\n",
       "  |elec=A, S=0.5, R=1, k=-1, J=0.5, mJ=-0.5>),\n",
       " (|elec=X, S=0.5, R=1, k=0, J=1.5, mJ=-0.5>,\n",
       "  |elec=A, S=0.5, R=1, k=-1, J=1.5, mJ=-0.5>),\n",
       " (|elec=X, S=0.5, R=1, k=0, J=1.5, mJ=-0.5>,\n",
       "  |elec=A, S=0.5, R=1, k=1, J=0.5, mJ=-0.5>),\n",
       " (|elec=X, S=0.5, R=1, k=0, J=1.5, mJ=-0.5>,\n",
       "  |elec=A, S=0.5, R=1, k=1, J=1.5, mJ=-0.5>),\n",
       " (|elec=X, S=0.5, R=1, k=0, J=1.5, mJ=0.5>,\n",
       "  |elec=A, S=0.5, R=1, k=-1, J=0.5, mJ=0.5>),\n",
       " (|elec=X, S=0.5, R=1, k=0, J=1.5, mJ=0.5>,\n",
       "  |elec=A, S=0.5, R=1, k=-1, J=1.5, mJ=0.5>),\n",
       " (|elec=X, S=0.5, R=1, k=0, J=1.5, mJ=0.5>,\n",
       "  |elec=A, S=0.5, R=1, k=1, J=0.5, mJ=0.5>),\n",
       " (|elec=X, S=0.5, R=1, k=0, J=1.5, mJ=0.5>,\n",
       "  |elec=A, S=0.5, R=1, k=1, J=1.5, mJ=0.5>),\n",
       " (|elec=X, S=0.5, R=1, k=0, J=1.5, mJ=1.5>,\n",
       "  |elec=A, S=0.5, R=1, k=-1, J=1.5, mJ=1.5>),\n",
       " (|elec=X, S=0.5, R=1, k=0, J=1.5, mJ=1.5>,\n",
       "  |elec=A, S=0.5, R=1, k=1, J=1.5, mJ=1.5>),\n",
       " (|elec=A, S=0.5, R=0, k=0, J=0.5, mJ=-0.5>,\n",
       "  |elec=X, S=0.5, R=1, k=-1, J=0.5, mJ=-0.5>),\n",
       " (|elec=A, S=0.5, R=0, k=0, J=0.5, mJ=-0.5>,\n",
       "  |elec=X, S=0.5, R=1, k=-1, J=1.5, mJ=-0.5>),\n",
       " (|elec=A, S=0.5, R=0, k=0, J=0.5, mJ=-0.5>,\n",
       "  |elec=X, S=0.5, R=1, k=1, J=0.5, mJ=-0.5>),\n",
       " (|elec=A, S=0.5, R=0, k=0, J=0.5, mJ=-0.5>,\n",
       "  |elec=X, S=0.5, R=1, k=1, J=1.5, mJ=-0.5>),\n",
       " (|elec=A, S=0.5, R=0, k=0, J=0.5, mJ=0.5>,\n",
       "  |elec=X, S=0.5, R=1, k=-1, J=0.5, mJ=0.5>),\n",
       " (|elec=A, S=0.5, R=0, k=0, J=0.5, mJ=0.5>,\n",
       "  |elec=X, S=0.5, R=1, k=-1, J=1.5, mJ=0.5>),\n",
       " (|elec=A, S=0.5, R=0, k=0, J=0.5, mJ=0.5>,\n",
       "  |elec=X, S=0.5, R=1, k=1, J=0.5, mJ=0.5>),\n",
       " (|elec=A, S=0.5, R=0, k=0, J=0.5, mJ=0.5>,\n",
       "  |elec=X, S=0.5, R=1, k=1, J=1.5, mJ=0.5>),\n",
       " (|elec=A, S=0.5, R=1, k=0, J=0.5, mJ=-0.5>,\n",
       "  |elec=X, S=0.5, R=1, k=-1, J=0.5, mJ=-0.5>),\n",
       " (|elec=A, S=0.5, R=1, k=0, J=0.5, mJ=-0.5>,\n",
       "  |elec=X, S=0.5, R=1, k=-1, J=1.5, mJ=-0.5>),\n",
       " (|elec=A, S=0.5, R=1, k=0, J=0.5, mJ=-0.5>,\n",
       "  |elec=X, S=0.5, R=1, k=1, J=0.5, mJ=-0.5>),\n",
       " (|elec=A, S=0.5, R=1, k=0, J=0.5, mJ=-0.5>,\n",
       "  |elec=X, S=0.5, R=1, k=1, J=1.5, mJ=-0.5>),\n",
       " (|elec=A, S=0.5, R=1, k=0, J=0.5, mJ=0.5>,\n",
       "  |elec=X, S=0.5, R=1, k=-1, J=0.5, mJ=0.5>),\n",
       " (|elec=A, S=0.5, R=1, k=0, J=0.5, mJ=0.5>,\n",
       "  |elec=X, S=0.5, R=1, k=-1, J=1.5, mJ=0.5>),\n",
       " (|elec=A, S=0.5, R=1, k=0, J=0.5, mJ=0.5>,\n",
       "  |elec=X, S=0.5, R=1, k=1, J=0.5, mJ=0.5>),\n",
       " (|elec=A, S=0.5, R=1, k=0, J=0.5, mJ=0.5>,\n",
       "  |elec=X, S=0.5, R=1, k=1, J=1.5, mJ=0.5>),\n",
       " (|elec=A, S=0.5, R=1, k=0, J=1.5, mJ=-1.5>,\n",
       "  |elec=X, S=0.5, R=1, k=-1, J=1.5, mJ=-1.5>),\n",
       " (|elec=A, S=0.5, R=1, k=0, J=1.5, mJ=-1.5>,\n",
       "  |elec=X, S=0.5, R=1, k=1, J=1.5, mJ=-1.5>),\n",
       " (|elec=A, S=0.5, R=1, k=0, J=1.5, mJ=-0.5>,\n",
       "  |elec=X, S=0.5, R=1, k=-1, J=0.5, mJ=-0.5>),\n",
       " (|elec=A, S=0.5, R=1, k=0, J=1.5, mJ=-0.5>,\n",
       "  |elec=X, S=0.5, R=1, k=-1, J=1.5, mJ=-0.5>),\n",
       " (|elec=A, S=0.5, R=1, k=0, J=1.5, mJ=-0.5>,\n",
       "  |elec=X, S=0.5, R=1, k=1, J=0.5, mJ=-0.5>),\n",
       " (|elec=A, S=0.5, R=1, k=0, J=1.5, mJ=-0.5>,\n",
       "  |elec=X, S=0.5, R=1, k=1, J=1.5, mJ=-0.5>),\n",
       " (|elec=A, S=0.5, R=1, k=0, J=1.5, mJ=0.5>,\n",
       "  |elec=X, S=0.5, R=1, k=-1, J=0.5, mJ=0.5>),\n",
       " (|elec=A, S=0.5, R=1, k=0, J=1.5, mJ=0.5>,\n",
       "  |elec=X, S=0.5, R=1, k=-1, J=1.5, mJ=0.5>),\n",
       " (|elec=A, S=0.5, R=1, k=0, J=1.5, mJ=0.5>,\n",
       "  |elec=X, S=0.5, R=1, k=1, J=0.5, mJ=0.5>),\n",
       " (|elec=A, S=0.5, R=1, k=0, J=1.5, mJ=0.5>,\n",
       "  |elec=X, S=0.5, R=1, k=1, J=1.5, mJ=0.5>),\n",
       " (|elec=A, S=0.5, R=1, k=0, J=1.5, mJ=1.5>,\n",
       "  |elec=X, S=0.5, R=1, k=-1, J=1.5, mJ=1.5>),\n",
       " (|elec=A, S=0.5, R=1, k=0, J=1.5, mJ=1.5>,\n",
       "  |elec=X, S=0.5, R=1, k=1, J=1.5, mJ=1.5>)]"
      ]
     },
     "execution_count": 24,
     "metadata": {},
     "output_type": "execute_result"
    }
   ],
   "execution_count": 24
  },
  {
   "metadata": {
    "ExecuteTime": {
     "end_time": "2025-09-18T23:16:53.382444Z",
     "start_time": "2025-09-18T23:16:53.377093Z"
    }
   },
   "cell_type": "code",
   "source": "X.irrep * vibronic_d_b.irrep * A.irrep",
   "id": "bd8a748c1fe2dbb4",
   "outputs": [
    {
     "data": {
      "text/plain": [
       "C2v_A1 representation\n",
       "e: [[1]]\n",
       "C_2: [[1]]\n",
       "σ_v(xz): [[1]]\n",
       "σ_v(yz): [[1]]"
      ]
     },
     "execution_count": 38,
     "metadata": {},
     "output_type": "execute_result"
    }
   ],
   "execution_count": 38
  },
  {
   "metadata": {
    "ExecuteTime": {
     "end_time": "2025-09-18T23:09:18.081041Z",
     "start_time": "2025-09-18T23:09:18.065235Z"
    }
   },
   "cell_type": "code",
   "source": "d = DipoleOperator.get_operator_class(rot_basis)(rot_basis, dipole_mol, 0)",
   "id": "2cd2a3cf5433ee28",
   "outputs": [],
   "execution_count": 14
  },
  {
   "metadata": {
    "ExecuteTime": {
     "end_time": "2025-09-18T23:09:29.339848Z",
     "start_time": "2025-09-18T23:09:29.336574Z"
    }
   },
   "cell_type": "code",
   "source": "type(d)",
   "id": "ead118def5945b44",
   "outputs": [
    {
     "data": {
      "text/plain": [
       "src.molecular_structure.TDMs.DipoleOperator_STM"
      ]
     },
     "execution_count": 16,
     "metadata": {},
     "output_type": "execute_result"
    }
   ],
   "execution_count": 16
  },
  {
   "metadata": {},
   "cell_type": "code",
   "outputs": [],
   "execution_count": null,
   "source": "",
   "id": "33fd8c8773f64e89"
  }
 ],
 "metadata": {
  "kernelspec": {
   "display_name": "Python 3",
   "language": "python",
   "name": "python3"
  },
  "language_info": {
   "codemirror_mode": {
    "name": "ipython",
    "version": 2
   },
   "file_extension": ".py",
   "mimetype": "text/x-python",
   "name": "python",
   "nbconvert_exporter": "python",
   "pygments_lexer": "ipython2",
   "version": "2.7.6"
  }
 },
 "nbformat": 4,
 "nbformat_minor": 5
}
