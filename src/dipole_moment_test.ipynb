{
 "cells": [
  {
   "cell_type": "code",
   "id": "initial_id",
   "metadata": {
    "collapsed": true,
    "ExecuteTime": {
     "end_time": "2025-09-17T18:08:04.360035Z",
     "start_time": "2025-09-17T18:08:04.035487Z"
    }
   },
   "source": [
    "from TDMs import *\n",
    "from tools.SphericalTensors import SphericalTensor_prolate\n",
    "from RotationalStates import STM_RotationalBasis\n",
    "from group_theory.Group import *\n",
    "\n",
    "group = C2vGroup()\n",
    "A1 = C2v_A1_representation(group)\n",
    "A2 = C2v_A2_representation(group)\n",
    "B1 = C2v_B1_representation(group)\n",
    "B2 = C2v_B2_representation(group)"
   ],
   "outputs": [],
   "execution_count": 1
  },
  {
   "metadata": {
    "ExecuteTime": {
     "end_time": "2025-09-17T18:08:05.969214Z",
     "start_time": "2025-09-17T18:08:05.946922Z"
    }
   },
   "cell_type": "code",
   "source": [
    "rot_basis = STM_RotationalBasis(R_range=(0,1),k_range = (0,1),m_range = (0,1))\n",
    "dipole_mol = SphericalTensor_prolate(np.array([0,1,0]))\n",
    "rot_d = DipoleOperator(rot_basis, dipole_mol, -1)"
   ],
   "id": "fe7ec974c900c3a1",
   "outputs": [],
   "execution_count": 2
  },
  {
   "metadata": {
    "ExecuteTime": {
     "end_time": "2025-09-17T18:08:07.296552Z",
     "start_time": "2025-09-17T18:08:07.290237Z"
    }
   },
   "cell_type": "code",
   "source": [
    "from src.ElectronicStates import ElectronicState\n",
    "from src.quantum_mechanics.Basis import OrthogonalBasis\n",
    "\n",
    "X = ElectronicState(\"X\",symmetry_group=group, irrep = A1)\n",
    "A = ElectronicState(\"A\",symmetry_group=group, irrep= B2)\n",
    "vibronic_basis = OrthogonalBasis([X,A],\"Electronic\")\n",
    "vibronic_d_a = Operator(vibronic_basis,np.array([[0,0],[0,0]]),symmetry_group=group, irrep= A1)\n",
    "vibronic_d_b = Operator(vibronic_basis,np.array([[1,0],[0,1]]),symmetry_group=group, irrep= B2)\n",
    "vibronic_d_c = Operator(vibronic_basis,np.array([[0,0],[0,0]]),symmetry_group=group, irrep= B1)\n",
    "\n",
    "# the transition dipole moment in molecule frame as a spherical tensor\n",
    "vibronic_d = SphericalTensor_prolate(np.array([vibronic_d_a,vibronic_d_b,vibronic_d_c]),is_operator=True, operator_basis=vibronic_basis)\n"
   ],
   "id": "3dd23ac174852f60",
   "outputs": [],
   "execution_count": 3
  },
  {
   "metadata": {
    "ExecuteTime": {
     "end_time": "2025-09-17T18:08:08.517995Z",
     "start_time": "2025-09-17T18:08:08.510161Z"
    }
   },
   "cell_type": "code",
   "source": "vibronic_d[1][0]",
   "id": "a0c81cd12a2972bc",
   "outputs": [
    {
     "data": {
      "text/plain": [
       "[[0 0]\n",
       " [0 0]]"
      ]
     },
     "execution_count": 4,
     "metadata": {},
     "output_type": "execute_result"
    }
   ],
   "execution_count": 4
  },
  {
   "metadata": {
    "ExecuteTime": {
     "end_time": "2025-09-17T18:08:09.131477Z",
     "start_time": "2025-09-17T18:08:09.125632Z"
    }
   },
   "cell_type": "code",
   "source": "X.irrep * vibronic_d_c.irrep * A.irrep",
   "id": "bd8a748c1fe2dbb4",
   "outputs": [
    {
     "data": {
      "text/plain": [
       "C2v_A2 representation\n",
       "e: [[1]]\n",
       "C_2: [[1]]\n",
       "σ_v(xz): [[-1]]\n",
       "σ_v(yz): [[-1]]"
      ]
     },
     "execution_count": 5,
     "metadata": {},
     "output_type": "execute_result"
    }
   ],
   "execution_count": 5
  },
  {
   "metadata": {
    "ExecuteTime": {
     "end_time": "2025-09-17T18:08:11.998047Z",
     "start_time": "2025-09-17T18:08:11.994765Z"
    }
   },
   "cell_type": "code",
   "source": "d = vibronic_d_b.tensor(rot_d)",
   "id": "43ad5c32c05fcda",
   "outputs": [],
   "execution_count": 6
  },
  {
   "metadata": {
    "ExecuteTime": {
     "end_time": "2025-09-17T18:08:12.137823Z",
     "start_time": "2025-09-17T18:08:12.132983Z"
    }
   },
   "cell_type": "code",
   "source": "d.get_connected_states()",
   "id": "7ff8c76b1f1ef67b",
   "outputs": [
    {
     "data": {
      "text/plain": [
       "[(|X, R=0, k=0, mR=0>, |X, R=1, k=-1, mR=1>),\n",
       " (|X, R=0, k=0, mR=0>, |X, R=1, k=1, mR=1>),\n",
       " (|X, R=1, k=-1, mR=0>, |X, R=1, k=0, mR=1>),\n",
       " (|X, R=1, k=0, mR=0>, |X, R=1, k=-1, mR=1>),\n",
       " (|X, R=1, k=0, mR=0>, |X, R=1, k=1, mR=1>),\n",
       " (|X, R=1, k=1, mR=0>, |X, R=1, k=0, mR=1>),\n",
       " (|A, R=0, k=0, mR=0>, |A, R=1, k=-1, mR=1>),\n",
       " (|A, R=0, k=0, mR=0>, |A, R=1, k=1, mR=1>),\n",
       " (|A, R=1, k=-1, mR=0>, |A, R=1, k=0, mR=1>),\n",
       " (|A, R=1, k=0, mR=0>, |A, R=1, k=-1, mR=1>),\n",
       " (|A, R=1, k=0, mR=0>, |A, R=1, k=1, mR=1>),\n",
       " (|A, R=1, k=1, mR=0>, |A, R=1, k=0, mR=1>)]"
      ]
     },
     "execution_count": 7,
     "metadata": {},
     "output_type": "execute_result"
    }
   ],
   "execution_count": 7
  },
  {
   "metadata": {},
   "cell_type": "code",
   "outputs": [],
   "execution_count": null,
   "source": "",
   "id": "24bc89d98be1b4e3"
  }
 ],
 "metadata": {
  "kernelspec": {
   "display_name": "Python 3",
   "language": "python",
   "name": "python3"
  },
  "language_info": {
   "codemirror_mode": {
    "name": "ipython",
    "version": 2
   },
   "file_extension": ".py",
   "mimetype": "text/x-python",
   "name": "python",
   "nbconvert_exporter": "python",
   "pygments_lexer": "ipython2",
   "version": "2.7.6"
  }
 },
 "nbformat": 4,
 "nbformat_minor": 5
}
