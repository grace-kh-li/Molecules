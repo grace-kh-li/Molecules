{
 "cells": [
  {
   "metadata": {
    "ExecuteTime": {
     "end_time": "2025-09-18T15:32:39.724849Z",
     "start_time": "2025-09-18T15:32:39.459642Z"
    }
   },
   "cell_type": "code",
   "source": [
    "from RotationalStates import STM_RotationalBasis\n",
    "from src.AngularMomentum import AngularMomentumState, ElectronicSpinBasis, AngularMomentumBasis, NuclearSpinBasis, ElectronicSpinState\n",
    "\n",
    "rot_basis = STM_RotationalBasis(R_range=(1,1),k_range = (0,0))\n",
    "es_basis = ElectronicSpinBasis(S_range=(1/2,1/2))\n",
    "ns_basis = NuclearSpinBasis(I_range=(1/2,1/2))\n",
    "coupled_basis = es_basis.couple(rot_basis)\n",
    "coupled_basis.rename_symbols(\"J\",\"mJ\")\n",
    "uncoupled_basis = coupled_basis.uncoupled_basis"
   ],
   "id": "94a0e99347d71558",
   "outputs": [],
   "execution_count": 1
  },
  {
   "metadata": {
    "ExecuteTime": {
     "end_time": "2025-09-18T15:33:40.517495Z",
     "start_time": "2025-09-18T15:33:40.509459Z"
    }
   },
   "cell_type": "code",
   "source": [
    "from src.quantum_mechanics.Basis import OrthogonalBasis\n",
    "from src.ElectronicStates import ElectronicState\n",
    "\n",
    "X = ElectronicState(\"X\")\n",
    "A = ElectronicState(\"A\")\n",
    "vibronic_basis = OrthogonalBasis([X,A],\"Electronic\")\n",
    "\n",
    "ev_rot_basis = rot_basis * vibronic_basis"
   ],
   "id": "2d17d892b3b643d8",
   "outputs": [],
   "execution_count": 2
  },
  {
   "metadata": {
    "ExecuteTime": {
     "end_time": "2025-09-18T15:34:21.199453Z",
     "start_time": "2025-09-18T15:34:21.192896Z"
    }
   },
   "cell_type": "code",
   "source": "ev_rot_basis.couple(es_basis)",
   "id": "7b9858f01a21a6bf",
   "outputs": [
    {
     "data": {
      "text/plain": [
       "STM Rotational Basis x Electronic x ES basis = \n",
       "{|k=0, elec=X, R=1, S=0.5, J_total=0.5, m_total=-0.5>, \n",
       " |k=0, elec=X, R=1, S=0.5, J_total=0.5, m_total=0.5>, \n",
       " |k=0, elec=X, R=1, S=0.5, J_total=1.5, m_total=-1.5>, \n",
       " |k=0, elec=X, R=1, S=0.5, J_total=1.5, m_total=-0.5>, \n",
       " |k=0, elec=X, R=1, S=0.5, J_total=1.5, m_total=0.5>, \n",
       " |k=0, elec=X, R=1, S=0.5, J_total=1.5, m_total=1.5>, \n",
       " |k=0, elec=A, R=1, S=0.5, J_total=0.5, m_total=-0.5>, \n",
       " |k=0, elec=A, R=1, S=0.5, J_total=0.5, m_total=0.5>, \n",
       " |k=0, elec=A, R=1, S=0.5, J_total=1.5, m_total=-1.5>, \n",
       " |k=0, elec=A, R=1, S=0.5, J_total=1.5, m_total=-0.5>, \n",
       " |k=0, elec=A, R=1, S=0.5, J_total=1.5, m_total=0.5>, \n",
       " |k=0, elec=A, R=1, S=0.5, J_total=1.5, m_total=1.5> }"
      ]
     },
     "execution_count": 7,
     "metadata": {},
     "output_type": "execute_result"
    }
   ],
   "execution_count": 7
  },
  {
   "metadata": {
    "ExecuteTime": {
     "end_time": "2025-09-17T21:31:23.134516Z",
     "start_time": "2025-09-17T21:31:23.129937Z"
    }
   },
   "cell_type": "code",
   "source": [
    "tensor_components = []\n",
    "for comp in uncoupled_basis[0].tensor_components:\n",
    "    tensor_components.append(type(comp))"
   ],
   "id": "580a9ed7ef2cf370",
   "outputs": [],
   "execution_count": 32
  },
  {
   "metadata": {
    "ExecuteTime": {
     "end_time": "2025-09-17T21:31:30.162066Z",
     "start_time": "2025-09-17T21:31:30.159918Z"
    }
   },
   "cell_type": "code",
   "source": "ElectronicSpinState  in tensor_components",
   "id": "e719bea5f88b6b9c",
   "outputs": [
    {
     "data": {
      "text/plain": [
       "True"
      ]
     },
     "execution_count": 34,
     "metadata": {},
     "output_type": "execute_result"
    }
   ],
   "execution_count": 34
  },
  {
   "metadata": {
    "ExecuteTime": {
     "end_time": "2025-09-17T21:35:10.930426Z",
     "start_time": "2025-09-17T21:35:10.923125Z"
    }
   },
   "cell_type": "code",
   "source": [
    "coupled_basis1 = coupled_basis.couple(ns_basis)\n",
    "coupled_basis1.rename_symbols(\"F\" ,\"mF\")\n",
    "uncoupled_basis1 = coupled_basis1.uncoupled_basis"
   ],
   "id": "6cc2ce065e91dba8",
   "outputs": [],
   "execution_count": 37
  },
  {
   "metadata": {
    "ExecuteTime": {
     "end_time": "2025-09-18T15:00:28.273889Z",
     "start_time": "2025-09-18T15:00:28.271060Z"
    }
   },
   "cell_type": "code",
   "source": "uncoupled_basis1.tensor_components[0].uncoupled_basis.tensor_components",
   "id": "cf5575724c5cfa09",
   "outputs": [
    {
     "data": {
      "text/plain": [
       "[ES basis = \n",
       " {|S=0.5, ms=-0.5>, \n",
       "  |S=0.5, ms=0.5> },\n",
       " STM Rotational Basis = \n",
       " {|R=1, k=0, mR=-1>, \n",
       "  |R=1, k=0, mR=0>, \n",
       "  |R=1, k=0, mR=1> }]"
      ]
     },
     "execution_count": 58,
     "metadata": {},
     "output_type": "execute_result"
    }
   ],
   "execution_count": 58
  },
  {
   "metadata": {},
   "cell_type": "code",
   "source": [
    "import numpy as np\n",
    "from src.TDMs import DipoleOperator\n",
    "from src.tools.SphericalTensors import SphericalTensor_prolate\n",
    "\n",
    "dipole_mol = SphericalTensor_prolate(np.array([0,1,0]))\n",
    "rot_d = DipoleOperator(rot_basis, dipole_mol, -1)\n"
   ],
   "id": "e79b4f2464e2ff29",
   "outputs": [],
   "execution_count": null
  },
  {
   "metadata": {},
   "cell_type": "code",
   "source": "rot_d.change_basis(coupled_basis, coupled_basis.change_basis_matrix)",
   "id": "dafb9b28bcbf1a84",
   "outputs": [],
   "execution_count": null
  },
  {
   "metadata": {},
   "cell_type": "code",
   "source": "",
   "id": "d67c29eed8db7ba3",
   "outputs": [],
   "execution_count": null
  }
 ],
 "metadata": {
  "kernelspec": {
   "display_name": "Python 3",
   "language": "python",
   "name": "python3"
  },
  "language_info": {
   "codemirror_mode": {
    "name": "ipython",
    "version": 2
   },
   "file_extension": ".py",
   "mimetype": "text/x-python",
   "name": "python",
   "nbconvert_exporter": "python",
   "pygments_lexer": "ipython2",
   "version": "2.7.6"
  }
 },
 "nbformat": 4,
 "nbformat_minor": 5
}
