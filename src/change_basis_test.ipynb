{
 "cells": [
  {
   "metadata": {
    "ExecuteTime": {
     "end_time": "2025-09-17T21:34:56.303244Z",
     "start_time": "2025-09-17T21:34:56.291687Z"
    }
   },
   "cell_type": "code",
   "source": [
    "from RotationalStates import STM_RotationalBasis\n",
    "from src.AngularMomentum import AngularMomentumState, ElectronicSpinBasis, AngularMomentumBasis, NuclearSpinBasis, ElectronicSpinState\n",
    "\n",
    "rot_basis = STM_RotationalBasis(R_range=(1,1),k_range = (0,0))\n",
    "es_basis = ElectronicSpinBasis(S_range=(1/2,1/2))\n",
    "ns_basis = NuclearSpinBasis(I_range=(1/2,1/2))\n",
    "coupled_basis = es_basis.couple(rot_basis)\n",
    "coupled_basis.rename_symbols(\"J\",\"mJ\")\n",
    "uncoupled_basis = coupled_basis.uncoupled_basis"
   ],
   "id": "94a0e99347d71558",
   "outputs": [],
   "execution_count": 35
  },
  {
   "metadata": {
    "ExecuteTime": {
     "end_time": "2025-09-17T21:31:23.134516Z",
     "start_time": "2025-09-17T21:31:23.129937Z"
    }
   },
   "cell_type": "code",
   "source": [
    "tensor_components = []\n",
    "for comp in uncoupled_basis[0].tensor_components:\n",
    "    tensor_components.append(type(comp))"
   ],
   "id": "580a9ed7ef2cf370",
   "outputs": [],
   "execution_count": 32
  },
  {
   "metadata": {
    "ExecuteTime": {
     "end_time": "2025-09-17T21:31:30.162066Z",
     "start_time": "2025-09-17T21:31:30.159918Z"
    }
   },
   "cell_type": "code",
   "source": "ElectronicSpinState  in tensor_components",
   "id": "e719bea5f88b6b9c",
   "outputs": [
    {
     "data": {
      "text/plain": [
       "True"
      ]
     },
     "execution_count": 34,
     "metadata": {},
     "output_type": "execute_result"
    }
   ],
   "execution_count": 34
  },
  {
   "metadata": {
    "ExecuteTime": {
     "end_time": "2025-09-17T21:35:10.930426Z",
     "start_time": "2025-09-17T21:35:10.923125Z"
    }
   },
   "cell_type": "code",
   "source": [
    "coupled_basis1 = coupled_basis.couple(ns_basis)\n",
    "coupled_basis1.rename_symbols(\"F\" ,\"mF\")\n",
    "uncoupled_basis1 = coupled_basis1.uncoupled_basis"
   ],
   "id": "6cc2ce065e91dba8",
   "outputs": [],
   "execution_count": 37
  },
  {
   "metadata": {
    "ExecuteTime": {
     "end_time": "2025-09-17T21:37:45.253045Z",
     "start_time": "2025-09-17T21:37:45.248985Z"
    }
   },
   "cell_type": "code",
   "source": "uncoupled_basis1.tensor_components",
   "id": "cf5575724c5cfa09",
   "outputs": [
    {
     "data": {
      "text/plain": [
       "[ES basis x STM Rotational Basis = \n",
       " {|k=0, S=0.5, R=1, J=0.5, mJ=-0.5>, \n",
       "  |k=0, S=0.5, R=1, J=0.5, mJ=0.5>, \n",
       "  |k=0, S=0.5, R=1, J=1.5, mJ=-1.5>, \n",
       "  |k=0, S=0.5, R=1, J=1.5, mJ=-0.5>, \n",
       "  |k=0, S=0.5, R=1, J=1.5, mJ=0.5>, \n",
       "  |k=0, S=0.5, R=1, J=1.5, mJ=1.5> },\n",
       " NS basis = \n",
       " {|I=0.5, mI=-0.5>, \n",
       "  |I=0.5, mI=0.5> }]"
      ]
     },
     "execution_count": 49,
     "metadata": {},
     "output_type": "execute_result"
    }
   ],
   "execution_count": 49
  },
  {
   "metadata": {},
   "cell_type": "code",
   "source": [
    "import numpy as np\n",
    "from src.TDMs import DipoleOperator\n",
    "from src.tools.SphericalTensors import SphericalTensor_prolate\n",
    "\n",
    "dipole_mol = SphericalTensor_prolate(np.array([0,1,0]))\n",
    "rot_d = DipoleOperator(rot_basis, dipole_mol, -1)\n"
   ],
   "id": "e79b4f2464e2ff29",
   "outputs": [],
   "execution_count": null
  },
  {
   "metadata": {},
   "cell_type": "code",
   "source": "rot_d.change_basis(coupled_basis, coupled_basis.change_basis_matrix)",
   "id": "dafb9b28bcbf1a84",
   "outputs": [],
   "execution_count": null
  },
  {
   "metadata": {},
   "cell_type": "code",
   "source": "",
   "id": "d67c29eed8db7ba3",
   "outputs": [],
   "execution_count": null
  }
 ],
 "metadata": {
  "kernelspec": {
   "display_name": "Python 3",
   "language": "python",
   "name": "python3"
  },
  "language_info": {
   "codemirror_mode": {
    "name": "ipython",
    "version": 2
   },
   "file_extension": ".py",
   "mimetype": "text/x-python",
   "name": "python",
   "nbconvert_exporter": "python",
   "pygments_lexer": "ipython2",
   "version": "2.7.6"
  }
 },
 "nbformat": 4,
 "nbformat_minor": 5
}
